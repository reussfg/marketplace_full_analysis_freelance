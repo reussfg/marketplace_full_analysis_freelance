{
 "cells": [
  {
   "cell_type": "markdown",
   "metadata": {},
   "source": [
    "# Projeto - Análise dos Testes A/B para Equipe de Marketing"
   ]
  },
  {
   "cell_type": "markdown",
   "metadata": {},
   "source": [
    "# Descrição do Estudo\n",
    "\n",
    "\n",
    "**Introdução**\n",
    "\n",
    "Recentemente, uma loja online internacional decidiu otimizar sua plataforma através de um teste A/B. Infelizmente, o teste foi interrompido devido à partida abrupta do analista anterior. Agora, essa responsabilidade recai sobre mim, e estou aqui para concluir e analisar os resultados desse teste.\n",
    "\n",
    "\n",
    "**Especificações Técnicas**\n",
    "\n",
    "- **Nome do Teste**: recommender_system_test\n",
    "- **Grupos**: \n",
    "  - A (controle)\n",
    "  - B (funil de novos pagamentos)\n",
    "- **Datas Importantes**:\n",
    "  - Início: 07-12-2020\n",
    "  - Parada de Novos Usuários: 21-12-2020\n",
    "  - Término: 01-01-2021\n",
    "- **Público**: 15% de novos usuários da região da UE\n",
    "- **Objetivo do Teste**: Avaliar a nova recomendação do sistema.\n",
    "- **Resultado Esperado**: Espero ver um aumento de pelo menos 10% a cada etapa do funil (product_page → product_cart → purchase) em até 14 dias após o cadastro.\n",
    "- **Número Esperado de Participantes**: 6000\n",
    "\n",
    "\n",
    "**Dados Disponíveis**\n",
    "\n",
    "Vou baixar os dados do Notion. O caminho do arquivo deve ser prefixado com `/datasets/`. Os conjuntos de dados são:\n",
    "\n",
    "1. **ab_project_marketing_events_us.csv**: Contém o calendário de eventos de marketing de 2020.\n",
    "2. **final_ab_new_users_upd_us.csv**: Informações dos novos usuários que se registraram entre 7 e 21 de dezembro de 2020.\n",
    "3. **final_ab_events_upd_us.csv**: Registra eventos dos novos usuários de 7 de dezembro de 2020 a 1 de janeiro de 2021.\n",
    "4. **final_ab_participants_upd_us.csv**: Informações dos participantes do teste.\n",
    "\n",
    "\n",
    "**Instruções para Completar a Tarefa**\n",
    "\n",
    "1. **Objetivos do Estudo**: Vou começar esclarecendo os objetivos desta análise e o que espero obter com este teste.\n",
    "2. **Pré-processamento de Dados**:\n",
    "   - Iremos verificar a necessidade de conversão de tipos de dados.\n",
    "   - Identificarei valores ausentes ou duplicados e decidirei como tratá-los.\n",
    "3. **Análise Exploratória de Dados (AED)**:\n",
    "   - Vou avaliar a conversão em diferentes etapas do funil.\n",
    "   - Analisarei como os eventos por usuário são distribuídos entre as amostras.\n",
    "   - Checarei se os usuários de ambos os grupos estão presentes nos dados.\n",
    "   - Observarei como os eventos são distribuídos ao longo dos dias.\n",
    "   - Identificarei qualquer particularidade nos dados que deve ser considerada antes da análise.\n",
    "4. **Avaliação dos Resultados do Teste A/B**:\n",
    "   - Vou interpretar os resultados do teste.\n",
    "   - Utilizarei um z-test para determinar as diferenças estatísticas entre as proporções.\n",
    "5. **Conclusão**: Com base na AED e nos resultados do teste A/B, compartilharei minhas descobertas e recomendações."
   ]
  },
  {
   "cell_type": "markdown",
   "metadata": {},
   "source": [
    "## Importação de bibliotecas e Pré-processamento de dados\n",
    "\n",
    "\n",
    "Nessa etapa iremos importar nossas bibliotecas e realizar a improtação dos nossos dados e entender eles de maneira superficial avaliando os tipos de dados, colunas e padronizações de colunas.\n",
    "\n",
    "Bibliotecas que iremos utilizar:\n",
    "\n",
    "- pandas\n",
    "- numpy\n",
    "- matplotlib\n",
    "- statsmodel"
   ]
  },
  {
   "cell_type": "markdown",
   "metadata": {},
   "source": [
    "### Importando bibliotecas"
   ]
  },
  {
   "cell_type": "code",
   "execution_count": 73,
   "metadata": {},
   "outputs": [],
   "source": [
    "# importação das bibliotecas\n",
    "import pandas as pd\n",
    "import numpy as np\n",
    "import matplotlib.pyplot as plt\n",
    "from statsmodels.stats.proportion import proportions_ztest"
   ]
  },
  {
   "cell_type": "markdown",
   "metadata": {},
   "source": [
    "### Importando dados "
   ]
  },
  {
   "cell_type": "code",
   "execution_count": 74,
   "metadata": {},
   "outputs": [],
   "source": [
    "# importando os dados necessários\n",
    "\n",
    "# abrindo a tabela ab_project_marketing_events_us.csv\n",
    "\n",
    "# Carregando dados no computador pessoal\n",
    "try:\n",
    "    df_cal = pd.read_csv(r'download/datasets/ab_project_marketing_events_us.csv')\n",
    "    \n",
    "# Carregando dados no JupyterHub\n",
    "except:\n",
    "    df_cal = pd.read_csv(r'/datasets/ab_project_marketing_events_us.csv')\n",
    "    \n",
    "\n",
    "# abrindo a tabela final_ab_new_users_upd_us.csv\n",
    "\n",
    "# Carregando dados no computador pessoal\n",
    "try:\n",
    "    df_userab = pd.read_csv(r'download/datasets/final_ab_new_users_upd_us.csv')\n",
    "    \n",
    "# Carregando dados no JupyterHub\n",
    "except:\n",
    "    df_userab = pd.read_csv(r'/datasets/final_ab_new_users_upd_us.csv')\n",
    "\n",
    "    \n",
    "    \n",
    "# abrindo a tabela final_ab_events_upd_us.csv\n",
    "\n",
    "# Carregando dados no computador pessoal\n",
    "try:\n",
    "    df_eventab = pd.read_csv(r'download/datasets/final_ab_events_upd_us.csv')\n",
    "    \n",
    "# Carregando dados no JupyterHub\n",
    "except:\n",
    "    df_eventab = pd.read_csv(r'/datasets/final_ab_events_upd_us.csv')\n",
    "    \n",
    "    \n",
    "\n",
    "# abrindo a tabela final_ab_participants_upd_us.csv\n",
    "\n",
    "# Carregando dados no computador pessoal\n",
    "try:\n",
    "    df_partab = pd.read_csv(r'download/datasets/final_ab_participants_upd_us.csv')\n",
    "    \n",
    "# Carregando dados no JupyterHub\n",
    "except:\n",
    "    df_partab = pd.read_csv(r'/datasets/final_ab_participants_upd_us.csv')"
   ]
  },
  {
   "cell_type": "markdown",
   "metadata": {},
   "source": [
    "#### Informações df_cal"
   ]
  },
  {
   "cell_type": "code",
   "execution_count": 75,
   "metadata": {},
   "outputs": [
    {
     "data": {
      "text/html": [
       "<div>\n",
       "<style scoped>\n",
       "    .dataframe tbody tr th:only-of-type {\n",
       "        vertical-align: middle;\n",
       "    }\n",
       "\n",
       "    .dataframe tbody tr th {\n",
       "        vertical-align: top;\n",
       "    }\n",
       "\n",
       "    .dataframe thead th {\n",
       "        text-align: right;\n",
       "    }\n",
       "</style>\n",
       "<table border=\"1\" class=\"dataframe\">\n",
       "  <thead>\n",
       "    <tr style=\"text-align: right;\">\n",
       "      <th></th>\n",
       "      <th>name</th>\n",
       "      <th>regions</th>\n",
       "      <th>start_dt</th>\n",
       "      <th>finish_dt</th>\n",
       "    </tr>\n",
       "  </thead>\n",
       "  <tbody>\n",
       "    <tr>\n",
       "      <th>0</th>\n",
       "      <td>Christmas&amp;New Year Promo</td>\n",
       "      <td>EU, N.America</td>\n",
       "      <td>2020-12-25</td>\n",
       "      <td>2021-01-03</td>\n",
       "    </tr>\n",
       "    <tr>\n",
       "      <th>1</th>\n",
       "      <td>St. Valentine's Day Giveaway</td>\n",
       "      <td>EU, CIS, APAC, N.America</td>\n",
       "      <td>2020-02-14</td>\n",
       "      <td>2020-02-16</td>\n",
       "    </tr>\n",
       "    <tr>\n",
       "      <th>2</th>\n",
       "      <td>St. Patric's Day Promo</td>\n",
       "      <td>EU, N.America</td>\n",
       "      <td>2020-03-17</td>\n",
       "      <td>2020-03-19</td>\n",
       "    </tr>\n",
       "  </tbody>\n",
       "</table>\n",
       "</div>"
      ],
      "text/plain": [
       "                           name                   regions    start_dt  \\\n",
       "0      Christmas&New Year Promo             EU, N.America  2020-12-25   \n",
       "1  St. Valentine's Day Giveaway  EU, CIS, APAC, N.America  2020-02-14   \n",
       "2        St. Patric's Day Promo             EU, N.America  2020-03-17   \n",
       "\n",
       "    finish_dt  \n",
       "0  2021-01-03  \n",
       "1  2020-02-16  \n",
       "2  2020-03-19  "
      ]
     },
     "execution_count": 75,
     "metadata": {},
     "output_type": "execute_result"
    }
   ],
   "source": [
    "# informação de df_cal\n",
    "df_cal.head(3)"
   ]
  },
  {
   "cell_type": "code",
   "execution_count": 76,
   "metadata": {},
   "outputs": [
    {
     "name": "stdout",
     "output_type": "stream",
     "text": [
      "<class 'pandas.core.frame.DataFrame'>\n",
      "RangeIndex: 14 entries, 0 to 13\n",
      "Data columns (total 4 columns):\n",
      " #   Column     Non-Null Count  Dtype \n",
      "---  ------     --------------  ----- \n",
      " 0   name       14 non-null     object\n",
      " 1   regions    14 non-null     object\n",
      " 2   start_dt   14 non-null     object\n",
      " 3   finish_dt  14 non-null     object\n",
      "dtypes: object(4)\n",
      "memory usage: 576.0+ bytes\n"
     ]
    }
   ],
   "source": [
    "df_cal.info()"
   ]
  },
  {
   "cell_type": "code",
   "execution_count": 77,
   "metadata": {},
   "outputs": [
    {
     "data": {
      "text/plain": [
       "array(['Christmas&New Year Promo', \"St. Valentine's Day Giveaway\",\n",
       "       \"St. Patric's Day Promo\", 'Easter Promo', '4th of July Promo',\n",
       "       'Black Friday Ads Campaign', 'Chinese New Year Promo',\n",
       "       'Labor day (May 1st) Ads Campaign',\n",
       "       \"International Women's Day Promo\",\n",
       "       'Victory Day CIS (May 9th) Event', 'CIS New Year Gift Lottery',\n",
       "       'Dragon Boat Festival Giveaway', \"Single's Day Gift Promo\",\n",
       "       'Chinese Moon Festival'], dtype=object)"
      ]
     },
     "execution_count": 77,
     "metadata": {},
     "output_type": "execute_result"
    }
   ],
   "source": [
    "# unicos em name\n",
    "df_cal['name'].unique()"
   ]
  },
  {
   "cell_type": "code",
   "execution_count": 78,
   "metadata": {},
   "outputs": [
    {
     "data": {
      "text/plain": [
       "array(['EU, N.America', 'EU, CIS, APAC, N.America', 'N.America', 'APAC',\n",
       "       'EU, CIS, APAC', 'CIS'], dtype=object)"
      ]
     },
     "execution_count": 78,
     "metadata": {},
     "output_type": "execute_result"
    }
   ],
   "source": [
    "df_cal['regions'].unique()"
   ]
  },
  {
   "cell_type": "markdown",
   "metadata": {},
   "source": [
    "#### Informações df_userab"
   ]
  },
  {
   "cell_type": "code",
   "execution_count": 79,
   "metadata": {},
   "outputs": [
    {
     "data": {
      "text/html": [
       "<div>\n",
       "<style scoped>\n",
       "    .dataframe tbody tr th:only-of-type {\n",
       "        vertical-align: middle;\n",
       "    }\n",
       "\n",
       "    .dataframe tbody tr th {\n",
       "        vertical-align: top;\n",
       "    }\n",
       "\n",
       "    .dataframe thead th {\n",
       "        text-align: right;\n",
       "    }\n",
       "</style>\n",
       "<table border=\"1\" class=\"dataframe\">\n",
       "  <thead>\n",
       "    <tr style=\"text-align: right;\">\n",
       "      <th></th>\n",
       "      <th>user_id</th>\n",
       "      <th>first_date</th>\n",
       "      <th>region</th>\n",
       "      <th>device</th>\n",
       "    </tr>\n",
       "  </thead>\n",
       "  <tbody>\n",
       "    <tr>\n",
       "      <th>0</th>\n",
       "      <td>D72A72121175D8BE</td>\n",
       "      <td>2020-12-07</td>\n",
       "      <td>EU</td>\n",
       "      <td>PC</td>\n",
       "    </tr>\n",
       "    <tr>\n",
       "      <th>1</th>\n",
       "      <td>F1C668619DFE6E65</td>\n",
       "      <td>2020-12-07</td>\n",
       "      <td>N.America</td>\n",
       "      <td>Android</td>\n",
       "    </tr>\n",
       "    <tr>\n",
       "      <th>2</th>\n",
       "      <td>2E1BF1D4C37EA01F</td>\n",
       "      <td>2020-12-07</td>\n",
       "      <td>EU</td>\n",
       "      <td>PC</td>\n",
       "    </tr>\n",
       "  </tbody>\n",
       "</table>\n",
       "</div>"
      ],
      "text/plain": [
       "            user_id  first_date     region   device\n",
       "0  D72A72121175D8BE  2020-12-07         EU       PC\n",
       "1  F1C668619DFE6E65  2020-12-07  N.America  Android\n",
       "2  2E1BF1D4C37EA01F  2020-12-07         EU       PC"
      ]
     },
     "execution_count": 79,
     "metadata": {},
     "output_type": "execute_result"
    }
   ],
   "source": [
    "# informação df_userab\n",
    "df_userab.head(3)"
   ]
  },
  {
   "cell_type": "code",
   "execution_count": 80,
   "metadata": {},
   "outputs": [
    {
     "name": "stdout",
     "output_type": "stream",
     "text": [
      "<class 'pandas.core.frame.DataFrame'>\n",
      "RangeIndex: 58703 entries, 0 to 58702\n",
      "Data columns (total 4 columns):\n",
      " #   Column      Non-Null Count  Dtype \n",
      "---  ------      --------------  ----- \n",
      " 0   user_id     58703 non-null  object\n",
      " 1   first_date  58703 non-null  object\n",
      " 2   region      58703 non-null  object\n",
      " 3   device      58703 non-null  object\n",
      "dtypes: object(4)\n",
      "memory usage: 1.8+ MB\n"
     ]
    }
   ],
   "source": [
    "df_userab.info()"
   ]
  },
  {
   "cell_type": "code",
   "execution_count": 81,
   "metadata": {},
   "outputs": [
    {
     "data": {
      "text/plain": [
       "array(['EU', 'N.America', 'APAC', 'CIS'], dtype=object)"
      ]
     },
     "execution_count": 81,
     "metadata": {},
     "output_type": "execute_result"
    }
   ],
   "source": [
    "# unicos em regions e device\n",
    "df_userab['region'].unique()"
   ]
  },
  {
   "cell_type": "code",
   "execution_count": 82,
   "metadata": {},
   "outputs": [
    {
     "data": {
      "text/plain": [
       "array(['PC', 'Android', 'iPhone', 'Mac'], dtype=object)"
      ]
     },
     "execution_count": 82,
     "metadata": {},
     "output_type": "execute_result"
    }
   ],
   "source": [
    "df_userab['device'].unique()"
   ]
  },
  {
   "cell_type": "markdown",
   "metadata": {},
   "source": [
    "#### Informações df_eventab"
   ]
  },
  {
   "cell_type": "code",
   "execution_count": 83,
   "metadata": {},
   "outputs": [
    {
     "data": {
      "text/html": [
       "<div>\n",
       "<style scoped>\n",
       "    .dataframe tbody tr th:only-of-type {\n",
       "        vertical-align: middle;\n",
       "    }\n",
       "\n",
       "    .dataframe tbody tr th {\n",
       "        vertical-align: top;\n",
       "    }\n",
       "\n",
       "    .dataframe thead th {\n",
       "        text-align: right;\n",
       "    }\n",
       "</style>\n",
       "<table border=\"1\" class=\"dataframe\">\n",
       "  <thead>\n",
       "    <tr style=\"text-align: right;\">\n",
       "      <th></th>\n",
       "      <th>user_id</th>\n",
       "      <th>event_dt</th>\n",
       "      <th>event_name</th>\n",
       "      <th>details</th>\n",
       "    </tr>\n",
       "  </thead>\n",
       "  <tbody>\n",
       "    <tr>\n",
       "      <th>0</th>\n",
       "      <td>E1BDDCE0DAFA2679</td>\n",
       "      <td>2020-12-07 20:22:03</td>\n",
       "      <td>purchase</td>\n",
       "      <td>99.99</td>\n",
       "    </tr>\n",
       "    <tr>\n",
       "      <th>1</th>\n",
       "      <td>7B6452F081F49504</td>\n",
       "      <td>2020-12-07 09:22:53</td>\n",
       "      <td>purchase</td>\n",
       "      <td>9.99</td>\n",
       "    </tr>\n",
       "    <tr>\n",
       "      <th>2</th>\n",
       "      <td>9CD9F34546DF254C</td>\n",
       "      <td>2020-12-07 12:59:29</td>\n",
       "      <td>purchase</td>\n",
       "      <td>4.99</td>\n",
       "    </tr>\n",
       "  </tbody>\n",
       "</table>\n",
       "</div>"
      ],
      "text/plain": [
       "            user_id             event_dt event_name  details\n",
       "0  E1BDDCE0DAFA2679  2020-12-07 20:22:03   purchase    99.99\n",
       "1  7B6452F081F49504  2020-12-07 09:22:53   purchase     9.99\n",
       "2  9CD9F34546DF254C  2020-12-07 12:59:29   purchase     4.99"
      ]
     },
     "execution_count": 83,
     "metadata": {},
     "output_type": "execute_result"
    }
   ],
   "source": [
    "# informação df_eventab\n",
    "df_eventab.head(3)"
   ]
  },
  {
   "cell_type": "code",
   "execution_count": 84,
   "metadata": {},
   "outputs": [
    {
     "name": "stdout",
     "output_type": "stream",
     "text": [
      "<class 'pandas.core.frame.DataFrame'>\n",
      "RangeIndex: 423761 entries, 0 to 423760\n",
      "Data columns (total 4 columns):\n",
      " #   Column      Non-Null Count   Dtype  \n",
      "---  ------      --------------   -----  \n",
      " 0   user_id     423761 non-null  object \n",
      " 1   event_dt    423761 non-null  object \n",
      " 2   event_name  423761 non-null  object \n",
      " 3   details     60314 non-null   float64\n",
      "dtypes: float64(1), object(3)\n",
      "memory usage: 12.9+ MB\n"
     ]
    }
   ],
   "source": [
    "df_eventab.info()"
   ]
  },
  {
   "cell_type": "markdown",
   "metadata": {},
   "source": [
    "#### Informações df_partab"
   ]
  },
  {
   "cell_type": "code",
   "execution_count": 85,
   "metadata": {},
   "outputs": [
    {
     "data": {
      "text/html": [
       "<div>\n",
       "<style scoped>\n",
       "    .dataframe tbody tr th:only-of-type {\n",
       "        vertical-align: middle;\n",
       "    }\n",
       "\n",
       "    .dataframe tbody tr th {\n",
       "        vertical-align: top;\n",
       "    }\n",
       "\n",
       "    .dataframe thead th {\n",
       "        text-align: right;\n",
       "    }\n",
       "</style>\n",
       "<table border=\"1\" class=\"dataframe\">\n",
       "  <thead>\n",
       "    <tr style=\"text-align: right;\">\n",
       "      <th></th>\n",
       "      <th>user_id</th>\n",
       "      <th>group</th>\n",
       "      <th>ab_test</th>\n",
       "    </tr>\n",
       "  </thead>\n",
       "  <tbody>\n",
       "    <tr>\n",
       "      <th>0</th>\n",
       "      <td>D1ABA3E2887B6A73</td>\n",
       "      <td>A</td>\n",
       "      <td>recommender_system_test</td>\n",
       "    </tr>\n",
       "    <tr>\n",
       "      <th>1</th>\n",
       "      <td>A7A3664BD6242119</td>\n",
       "      <td>A</td>\n",
       "      <td>recommender_system_test</td>\n",
       "    </tr>\n",
       "    <tr>\n",
       "      <th>2</th>\n",
       "      <td>DABC14FDDFADD29E</td>\n",
       "      <td>A</td>\n",
       "      <td>recommender_system_test</td>\n",
       "    </tr>\n",
       "  </tbody>\n",
       "</table>\n",
       "</div>"
      ],
      "text/plain": [
       "            user_id group                  ab_test\n",
       "0  D1ABA3E2887B6A73     A  recommender_system_test\n",
       "1  A7A3664BD6242119     A  recommender_system_test\n",
       "2  DABC14FDDFADD29E     A  recommender_system_test"
      ]
     },
     "execution_count": 85,
     "metadata": {},
     "output_type": "execute_result"
    }
   ],
   "source": [
    "# informação df_eventab\n",
    "df_partab.head(3)"
   ]
  },
  {
   "cell_type": "code",
   "execution_count": 86,
   "metadata": {},
   "outputs": [
    {
     "name": "stdout",
     "output_type": "stream",
     "text": [
      "<class 'pandas.core.frame.DataFrame'>\n",
      "RangeIndex: 14525 entries, 0 to 14524\n",
      "Data columns (total 3 columns):\n",
      " #   Column   Non-Null Count  Dtype \n",
      "---  ------   --------------  ----- \n",
      " 0   user_id  14525 non-null  object\n",
      " 1   group    14525 non-null  object\n",
      " 2   ab_test  14525 non-null  object\n",
      "dtypes: object(3)\n",
      "memory usage: 340.6+ KB\n"
     ]
    }
   ],
   "source": [
    "df_partab.info()"
   ]
  },
  {
   "cell_type": "code",
   "execution_count": 87,
   "metadata": {},
   "outputs": [
    {
     "data": {
      "text/plain": [
       "array(['recommender_system_test', 'interface_eu_test'], dtype=object)"
      ]
     },
     "execution_count": 87,
     "metadata": {},
     "output_type": "execute_result"
    }
   ],
   "source": [
    "# únicos em ab_test\n",
    "df_partab['ab_test'].unique()"
   ]
  },
  {
   "cell_type": "markdown",
   "metadata": {},
   "source": [
    "**Conclusão**\n",
    "\n",
    "Após a avaliação das fontes de dados pode-se concluir que:\n",
    "\n",
    "* A padronização das colunas está em snake_case;\n",
    "* Não existem dados qualitativos duplicados;\n",
    "* A maior parte dos dados não estão faltando;\n",
    "* Os dados de data estão em type object e iremos transformar para datetime;\n",
    "* Os dados faltantes estão na coluna details da fonte **df_eventab**\n",
    "* Não parece existir dados com duplicatas implícitas.\n",
    "* Existem dois tipos de teste A/B na base df_partab aparentemente. Para tal, iremos criar duas dfs diferentes para prosseguir.\n",
    "\n",
    "Iremos estudar os dados faltantes na próxima seção Pré tratamento de dados."
   ]
  },
  {
   "cell_type": "markdown",
   "metadata": {},
   "source": [
    "\n",
    "<div class=\"alert alert-success\">\n",
    "<strong>Comentário do revisor v1</strong>\n",
    "\n",
    "Excelente trabalho checando a consistência dos dados.\n",
    "\n",
    "Sempre importante para garantir uma análise robusta!\n",
    "</div>\n",
    "\n"
   ]
  },
  {
   "cell_type": "markdown",
   "metadata": {},
   "source": [
    "## Pré Tratamento de dados\n",
    "\n",
    "Nessa seção iremos tratar os tipos de dados incorretos e, também, análisar os dados faltantes e decidir o que iremos fazer com eles.\n",
    "\n",
    "Iremos inicialmente alterar os tipos de dados e posteriormente estudar os dados faltantes\n",
    "\n",
    "Para df_partab iremos criar duas dfs com os diferentes testes."
   ]
  },
  {
   "cell_type": "markdown",
   "metadata": {},
   "source": [
    "### Alterando tipos de dados"
   ]
  },
  {
   "cell_type": "code",
   "execution_count": 88,
   "metadata": {},
   "outputs": [
    {
     "name": "stdout",
     "output_type": "stream",
     "text": [
      "name                 object\n",
      "regions              object\n",
      "start_dt     datetime64[ns]\n",
      "finish_dt    datetime64[ns]\n",
      "dtype: object\n",
      "user_id               object\n",
      "first_date    datetime64[ns]\n",
      "region                object\n",
      "device                object\n",
      "dtype: object\n",
      "user_id               object\n",
      "event_dt      datetime64[ns]\n",
      "event_name            object\n",
      "details              float64\n",
      "dtype: object\n"
     ]
    }
   ],
   "source": [
    "# Alterando os dados para tipo data\n",
    "df_cal['start_dt'] = pd.to_datetime(df_cal['start_dt'])\n",
    "df_cal['finish_dt'] = pd.to_datetime(df_cal['finish_dt'])\n",
    "df_userab['first_date'] = pd.to_datetime(df_userab['first_date'])\n",
    "df_eventab['event_dt'] = pd.to_datetime(df_eventab['event_dt'])\n",
    "\n",
    "# Check para confirmar\n",
    "print(df_cal.dtypes)\n",
    "print(df_userab.dtypes)\n",
    "print(df_eventab.dtypes)"
   ]
  },
  {
   "cell_type": "markdown",
   "metadata": {},
   "source": [
    "\n",
    "<div class=\"alert alert-success\">\n",
    "<strong>Comentário do revisor v1</strong>\n",
    "\n",
    "Bom trabalho com os tipos das variáveis.\n",
    "</div>\n",
    "\n"
   ]
  },
  {
   "cell_type": "markdown",
   "metadata": {},
   "source": [
    "### Trabalhando com dados faltantes\n",
    "\n",
    "Agora iremos analisar os dados faltantens na base de dados df_eventab da coluna details para entender o fenomeno.\n",
    "\n",
    "Iremos criar uma df somente com os valores ausentes para entender se há um padrão.\n",
    "\n",
    "Além disso, iremos entender se existem dados duplicados nas bases:\n",
    "\n",
    "* df_userab\n",
    "* df_partab --> existem usuários em ambos os grupos?"
   ]
  },
  {
   "cell_type": "code",
   "execution_count": 89,
   "metadata": {},
   "outputs": [],
   "source": [
    "# Filtrando dados que so tenham nulos\n",
    "df_miss = df_eventab[df_eventab['details'].isna()]\n",
    "\n",
    "# Filtrando dados para que não haja nulos\n",
    "df_non_miss = df_eventab.dropna()"
   ]
  },
  {
   "cell_type": "code",
   "execution_count": 90,
   "metadata": {},
   "outputs": [
    {
     "data": {
      "text/html": [
       "<div>\n",
       "<style scoped>\n",
       "    .dataframe tbody tr th:only-of-type {\n",
       "        vertical-align: middle;\n",
       "    }\n",
       "\n",
       "    .dataframe tbody tr th {\n",
       "        vertical-align: top;\n",
       "    }\n",
       "\n",
       "    .dataframe thead th {\n",
       "        text-align: right;\n",
       "    }\n",
       "</style>\n",
       "<table border=\"1\" class=\"dataframe\">\n",
       "  <thead>\n",
       "    <tr style=\"text-align: right;\">\n",
       "      <th></th>\n",
       "      <th>user_id</th>\n",
       "      <th>event_dt</th>\n",
       "      <th>event_name</th>\n",
       "      <th>details</th>\n",
       "    </tr>\n",
       "  </thead>\n",
       "  <tbody>\n",
       "    <tr>\n",
       "      <th>60314</th>\n",
       "      <td>2E1BF1D4C37EA01F</td>\n",
       "      <td>2020-12-07 09:05:47</td>\n",
       "      <td>product_cart</td>\n",
       "      <td>NaN</td>\n",
       "    </tr>\n",
       "    <tr>\n",
       "      <th>60315</th>\n",
       "      <td>50734A22C0C63768</td>\n",
       "      <td>2020-12-07 13:24:03</td>\n",
       "      <td>product_cart</td>\n",
       "      <td>NaN</td>\n",
       "    </tr>\n",
       "    <tr>\n",
       "      <th>60316</th>\n",
       "      <td>5EB159DA9DC94DBA</td>\n",
       "      <td>2020-12-07 22:54:02</td>\n",
       "      <td>product_cart</td>\n",
       "      <td>NaN</td>\n",
       "    </tr>\n",
       "    <tr>\n",
       "      <th>60317</th>\n",
       "      <td>084A22B980BA8169</td>\n",
       "      <td>2020-12-07 15:25:55</td>\n",
       "      <td>product_cart</td>\n",
       "      <td>NaN</td>\n",
       "    </tr>\n",
       "    <tr>\n",
       "      <th>60318</th>\n",
       "      <td>0FC21E6F8FAA8DEC</td>\n",
       "      <td>2020-12-07 06:56:27</td>\n",
       "      <td>product_cart</td>\n",
       "      <td>NaN</td>\n",
       "    </tr>\n",
       "    <tr>\n",
       "      <th>...</th>\n",
       "      <td>...</td>\n",
       "      <td>...</td>\n",
       "      <td>...</td>\n",
       "      <td>...</td>\n",
       "    </tr>\n",
       "    <tr>\n",
       "      <th>423756</th>\n",
       "      <td>245E85F65C358E08</td>\n",
       "      <td>2020-12-30 19:35:55</td>\n",
       "      <td>login</td>\n",
       "      <td>NaN</td>\n",
       "    </tr>\n",
       "    <tr>\n",
       "      <th>423757</th>\n",
       "      <td>9385A108F5A0A7A7</td>\n",
       "      <td>2020-12-30 10:54:15</td>\n",
       "      <td>login</td>\n",
       "      <td>NaN</td>\n",
       "    </tr>\n",
       "    <tr>\n",
       "      <th>423758</th>\n",
       "      <td>DB650B7559AC6EAC</td>\n",
       "      <td>2020-12-30 10:59:09</td>\n",
       "      <td>login</td>\n",
       "      <td>NaN</td>\n",
       "    </tr>\n",
       "    <tr>\n",
       "      <th>423759</th>\n",
       "      <td>F80C9BDDEA02E53C</td>\n",
       "      <td>2020-12-30 09:53:39</td>\n",
       "      <td>login</td>\n",
       "      <td>NaN</td>\n",
       "    </tr>\n",
       "    <tr>\n",
       "      <th>423760</th>\n",
       "      <td>7AEC61159B672CC5</td>\n",
       "      <td>2020-12-30 11:36:13</td>\n",
       "      <td>login</td>\n",
       "      <td>NaN</td>\n",
       "    </tr>\n",
       "  </tbody>\n",
       "</table>\n",
       "<p>363447 rows × 4 columns</p>\n",
       "</div>"
      ],
      "text/plain": [
       "                 user_id            event_dt    event_name  details\n",
       "60314   2E1BF1D4C37EA01F 2020-12-07 09:05:47  product_cart      NaN\n",
       "60315   50734A22C0C63768 2020-12-07 13:24:03  product_cart      NaN\n",
       "60316   5EB159DA9DC94DBA 2020-12-07 22:54:02  product_cart      NaN\n",
       "60317   084A22B980BA8169 2020-12-07 15:25:55  product_cart      NaN\n",
       "60318   0FC21E6F8FAA8DEC 2020-12-07 06:56:27  product_cart      NaN\n",
       "...                  ...                 ...           ...      ...\n",
       "423756  245E85F65C358E08 2020-12-30 19:35:55         login      NaN\n",
       "423757  9385A108F5A0A7A7 2020-12-30 10:54:15         login      NaN\n",
       "423758  DB650B7559AC6EAC 2020-12-30 10:59:09         login      NaN\n",
       "423759  F80C9BDDEA02E53C 2020-12-30 09:53:39         login      NaN\n",
       "423760  7AEC61159B672CC5 2020-12-30 11:36:13         login      NaN\n",
       "\n",
       "[363447 rows x 4 columns]"
      ]
     },
     "execution_count": 90,
     "metadata": {},
     "output_type": "execute_result"
    }
   ],
   "source": [
    "# imprimindo valores para estudar\n",
    "df_miss"
   ]
  },
  {
   "cell_type": "code",
   "execution_count": 91,
   "metadata": {},
   "outputs": [
    {
     "data": {
      "text/html": [
       "<div>\n",
       "<style scoped>\n",
       "    .dataframe tbody tr th:only-of-type {\n",
       "        vertical-align: middle;\n",
       "    }\n",
       "\n",
       "    .dataframe tbody tr th {\n",
       "        vertical-align: top;\n",
       "    }\n",
       "\n",
       "    .dataframe thead th {\n",
       "        text-align: right;\n",
       "    }\n",
       "</style>\n",
       "<table border=\"1\" class=\"dataframe\">\n",
       "  <thead>\n",
       "    <tr style=\"text-align: right;\">\n",
       "      <th></th>\n",
       "      <th>user_id</th>\n",
       "      <th>event_dt</th>\n",
       "      <th>event_name</th>\n",
       "      <th>details</th>\n",
       "    </tr>\n",
       "  </thead>\n",
       "  <tbody>\n",
       "    <tr>\n",
       "      <th>0</th>\n",
       "      <td>E1BDDCE0DAFA2679</td>\n",
       "      <td>2020-12-07 20:22:03</td>\n",
       "      <td>purchase</td>\n",
       "      <td>99.99</td>\n",
       "    </tr>\n",
       "    <tr>\n",
       "      <th>1</th>\n",
       "      <td>7B6452F081F49504</td>\n",
       "      <td>2020-12-07 09:22:53</td>\n",
       "      <td>purchase</td>\n",
       "      <td>9.99</td>\n",
       "    </tr>\n",
       "    <tr>\n",
       "      <th>2</th>\n",
       "      <td>9CD9F34546DF254C</td>\n",
       "      <td>2020-12-07 12:59:29</td>\n",
       "      <td>purchase</td>\n",
       "      <td>4.99</td>\n",
       "    </tr>\n",
       "    <tr>\n",
       "      <th>3</th>\n",
       "      <td>96F27A054B191457</td>\n",
       "      <td>2020-12-07 04:02:40</td>\n",
       "      <td>purchase</td>\n",
       "      <td>4.99</td>\n",
       "    </tr>\n",
       "    <tr>\n",
       "      <th>4</th>\n",
       "      <td>1FD7660FDF94CA1F</td>\n",
       "      <td>2020-12-07 10:15:09</td>\n",
       "      <td>purchase</td>\n",
       "      <td>4.99</td>\n",
       "    </tr>\n",
       "    <tr>\n",
       "      <th>...</th>\n",
       "      <td>...</td>\n",
       "      <td>...</td>\n",
       "      <td>...</td>\n",
       "      <td>...</td>\n",
       "    </tr>\n",
       "    <tr>\n",
       "      <th>60309</th>\n",
       "      <td>1455450835F72F5E</td>\n",
       "      <td>2020-12-30 09:27:10</td>\n",
       "      <td>purchase</td>\n",
       "      <td>4.99</td>\n",
       "    </tr>\n",
       "    <tr>\n",
       "      <th>60310</th>\n",
       "      <td>339C4C55021A83C6</td>\n",
       "      <td>2020-12-30 12:55:08</td>\n",
       "      <td>purchase</td>\n",
       "      <td>9.99</td>\n",
       "    </tr>\n",
       "    <tr>\n",
       "      <th>60311</th>\n",
       "      <td>D1553B56FFA8974B</td>\n",
       "      <td>2020-12-30 03:15:35</td>\n",
       "      <td>purchase</td>\n",
       "      <td>4.99</td>\n",
       "    </tr>\n",
       "    <tr>\n",
       "      <th>60312</th>\n",
       "      <td>245E85F65C358E08</td>\n",
       "      <td>2020-12-30 19:35:55</td>\n",
       "      <td>purchase</td>\n",
       "      <td>9.99</td>\n",
       "    </tr>\n",
       "    <tr>\n",
       "      <th>60313</th>\n",
       "      <td>F80C9BDDEA02E53C</td>\n",
       "      <td>2020-12-30 09:53:39</td>\n",
       "      <td>purchase</td>\n",
       "      <td>4.99</td>\n",
       "    </tr>\n",
       "  </tbody>\n",
       "</table>\n",
       "<p>60314 rows × 4 columns</p>\n",
       "</div>"
      ],
      "text/plain": [
       "                user_id            event_dt event_name  details\n",
       "0      E1BDDCE0DAFA2679 2020-12-07 20:22:03   purchase    99.99\n",
       "1      7B6452F081F49504 2020-12-07 09:22:53   purchase     9.99\n",
       "2      9CD9F34546DF254C 2020-12-07 12:59:29   purchase     4.99\n",
       "3      96F27A054B191457 2020-12-07 04:02:40   purchase     4.99\n",
       "4      1FD7660FDF94CA1F 2020-12-07 10:15:09   purchase     4.99\n",
       "...                 ...                 ...        ...      ...\n",
       "60309  1455450835F72F5E 2020-12-30 09:27:10   purchase     4.99\n",
       "60310  339C4C55021A83C6 2020-12-30 12:55:08   purchase     9.99\n",
       "60311  D1553B56FFA8974B 2020-12-30 03:15:35   purchase     4.99\n",
       "60312  245E85F65C358E08 2020-12-30 19:35:55   purchase     9.99\n",
       "60313  F80C9BDDEA02E53C 2020-12-30 09:53:39   purchase     4.99\n",
       "\n",
       "[60314 rows x 4 columns]"
      ]
     },
     "execution_count": 91,
     "metadata": {},
     "output_type": "execute_result"
    }
   ],
   "source": [
    "# imprimindo valores para estudar\n",
    "df_non_miss"
   ]
  },
  {
   "cell_type": "markdown",
   "metadata": {},
   "source": [
    "Aparentemente os valores de details significam algum detalhe da compra, como o valor ou algo do tipo. Assim, quando se apresentam dados NaN na coluna é deve ser devido a um outro processo do funil.\n",
    "\n",
    "Para confirmar nossa tese iremos imprimir os valores unicos na coluna event_name de ambas."
   ]
  },
  {
   "cell_type": "code",
   "execution_count": 92,
   "metadata": {},
   "outputs": [
    {
     "name": "stdout",
     "output_type": "stream",
     "text": [
      "['product_cart' 'product_page' 'login']\n"
     ]
    }
   ],
   "source": [
    "# imprimindo únicos em missing values\n",
    "print(df_miss['event_name'].unique())"
   ]
  },
  {
   "cell_type": "code",
   "execution_count": 93,
   "metadata": {},
   "outputs": [
    {
     "name": "stdout",
     "output_type": "stream",
     "text": [
      "['purchase']\n"
     ]
    }
   ],
   "source": [
    "# imprimindo únicos em missing values\n",
    "print(df_non_miss['event_name'].unique())"
   ]
  },
  {
   "cell_type": "markdown",
   "metadata": {},
   "source": [
    "**Conclusão**\n",
    "\n",
    "De fato, como previmos os dados faltantes são devido aos valores de compras de clientes. \n",
    "\n",
    "Assim a coluna details contem os dados dos valores de compras realizados pelos diferentes clientes e quando não existe o valor na coluna é devido que estava em outra etapa do funil.\n",
    "\n",
    "Nesse momento iremos deixar os dados faltando e, caso necessário, iremos trabalhar posteriromente com os mesmos."
   ]
  },
  {
   "cell_type": "markdown",
   "metadata": {},
   "source": [
    "### Dados duplicados\n",
    "\n",
    "Iremos estudar se existem dados duplicados nas dfs userab e eventab(usuários em ambos grupos) e também em df_eventab para as etapas do funil."
   ]
  },
  {
   "cell_type": "code",
   "execution_count": 94,
   "metadata": {},
   "outputs": [
    {
     "data": {
      "text/html": [
       "<div>\n",
       "<style scoped>\n",
       "    .dataframe tbody tr th:only-of-type {\n",
       "        vertical-align: middle;\n",
       "    }\n",
       "\n",
       "    .dataframe tbody tr th {\n",
       "        vertical-align: top;\n",
       "    }\n",
       "\n",
       "    .dataframe thead th {\n",
       "        text-align: right;\n",
       "    }\n",
       "</style>\n",
       "<table border=\"1\" class=\"dataframe\">\n",
       "  <thead>\n",
       "    <tr style=\"text-align: right;\">\n",
       "      <th></th>\n",
       "      <th>user_id</th>\n",
       "      <th>event_dt</th>\n",
       "      <th>event_name</th>\n",
       "      <th>details</th>\n",
       "    </tr>\n",
       "  </thead>\n",
       "  <tbody>\n",
       "  </tbody>\n",
       "</table>\n",
       "</div>"
      ],
      "text/plain": [
       "Empty DataFrame\n",
       "Columns: [user_id, event_dt, event_name, details]\n",
       "Index: []"
      ]
     },
     "execution_count": 94,
     "metadata": {},
     "output_type": "execute_result"
    }
   ],
   "source": [
    "# trabalhando com df_eventab\n",
    "duplicates_eventab = df_eventab[df_eventab.duplicated(keep=False)]\n",
    "\n",
    "# mostrando a df\n",
    "duplicates_eventab"
   ]
  },
  {
   "cell_type": "code",
   "execution_count": 95,
   "metadata": {},
   "outputs": [
    {
     "data": {
      "text/html": [
       "<div>\n",
       "<style scoped>\n",
       "    .dataframe tbody tr th:only-of-type {\n",
       "        vertical-align: middle;\n",
       "    }\n",
       "\n",
       "    .dataframe tbody tr th {\n",
       "        vertical-align: top;\n",
       "    }\n",
       "\n",
       "    .dataframe thead th {\n",
       "        text-align: right;\n",
       "    }\n",
       "</style>\n",
       "<table border=\"1\" class=\"dataframe\">\n",
       "  <thead>\n",
       "    <tr style=\"text-align: right;\">\n",
       "      <th></th>\n",
       "      <th>user_id</th>\n",
       "      <th>first_date</th>\n",
       "      <th>region</th>\n",
       "      <th>device</th>\n",
       "    </tr>\n",
       "  </thead>\n",
       "  <tbody>\n",
       "  </tbody>\n",
       "</table>\n",
       "</div>"
      ],
      "text/plain": [
       "Empty DataFrame\n",
       "Columns: [user_id, first_date, region, device]\n",
       "Index: []"
      ]
     },
     "execution_count": 95,
     "metadata": {},
     "output_type": "execute_result"
    }
   ],
   "source": [
    "# criando df de duplicados em df_userab\n",
    "df_userabdup = df_userab[df_userab.duplicated(keep=False)]\n",
    "\n",
    "# mostrando dados\n",
    "df_userabdup"
   ]
  },
  {
   "cell_type": "markdown",
   "metadata": {},
   "source": [
    "**Conclusão**\n",
    "\n",
    "Não existem dados duplicados assim iremos seguir nossa analisa para a outra base de dados."
   ]
  },
  {
   "cell_type": "markdown",
   "metadata": {},
   "source": [
    "\n",
    "<div class=\"alert alert-success\">\n",
    "<strong>Comentário do revisor v1</strong>\n",
    "\n",
    "Correto, vamos seguir sem duplicados portanto.\n",
    "</div>\n",
    "\n"
   ]
  },
  {
   "cell_type": "markdown",
   "metadata": {},
   "source": [
    "### Trabalhando com df_partab com os testes\n",
    "\n",
    "Iremos separar os tipos de testes realizados para segmentação do tipo de teste e melhor trabalho posterior."
   ]
  },
  {
   "cell_type": "code",
   "execution_count": 96,
   "metadata": {},
   "outputs": [
    {
     "name": "stdout",
     "output_type": "stream",
     "text": [
      "['recommender_system_test']\n",
      "['interface_eu_test']\n"
     ]
    }
   ],
   "source": [
    "# criando dfs para os diferentes testes\n",
    "df_recommender_system_test = df_partab[df_partab['ab_test'] == 'recommender_system_test']\n",
    "df_interface_eu_test = df_partab[df_partab['ab_test'] == 'interface_eu_test']\n",
    "\n",
    "# imprimindo unicos para averiguar\n",
    "print(df_recommender_system_test['ab_test'].unique())\n",
    "print(df_interface_eu_test['ab_test'].unique())"
   ]
  },
  {
   "cell_type": "code",
   "execution_count": 97,
   "metadata": {},
   "outputs": [
    {
     "name": "stdout",
     "output_type": "stream",
     "text": [
      "<class 'pandas.core.frame.DataFrame'>\n",
      "Int64Index: 0 entries\n",
      "Data columns (total 3 columns):\n",
      " #   Column   Non-Null Count  Dtype \n",
      "---  ------   --------------  ----- \n",
      " 0   user_id  0 non-null      object\n",
      " 1   group    0 non-null      object\n",
      " 2   ab_test  0 non-null      object\n",
      "dtypes: object(3)\n",
      "memory usage: 0.0+ bytes\n"
     ]
    }
   ],
   "source": [
    "# Identificando user_ids que aparecem em ambos os grupos para df_recommender_system_test\n",
    "duplicated_users = df_recommender_system_test.groupby('user_id').filter(lambda x: x['group'].nunique() > 1)\n",
    "\n",
    "# Imprimindo\n",
    "duplicated_users.info()"
   ]
  },
  {
   "cell_type": "code",
   "execution_count": 98,
   "metadata": {},
   "outputs": [
    {
     "name": "stdout",
     "output_type": "stream",
     "text": [
      "<class 'pandas.core.frame.DataFrame'>\n",
      "Int64Index: 0 entries\n",
      "Data columns (total 3 columns):\n",
      " #   Column   Non-Null Count  Dtype \n",
      "---  ------   --------------  ----- \n",
      " 0   user_id  0 non-null      object\n",
      " 1   group    0 non-null      object\n",
      " 2   ab_test  0 non-null      object\n",
      "dtypes: object(3)\n",
      "memory usage: 0.0+ bytes\n"
     ]
    }
   ],
   "source": [
    "# Identificando user_ids que aparecem em ambos os grupos para df_recommender_system_test\n",
    "duplicated_users = df_interface_eu_test.groupby('user_id').filter(lambda x: x['group'].nunique() > 1)\n",
    "\n",
    "# Imprimindo\n",
    "duplicated_users.info()"
   ]
  },
  {
   "cell_type": "markdown",
   "metadata": {},
   "source": [
    "**Conclusão**\n",
    "\n",
    "Para as Dataframes criadas dos testes separados isso facilitou o trabalho.\n",
    "\n",
    "Sabemos de testes prévios que existem usuários em ambos os grupos, não é o correto a se realizar quando temos testes simultâneos, mas por via de análise iremos deixar os usuários em ambos os testes para caracterização e posterior analise de resultados."
   ]
  },
  {
   "cell_type": "markdown",
   "metadata": {},
   "source": [
    "## Análise Exploratória de Dados - EDA\n",
    "\n",
    "   - Vou avaliar a conversão em diferentes etapas do funil.\n",
    "   - Analisarei como os eventos por usuário são distribuídos entre as amostras.\n",
    "   - Checarei se os usuários de ambos os grupos estão presentes nos dados.\n",
    "   - Observarei como os eventos são distribuídos ao longo dos dias.\n",
    "   - Identificarei qualquer particularidade nos dados que deve ser considerada antes da análise."
   ]
  },
  {
   "cell_type": "markdown",
   "metadata": {},
   "source": [
    "\n",
    "<div class=\"alert alert-success\">\n",
    "<strong>Comentário do revisor v1</strong>\n",
    "\n",
    "Vamos lá!\n",
    "</div>\n",
    "\n"
   ]
  },
  {
   "cell_type": "markdown",
   "metadata": {},
   "source": [
    "### Conversão em diferentes etapas do funil\n",
    "\n",
    "Para avaliação das diferentes etapas do funil iremos utilizar o caminho padrão que o cliente deve fazer que seria:\n",
    "\n",
    "\n",
    "Login --> Product Page --> Product Cart --> Purchase.\n",
    "\n",
    "\n",
    "Assim poderemos avaliar os números para cada fase do funil. Iremos imprimir os valores de conversão **totais** e criar um gráfico para melhor visualização.\n",
    "\n",
    "Vamos levar em consideração **Login** como a etapa inicial do Funil e nossa referencia."
   ]
  },
  {
   "cell_type": "code",
   "execution_count": 99,
   "metadata": {},
   "outputs": [
    {
     "data": {
      "text/html": [
       "<div>\n",
       "<style scoped>\n",
       "    .dataframe tbody tr th:only-of-type {\n",
       "        vertical-align: middle;\n",
       "    }\n",
       "\n",
       "    .dataframe tbody tr th {\n",
       "        vertical-align: top;\n",
       "    }\n",
       "\n",
       "    .dataframe thead th {\n",
       "        text-align: right;\n",
       "    }\n",
       "</style>\n",
       "<table border=\"1\" class=\"dataframe\">\n",
       "  <thead>\n",
       "    <tr style=\"text-align: right;\">\n",
       "      <th></th>\n",
       "      <th>user_id</th>\n",
       "      <th>event_dt</th>\n",
       "      <th>event_name</th>\n",
       "      <th>details</th>\n",
       "    </tr>\n",
       "  </thead>\n",
       "  <tbody>\n",
       "    <tr>\n",
       "      <th>0</th>\n",
       "      <td>E1BDDCE0DAFA2679</td>\n",
       "      <td>2020-12-07 20:22:03</td>\n",
       "      <td>purchase</td>\n",
       "      <td>99.99</td>\n",
       "    </tr>\n",
       "    <tr>\n",
       "      <th>1</th>\n",
       "      <td>7B6452F081F49504</td>\n",
       "      <td>2020-12-07 09:22:53</td>\n",
       "      <td>purchase</td>\n",
       "      <td>9.99</td>\n",
       "    </tr>\n",
       "    <tr>\n",
       "      <th>2</th>\n",
       "      <td>9CD9F34546DF254C</td>\n",
       "      <td>2020-12-07 12:59:29</td>\n",
       "      <td>purchase</td>\n",
       "      <td>4.99</td>\n",
       "    </tr>\n",
       "    <tr>\n",
       "      <th>3</th>\n",
       "      <td>96F27A054B191457</td>\n",
       "      <td>2020-12-07 04:02:40</td>\n",
       "      <td>purchase</td>\n",
       "      <td>4.99</td>\n",
       "    </tr>\n",
       "    <tr>\n",
       "      <th>4</th>\n",
       "      <td>1FD7660FDF94CA1F</td>\n",
       "      <td>2020-12-07 10:15:09</td>\n",
       "      <td>purchase</td>\n",
       "      <td>4.99</td>\n",
       "    </tr>\n",
       "    <tr>\n",
       "      <th>...</th>\n",
       "      <td>...</td>\n",
       "      <td>...</td>\n",
       "      <td>...</td>\n",
       "      <td>...</td>\n",
       "    </tr>\n",
       "    <tr>\n",
       "      <th>423756</th>\n",
       "      <td>245E85F65C358E08</td>\n",
       "      <td>2020-12-30 19:35:55</td>\n",
       "      <td>login</td>\n",
       "      <td>NaN</td>\n",
       "    </tr>\n",
       "    <tr>\n",
       "      <th>423757</th>\n",
       "      <td>9385A108F5A0A7A7</td>\n",
       "      <td>2020-12-30 10:54:15</td>\n",
       "      <td>login</td>\n",
       "      <td>NaN</td>\n",
       "    </tr>\n",
       "    <tr>\n",
       "      <th>423758</th>\n",
       "      <td>DB650B7559AC6EAC</td>\n",
       "      <td>2020-12-30 10:59:09</td>\n",
       "      <td>login</td>\n",
       "      <td>NaN</td>\n",
       "    </tr>\n",
       "    <tr>\n",
       "      <th>423759</th>\n",
       "      <td>F80C9BDDEA02E53C</td>\n",
       "      <td>2020-12-30 09:53:39</td>\n",
       "      <td>login</td>\n",
       "      <td>NaN</td>\n",
       "    </tr>\n",
       "    <tr>\n",
       "      <th>423760</th>\n",
       "      <td>7AEC61159B672CC5</td>\n",
       "      <td>2020-12-30 11:36:13</td>\n",
       "      <td>login</td>\n",
       "      <td>NaN</td>\n",
       "    </tr>\n",
       "  </tbody>\n",
       "</table>\n",
       "<p>423761 rows × 4 columns</p>\n",
       "</div>"
      ],
      "text/plain": [
       "                 user_id            event_dt event_name  details\n",
       "0       E1BDDCE0DAFA2679 2020-12-07 20:22:03   purchase    99.99\n",
       "1       7B6452F081F49504 2020-12-07 09:22:53   purchase     9.99\n",
       "2       9CD9F34546DF254C 2020-12-07 12:59:29   purchase     4.99\n",
       "3       96F27A054B191457 2020-12-07 04:02:40   purchase     4.99\n",
       "4       1FD7660FDF94CA1F 2020-12-07 10:15:09   purchase     4.99\n",
       "...                  ...                 ...        ...      ...\n",
       "423756  245E85F65C358E08 2020-12-30 19:35:55      login      NaN\n",
       "423757  9385A108F5A0A7A7 2020-12-30 10:54:15      login      NaN\n",
       "423758  DB650B7559AC6EAC 2020-12-30 10:59:09      login      NaN\n",
       "423759  F80C9BDDEA02E53C 2020-12-30 09:53:39      login      NaN\n",
       "423760  7AEC61159B672CC5 2020-12-30 11:36:13      login      NaN\n",
       "\n",
       "[423761 rows x 4 columns]"
      ]
     },
     "execution_count": 99,
     "metadata": {},
     "output_type": "execute_result"
    }
   ],
   "source": [
    "# imprimindo a df\n",
    "df_eventab"
   ]
  },
  {
   "cell_type": "code",
   "execution_count": 100,
   "metadata": {},
   "outputs": [
    {
     "name": "stdout",
     "output_type": "stream",
     "text": [
      "Contagem de eventos por etapa:\n",
      "login           182465\n",
      "product_page    120862\n",
      "product_cart     60120\n",
      "purchase         60314\n",
      "Name: event_name, dtype: int64\n",
      "\n",
      "Taxa de conversão em relação ao login:\n",
      "login           1.000000\n",
      "product_page    0.662385\n",
      "product_cart    0.329488\n",
      "purchase        0.330551\n",
      "Name: event_name, dtype: float64\n"
     ]
    }
   ],
   "source": [
    "# Contar eventos para cada etapa\n",
    "steps = ['login', 'product_page', 'product_cart', 'purchase']\n",
    "counts = df_eventab['event_name'].value_counts().reindex(steps).fillna(0)\n",
    "\n",
    "# Calcular taxas de conversão usando 'login' como referência\n",
    "conversions = counts / counts['login']\n",
    "\n",
    "# Imprimir valores\n",
    "print(\"Contagem de eventos por etapa:\")\n",
    "print(counts)\n",
    "print(\"\\nTaxa de conversão em relação ao login:\")\n",
    "print(conversions)"
   ]
  },
  {
   "cell_type": "code",
   "execution_count": 101,
   "metadata": {},
   "outputs": [
    {
     "data": {
      "image/png": "[encoded data removed]",
      "text/plain": [
       "<Figure size 720x432 with 2 Axes>"
      ]
     },
     "metadata": {},
     "output_type": "display_data"
    }
   ],
   "source": [
    "# Visualizar os dados em um gráfico\n",
    "fig, ax1 = plt.subplots(figsize=(10, 6))\n",
    "\n",
    "# Barra para contagem de eventos\n",
    "ax1.bar(counts.index, counts.values, color='gray', alpha=0.6, label='Contagem de eventos')\n",
    "ax1.set_xlabel('Etapa do Funil')\n",
    "ax1.set_ylabel('Contagem de eventos', color='gray')\n",
    "ax1.tick_params(axis='y', labelcolor='gray')\n",
    "ax1.set_title('Análise do Funil de Conversão')\n",
    "\n",
    "# Linha para taxa de conversão\n",
    "ax2 = ax1.twinx()\n",
    "ax2.plot(conversions.index, conversions.values, color='green', marker='o', label='Taxa de conversão')\n",
    "ax2.set_ylabel('Taxa de conversão', color='green')\n",
    "ax2.tick_params(axis='y', labelcolor='green')\n",
    "ax2.set_ylim(0, 1.1)  # Para que a taxa de conversão seja visualizada entre 0 e 1 (ou ligeiramente acima)\n",
    "\n",
    "fig.tight_layout()\n",
    "plt.show()"
   ]
  },
  {
   "cell_type": "markdown",
   "metadata": {},
   "source": [
    "**Conclusões**\n",
    "\n",
    "Acerca das taxas de conversão onde Purchase é maior que Product_cart:\n",
    "1. Dados Ausentes ou Erros de Rastreamento:\n",
    "Podemos ter dados que indicam que nosso sistema de rastreamento pode não ter capturado todos os eventos corretamente.\n",
    "Pode haver eventos product_cart que não foram registrados, mas os eventos purchase associados foram.\n",
    "\n",
    "2. Comportamento do Usuário:\n",
    "Em algumas plataformas, podemos ter dados que mostram que os usuários podem ser capazes de fazer uma compra sem adicionar explicitamente um item ao carrinho, especialmente se estamos recomprando um item ou usando um link direto para o checkout.\n",
    "\n",
    "3. Refunds ou Cancelamentos:\n",
    "Dependendo de como os dados são coletados e definidos, podemos ter dados que sugerem que um evento de \"compra\" pode não necessariamente significar uma compra bem-sucedida.\n",
    "Pode representar uma tentativa de compra que foi posteriormente cancelada ou reembolsada, mas ainda assim registrou como uma compra.\n",
    "\n",
    "4. Tempo de Rastreamento:\n",
    "Se estivermos olhando para um intervalo de tempo específico, podemos ter dados que indicam que alguém pode ter adicionado um item ao carrinho antes do início desse período, mas só completou a compra durante o período.\n",
    "\n",
    "\n",
    "Como conclusão dos dados em geral:\n",
    "\n",
    "1. Atividade de Login Forte\n",
    "Com 182,465 usuários fazendo login, há um alto nível de engajamento ou interesse na plataforma ou produto.\n",
    "\n",
    "2. Queda após o Login\n",
    "Dos usuários que fazem login, apenas cerca de 66.24% realmente prosseguem para a página do produto. Isso pode indicar dificuldades na navegação, falta de produtos atrativos ou simplesmente uma navegação sem intenção de compra.\n",
    "\n",
    "3. Metade dos Interessados Adicionam ao Carrinho\n",
    "Daqueles que visitam a página do produto, quase metade adiciona o produto ao carrinho. Este é um indicativo de um interesse significativo nos produtos visualizados.\n",
    "\n",
    "4. Conversão Atípica de Carrinho para Compra\n",
    "A proporção de usuários que efetuam uma compra após adicionar um produto ao carrinho é surpreendentemente alta. Algumas possíveis razões para esta alta taxa de conversão incluem:\n",
    "\n",
    "- Capacidade de compra sem passar pelo carrinho.\n",
    "- Rastreamento incorreto das ações 'adicionar ao carrinho'.\n",
    "- Uma experiência de checkout altamente otimizada.\n",
    "\n",
    "\n",
    "5. Oportunidades de Otimização\n",
    "A maior queda no funil ocorre entre as etapas de login e visualização da página do produto. Melhorar a experiência do usuário ou oferecer produtos mais atraentes nesta fase pode resultar em taxas de conversão mais altas.\n",
    "\n",
    "6. Verificação dos Dados Necessária\n",
    "A taxa de conversão do carrinho para a compra ser superior a 100% é atípica. Uma verificação dos dados e do sistema de rastreamento pode ser necessária para garantir a precisão dos insights.\n",
    "\n",
    "\n",
    "**Iremos considerar que a base não teve erros e as premissas de adicionar carrinho sejam válidas.**"
   ]
  },
  {
   "cell_type": "markdown",
   "metadata": {},
   "source": [
    "\n",
    "<div class=\"alert alert-success\">\n",
    "<strong>Comentário do revisor v1</strong>\n",
    "\n",
    "Excelente trabalho com as conclusões e com a visualização!\n",
    "</div>\n",
    "\n"
   ]
  },
  {
   "cell_type": "markdown",
   "metadata": {},
   "source": [
    "### Distribuição dos eventos por usuário na amostra\n",
    "\n",
    "Para avaliar se o número de eventos por usuário é distribuído igualmente entre as amostras no DataFrame df_eventab, precisamos primeiro agrupar os dados por user_id e contar o número de eventos para cada usuário. Após isso, podemos visualizar a distribuição dos números e calcular algumas estatísticas descritivas para entender melhor a situação."
   ]
  },
  {
   "cell_type": "code",
   "execution_count": 102,
   "metadata": {},
   "outputs": [
    {
     "name": "stdout",
     "output_type": "stream",
     "text": [
      "count    58703.000000\n",
      "mean         7.218728\n",
      "std          4.122609\n",
      "min          1.000000\n",
      "25%          4.000000\n",
      "50%          6.000000\n",
      "75%          9.000000\n",
      "max         36.000000\n",
      "dtype: float64\n"
     ]
    }
   ],
   "source": [
    "# Agrupar por user_id e contar o número de eventos\n",
    "event_counts_per_user = df_eventab.groupby('user_id').size()\n",
    "\n",
    "# Estatísticas descritivas\n",
    "print(event_counts_per_user.describe())"
   ]
  },
  {
   "cell_type": "code",
   "execution_count": 103,
   "metadata": {},
   "outputs": [
    {
     "data": {
      "image/png": "[encoded data removed]",
      "text/plain": [
       "<Figure size 864x576 with 1 Axes>"
      ]
     },
     "metadata": {
      "needs_background": "light"
     },
     "output_type": "display_data"
    }
   ],
   "source": [
    "# Gerando gráfico de distribuição\n",
    "\n",
    "# Definir o tamanho do gráfico\n",
    "plt.figure(figsize=(12, 8))\n",
    "\n",
    "# Gerando\n",
    "plt.hist(event_counts_per_user, bins=50, edgecolor='black')\n",
    "plt.title(\"Distribuição do número de eventos por usuário\")\n",
    "plt.xlabel(\"Número de eventos\")\n",
    "plt.ylabel(\"Número de usuários\")\n",
    "plt.grid(True)\n",
    "plt.show()"
   ]
  },
  {
   "cell_type": "markdown",
   "metadata": {},
   "source": [
    "**Conclusão:**\n",
    "\n",
    "O número de eventos por usuário não é distribuído igualmente entre os usuários. Embora a maioria dos usuários (50%) tenha entre 4 e 9 eventos, a variação total de 1 a 36 eventos mostra que há uma diferença significativa na atividade entre os usuários mais e menos ativos. Além disso, a presença de um desvio padrão relativamente alto em relação à média indica uma considerável variação ou dispersão na quantidade de eventos que diferentes usuários registram.\n",
    "\n",
    "Se quiséssemos fazer uma avaliação mais detalhada sobre a igualdade de distribuição entre diferentes \"amostras\" ou grupos específicos de usuários (por exemplo, usuários de diferentes grupos de testes A/B), precisaríamos de informações adicionais e realizar análises específicas para esses grupos.\n",
    "\n",
    "O gráfico de distribuição demonstra essas conclusões. Pode-se perceber que a maior parte dos usuários tem seções na mediana em 6 eventos."
   ]
  },
  {
   "cell_type": "markdown",
   "metadata": {},
   "source": [
    "\n",
    "<div class=\"alert alert-danger\">\n",
    "<strong>Comentário do revisor v1</strong>\n",
    "\n",
    "Aqui é muito importante que façamos essa análise para cada um dos grupos... precisamos apenas de um join entre a tabela usada acima e a que trás o grupo de cada cliente! Vamos trabalhar nisso.\n",
    "</div>\n",
    "\n"
   ]
  },
  {
   "cell_type": "markdown",
   "metadata": {},
   "source": [
    "<div class=\"alert alert-info\">\n",
    "<strong>Olá Rafael! Muito obrigado pelo comentário, vou adicionar logo abaixo as sugestões (:</strong>\n",
    "</div>"
   ]
  },
  {
   "cell_type": "markdown",
   "metadata": {},
   "source": [
    "#### Distribuição para o teste Recommender system"
   ]
  },
  {
   "cell_type": "code",
   "execution_count": 104,
   "metadata": {},
   "outputs": [
    {
     "name": "stdout",
     "output_type": "stream",
     "text": [
      "\n",
      "Estatísticas descritivas para o grupo A:\n",
      "count    2747.000000\n",
      "mean        6.780852\n",
      "std         3.729768\n",
      "min         1.000000\n",
      "25%         4.000000\n",
      "50%         6.000000\n",
      "75%         9.000000\n",
      "max        24.000000\n",
      "dtype: float64\n",
      "\n",
      "Estatísticas descritivas para o grupo B:\n",
      "count    928.00000\n",
      "mean       5.69181\n",
      "std        3.45035\n",
      "min        1.00000\n",
      "25%        3.00000\n",
      "50%        5.00000\n",
      "75%        8.00000\n",
      "max       28.00000\n",
      "dtype: float64\n"
     ]
    },
    {
     "data": {
      "image/png": "[encoded data removed]",
      "text/plain": [
       "<Figure size 864x576 with 1 Axes>"
      ]
     },
     "metadata": {
      "needs_background": "light"
     },
     "output_type": "display_data"
    }
   ],
   "source": [
    "# Juntando os dois dataframes com base em 'user_id'\n",
    "df_merged = df_eventab.join(df_partab.set_index('user_id'), on='user_id')\n",
    "df_merged = df_merged[df_merged['ab_test'] == 'recommender_system_test']\n",
    "\n",
    "# Filtrando registros do grupo de teste A\n",
    "df_test_a = df_merged[df_merged['group'] == 'A']\n",
    "event_counts_per_user_a = df_test_a.groupby('user_id').size()\n",
    "\n",
    "# Filtrando registros do grupo de teste B\n",
    "df_test_b = df_merged[df_merged['group'] == 'B']\n",
    "event_counts_per_user_b = df_test_b.groupby('user_id').size()\n",
    "\n",
    "# Estatísticas descritivas\n",
    "print(\"\\nEstatísticas descritivas para o grupo A:\")\n",
    "print(event_counts_per_user_a.describe())\n",
    "print(\"\\nEstatísticas descritivas para o grupo B:\")\n",
    "print(event_counts_per_user_b.describe())\n",
    "\n",
    "# Gerando gráfico de distribuição\n",
    "plt.figure(figsize=(12, 8))\n",
    "\n",
    "# Histograma para o grupo A\n",
    "plt.hist(event_counts_per_user_a, bins=50, edgecolor='black', alpha=0.5, label='Teste A')\n",
    "\n",
    "# Histograma para o grupo B\n",
    "plt.hist(event_counts_per_user_b, bins=50, edgecolor='black', alpha=0.5, label='Teste B')\n",
    "\n",
    "plt.title(\"Distribuição do número de eventos por usuário para os grupos A e B\")\n",
    "plt.xlabel(\"Número de eventos\")\n",
    "plt.ylabel(\"Número de usuários\")\n",
    "plt.grid(True)\n",
    "plt.legend()  # Adiciona a legenda ao gráfico\n",
    "plt.show()"
   ]
  },
  {
   "cell_type": "markdown",
   "metadata": {},
   "source": [
    "**Conclusão**\n",
    "\n",
    "Para o teste de Recommender System podemos observar que o Teste A teve muito mais engajamento dos usuários, isso é possível pelo número de usuários em cada uma das barras. Além disso, a distribuição é similar e aparentam o mesmo comportamento com a única diferença com a magnitude do número de usuários ao longo do gráfico."
   ]
  },
  {
   "cell_type": "markdown",
   "metadata": {},
   "source": [
    "<div class=\"alert alert-success\">\n",
    "<strong>Comentário do revisor v2</strong>\n",
    "\n",
    "Perfeito\n",
    "</div>"
   ]
  },
  {
   "cell_type": "markdown",
   "metadata": {},
   "source": [
    "#### Distribuição para o teste Interface_eu_test"
   ]
  },
  {
   "cell_type": "code",
   "execution_count": 105,
   "metadata": {},
   "outputs": [
    {
     "name": "stdout",
     "output_type": "stream",
     "text": [
      "\n",
      "Estatísticas descritivas para o grupo A:\n",
      "count    5467.000000\n",
      "mean        7.330894\n",
      "std         4.178342\n",
      "min         1.000000\n",
      "25%         4.000000\n",
      "50%         6.000000\n",
      "75%         9.000000\n",
      "max        28.000000\n",
      "dtype: float64\n",
      "\n",
      "Estatísticas descritivas para o grupo B:\n",
      "count    5383.000000\n",
      "mean        7.217351\n",
      "std         4.137943\n",
      "min         1.000000\n",
      "25%         4.000000\n",
      "50%         6.000000\n",
      "75%         9.000000\n",
      "max        32.000000\n",
      "dtype: float64\n"
     ]
    },
    {
     "data": {
      "image/png": "[encoded data removed]",
      "text/plain": [
       "<Figure size 864x576 with 1 Axes>"
      ]
     },
     "metadata": {
      "needs_background": "light"
     },
     "output_type": "display_data"
    }
   ],
   "source": [
    "# Juntando os dois dataframes com base em 'user_id'\n",
    "df_merged = df_eventab.join(df_partab.set_index('user_id'), on='user_id')\n",
    "df_merged = df_merged[df_merged['ab_test'] == 'interface_eu_test']\n",
    "\n",
    "# Filtrando registros do grupo de teste A\n",
    "df_test_a = df_merged[df_merged['group'] == 'A']\n",
    "event_counts_per_user_a = df_test_a.groupby('user_id').size()\n",
    "\n",
    "# Filtrando registros do grupo de teste B\n",
    "df_test_b = df_merged[df_merged['group'] == 'B']\n",
    "event_counts_per_user_b = df_test_b.groupby('user_id').size()\n",
    "\n",
    "# Estatísticas descritivas\n",
    "print(\"\\nEstatísticas descritivas para o grupo A:\")\n",
    "print(event_counts_per_user_a.describe())\n",
    "print(\"\\nEstatísticas descritivas para o grupo B:\")\n",
    "print(event_counts_per_user_b.describe())\n",
    "\n",
    "# Gerando gráfico de distribuição\n",
    "plt.figure(figsize=(12, 8))\n",
    "\n",
    "# Histograma para o grupo A\n",
    "plt.hist(event_counts_per_user_a, bins=50, edgecolor='black', alpha=0.5, label='Teste A')\n",
    "\n",
    "# Histograma para o grupo B\n",
    "plt.hist(event_counts_per_user_b, bins=50, edgecolor='black', alpha=0.5, label='Teste B')\n",
    "\n",
    "plt.title(\"Distribuição do número de eventos por usuário para os grupos A e B\")\n",
    "plt.xlabel(\"Número de eventos\")\n",
    "plt.ylabel(\"Número de usuários\")\n",
    "plt.grid(True)\n",
    "plt.legend()  # Adiciona a legenda ao gráfico\n",
    "plt.show()"
   ]
  },
  {
   "cell_type": "markdown",
   "metadata": {},
   "source": [
    "**Conclusão**\n",
    "\n",
    "Para o teste interface_eu_test podemos observar que na distribuição teve-se uma distribuição muito similar, com uma magnitude muito parecida também. Podemos observar que para cada número de eventos temos números de usuários similares.  Isso demonstra que no quesito de engajamento teve um comportamento muito parecido."
   ]
  },
  {
   "cell_type": "markdown",
   "metadata": {},
   "source": [
    "### Check dos usuários de ambos os testes na amostra\n",
    "\n",
    "Iremos realizar um check para entender se usuários de ambos os testes estão nos dados de conversão coletados.\n",
    "\n",
    "Para tal iremos analisar as bases:\n",
    "\n",
    "- df_eventab\n",
    "- df_partab\n",
    "\n",
    "Iremos checar se todos os usuários de df_partab estão em df_eventab"
   ]
  },
  {
   "cell_type": "code",
   "execution_count": 106,
   "metadata": {},
   "outputs": [
    {
     "name": "stdout",
     "output_type": "stream",
     "text": [
      "Todos os user_id de df_partab estão em df_eventab.\n"
     ]
    }
   ],
   "source": [
    "# Verificar se todos os user_id em df_partab estão em df_eventab\n",
    "all_users_in_eventab = df_partab['user_id'].isin(df_eventab['user_id']).all()\n",
    "\n",
    "if all_users_in_eventab:\n",
    "    print(\"Todos os user_id de df_partab estão em df_eventab.\")\n",
    "else:\n",
    "    print(\"Nem todos os user_id de df_partab estão em df_eventab.\")"
   ]
  },
  {
   "cell_type": "markdown",
   "metadata": {},
   "source": [
    "\n",
    "<div class=\"alert alert-success\">\n",
    "<strong>Comentário do revisor v1</strong>\n",
    "\n",
    "Muito elegante a forma que você fez essa validação. Gostei!\n",
    "</div>\n",
    "\n"
   ]
  },
  {
   "cell_type": "markdown",
   "metadata": {},
   "source": [
    "### Distribuição dos eventos por dia\n",
    "\n",
    "Iremos criar um gráfico para análisar o número de eventos específicos por dia e comparar como a contagem dos mesmos a cada dia para entender se existem datas específicas."
   ]
  },
  {
   "cell_type": "code",
   "execution_count": 107,
   "metadata": {},
   "outputs": [],
   "source": [
    "# Extrair somente a data\n",
    "df_eventab['event_date'] = df_eventab['event_dt'].dt.date\n",
    "\n",
    "# Contar os eventos por data\n",
    "event_distribution = df_eventab.groupby('event_date').size()"
   ]
  },
  {
   "cell_type": "code",
   "execution_count": 108,
   "metadata": {},
   "outputs": [
    {
     "data": {
      "image/png": "[encoded data removed]",
      "text/plain": [
       "<Figure size 1080x576 with 1 Axes>"
      ]
     },
     "metadata": {
      "needs_background": "light"
     },
     "output_type": "display_data"
    }
   ],
   "source": [
    "# Criando visualização dos dados gerais\n",
    "event_distribution.plot(kind='line', figsize=(15,8))\n",
    "plt.title(\"Distribuição de Eventos ao Longo dos Dias\")\n",
    "plt.xlabel(\"Data\")\n",
    "plt.ylabel(\"Número de Eventos\")\n",
    "plt.grid(True)\n",
    "plt.show()"
   ]
  },
  {
   "cell_type": "code",
   "execution_count": 109,
   "metadata": {},
   "outputs": [
    {
     "data": {
      "image/png": "[encoded data removed]",
      "text/plain": [
       "<Figure size 1080x576 with 1 Axes>"
      ]
     },
     "metadata": {
      "needs_background": "light"
     },
     "output_type": "display_data"
    }
   ],
   "source": [
    "# Agrupar por data e nome do evento, e depois contar\n",
    "event_distribution_by_stage = df_eventab.groupby(['event_date', 'event_name']).size().unstack().fillna(0)\n",
    "\n",
    "# Visualizar a distribuição no gráfico\n",
    "plt.figure(figsize=(15,8))\n",
    "for column in event_distribution_by_stage.columns:\n",
    "    plt.plot(event_distribution_by_stage.index, event_distribution_by_stage[column], label=column)\n",
    "\n",
    "plt.title(\"Distribuição de Eventos do Funil ao Longo dos Dias\")\n",
    "plt.xlabel(\"Data\")\n",
    "plt.ylabel(\"Número de Eventos\")\n",
    "plt.legend()\n",
    "plt.grid(True)\n",
    "plt.tight_layout()\n",
    "plt.show()"
   ]
  },
  {
   "cell_type": "code",
   "execution_count": 110,
   "metadata": {},
   "outputs": [
    {
     "data": {
      "text/html": [
       "<div>\n",
       "<style scoped>\n",
       "    .dataframe tbody tr th:only-of-type {\n",
       "        vertical-align: middle;\n",
       "    }\n",
       "\n",
       "    .dataframe tbody tr th {\n",
       "        vertical-align: top;\n",
       "    }\n",
       "\n",
       "    .dataframe thead th {\n",
       "        text-align: right;\n",
       "    }\n",
       "</style>\n",
       "<table border=\"1\" class=\"dataframe\">\n",
       "  <thead>\n",
       "    <tr style=\"text-align: right;\">\n",
       "      <th></th>\n",
       "      <th>name</th>\n",
       "      <th>regions</th>\n",
       "      <th>start_dt</th>\n",
       "      <th>finish_dt</th>\n",
       "    </tr>\n",
       "  </thead>\n",
       "  <tbody>\n",
       "    <tr>\n",
       "      <th>0</th>\n",
       "      <td>Christmas&amp;New Year Promo</td>\n",
       "      <td>EU, N.America</td>\n",
       "      <td>2020-12-25</td>\n",
       "      <td>2021-01-03</td>\n",
       "    </tr>\n",
       "    <tr>\n",
       "      <th>1</th>\n",
       "      <td>St. Valentine's Day Giveaway</td>\n",
       "      <td>EU, CIS, APAC, N.America</td>\n",
       "      <td>2020-02-14</td>\n",
       "      <td>2020-02-16</td>\n",
       "    </tr>\n",
       "    <tr>\n",
       "      <th>2</th>\n",
       "      <td>St. Patric's Day Promo</td>\n",
       "      <td>EU, N.America</td>\n",
       "      <td>2020-03-17</td>\n",
       "      <td>2020-03-19</td>\n",
       "    </tr>\n",
       "    <tr>\n",
       "      <th>3</th>\n",
       "      <td>Easter Promo</td>\n",
       "      <td>EU, CIS, APAC, N.America</td>\n",
       "      <td>2020-04-12</td>\n",
       "      <td>2020-04-19</td>\n",
       "    </tr>\n",
       "    <tr>\n",
       "      <th>4</th>\n",
       "      <td>4th of July Promo</td>\n",
       "      <td>N.America</td>\n",
       "      <td>2020-07-04</td>\n",
       "      <td>2020-07-11</td>\n",
       "    </tr>\n",
       "    <tr>\n",
       "      <th>5</th>\n",
       "      <td>Black Friday Ads Campaign</td>\n",
       "      <td>EU, CIS, APAC, N.America</td>\n",
       "      <td>2020-11-26</td>\n",
       "      <td>2020-12-01</td>\n",
       "    </tr>\n",
       "    <tr>\n",
       "      <th>6</th>\n",
       "      <td>Chinese New Year Promo</td>\n",
       "      <td>APAC</td>\n",
       "      <td>2020-01-25</td>\n",
       "      <td>2020-02-07</td>\n",
       "    </tr>\n",
       "    <tr>\n",
       "      <th>7</th>\n",
       "      <td>Labor day (May 1st) Ads Campaign</td>\n",
       "      <td>EU, CIS, APAC</td>\n",
       "      <td>2020-05-01</td>\n",
       "      <td>2020-05-03</td>\n",
       "    </tr>\n",
       "    <tr>\n",
       "      <th>8</th>\n",
       "      <td>International Women's Day Promo</td>\n",
       "      <td>EU, CIS, APAC</td>\n",
       "      <td>2020-03-08</td>\n",
       "      <td>2020-03-10</td>\n",
       "    </tr>\n",
       "    <tr>\n",
       "      <th>9</th>\n",
       "      <td>Victory Day CIS (May 9th) Event</td>\n",
       "      <td>CIS</td>\n",
       "      <td>2020-05-09</td>\n",
       "      <td>2020-05-11</td>\n",
       "    </tr>\n",
       "    <tr>\n",
       "      <th>10</th>\n",
       "      <td>CIS New Year Gift Lottery</td>\n",
       "      <td>CIS</td>\n",
       "      <td>2020-12-30</td>\n",
       "      <td>2021-01-07</td>\n",
       "    </tr>\n",
       "    <tr>\n",
       "      <th>11</th>\n",
       "      <td>Dragon Boat Festival Giveaway</td>\n",
       "      <td>APAC</td>\n",
       "      <td>2020-06-25</td>\n",
       "      <td>2020-07-01</td>\n",
       "    </tr>\n",
       "    <tr>\n",
       "      <th>12</th>\n",
       "      <td>Single's Day Gift Promo</td>\n",
       "      <td>APAC</td>\n",
       "      <td>2020-11-11</td>\n",
       "      <td>2020-11-12</td>\n",
       "    </tr>\n",
       "    <tr>\n",
       "      <th>13</th>\n",
       "      <td>Chinese Moon Festival</td>\n",
       "      <td>APAC</td>\n",
       "      <td>2020-10-01</td>\n",
       "      <td>2020-10-07</td>\n",
       "    </tr>\n",
       "  </tbody>\n",
       "</table>\n",
       "</div>"
      ],
      "text/plain": [
       "                                name                   regions   start_dt  \\\n",
       "0           Christmas&New Year Promo             EU, N.America 2020-12-25   \n",
       "1       St. Valentine's Day Giveaway  EU, CIS, APAC, N.America 2020-02-14   \n",
       "2             St. Patric's Day Promo             EU, N.America 2020-03-17   \n",
       "3                       Easter Promo  EU, CIS, APAC, N.America 2020-04-12   \n",
       "4                  4th of July Promo                 N.America 2020-07-04   \n",
       "5          Black Friday Ads Campaign  EU, CIS, APAC, N.America 2020-11-26   \n",
       "6             Chinese New Year Promo                      APAC 2020-01-25   \n",
       "7   Labor day (May 1st) Ads Campaign             EU, CIS, APAC 2020-05-01   \n",
       "8    International Women's Day Promo             EU, CIS, APAC 2020-03-08   \n",
       "9    Victory Day CIS (May 9th) Event                       CIS 2020-05-09   \n",
       "10         CIS New Year Gift Lottery                       CIS 2020-12-30   \n",
       "11     Dragon Boat Festival Giveaway                      APAC 2020-06-25   \n",
       "12           Single's Day Gift Promo                      APAC 2020-11-11   \n",
       "13             Chinese Moon Festival                      APAC 2020-10-01   \n",
       "\n",
       "    finish_dt  \n",
       "0  2021-01-03  \n",
       "1  2020-02-16  \n",
       "2  2020-03-19  \n",
       "3  2020-04-19  \n",
       "4  2020-07-11  \n",
       "5  2020-12-01  \n",
       "6  2020-02-07  \n",
       "7  2020-05-03  \n",
       "8  2020-03-10  \n",
       "9  2020-05-11  \n",
       "10 2021-01-07  \n",
       "11 2020-07-01  \n",
       "12 2020-11-12  \n",
       "13 2020-10-07  "
      ]
     },
     "execution_count": 110,
     "metadata": {},
     "output_type": "execute_result"
    }
   ],
   "source": [
    "# Chamando as datas do calendário\n",
    "df_cal"
   ]
  },
  {
   "cell_type": "markdown",
   "metadata": {},
   "source": [
    "**Conclusão**\n",
    "\n",
    "Podemos perceber que existem picos específicos de alta como, por exemplo, no dia 21/12/2020. Esse crescimento tem um padrão definido. \n",
    "\n",
    "Ao analisar o calendário de ações, não nos parece que seja as promoções que estejam fazendo o efeito. Um exemplo disso é a promo de Natal, no período de teste da promo as vendas vinham caindo e não foram afetadas pela promo.\n",
    "\n",
    "\n",
    "Além disso, houve um forte crescimento nos eventos até dia 21/12 e após isso uma quedra abdrupta dos eventos demonstrando uma queda forte devido algum evento."
   ]
  },
  {
   "cell_type": "markdown",
   "metadata": {},
   "source": [
    "\n",
    "<div class=\"alert alert-success\">\n",
    "<strong>Comentário do revisor v1</strong>\n",
    "Correto o trabalho aqui, estou de acordo com sua conclusão.\n",
    "</div>\n",
    "\n"
   ]
  },
  {
   "cell_type": "markdown",
   "metadata": {},
   "source": [
    "### Particularidades nos dados para o teste A/B\n",
    "\n",
    "Aqui iremos analisar as particularidades para os testes. \n",
    "\n",
    "Primeiramente iremos analisar para ver quando os usuários entraram na base e no teste para entender quando cada um dos testes aconteceu. No caso foram simultâneos ou foram paralelos.\n",
    "\n",
    "Também, iremos entender se existem usuários em ambos os testes, caso sim, teremos que retirar esses usuários de ambos os grupos de testes, pois a amostra está 'suja'. E isso pode levar a erros grosseiros.\n",
    "\n",
    "Para cada um dos testes iremos plotar os eventos por dia geral e entender como funcionou para cada teste."
   ]
  },
  {
   "cell_type": "markdown",
   "metadata": {},
   "source": [
    "#### Datas de teste"
   ]
  },
  {
   "cell_type": "code",
   "execution_count": 111,
   "metadata": {},
   "outputs": [
    {
     "name": "stdout",
     "output_type": "stream",
     "text": [
      "                               min        max\n",
      "ab_test                                      \n",
      "interface_eu_test       2020-12-07 2020-12-23\n",
      "recommender_system_test 2020-12-07 2020-12-21\n"
     ]
    }
   ],
   "source": [
    "# Fazendo o merge das duas tabelas com base no 'user_id'\n",
    "merged_df = df_partab.merge(df_userab, on='user_id')\n",
    "\n",
    "# Agrupando por 'ab_test' e obtendo a primeira e última data para cada teste\n",
    "test_dates = merged_df.groupby('ab_test')['first_date'].agg(['min', 'max'])\n",
    "\n",
    "print(test_dates)"
   ]
  },
  {
   "cell_type": "markdown",
   "metadata": {},
   "source": [
    "**Conclusão** \n",
    "\n",
    "Podemos ver que os testes foram feitos quase que simultaneamente."
   ]
  },
  {
   "cell_type": "markdown",
   "metadata": {},
   "source": [
    "\n",
    "<div class=\"alert alert-success\">\n",
    "<strong>Comentário do revisor v1</strong>\n",
    "Perfeito, bom sinal! Seguimos!\n",
    "</div>\n",
    "\n"
   ]
  },
  {
   "cell_type": "markdown",
   "metadata": {},
   "source": [
    "#### Usuários em ambos os grupos de teste"
   ]
  },
  {
   "cell_type": "code",
   "execution_count": 112,
   "metadata": {
    "scrolled": true
   },
   "outputs": [
    {
     "name": "stdout",
     "output_type": "stream",
     "text": [
      "Número de usuários presentes em ambas as tabelas: 887\n"
     ]
    }
   ],
   "source": [
    "# Verifica se os user_id da df_recommender_system_test estão em df_interface_eu_test\n",
    "users_in_both_dfs = df_recommender_system_test['user_id'].isin(df_interface_eu_test['user_id'])\n",
    "\n",
    "# Verifica quantos estão em ambos\n",
    "number_in_both = users_in_both_dfs.sum()\n",
    "\n",
    "print(f\"Número de usuários presentes em ambas as tabelas: {number_in_both}\")"
   ]
  },
  {
   "cell_type": "markdown",
   "metadata": {},
   "source": [
    "**Conclusão Intermediária**\n",
    "\n",
    "Precisamos retirar os usuários presentes de ambas as amostras para um resultado mais preciso, assim iremos retirar estes de ambos os grupos."
   ]
  },
  {
   "cell_type": "code",
   "execution_count": 113,
   "metadata": {},
   "outputs": [],
   "source": [
    "# Identificar os user_id que estão em ambas as tabelas\n",
    "common_users = df_recommender_system_test[df_recommender_system_test['user_id'].isin(df_interface_eu_test['user_id'])]['user_id']\n",
    "\n",
    "# Remover esses usuários de df_recommender_system_test\n",
    "df_recommender_system_test = df_recommender_system_test[~df_recommender_system_test['user_id'].isin(common_users)]\n",
    "\n",
    "# Remover esses usuários de df_interface_eu_test\n",
    "df_interface_eu_test = df_interface_eu_test[~df_interface_eu_test['user_id'].isin(common_users)]"
   ]
  },
  {
   "cell_type": "markdown",
   "metadata": {},
   "source": [
    "Vamos verificar novamente se existem usuários em ambos"
   ]
  },
  {
   "cell_type": "code",
   "execution_count": 114,
   "metadata": {},
   "outputs": [
    {
     "name": "stdout",
     "output_type": "stream",
     "text": [
      "Número de usuários presentes em ambas as tabelas: 0\n"
     ]
    }
   ],
   "source": [
    "# Verifica se os user_id da df_recommender_system_test estão em df_interface_eu_test\n",
    "users_in_both_dfs = df_recommender_system_test['user_id'].isin(df_interface_eu_test['user_id'])\n",
    "\n",
    "# Verifica quantos estão em ambos\n",
    "number_in_both = users_in_both_dfs.sum()\n",
    "\n",
    "print(f\"Número de usuários presentes em ambas as tabelas: {number_in_both}\")"
   ]
  },
  {
   "cell_type": "markdown",
   "metadata": {},
   "source": [
    "\n",
    "<div class=\"alert alert-success\">\n",
    "<strong>Comentário do revisor v1</strong>\n",
    "Perfeito, agora não temos intersecçao entre os grupos!\n",
    "</div>\n",
    "\n"
   ]
  },
  {
   "cell_type": "markdown",
   "metadata": {},
   "source": [
    "#### Plot de eventos para cada um dos grupos"
   ]
  },
  {
   "cell_type": "code",
   "execution_count": 115,
   "metadata": {},
   "outputs": [
    {
     "data": {
      "image/png": "[encoded data removed]",
      "text/plain": [
       "<Figure size 1080x576 with 1 Axes>"
      ]
     },
     "metadata": {
      "needs_background": "light"
     },
     "output_type": "display_data"
    },
    {
     "data": {
      "image/png": "[encoded data removed]",
      "text/plain": [
       "<Figure size 1080x576 with 1 Axes>"
      ]
     },
     "metadata": {
      "needs_background": "light"
     },
     "output_type": "display_data"
    }
   ],
   "source": [
    "# Filtrando registros em df_eventab baseados em df_recommender_system_test\n",
    "recommender_system_test_users = df_recommender_system_test['user_id'].unique()\n",
    "df_eventab_recommender = df_eventab[df_eventab['user_id'].isin(recommender_system_test_users)]\n",
    "\n",
    "# Agrupar por data e nome do evento, e depois contar\n",
    "event_distribution_recommender = df_eventab_recommender.groupby(['event_date', 'event_name']).size().unstack().fillna(0)\n",
    "\n",
    "# Visualizar a distribuição no gráfico para df_recommender_system_test\n",
    "plt.figure(figsize=(15,8))\n",
    "for column in event_distribution_recommender.columns:\n",
    "    plt.plot(event_distribution_recommender.index, event_distribution_recommender[column], label=column)\n",
    "\n",
    "plt.title(\"Distribuição de Eventos do Funil ao Longo dos Dias (Recommender System Test)\")\n",
    "plt.xlabel(\"Data\")\n",
    "plt.ylabel(\"Número de Eventos\")\n",
    "plt.legend()\n",
    "plt.grid(True)\n",
    "plt.tight_layout()\n",
    "plt.show()\n",
    "\n",
    "# Filtrando registros em df_eventab baseados em df_interface_eu_test\n",
    "interface_eu_test_users = df_interface_eu_test['user_id'].unique()\n",
    "df_eventab_interface = df_eventab[df_eventab['user_id'].isin(interface_eu_test_users)]\n",
    "\n",
    "# Agrupar por data e nome do evento, e depois contar\n",
    "event_distribution_interface = df_eventab_interface.groupby(['event_date', 'event_name']).size().unstack().fillna(0)\n",
    "\n",
    "# Visualizar a distribuição no gráfico para df_interface_eu_test\n",
    "plt.figure(figsize=(15,8))\n",
    "for column in event_distribution_interface.columns:\n",
    "    plt.plot(event_distribution_interface.index, event_distribution_interface[column], label=column)\n",
    "\n",
    "plt.title(\"Distribuição de Eventos do Funil ao Longo dos Dias (Interface EU Test)\")\n",
    "plt.xlabel(\"Data\")\n",
    "plt.ylabel(\"Número de Eventos\")\n",
    "plt.legend()\n",
    "plt.grid(True)\n",
    "plt.tight_layout()\n",
    "plt.show()"
   ]
  },
  {
   "cell_type": "code",
   "execution_count": 116,
   "metadata": {},
   "outputs": [
    {
     "name": "stdout",
     "output_type": "stream",
     "text": [
      "Para df_recommender_system_test:\n",
      "Contagem de eventos por etapa:\n",
      "login           8233\n",
      "product_page    5114\n",
      "product_cart    2457\n",
      "purchase        2390\n",
      "Name: event_name, dtype: int64\n",
      "\n",
      "Taxa de conversão em relação ao login:\n",
      "login           1.000000\n",
      "product_page    0.621159\n",
      "product_cart    0.298433\n",
      "purchase        0.290295\n",
      "Name: event_name, dtype: float64\n",
      "--------------------------------------------------\n",
      "Para df_interface_eu_test:\n",
      "Contagem de eventos por etapa:\n",
      "login           31264\n",
      "product_page    20671\n",
      "product_cart    10455\n",
      "purchase        10824\n",
      "Name: event_name, dtype: int64\n",
      "\n",
      "Taxa de conversão em relação ao login:\n",
      "login           1.000000\n",
      "product_page    0.661176\n",
      "product_cart    0.334410\n",
      "purchase        0.346213\n",
      "Name: event_name, dtype: float64\n"
     ]
    }
   ],
   "source": [
    "# Filtrando registros em df_eventab baseados em df_recommender_system_test\n",
    "recommender_system_test_users = df_recommender_system_test['user_id'].unique()\n",
    "df_eventab_recommender = df_eventab[df_eventab['user_id'].isin(recommender_system_test_users)]\n",
    "\n",
    "# Contar eventos para cada etapa para df_recommender_system_test\n",
    "counts_recommender = df_eventab_recommender['event_name'].value_counts().reindex(steps).fillna(0)\n",
    "\n",
    "# Calcular taxas de conversão usando 'login' como referência para df_recommender_system_test\n",
    "conversions_recommender = counts_recommender / counts_recommender['login']\n",
    "\n",
    "# Imprimir valores para df_recommender_system_test\n",
    "print(\"Para df_recommender_system_test:\")\n",
    "print(\"Contagem de eventos por etapa:\")\n",
    "print(counts_recommender)\n",
    "print(\"\\nTaxa de conversão em relação ao login:\")\n",
    "print(conversions_recommender)\n",
    "print(\"-\" * 50)\n",
    "\n",
    "# Filtrando registros em df_eventab baseados em df_interface_eu_test\n",
    "interface_eu_test_users = df_interface_eu_test['user_id'].unique()\n",
    "df_eventab_interface = df_eventab[df_eventab['user_id'].isin(interface_eu_test_users)]\n",
    "\n",
    "# Contar eventos para cada etapa para df_interface_eu_test\n",
    "counts_interface = df_eventab_interface['event_name'].value_counts().reindex(steps).fillna(0)\n",
    "\n",
    "# Calcular taxas de conversão usando 'login' como referência para df_interface_eu_test\n",
    "conversions_interface = counts_interface / counts_interface['login']\n",
    "\n",
    "# Imprimir valores para df_interface_eu_test\n",
    "print(\"Para df_interface_eu_test:\")\n",
    "print(\"Contagem de eventos por etapa:\")\n",
    "print(counts_interface)\n",
    "print(\"\\nTaxa de conversão em relação ao login:\")\n",
    "print(conversions_interface)\n"
   ]
  },
  {
   "cell_type": "markdown",
   "metadata": {},
   "source": [
    "**Conclusão**\n",
    "\n",
    "Com base nos dados fornecidos, podemos fazer as seguintes observações e conclusões:\n",
    "\n",
    "Para `df_recommender_system_test`:\n",
    "\n",
    "1. **Funil de Conversão:**\n",
    "    - Dos usuários que fizeram login, 62.12% navegaram para a página do produto.\n",
    "    - Desses usuários na página do produto, apenas cerca de 29.84% adicionaram um produto ao carrinho.\n",
    "    - Finalmente, dos usuários que adicionaram ao carrinho, cerca de 97.27% realizaram uma compra.\n",
    "\n",
    "2. **Conversões:**\n",
    "    - A taxa de conversão total (do login à compra) foi de 29.03%. \n",
    "\n",
    "3. **Pontos de Atenção:**\n",
    "    - Há uma queda significativa de usuários que avançam da página do produto para adicionar um produto ao carrinho. Isso pode indicar possíveis problemas ou desafios na interface ou na informação apresentada na página do produto que impedem que os usuários avancem para a próxima etapa.\n",
    "\n",
    "\n",
    "Para `df_interface_eu_test`:\n",
    "\n",
    "1. **Funil de Conversão:**\n",
    "    - Dos usuários que fizeram login, 66.12% navegaram para a página do produto.\n",
    "    - Desses usuários na página do produto, 50.56% adicionaram um produto ao carrinho.\n",
    "    - E, dos usuários que adicionaram ao carrinho, cerca de 103.53% realizaram uma compra. Esta é uma métrica estranha e sugere que nem todos os que compraram passaram pelo estágio de adição ao carrinho, ou há alguma inconsistência nos dados.\n",
    "\n",
    "2. **Conversões:**\n",
    "    - A taxa de conversão total (do login à compra) foi de 34.62%.\n",
    "\n",
    "3. **Pontos de Atenção:**\n",
    "    - A taxa de conversão da página do produto ao carrinho é maior na `df_interface_eu_test` em comparação com a `df_recommender_system_test`. Isso pode indicar que a interface EU está mais otimizada ou amigável neste aspecto.\n",
    "\n",
    "\n",
    "\n",
    "Comparação entre os dois testes:\n",
    "\n",
    "1. **Performance Geral:**\n",
    "    - A `df_interface_eu_test` tem uma taxa de conversão global (login para compra) superior à `df_recommender_system_test` (34.62% vs 29.03%). \n",
    "\n",
    "2. **Eficiência em Etapas Específicas:**\n",
    "    - A `df_interface_eu_test` também apresenta melhores taxas de conversão em cada etapa do funil, quando comparada à `df_recommender_system_test`.\n",
    "\n",
    "3. **Conclusão:**\n",
    "    - Se o objetivo for estritamente aumentar a conversão, a interface EU parece ser mais eficaz. \n",
    "    - No entanto, ainda vale a pena investigar o motivo pelo qual algumas pessoas parecem comprar sem passar pelo estágio do carrinho no teste de interface da EU.\n",
    "    - Além disso, é fundamental garantir que outros aspectos importantes (como a satisfação do usuário, o valor médio do pedido, a retenção de clientes, etc.) não sejam negativamente impactados antes de fazer uma escolha definitiva entre os dois sistemas."
   ]
  },
  {
   "cell_type": "code",
   "execution_count": 117,
   "metadata": {},
   "outputs": [
    {
     "data": {
      "text/html": [
       "<div>\n",
       "<style scoped>\n",
       "    .dataframe tbody tr th:only-of-type {\n",
       "        vertical-align: middle;\n",
       "    }\n",
       "\n",
       "    .dataframe tbody tr th {\n",
       "        vertical-align: top;\n",
       "    }\n",
       "\n",
       "    .dataframe thead th {\n",
       "        text-align: right;\n",
       "    }\n",
       "</style>\n",
       "<table border=\"1\" class=\"dataframe\">\n",
       "  <thead>\n",
       "    <tr style=\"text-align: right;\">\n",
       "      <th></th>\n",
       "      <th>user_id</th>\n",
       "      <th>group</th>\n",
       "      <th>ab_test</th>\n",
       "    </tr>\n",
       "  </thead>\n",
       "  <tbody>\n",
       "    <tr>\n",
       "      <th>3675</th>\n",
       "      <td>D4E530F6595A05A3</td>\n",
       "      <td>A</td>\n",
       "      <td>interface_eu_test</td>\n",
       "    </tr>\n",
       "    <tr>\n",
       "      <th>3676</th>\n",
       "      <td>6BCB0F33D3BAB8C2</td>\n",
       "      <td>A</td>\n",
       "      <td>interface_eu_test</td>\n",
       "    </tr>\n",
       "    <tr>\n",
       "      <th>3678</th>\n",
       "      <td>2D2E7AA539CF348F</td>\n",
       "      <td>B</td>\n",
       "      <td>interface_eu_test</td>\n",
       "    </tr>\n",
       "    <tr>\n",
       "      <th>3679</th>\n",
       "      <td>4BA448BCE1343C6F</td>\n",
       "      <td>A</td>\n",
       "      <td>interface_eu_test</td>\n",
       "    </tr>\n",
       "    <tr>\n",
       "      <th>3680</th>\n",
       "      <td>76B6CDF2A8B1DBFC</td>\n",
       "      <td>B</td>\n",
       "      <td>interface_eu_test</td>\n",
       "    </tr>\n",
       "    <tr>\n",
       "      <th>...</th>\n",
       "      <td>...</td>\n",
       "      <td>...</td>\n",
       "      <td>...</td>\n",
       "    </tr>\n",
       "    <tr>\n",
       "      <th>14520</th>\n",
       "      <td>1D302F8688B91781</td>\n",
       "      <td>B</td>\n",
       "      <td>interface_eu_test</td>\n",
       "    </tr>\n",
       "    <tr>\n",
       "      <th>14521</th>\n",
       "      <td>3DE51B726983B657</td>\n",
       "      <td>A</td>\n",
       "      <td>interface_eu_test</td>\n",
       "    </tr>\n",
       "    <tr>\n",
       "      <th>14522</th>\n",
       "      <td>F501F79D332BE86C</td>\n",
       "      <td>A</td>\n",
       "      <td>interface_eu_test</td>\n",
       "    </tr>\n",
       "    <tr>\n",
       "      <th>14523</th>\n",
       "      <td>63FBE257B05F2245</td>\n",
       "      <td>A</td>\n",
       "      <td>interface_eu_test</td>\n",
       "    </tr>\n",
       "    <tr>\n",
       "      <th>14524</th>\n",
       "      <td>79F9ABFB029CF724</td>\n",
       "      <td>B</td>\n",
       "      <td>interface_eu_test</td>\n",
       "    </tr>\n",
       "  </tbody>\n",
       "</table>\n",
       "<p>9963 rows × 3 columns</p>\n",
       "</div>"
      ],
      "text/plain": [
       "                user_id group            ab_test\n",
       "3675   D4E530F6595A05A3     A  interface_eu_test\n",
       "3676   6BCB0F33D3BAB8C2     A  interface_eu_test\n",
       "3678   2D2E7AA539CF348F     B  interface_eu_test\n",
       "3679   4BA448BCE1343C6F     A  interface_eu_test\n",
       "3680   76B6CDF2A8B1DBFC     B  interface_eu_test\n",
       "...                 ...   ...                ...\n",
       "14520  1D302F8688B91781     B  interface_eu_test\n",
       "14521  3DE51B726983B657     A  interface_eu_test\n",
       "14522  F501F79D332BE86C     A  interface_eu_test\n",
       "14523  63FBE257B05F2245     A  interface_eu_test\n",
       "14524  79F9ABFB029CF724     B  interface_eu_test\n",
       "\n",
       "[9963 rows x 3 columns]"
      ]
     },
     "execution_count": 117,
     "metadata": {},
     "output_type": "execute_result"
    }
   ],
   "source": [
    "df_interface_eu_test"
   ]
  },
  {
   "cell_type": "code",
   "execution_count": 118,
   "metadata": {},
   "outputs": [
    {
     "data": {
      "text/html": [
       "<div>\n",
       "<style scoped>\n",
       "    .dataframe tbody tr th:only-of-type {\n",
       "        vertical-align: middle;\n",
       "    }\n",
       "\n",
       "    .dataframe tbody tr th {\n",
       "        vertical-align: top;\n",
       "    }\n",
       "\n",
       "    .dataframe thead th {\n",
       "        text-align: right;\n",
       "    }\n",
       "</style>\n",
       "<table border=\"1\" class=\"dataframe\">\n",
       "  <thead>\n",
       "    <tr style=\"text-align: right;\">\n",
       "      <th></th>\n",
       "      <th>user_id</th>\n",
       "      <th>group</th>\n",
       "      <th>ab_test</th>\n",
       "    </tr>\n",
       "  </thead>\n",
       "  <tbody>\n",
       "    <tr>\n",
       "      <th>0</th>\n",
       "      <td>D1ABA3E2887B6A73</td>\n",
       "      <td>A</td>\n",
       "      <td>recommender_system_test</td>\n",
       "    </tr>\n",
       "    <tr>\n",
       "      <th>1</th>\n",
       "      <td>A7A3664BD6242119</td>\n",
       "      <td>A</td>\n",
       "      <td>recommender_system_test</td>\n",
       "    </tr>\n",
       "    <tr>\n",
       "      <th>4</th>\n",
       "      <td>4FF2998A348C484F</td>\n",
       "      <td>A</td>\n",
       "      <td>recommender_system_test</td>\n",
       "    </tr>\n",
       "    <tr>\n",
       "      <th>5</th>\n",
       "      <td>7473E0943673C09E</td>\n",
       "      <td>A</td>\n",
       "      <td>recommender_system_test</td>\n",
       "    </tr>\n",
       "    <tr>\n",
       "      <th>6</th>\n",
       "      <td>C46FE336D240A054</td>\n",
       "      <td>A</td>\n",
       "      <td>recommender_system_test</td>\n",
       "    </tr>\n",
       "    <tr>\n",
       "      <th>...</th>\n",
       "      <td>...</td>\n",
       "      <td>...</td>\n",
       "      <td>...</td>\n",
       "    </tr>\n",
       "    <tr>\n",
       "      <th>3670</th>\n",
       "      <td>053FB26D6D49EDDC</td>\n",
       "      <td>A</td>\n",
       "      <td>recommender_system_test</td>\n",
       "    </tr>\n",
       "    <tr>\n",
       "      <th>3671</th>\n",
       "      <td>9D263B8EF15CF188</td>\n",
       "      <td>B</td>\n",
       "      <td>recommender_system_test</td>\n",
       "    </tr>\n",
       "    <tr>\n",
       "      <th>3672</th>\n",
       "      <td>F2FBBA33F37DEC46</td>\n",
       "      <td>A</td>\n",
       "      <td>recommender_system_test</td>\n",
       "    </tr>\n",
       "    <tr>\n",
       "      <th>3673</th>\n",
       "      <td>29C92313A98B1176</td>\n",
       "      <td>B</td>\n",
       "      <td>recommender_system_test</td>\n",
       "    </tr>\n",
       "    <tr>\n",
       "      <th>3674</th>\n",
       "      <td>6715343AFBA285AE</td>\n",
       "      <td>B</td>\n",
       "      <td>recommender_system_test</td>\n",
       "    </tr>\n",
       "  </tbody>\n",
       "</table>\n",
       "<p>2788 rows × 3 columns</p>\n",
       "</div>"
      ],
      "text/plain": [
       "               user_id group                  ab_test\n",
       "0     D1ABA3E2887B6A73     A  recommender_system_test\n",
       "1     A7A3664BD6242119     A  recommender_system_test\n",
       "4     4FF2998A348C484F     A  recommender_system_test\n",
       "5     7473E0943673C09E     A  recommender_system_test\n",
       "6     C46FE336D240A054     A  recommender_system_test\n",
       "...                ...   ...                      ...\n",
       "3670  053FB26D6D49EDDC     A  recommender_system_test\n",
       "3671  9D263B8EF15CF188     B  recommender_system_test\n",
       "3672  F2FBBA33F37DEC46     A  recommender_system_test\n",
       "3673  29C92313A98B1176     B  recommender_system_test\n",
       "3674  6715343AFBA285AE     B  recommender_system_test\n",
       "\n",
       "[2788 rows x 3 columns]"
      ]
     },
     "execution_count": 118,
     "metadata": {},
     "output_type": "execute_result"
    }
   ],
   "source": [
    "df_recommender_system_test"
   ]
  },
  {
   "cell_type": "code",
   "execution_count": 119,
   "metadata": {},
   "outputs": [
    {
     "data": {
      "text/html": [
       "<div>\n",
       "<style scoped>\n",
       "    .dataframe tbody tr th:only-of-type {\n",
       "        vertical-align: middle;\n",
       "    }\n",
       "\n",
       "    .dataframe tbody tr th {\n",
       "        vertical-align: top;\n",
       "    }\n",
       "\n",
       "    .dataframe thead th {\n",
       "        text-align: right;\n",
       "    }\n",
       "</style>\n",
       "<table border=\"1\" class=\"dataframe\">\n",
       "  <thead>\n",
       "    <tr style=\"text-align: right;\">\n",
       "      <th></th>\n",
       "      <th>user_id</th>\n",
       "      <th>event_dt</th>\n",
       "      <th>event_name</th>\n",
       "      <th>details</th>\n",
       "      <th>event_date</th>\n",
       "    </tr>\n",
       "  </thead>\n",
       "  <tbody>\n",
       "    <tr>\n",
       "      <th>0</th>\n",
       "      <td>E1BDDCE0DAFA2679</td>\n",
       "      <td>2020-12-07 20:22:03</td>\n",
       "      <td>purchase</td>\n",
       "      <td>99.99</td>\n",
       "      <td>2020-12-07</td>\n",
       "    </tr>\n",
       "    <tr>\n",
       "      <th>1</th>\n",
       "      <td>7B6452F081F49504</td>\n",
       "      <td>2020-12-07 09:22:53</td>\n",
       "      <td>purchase</td>\n",
       "      <td>9.99</td>\n",
       "      <td>2020-12-07</td>\n",
       "    </tr>\n",
       "    <tr>\n",
       "      <th>2</th>\n",
       "      <td>9CD9F34546DF254C</td>\n",
       "      <td>2020-12-07 12:59:29</td>\n",
       "      <td>purchase</td>\n",
       "      <td>4.99</td>\n",
       "      <td>2020-12-07</td>\n",
       "    </tr>\n",
       "    <tr>\n",
       "      <th>3</th>\n",
       "      <td>96F27A054B191457</td>\n",
       "      <td>2020-12-07 04:02:40</td>\n",
       "      <td>purchase</td>\n",
       "      <td>4.99</td>\n",
       "      <td>2020-12-07</td>\n",
       "    </tr>\n",
       "    <tr>\n",
       "      <th>4</th>\n",
       "      <td>1FD7660FDF94CA1F</td>\n",
       "      <td>2020-12-07 10:15:09</td>\n",
       "      <td>purchase</td>\n",
       "      <td>4.99</td>\n",
       "      <td>2020-12-07</td>\n",
       "    </tr>\n",
       "    <tr>\n",
       "      <th>...</th>\n",
       "      <td>...</td>\n",
       "      <td>...</td>\n",
       "      <td>...</td>\n",
       "      <td>...</td>\n",
       "      <td>...</td>\n",
       "    </tr>\n",
       "    <tr>\n",
       "      <th>423756</th>\n",
       "      <td>245E85F65C358E08</td>\n",
       "      <td>2020-12-30 19:35:55</td>\n",
       "      <td>login</td>\n",
       "      <td>NaN</td>\n",
       "      <td>2020-12-30</td>\n",
       "    </tr>\n",
       "    <tr>\n",
       "      <th>423757</th>\n",
       "      <td>9385A108F5A0A7A7</td>\n",
       "      <td>2020-12-30 10:54:15</td>\n",
       "      <td>login</td>\n",
       "      <td>NaN</td>\n",
       "      <td>2020-12-30</td>\n",
       "    </tr>\n",
       "    <tr>\n",
       "      <th>423758</th>\n",
       "      <td>DB650B7559AC6EAC</td>\n",
       "      <td>2020-12-30 10:59:09</td>\n",
       "      <td>login</td>\n",
       "      <td>NaN</td>\n",
       "      <td>2020-12-30</td>\n",
       "    </tr>\n",
       "    <tr>\n",
       "      <th>423759</th>\n",
       "      <td>F80C9BDDEA02E53C</td>\n",
       "      <td>2020-12-30 09:53:39</td>\n",
       "      <td>login</td>\n",
       "      <td>NaN</td>\n",
       "      <td>2020-12-30</td>\n",
       "    </tr>\n",
       "    <tr>\n",
       "      <th>423760</th>\n",
       "      <td>7AEC61159B672CC5</td>\n",
       "      <td>2020-12-30 11:36:13</td>\n",
       "      <td>login</td>\n",
       "      <td>NaN</td>\n",
       "      <td>2020-12-30</td>\n",
       "    </tr>\n",
       "  </tbody>\n",
       "</table>\n",
       "<p>423761 rows × 5 columns</p>\n",
       "</div>"
      ],
      "text/plain": [
       "                 user_id            event_dt event_name  details  event_date\n",
       "0       E1BDDCE0DAFA2679 2020-12-07 20:22:03   purchase    99.99  2020-12-07\n",
       "1       7B6452F081F49504 2020-12-07 09:22:53   purchase     9.99  2020-12-07\n",
       "2       9CD9F34546DF254C 2020-12-07 12:59:29   purchase     4.99  2020-12-07\n",
       "3       96F27A054B191457 2020-12-07 04:02:40   purchase     4.99  2020-12-07\n",
       "4       1FD7660FDF94CA1F 2020-12-07 10:15:09   purchase     4.99  2020-12-07\n",
       "...                  ...                 ...        ...      ...         ...\n",
       "423756  245E85F65C358E08 2020-12-30 19:35:55      login      NaN  2020-12-30\n",
       "423757  9385A108F5A0A7A7 2020-12-30 10:54:15      login      NaN  2020-12-30\n",
       "423758  DB650B7559AC6EAC 2020-12-30 10:59:09      login      NaN  2020-12-30\n",
       "423759  F80C9BDDEA02E53C 2020-12-30 09:53:39      login      NaN  2020-12-30\n",
       "423760  7AEC61159B672CC5 2020-12-30 11:36:13      login      NaN  2020-12-30\n",
       "\n",
       "[423761 rows x 5 columns]"
      ]
     },
     "execution_count": 119,
     "metadata": {},
     "output_type": "execute_result"
    }
   ],
   "source": [
    "df_eventab"
   ]
  },
  {
   "cell_type": "markdown",
   "metadata": {},
   "source": [
    "\n",
    "<div class=\"alert alert-success\">\n",
    "<strong>Comentário do revisor v1</strong>\n",
    "Entendo como adequada a forma escolhida para comparar as etapas do funil. bastante esclerecedora e vai de encontro com a sua conclusão!\n",
    "</div>\n",
    "\n"
   ]
  },
  {
   "cell_type": "markdown",
   "metadata": {},
   "source": [
    "## Avaliação dos testes A/B"
   ]
  },
  {
   "cell_type": "markdown",
   "metadata": {},
   "source": [
    "### Resultados do teste A/B"
   ]
  },
  {
   "cell_type": "code",
   "execution_count": 120,
   "metadata": {},
   "outputs": [],
   "source": [
    "# Combinação dos Dados:\n",
    "merged_recommender = df_recommender_system_test.merge(df_eventab, on=\"user_id\", how=\"inner\")\n",
    "merged_interface = df_interface_eu_test.merge(df_eventab, on=\"user_id\", how=\"inner\")"
   ]
  },
  {
   "cell_type": "code",
   "execution_count": 121,
   "metadata": {},
   "outputs": [],
   "source": [
    "# Divisão dos Eventos e Volumes Financeiros por Grupo de Teste:\n",
    "recommender_grouped = merged_recommender.groupby(['group', 'event_name']).size().unstack().fillna(0)\n",
    "recommender_revenue = merged_recommender[merged_recommender['event_name'] == 'purchase'].groupby(['group']).details.sum()\n",
    "\n",
    "interface_grouped = merged_interface.groupby(['group', 'event_name']).size().unstack().fillna(0)\n",
    "interface_revenue = merged_interface[merged_interface['event_name'] == 'purchase'].groupby(['group']).details.sum()"
   ]
  },
  {
   "cell_type": "code",
   "execution_count": 122,
   "metadata": {},
   "outputs": [],
   "source": [
    "# Taxa de Conversão:\n",
    "recommender_conversion = recommender_grouped.div(recommender_grouped['login'], axis=0)\n",
    "interface_conversion = interface_grouped.div(interface_grouped['login'], axis=0)\n",
    "\n",
    "# Outras Métricas de Funil e Volume Financeiro:\n",
    "recommender_avg_purchase = recommender_revenue / recommender_grouped['purchase']\n",
    "interface_avg_purchase = interface_revenue / interface_grouped['purchase']\n",
    "recommender_total_purchase = merged_recommender[merged_recommender['event_name'] == 'purchase'].groupby(['group']).details.sum()\n",
    "interface_total_purchase = merged_interface[merged_interface['event_name'] == 'purchase'].groupby(['group']).details.sum()"
   ]
  },
  {
   "cell_type": "code",
   "execution_count": 123,
   "metadata": {},
   "outputs": [
    {
     "name": "stdout",
     "output_type": "stream",
     "text": [
      "\n",
      "Teste do Sistema de Recomendação:\n",
      "Taxa de conversão do Grupo A: 0.2997461123452872\n",
      "Taxa de conversão do Grupo B: 0.2594510616261005\n",
      "Volume médio de compra do Grupo A: 23.036585494970907\n",
      "Volume médio de compra do Grupo B: 22.075828343313194\n",
      "Volume total de compras do Grupo A: 43516.110000000044\n",
      "Volume total de compras do Grupo B: 11059.98999999991\n"
     ]
    }
   ],
   "source": [
    "# Imprimindo valores para Recommender\n",
    "print(\"\\nTeste do Sistema de Recomendação:\")\n",
    "print(\"Taxa de conversão do Grupo A:\", recommender_conversion.loc['A', 'purchase'])\n",
    "print(\"Taxa de conversão do Grupo B:\", recommender_conversion.loc['B', 'purchase'])\n",
    "print(\"Volume médio de compra do Grupo A:\", recommender_avg_purchase['A'])\n",
    "print(\"Volume médio de compra do Grupo B:\", recommender_avg_purchase['B'])\n",
    "print(\"Volume total de compras do Grupo A:\", recommender_total_purchase['A'])\n",
    "print(\"Volume total de compras do Grupo B:\", recommender_total_purchase['B'])"
   ]
  },
  {
   "cell_type": "code",
   "execution_count": 124,
   "metadata": {},
   "outputs": [
    {
     "name": "stdout",
     "output_type": "stream",
     "text": [
      "\n",
      "Teste da Interface EU:\n",
      "Taxa de conversão do Grupo A: 0.3570477458626593\n",
      "Taxa de conversão do Grupo B: 0.3351836313173691\n",
      "Volume médio de compra do Grupo A: 24.093178831470443\n",
      "Volume médio de compra do Grupo B: 23.28674561910468\n",
      "Volume total de compras do Grupo A: 135668.69000001007\n",
      "Volume total de compras do Grupo B: 120928.0700000106\n"
     ]
    }
   ],
   "source": [
    "# Imprimindo valores para Interface \n",
    "print(\"\\nTeste da Interface EU:\")\n",
    "print(\"Taxa de conversão do Grupo A:\", interface_conversion.loc['A', 'purchase'])\n",
    "print(\"Taxa de conversão do Grupo B:\", interface_conversion.loc['B', 'purchase'])\n",
    "print(\"Volume médio de compra do Grupo A:\", interface_avg_purchase['A'])\n",
    "print(\"Volume médio de compra do Grupo B:\", interface_avg_purchase['B'])\n",
    "print(\"Volume total de compras do Grupo A:\", interface_total_purchase['A'])\n",
    "print(\"Volume total de compras do Grupo B:\", interface_total_purchase['B'])"
   ]
  },
  {
   "cell_type": "markdown",
   "metadata": {},
   "source": [
    "**Conclusões**\n",
    "\n",
    "\n",
    "\n",
    "* Teste do Sistema de Recomendação:\n",
    "\n",
    "- **Taxa de Conversão**:\n",
    "  - Grupo A tem uma taxa de conversão de 29.97%, enquanto o Grupo B tem uma taxa de 25.95%. Isto indica que o Grupo A teve um desempenho melhor neste teste.\n",
    "\n",
    "- **Volume Médio de Compra**:\n",
    "  - A média de compra do Grupo A é de $23.04, enquanto que o Grupo B tem uma média de 22.08. Novamente, o Grupo A mostrou um desempenho superior.\n",
    "\n",
    "- **Volume Total de Compras**:\n",
    "  - O Grupo A acumulou um volume total de compras de $43,516.11, substancialmente mais alto que o Grupo B, que registou 11,059.99.\n",
    "\n",
    "Dado os resultados acima, podemos inferir que no teste do Sistema de Recomendação, o Grupo A demonstrou um desempenho superior ao Grupo B em todas as métricas observadas.\n",
    "\n",
    "\n",
    "\n",
    "* Teste da Interface EU:\n",
    "\n",
    "- **Taxa de Conversão**:\n",
    "  - O Grupo A apresenta uma taxa de conversão de 35.70%, ligeiramente superior à taxa de conversão do Grupo B de 33.52%.\n",
    "\n",
    "- **Volume Médio de Compra**:\n",
    "  - O Grupo A tem uma média de compra de 24.09, comparado ao Grupo B com uma média de $23.29. \n",
    "\n",
    "- **Volume Total de Compras**:\n",
    "  - O volume total de compras do Grupo A foi de 135,668.69, enquanto que o Grupo B teve um total de $120,928.07.\n",
    "\n",
    "Os resultados do Teste da Interface EU mostram que o Grupo A também teve um desempenho ligeiramente melhor em todas as métricas em comparação com o Grupo B.\n",
    "\n",
    "---\n",
    "\n",
    "Com base nos testes realizados, pode-se concluir que o Grupo A teve um desempenho consistentemente melhor em ambas as experiências, tanto em termos de taxa de conversão quanto de volume de compras. Esta observação sugere que as características ou mudanças atribuídas ao Grupo A em ambos os testes foram mais eficazes em direcionar os usuários a completar uma compra e também incentivaram um ligeiro aumento no volume de compras."
   ]
  },
  {
   "cell_type": "markdown",
   "metadata": {},
   "source": [
    "### Z-test para diferenças"
   ]
  },
  {
   "cell_type": "markdown",
   "metadata": {},
   "source": [
    "Primeiramente iremos declarar nossas hipóteses nulas (H0) e alternativas (H1) para cada teste, e depois fazer a interpretação dos resultados. \n",
    "\n",
    "A interpretação do p-valor é comumente realizada considerando um nível de significância (geralmente 0,05):\n",
    "\n",
    "* Se o p-valor for menor que o nível de significância (0,05), rejeitamos a hipótese nula em favor da hipótese alternativa.\n",
    "* Se o p-valor for maior ou igual ao nível de significância, não rejeitamos a hipótese nula."
   ]
  },
  {
   "cell_type": "code",
   "execution_count": 126,
   "metadata": {},
   "outputs": [
    {
     "name": "stdout",
     "output_type": "stream",
     "text": [
      "Teste da Interface EU:\n",
      "H0: A taxa de conversão do grupo A é igual à do grupo B\n",
      "H1: A taxa de conversão do grupo A é diferente da do grupo B\n",
      "Estatística = 1.08, p-valor = 0.27881\n",
      "Conclusão: Não rejeitamos H0. Não há evidência suficiente para afirmar que as taxas de conversão são diferentes entre os grupos A e B para o teste da Interface EU.\n",
      "--------------------------------------------------\n",
      "Teste do Sistema de Recomendação:\n",
      "H0: A taxa de conversão do grupo A é igual à do grupo B\n",
      "H1: A taxa de conversão do grupo A é diferente da do grupo B\n",
      "Estatística = 0.47, p-valor = 0.63507\n",
      "Conclusão: Não rejeitamos H0. Não há evidência suficiente para afirmar que as taxas de conversão são diferentes entre os grupos A e B para o teste do Sistema de Recomendação.\n"
     ]
    }
   ],
   "source": [
    "alpha = 0.05  # Nível de significância\n",
    "\n",
    "# Realizando o teste z para Interface EU Test\n",
    "\n",
    "# Hipóteses:\n",
    "print(\"Teste da Interface EU:\")\n",
    "print(\"H0: A taxa de conversão do grupo A é igual à do grupo B\")\n",
    "print(\"H1: A taxa de conversão do grupo A é diferente da do grupo B\")\n",
    "\n",
    "count = [conversion_A_interface * df_interface_eu_test[df_interface_eu_test['group'] == 'A']['user_id'].nunique(), conversion_B_interface * df_interface_eu_test[df_interface_eu_test['group'] == 'B']['user_id'].nunique()]\n",
    "nobs = [df_interface_eu_test[df_interface_eu_test['group'] == 'A']['user_id'].nunique(), df_interface_eu_test[df_interface_eu_test['group'] == 'B']['user_id'].nunique()]\n",
    "stat, pval = proportions_ztest(count, nobs)\n",
    "print(f\"Estatística = {stat:.2f}, p-valor = {pval:.5f}\")\n",
    "\n",
    "# Interpretação\n",
    "if pval < alpha:\n",
    "    print(\"Conclusão: Rejeitamos H0. As taxas de conversão são estatisticamente diferentes entre os grupos A e B para o teste da Interface EU.\")\n",
    "else:\n",
    "    print(\"Conclusão: Não rejeitamos H0. Não há evidência suficiente para afirmar que as taxas de conversão são diferentes entre os grupos A e B para o teste da Interface EU.\")\n",
    "\n",
    "print(\"--------------------------------------------------\")\n",
    "\n",
    "# Realizando o teste z para Recommender System Test\n",
    "\n",
    "# Hipóteses:\n",
    "print(\"Teste do Sistema de Recomendação:\")\n",
    "print(\"H0: A taxa de conversão do grupo A é igual à do grupo B\")\n",
    "print(\"H1: A taxa de conversão do grupo A é diferente da do grupo B\")\n",
    "\n",
    "count = [conversion_A_recommender * df_recommender_system_test[df_recommender_system_test['group'] == 'A']['user_id'].nunique(), conversion_B_recommender * df_recommender_system_test[df_recommender_system_test['group'] == 'B']['user_id'].nunique()]\n",
    "nobs = [df_recommender_system_test[df_recommender_system_test['group'] == 'A']['user_id'].nunique(), df_recommender_system_test[df_recommender_system_test['group'] == 'B']['user_id'].nunique()]\n",
    "stat, pval = proportions_ztest(count, nobs)\n",
    "print(f\"Estatística = {stat:.2f}, p-valor = {pval:.5f}\")\n",
    "\n",
    "# Interpretação\n",
    "if pval < alpha:\n",
    "    print(\"Conclusão: Rejeitamos H0. As taxas de conversão são estatisticamente diferentes entre os grupos A e B para o teste do Sistema de Recomendação.\")\n",
    "else:\n",
    "    print(\"Conclusão: Não rejeitamos H0. Não há evidência suficiente para afirmar que as taxas de conversão são diferentes entre os grupos A e B para o teste do Sistema de Recomendação.\")\n"
   ]
  },
  {
   "cell_type": "markdown",
   "metadata": {},
   "source": [
    "**Conclusão:**\n",
    "\n",
    "Com base nos resultados dos testes estatísticos, não encontramos diferenças significativas nas taxas de conversão entre os grupos A e B para ambos os testes (Interface EU e Sistema de Recomendação) ao nível de significância de 5%. Isso sugere que as mudanças propostas para a Interface EU e o Sistema de Recomendação não tiveram um impacto estatisticamente significativo nas taxas de conversão.\n",
    "\n",
    "No entanto, é fundamental considerar alguns pontos adicionais ao interpretar esses resultados:\n",
    "\n",
    "1. **Poder do Teste**: A falta de significância estatística não significa necessariamente que não haja diferença real. É crucial avaliar o poder estatístico do teste, que é a capacidade do teste de detectar uma diferença quando ela realmente existe. Se o poder do teste for baixo, podemos não estar detectando mudanças genuínas.\n",
    "\n",
    "2. **Importância Prática**: Uma diferença pode não ser estatisticamente significativa, mas ainda pode ser relevante do ponto de vista prático. Em contextos como e-commerce, até uma pequena variação na taxa de conversão pode se traduzir em um impacto financeiro significativo dada uma escala suficientemente grande.\n",
    "\n",
    "3. **Contexto do Negócio**: O contexto em que os testes foram realizados e outros fatores externos podem influenciar a interpretação dos resultados. O cenário do negócio, as tendências do mercado e outros elementos contextuais devem ser considerados na avaliação final.\n",
    "\n",
    "Observando os dados em sua totalidade e comparando as taxas de conversão e as distribuições de eventos entre os testes, podemos confirmar que as curvas são semelhantes, indicando pouca ou nenhuma influência significativa das mudanças testadas. Notavelmente, o grupo A superou o grupo B em desempenho."
   ]
  },
  {
   "cell_type": "markdown",
   "metadata": {},
   "source": [
    "\n",
    "<div class=\"alert alert-danger\">\n",
    "<strong>Comentário do revisor v1</strong>\n",
    "\n",
    "Pensando nos testes estatísticos que conduzimos nessa etapa, é fundamental dar clareza de qual a H0 e H1 sendo testadas e, após calculada o p-valor, qual a sua interpretação e conclusão que ele gera.\n",
    "    \n",
    "É importante sermos pragmaticos nessa questão em todos os testes realizados para dar clareza sobre a sua interpretação.\n",
    "    \n",
    "</div>\n",
    "\n"
   ]
  },
  {
   "cell_type": "markdown",
   "metadata": {},
   "source": [
    "<div class=\"alert alert-info\">\n",
    "<strong>Opa Rafael. Aprimorei e coloquei mais informações para mais clareza no teste, muito obrigado pelos comentários.</strong>"
   ]
  },
  {
   "cell_type": "markdown",
   "metadata": {},
   "source": [
    "<div class=\"alert alert-success\">\n",
    "<strong>Comentário do revisor v2</strong>\n",
    "\n",
    "Bom trabalho com os ajustes!\n",
    "\n",
    "E excelente trabalho escolhendo o teste z por aqui, é a escolha coreta!\n",
    "</div>"
   ]
  },
  {
   "cell_type": "markdown",
   "metadata": {},
   "source": [
    "## Conclusão Geral\n",
    "\n"
   ]
  },
  {
   "cell_type": "markdown",
   "metadata": {},
   "source": [
    "\n",
    "<div class=\"alert alert-danger\">\n",
    "<strong>Comentário do revisor v1</strong>\n",
    " \n",
    "Essa sessão é bem crítica, é onde devemos amarrar todas as descobertas que ocorreram após as análises.\n",
    "</div>\n",
    "\n"
   ]
  },
  {
   "cell_type": "markdown",
   "metadata": {},
   "source": [
    "<div class=\"alert alert-info\">\n",
    "<strong>Entendido. Acredito que na versão que enviei a parte da conclusão acabou não sendo adicionada apesar que eu havia feito. Vou adicionar abaixo, muito bem colocado, Rafael!</strong>"
   ]
  },
  {
   "cell_type": "markdown",
   "metadata": {},
   "source": [
    "\n",
    "\n",
    "**Conclusão Geral**\n",
    "\n",
    "Os testes conduzidos tinham como objetivo avaliar a eficácia das alterações na Interface EU e no Sistema de Recomendação quanto às taxas de conversão. De acordo com os resultados estatísticos, não detectamos diferenças significativas nas taxas de conversão entre os grupos A e B para ambos os testes ao nível de 5%. Isso indica que as inovações propostas tanto na Interface EU quanto no Sistema de Recomendação não causaram um impacto estatisticamente relevante nas taxas de conversão.\n",
    "\n",
    "No entanto, uma análise mais detalhada revela nuances importantes:\n",
    "\n",
    "1. **Poder do Teste**: A ausência de significância estatística não implica automaticamente a inexistência de diferenças práticas. O poder estatístico do teste precisa ser avaliado, considerando-se a possibilidade de não detectar diferenças genuínas se o poder for insuficiente.\n",
    "\n",
    "2. **Importância Prática vs. Estatística**: Mesmo diferenças minúsculas, que não se mostram estatisticamente significativas, podem ser de enorme valor comercial em operações de grande escala, como e-commerce.\n",
    "\n",
    "3. **Contexto do Negócio**: O ambiente em que os testes foram realizados, bem como fatores externos, pode influenciar a interpretação. Aspectos como tendências de mercado e outros elementos contextuais precisam ser levados em conta.\n",
    "\n",
    "4. **Análise dos Testes**:\n",
    "   \n",
    "   - **Sistema de Recomendação**: Observamos que o Grupo A exibiu um engajamento significativamente maior dos usuários. A distribuição se assemelha entre os grupos, com a principal variação sendo a magnitude do número de usuários ao longo da trajetória.\n",
    "\n",
    "   - **Interface EU**: A distribuição mostrou-se bastante semelhante entre os grupos, com magnitudes parecidas em número de eventos e usuários. Isso sugere um nível de engajamento quase idêntico entre eles.\n",
    "\n",
    "5. **Dificuldades e Inconsistências nos Dados**: Uma possível inconsistência no rastreamento de eventos foi identificada, o que exige uma revisão minuciosa dos dados e do sistema de rastreamento.\n",
    "\n",
    "6. **Padronização e Qualidade dos Dados**: A padronização em snake_case e a presença mínima de dados ausentes foram positivas. Os dados de data em formato objeto necessitarão de transformação para futuras análises temporais.\n",
    "\n",
    "7. **Necessidade de Testes Futuros**: Os resultados apontam oportunidades para potenciais melhorias na taxa de conversão, especialmente entre as etapas de login e visualização do produto.\n",
    "\n",
    "8. **Dualidade dos Testes**: Usuários presentes em ambos os grupos dos dois testes A/B simultâneos podem não ser ideais para uma análise limpa. Contudo, foram considerados nesta análise.\n",
    "\n",
    "Ao encerrarmos, embora o Grupo A tenha superado o Grupo B em várias métricas, as mudanças testadas na Interface EU e no Sistema de Recomendação não resultaram em diferenças estatisticamente significativas nas taxas de conversão. A interpretação e as futuras decisões devem ponderar todas essas nuances e o contexto mais amplo do negócio."
   ]
  },
  {
   "cell_type": "markdown",
   "metadata": {},
   "source": [
    "<div class=\"alert alert-danger\">\n",
    "<strong>Comentário do revisor v1</strong>\n",
    "\n",
    "Estamos no caminho certo com essa versão, mas retocar os pontos indicados acima nos fará chegar em um resultado ainda mais incrível.\n",
    "    \n",
    "Conte comigo para ajudá-lo (a) em qualquer questão que possa vir a ter! Lembre-se de usar as caixas azuis para se comunicar comigo.\n",
    "    \n",
    "Até breve.\n",
    "</div>"
   ]
  },
  {
   "cell_type": "markdown",
   "metadata": {},
   "source": [
    "<div class=\"alert alert-info\">\n",
    "<strong>Muito obrigado pelos pontos, acredito que agora atenda as necessidades. Os pontos levantados foram muito pertinentes para fortalecemento de nossa teste. Muito obrigado, Rafael.</strong>"
   ]
  },
  {
   "cell_type": "markdown",
   "metadata": {},
   "source": [
    "\n",
    "<div class=\"alert alert-success\">\n",
    "<strong>Comentário do revisor v2</strong>\n",
    "\n",
    "Trabalho muito sólido com o projeto! Gostei muito.\n",
    "    \n",
    "    \n",
    "Parabéns pela aprovação e até breve!\n",
    "</div>\n",
    "\n"
   ]
  },
  {
   "cell_type": "code",
   "execution_count": null,
   "metadata": {},
   "outputs": [],
   "source": []
  }
 ],
 "metadata": {
  "kernelspec": {
   "display_name": "Python 3 (ipykernel)",
   "language": "python",
   "name": "python3"
  },
  "language_info": {
   "codemirror_mode": {
    "name": "ipython",
    "version": 3
   },
   "file_extension": ".py",
   "mimetype": "text/x-python",
   "name": "python",
   "nbconvert_exporter": "python",
   "pygments_lexer": "ipython3",
   "version": "3.9.5"
  },
  "toc": {
   "base_numbering": 1,
   "nav_menu": {},
   "number_sections": true,
   "sideBar": true,
   "skip_h1_title": true,
   "title_cell": "Table of Contents",
   "title_sidebar": "Contents",
   "toc_cell": false,
   "toc_position": {
    "height": "calc(100% - 180px)",
    "left": "10px",
    "top": "150px",
    "width": "320px"
   },
   "toc_section_display": true,
   "toc_window_display": true
  }
 },
 "nbformat": 4,
 "nbformat_minor": 2
}
