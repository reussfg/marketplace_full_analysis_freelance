{
 "cells": [
  {
   "cell_type": "markdown",
   "metadata": {},
   "source": [
    "# E-Commerce: Identificação de perfis de consumidores"
   ]
  },
  {
   "cell_type": "markdown",
   "metadata": {},
   "source": [
    "# Introdução\n",
    "\n",
    "Neste projeto, aprofundaremos nossa análise de dados do e-commerce Everything Plus, com o intuito de identificar e segmentar os perfis dos consumidores. Essa segmentação permitirá que a empresa crie estratégias de marketing mais assertivas e personalize suas ofertas, garantindo uma experiência de compra melhorada e potencialmente aumentando as vendas.\n",
    "\n",
    "**Etapas do projeto:**\n",
    "\n",
    "**Passo 1: Preparação dos Dados**\n",
    "- Carregaremos os dados do arquivo `ecommerce_dataset_us.csv` e os armazenaremos em uma variável apropriada.\n",
    "- Otimizaremos o conjunto de dados para análise, assegurando a integridade e correção das informações.\n",
    "\n",
    "**Caminho do arquivo:**  \n",
    "- /datasets/ecommerce_dataset_us.csv\n",
    "\n",
    "**Passo 2: Análise Exploratória de Dados**\n",
    "- Investigaremos a distribuição de compras, frequência dos produtos mais vendidos e os padrões de comportamento dos consumidores.\n",
    "- Analisaremos tendências e padrões sazonais que podem influenciar as decisões de marketing.\n",
    "\n",
    "**Passo 3: Segmentação dos Consumidores**\n",
    "- Segmentaremos os consumidores com base no histórico de compras, categorias de produtos, frequência de compras, entre outros critérios relevantes.\n",
    "- Formularemos e testaremos hipóteses estatísticas para confirmar as segmentações propostas.\n",
    "\n",
    "**Passo 4: Elaboração de Dashboards**\n",
    "1. **Sugestão 1**:\n",
    "    - Criação de um gráfico ilustrando o número de compras por dia.\n",
    "    - Indicador para o número total de clientes.\n",
    "    - Filtro por data de compra.\n",
    "\n",
    "**Passo 5: Conclusões e Apresentação**\n",
    "- Apresentaremos as principais descobertas da segmentação e como essas informações podem ser utilizadas para otimizar a estratégia de marketing.\n",
    "- Forneceremos recomendações sobre como a Everything Plus pode personalizar suas ofertas para cada segmento.\n",
    "- Criaremos uma apresentação detalhada em formato PDF com nossas descobertas e conclusões.\n",
    "\n",
    "**Formato:**\n",
    "- A análise será realizada em um notebook Jupyter.\n",
    "- O código estará inserido nas células de código e as explicações de texto nas células markdown, usando formatação adequada e cabeçalhos.\n",
    "\n",
    "**Descrição dos dados:**\n",
    "\n",
    "O arquivo `ecommerce_dataset_us.csv` contém o histórico de transações da Everything Plus e as seguintes colunas:\n",
    "O arquivo `ecommerce_dataset_us.csv` contém as seguintes colunas:\n",
    "\n",
    "`InvoiceNo` — identificador de pedido\n",
    "\n",
    "`StockCode` — identificador de item\n",
    "\n",
    "`Description` — nome de item\n",
    "\n",
    "`Quantity`\n",
    "\n",
    "`InvoiceDate` — data do pedido\n",
    "\n",
    "`UnitPrice` — preço por item\n",
    "\n",
    "`CustomerID`"
   ]
  },
  {
   "cell_type": "markdown",
   "metadata": {},
   "source": [
    "## Importação dos nossos dados e carregamento das bases\n",
    "\n",
    "Iremos carregar as bibliotecas que iremos usar para gerar as análises e gráficos.\n",
    "\n",
    "Iremos explicar cada um dos usos das bibliotecas:\n",
    "\n",
    "* pandas --> análise de dados;\n",
    "* seaborn --> criação de visualizações;\n",
    "* numpy --> geração de gráficos e auxílio ao pandas;\n",
    "* matplotlib.pyplot --> geração de gráficos \n",
    "* re --> trabalhar com expressão regular\n",
    "* plotly --> gráficos iterativos\n",
    "* sklearn --> Machine learning\n",
    "\n",
    "Após isso iremos abrir nossos dados em diferentes seções e analisar a qualidade das bases e realizar as correções devidas em cada uma das seções como pré-análise de dados e processamento de base."
   ]
  },
  {
   "cell_type": "code",
   "execution_count": 252,
   "metadata": {},
   "outputs": [],
   "source": [
    "# Carregando nossas bibliotecas\n",
    "\n",
    "import pandas as pd\n",
    "import seaborn as sns\n",
    "import numpy as np\n",
    "import matplotlib.pyplot as plt\n",
    "import re\n",
    "import plotly.express as px\n",
    "from sklearn.preprocessing import StandardScaler\n",
    "from sklearn.cluster import KMeans\n",
    "from sklearn.metrics import silhouette_score\n",
    "from scipy.stats import ttest_ind"
   ]
  },
  {
   "cell_type": "markdown",
   "metadata": {},
   "source": [
    "### Base ecommerce_dataset_us.csv e carregamento de dados\n",
    "\n",
    "Como observado anteriormente iremos abrir a base de dados **ecommerce_dataset_us.csv** realizando uma pré-análise de dados, processamento do dado e possível limpeza, indicando os erros e as mudanças.\n",
    "\n",
    "Ao abrir o documento percebemos que o arquivo está separado por tabs e não por vírgulas. Ou seja, precisamos descrever o delimitador como tabs no pandas."
   ]
  },
  {
   "cell_type": "code",
   "execution_count": 253,
   "metadata": {
    "scrolled": true
   },
   "outputs": [],
   "source": [
    "# abrindo a tabela ecommerce_dataset_us.csv\n",
    "\n",
    "# Carregando dados no computador pessoal\n",
    "try:\n",
    "    df = pd.read_csv(r'Downloads/datasets/ecommerce_dataset_us.csv' , delimiter='\\t')\n",
    "    \n",
    "# Carregando dados no JupyterHub\n",
    "except:\n",
    "    df = pd.read_csv(r'/datasets/ecommerce_dataset_us.csv', delimiter='\\t')"
   ]
  },
  {
   "cell_type": "code",
   "execution_count": 254,
   "metadata": {
    "scrolled": false
   },
   "outputs": [
    {
     "data": {
      "text/html": [
       "<div>\n",
       "<style scoped>\n",
       "    .dataframe tbody tr th:only-of-type {\n",
       "        vertical-align: middle;\n",
       "    }\n",
       "\n",
       "    .dataframe tbody tr th {\n",
       "        vertical-align: top;\n",
       "    }\n",
       "\n",
       "    .dataframe thead th {\n",
       "        text-align: right;\n",
       "    }\n",
       "</style>\n",
       "<table border=\"1\" class=\"dataframe\">\n",
       "  <thead>\n",
       "    <tr style=\"text-align: right;\">\n",
       "      <th></th>\n",
       "      <th>InvoiceNo</th>\n",
       "      <th>StockCode</th>\n",
       "      <th>Description</th>\n",
       "      <th>Quantity</th>\n",
       "      <th>InvoiceDate</th>\n",
       "      <th>UnitPrice</th>\n",
       "      <th>CustomerID</th>\n",
       "    </tr>\n",
       "  </thead>\n",
       "  <tbody>\n",
       "    <tr>\n",
       "      <th>0</th>\n",
       "      <td>536365</td>\n",
       "      <td>85123A</td>\n",
       "      <td>WHITE HANGING HEART T-LIGHT HOLDER</td>\n",
       "      <td>6</td>\n",
       "      <td>11/29/2018 08:26</td>\n",
       "      <td>2.55</td>\n",
       "      <td>17850.0</td>\n",
       "    </tr>\n",
       "    <tr>\n",
       "      <th>1</th>\n",
       "      <td>536365</td>\n",
       "      <td>71053</td>\n",
       "      <td>WHITE METAL LANTERN</td>\n",
       "      <td>6</td>\n",
       "      <td>11/29/2018 08:26</td>\n",
       "      <td>3.39</td>\n",
       "      <td>17850.0</td>\n",
       "    </tr>\n",
       "    <tr>\n",
       "      <th>2</th>\n",
       "      <td>536365</td>\n",
       "      <td>84406B</td>\n",
       "      <td>CREAM CUPID HEARTS COAT HANGER</td>\n",
       "      <td>8</td>\n",
       "      <td>11/29/2018 08:26</td>\n",
       "      <td>2.75</td>\n",
       "      <td>17850.0</td>\n",
       "    </tr>\n",
       "    <tr>\n",
       "      <th>3</th>\n",
       "      <td>536365</td>\n",
       "      <td>84029G</td>\n",
       "      <td>KNITTED UNION FLAG HOT WATER BOTTLE</td>\n",
       "      <td>6</td>\n",
       "      <td>11/29/2018 08:26</td>\n",
       "      <td>3.39</td>\n",
       "      <td>17850.0</td>\n",
       "    </tr>\n",
       "    <tr>\n",
       "      <th>4</th>\n",
       "      <td>536365</td>\n",
       "      <td>84029E</td>\n",
       "      <td>RED WOOLLY HOTTIE WHITE HEART.</td>\n",
       "      <td>6</td>\n",
       "      <td>11/29/2018 08:26</td>\n",
       "      <td>3.39</td>\n",
       "      <td>17850.0</td>\n",
       "    </tr>\n",
       "  </tbody>\n",
       "</table>\n",
       "</div>"
      ],
      "text/plain": [
       "  InvoiceNo StockCode                          Description  Quantity  \\\n",
       "0    536365    85123A   WHITE HANGING HEART T-LIGHT HOLDER         6   \n",
       "1    536365     71053                  WHITE METAL LANTERN         6   \n",
       "2    536365    84406B       CREAM CUPID HEARTS COAT HANGER         8   \n",
       "3    536365    84029G  KNITTED UNION FLAG HOT WATER BOTTLE         6   \n",
       "4    536365    84029E       RED WOOLLY HOTTIE WHITE HEART.         6   \n",
       "\n",
       "        InvoiceDate  UnitPrice  CustomerID  \n",
       "0  11/29/2018 08:26       2.55     17850.0  \n",
       "1  11/29/2018 08:26       3.39     17850.0  \n",
       "2  11/29/2018 08:26       2.75     17850.0  \n",
       "3  11/29/2018 08:26       3.39     17850.0  \n",
       "4  11/29/2018 08:26       3.39     17850.0  "
      ]
     },
     "execution_count": 254,
     "metadata": {},
     "output_type": "execute_result"
    }
   ],
   "source": [
    "# mostrando a df \n",
    "df.head(5)"
   ]
  },
  {
   "cell_type": "code",
   "execution_count": 255,
   "metadata": {
    "scrolled": false
   },
   "outputs": [
    {
     "name": "stdout",
     "output_type": "stream",
     "text": [
      "<class 'pandas.core.frame.DataFrame'>\n",
      "RangeIndex: 541909 entries, 0 to 541908\n",
      "Data columns (total 7 columns):\n",
      " #   Column       Non-Null Count   Dtype  \n",
      "---  ------       --------------   -----  \n",
      " 0   InvoiceNo    541909 non-null  object \n",
      " 1   StockCode    541909 non-null  object \n",
      " 2   Description  540455 non-null  object \n",
      " 3   Quantity     541909 non-null  int64  \n",
      " 4   InvoiceDate  541909 non-null  object \n",
      " 5   UnitPrice    541909 non-null  float64\n",
      " 6   CustomerID   406829 non-null  float64\n",
      "dtypes: float64(2), int64(1), object(4)\n",
      "memory usage: 28.9+ MB\n"
     ]
    }
   ],
   "source": [
    "# informações gerais da df\n",
    "df.info()"
   ]
  },
  {
   "cell_type": "markdown",
   "metadata": {},
   "source": [
    "**Conclusão**\n",
    "\n",
    "A partir dos dados e informações do DataFrame (`df`), algumas sugestões de alterações de tipo que podemos fazer para otimizar a memória e garantir a correta interpretação dos dados:\n",
    "\n",
    "1. **InvoiceNo**: \n",
    "   - Se todos os `InvoiceNo` são numéricos (mesmo que eles estejam como `object` devido a zeros à esquerda ou outros caracteres não numéricos), podemos deixá-los como `object` (equivalente a uma string em pandas).\n",
    "   - Se todos eles são inteiros sem exceção, podemos converter esta coluna para `int64`.\n",
    "\n",
    "2. **StockCode**:\n",
    "   - Semelhante ao `InvoiceNo`, se todos são numéricos, podemos deixá-los como `object`. Se eles são definitivamente códigos alfanuméricos, deixamos como `object`.\n",
    "\n",
    "3. **Description**:\n",
    "   - Esta parece ser uma coluna de texto, então deve permanecer como `object`.\n",
    "\n",
    "4. **Quantity**:\n",
    "   - Esta coluna já está como `int64`, que parece ser apropriado para representar quantidades.\n",
    "\n",
    "5. **InvoiceDate**:\n",
    "   - Convertamos esta coluna para o tipo `datetime`, para que possamos realizar operações de data e hora com ela. \n",
    "\n",
    "6. **UnitPrice**:\n",
    "   - Esta coluna já está como `float64`, que é apropriado para preços.\n",
    "\n",
    "7. **CustomerID**:\n",
    "   - Como os IDs de cliente parecem ser números sem casas decimais, convertamos esta coluna para `Int64` (note o \"I\" maiúsculo). Isso também lidará com possíveis valores NaN.\n",
    "\n",
    "Após fazermos essas alterações, nosso DataFrame estará mais otimizado em termos de tipos de dados e seremos capazes de realizar operações mais eficientes, especialmente relacionadas a datas na coluna `InvoiceDate`."
   ]
  },
  {
   "cell_type": "markdown",
   "metadata": {},
   "source": [
    "## Preparação dados e Pré-análise de dados\n",
    "\n",
    "Nessa seção iremos fazer as alterações necessárias nos tipos de dados, no nome das colunas e, também, procurar por dados duplicados ou entender os dados faltantes."
   ]
  },
  {
   "cell_type": "markdown",
   "metadata": {},
   "source": [
    "### Correção dos tipos de dados\n",
    "\n",
    "Iremos realizar as alterações necessárias para nossos dados, alterando seus tipos."
   ]
  },
  {
   "cell_type": "code",
   "execution_count": 256,
   "metadata": {},
   "outputs": [
    {
     "name": "stdout",
     "output_type": "stream",
     "text": [
      "<class 'pandas.core.frame.DataFrame'>\n",
      "RangeIndex: 541909 entries, 0 to 541908\n",
      "Data columns (total 7 columns):\n",
      " #   Column       Non-Null Count   Dtype         \n",
      "---  ------       --------------   -----         \n",
      " 0   InvoiceNo    541909 non-null  object        \n",
      " 1   StockCode    541909 non-null  object        \n",
      " 2   Description  540455 non-null  object        \n",
      " 3   Quantity     541909 non-null  int64         \n",
      " 4   InvoiceDate  541909 non-null  datetime64[ns]\n",
      " 5   UnitPrice    541909 non-null  float64       \n",
      " 6   CustomerID   406829 non-null  Int64         \n",
      "dtypes: Int64(1), datetime64[ns](1), float64(1), int64(1), object(3)\n",
      "memory usage: 29.5+ MB\n"
     ]
    }
   ],
   "source": [
    "# Alterando o InvoiceDate\n",
    "df['InvoiceDate'] = pd.to_datetime(df['InvoiceDate'])\n",
    "\n",
    "# Alterando a coluna CustomerID\n",
    "df['CustomerID'] = df['CustomerID'].astype('Int64')\n",
    "\n",
    "# Imprimindo os tipos\n",
    "df.info()"
   ]
  },
  {
   "cell_type": "markdown",
   "metadata": {},
   "source": [
    "### Dados duplicados\n",
    "\n",
    "Iremos imprimir nossa df e entender se existem dados duplicado e analisar eles."
   ]
  },
  {
   "cell_type": "code",
   "execution_count": 257,
   "metadata": {
    "scrolled": true
   },
   "outputs": [
    {
     "data": {
      "text/html": [
       "<div>\n",
       "<style scoped>\n",
       "    .dataframe tbody tr th:only-of-type {\n",
       "        vertical-align: middle;\n",
       "    }\n",
       "\n",
       "    .dataframe tbody tr th {\n",
       "        vertical-align: top;\n",
       "    }\n",
       "\n",
       "    .dataframe thead th {\n",
       "        text-align: right;\n",
       "    }\n",
       "</style>\n",
       "<table border=\"1\" class=\"dataframe\">\n",
       "  <thead>\n",
       "    <tr style=\"text-align: right;\">\n",
       "      <th></th>\n",
       "      <th>InvoiceNo</th>\n",
       "      <th>StockCode</th>\n",
       "      <th>Description</th>\n",
       "      <th>Quantity</th>\n",
       "      <th>InvoiceDate</th>\n",
       "      <th>UnitPrice</th>\n",
       "      <th>CustomerID</th>\n",
       "    </tr>\n",
       "  </thead>\n",
       "  <tbody>\n",
       "    <tr>\n",
       "      <th>0</th>\n",
       "      <td>536365</td>\n",
       "      <td>85123A</td>\n",
       "      <td>WHITE HANGING HEART T-LIGHT HOLDER</td>\n",
       "      <td>6</td>\n",
       "      <td>2018-11-29 08:26:00</td>\n",
       "      <td>2.55</td>\n",
       "      <td>17850</td>\n",
       "    </tr>\n",
       "    <tr>\n",
       "      <th>1</th>\n",
       "      <td>536365</td>\n",
       "      <td>71053</td>\n",
       "      <td>WHITE METAL LANTERN</td>\n",
       "      <td>6</td>\n",
       "      <td>2018-11-29 08:26:00</td>\n",
       "      <td>3.39</td>\n",
       "      <td>17850</td>\n",
       "    </tr>\n",
       "    <tr>\n",
       "      <th>2</th>\n",
       "      <td>536365</td>\n",
       "      <td>84406B</td>\n",
       "      <td>CREAM CUPID HEARTS COAT HANGER</td>\n",
       "      <td>8</td>\n",
       "      <td>2018-11-29 08:26:00</td>\n",
       "      <td>2.75</td>\n",
       "      <td>17850</td>\n",
       "    </tr>\n",
       "    <tr>\n",
       "      <th>3</th>\n",
       "      <td>536365</td>\n",
       "      <td>84029G</td>\n",
       "      <td>KNITTED UNION FLAG HOT WATER BOTTLE</td>\n",
       "      <td>6</td>\n",
       "      <td>2018-11-29 08:26:00</td>\n",
       "      <td>3.39</td>\n",
       "      <td>17850</td>\n",
       "    </tr>\n",
       "    <tr>\n",
       "      <th>4</th>\n",
       "      <td>536365</td>\n",
       "      <td>84029E</td>\n",
       "      <td>RED WOOLLY HOTTIE WHITE HEART.</td>\n",
       "      <td>6</td>\n",
       "      <td>2018-11-29 08:26:00</td>\n",
       "      <td>3.39</td>\n",
       "      <td>17850</td>\n",
       "    </tr>\n",
       "    <tr>\n",
       "      <th>5</th>\n",
       "      <td>536365</td>\n",
       "      <td>22752</td>\n",
       "      <td>SET 7 BABUSHKA NESTING BOXES</td>\n",
       "      <td>2</td>\n",
       "      <td>2018-11-29 08:26:00</td>\n",
       "      <td>7.65</td>\n",
       "      <td>17850</td>\n",
       "    </tr>\n",
       "    <tr>\n",
       "      <th>6</th>\n",
       "      <td>536365</td>\n",
       "      <td>21730</td>\n",
       "      <td>GLASS STAR FROSTED T-LIGHT HOLDER</td>\n",
       "      <td>6</td>\n",
       "      <td>2018-11-29 08:26:00</td>\n",
       "      <td>4.25</td>\n",
       "      <td>17850</td>\n",
       "    </tr>\n",
       "    <tr>\n",
       "      <th>7</th>\n",
       "      <td>536366</td>\n",
       "      <td>22633</td>\n",
       "      <td>HAND WARMER UNION JACK</td>\n",
       "      <td>6</td>\n",
       "      <td>2018-11-29 08:28:00</td>\n",
       "      <td>1.85</td>\n",
       "      <td>17850</td>\n",
       "    </tr>\n",
       "    <tr>\n",
       "      <th>8</th>\n",
       "      <td>536366</td>\n",
       "      <td>22632</td>\n",
       "      <td>HAND WARMER RED POLKA DOT</td>\n",
       "      <td>6</td>\n",
       "      <td>2018-11-29 08:28:00</td>\n",
       "      <td>1.85</td>\n",
       "      <td>17850</td>\n",
       "    </tr>\n",
       "    <tr>\n",
       "      <th>9</th>\n",
       "      <td>536367</td>\n",
       "      <td>84879</td>\n",
       "      <td>ASSORTED COLOUR BIRD ORNAMENT</td>\n",
       "      <td>32</td>\n",
       "      <td>2018-11-29 08:34:00</td>\n",
       "      <td>1.69</td>\n",
       "      <td>13047</td>\n",
       "    </tr>\n",
       "    <tr>\n",
       "      <th>10</th>\n",
       "      <td>536367</td>\n",
       "      <td>22745</td>\n",
       "      <td>POPPY'S PLAYHOUSE BEDROOM</td>\n",
       "      <td>6</td>\n",
       "      <td>2018-11-29 08:34:00</td>\n",
       "      <td>2.10</td>\n",
       "      <td>13047</td>\n",
       "    </tr>\n",
       "    <tr>\n",
       "      <th>11</th>\n",
       "      <td>536367</td>\n",
       "      <td>22748</td>\n",
       "      <td>POPPY'S PLAYHOUSE KITCHEN</td>\n",
       "      <td>6</td>\n",
       "      <td>2018-11-29 08:34:00</td>\n",
       "      <td>2.10</td>\n",
       "      <td>13047</td>\n",
       "    </tr>\n",
       "    <tr>\n",
       "      <th>12</th>\n",
       "      <td>536367</td>\n",
       "      <td>22749</td>\n",
       "      <td>FELTCRAFT PRINCESS CHARLOTTE DOLL</td>\n",
       "      <td>8</td>\n",
       "      <td>2018-11-29 08:34:00</td>\n",
       "      <td>3.75</td>\n",
       "      <td>13047</td>\n",
       "    </tr>\n",
       "    <tr>\n",
       "      <th>13</th>\n",
       "      <td>536367</td>\n",
       "      <td>22310</td>\n",
       "      <td>IVORY KNITTED MUG COSY</td>\n",
       "      <td>6</td>\n",
       "      <td>2018-11-29 08:34:00</td>\n",
       "      <td>1.65</td>\n",
       "      <td>13047</td>\n",
       "    </tr>\n",
       "    <tr>\n",
       "      <th>14</th>\n",
       "      <td>536367</td>\n",
       "      <td>84969</td>\n",
       "      <td>BOX OF 6 ASSORTED COLOUR TEASPOONS</td>\n",
       "      <td>6</td>\n",
       "      <td>2018-11-29 08:34:00</td>\n",
       "      <td>4.25</td>\n",
       "      <td>13047</td>\n",
       "    </tr>\n",
       "    <tr>\n",
       "      <th>15</th>\n",
       "      <td>536367</td>\n",
       "      <td>22623</td>\n",
       "      <td>BOX OF VINTAGE JIGSAW BLOCKS</td>\n",
       "      <td>3</td>\n",
       "      <td>2018-11-29 08:34:00</td>\n",
       "      <td>4.95</td>\n",
       "      <td>13047</td>\n",
       "    </tr>\n",
       "    <tr>\n",
       "      <th>16</th>\n",
       "      <td>536367</td>\n",
       "      <td>22622</td>\n",
       "      <td>BOX OF VINTAGE ALPHABET BLOCKS</td>\n",
       "      <td>2</td>\n",
       "      <td>2018-11-29 08:34:00</td>\n",
       "      <td>9.95</td>\n",
       "      <td>13047</td>\n",
       "    </tr>\n",
       "    <tr>\n",
       "      <th>17</th>\n",
       "      <td>536367</td>\n",
       "      <td>21754</td>\n",
       "      <td>HOME BUILDING BLOCK WORD</td>\n",
       "      <td>3</td>\n",
       "      <td>2018-11-29 08:34:00</td>\n",
       "      <td>5.95</td>\n",
       "      <td>13047</td>\n",
       "    </tr>\n",
       "    <tr>\n",
       "      <th>18</th>\n",
       "      <td>536367</td>\n",
       "      <td>21755</td>\n",
       "      <td>LOVE BUILDING BLOCK WORD</td>\n",
       "      <td>3</td>\n",
       "      <td>2018-11-29 08:34:00</td>\n",
       "      <td>5.95</td>\n",
       "      <td>13047</td>\n",
       "    </tr>\n",
       "    <tr>\n",
       "      <th>19</th>\n",
       "      <td>536367</td>\n",
       "      <td>21777</td>\n",
       "      <td>RECIPE BOX WITH METAL HEART</td>\n",
       "      <td>4</td>\n",
       "      <td>2018-11-29 08:34:00</td>\n",
       "      <td>7.95</td>\n",
       "      <td>13047</td>\n",
       "    </tr>\n",
       "  </tbody>\n",
       "</table>\n",
       "</div>"
      ],
      "text/plain": [
       "   InvoiceNo StockCode                          Description  Quantity  \\\n",
       "0     536365    85123A   WHITE HANGING HEART T-LIGHT HOLDER         6   \n",
       "1     536365     71053                  WHITE METAL LANTERN         6   \n",
       "2     536365    84406B       CREAM CUPID HEARTS COAT HANGER         8   \n",
       "3     536365    84029G  KNITTED UNION FLAG HOT WATER BOTTLE         6   \n",
       "4     536365    84029E       RED WOOLLY HOTTIE WHITE HEART.         6   \n",
       "5     536365     22752         SET 7 BABUSHKA NESTING BOXES         2   \n",
       "6     536365     21730    GLASS STAR FROSTED T-LIGHT HOLDER         6   \n",
       "7     536366     22633               HAND WARMER UNION JACK         6   \n",
       "8     536366     22632            HAND WARMER RED POLKA DOT         6   \n",
       "9     536367     84879        ASSORTED COLOUR BIRD ORNAMENT        32   \n",
       "10    536367     22745           POPPY'S PLAYHOUSE BEDROOM          6   \n",
       "11    536367     22748            POPPY'S PLAYHOUSE KITCHEN         6   \n",
       "12    536367     22749    FELTCRAFT PRINCESS CHARLOTTE DOLL         8   \n",
       "13    536367     22310              IVORY KNITTED MUG COSY          6   \n",
       "14    536367     84969   BOX OF 6 ASSORTED COLOUR TEASPOONS         6   \n",
       "15    536367     22623        BOX OF VINTAGE JIGSAW BLOCKS          3   \n",
       "16    536367     22622       BOX OF VINTAGE ALPHABET BLOCKS         2   \n",
       "17    536367     21754             HOME BUILDING BLOCK WORD         3   \n",
       "18    536367     21755             LOVE BUILDING BLOCK WORD         3   \n",
       "19    536367     21777          RECIPE BOX WITH METAL HEART         4   \n",
       "\n",
       "           InvoiceDate  UnitPrice  CustomerID  \n",
       "0  2018-11-29 08:26:00       2.55       17850  \n",
       "1  2018-11-29 08:26:00       3.39       17850  \n",
       "2  2018-11-29 08:26:00       2.75       17850  \n",
       "3  2018-11-29 08:26:00       3.39       17850  \n",
       "4  2018-11-29 08:26:00       3.39       17850  \n",
       "5  2018-11-29 08:26:00       7.65       17850  \n",
       "6  2018-11-29 08:26:00       4.25       17850  \n",
       "7  2018-11-29 08:28:00       1.85       17850  \n",
       "8  2018-11-29 08:28:00       1.85       17850  \n",
       "9  2018-11-29 08:34:00       1.69       13047  \n",
       "10 2018-11-29 08:34:00       2.10       13047  \n",
       "11 2018-11-29 08:34:00       2.10       13047  \n",
       "12 2018-11-29 08:34:00       3.75       13047  \n",
       "13 2018-11-29 08:34:00       1.65       13047  \n",
       "14 2018-11-29 08:34:00       4.25       13047  \n",
       "15 2018-11-29 08:34:00       4.95       13047  \n",
       "16 2018-11-29 08:34:00       9.95       13047  \n",
       "17 2018-11-29 08:34:00       5.95       13047  \n",
       "18 2018-11-29 08:34:00       5.95       13047  \n",
       "19 2018-11-29 08:34:00       7.95       13047  "
      ]
     },
     "execution_count": 257,
     "metadata": {},
     "output_type": "execute_result"
    }
   ],
   "source": [
    "# Imprimindo nossa df\n",
    "df.head(20)"
   ]
  },
  {
   "cell_type": "markdown",
   "metadata": {},
   "source": [
    "**Conclusões**\n",
    "\n",
    "Nossas conlcusões acerca dos dados duplicados para as colunas:\n",
    "\n",
    "* InvoiceNo --> São números de pedidos diferentes, ou seja, são o número da nota fiscal. Assim, um nota pode ter vários produtos.\n",
    "\n",
    "* StockCode --> É o código do produto. Vão existir duplicadas, pois existem diferentes pedidos com os mesmos produtos.\n",
    "\n",
    "* Description --> É o nome do produto.\n",
    "\n",
    "* Quantidade --> É a quantidade do produto que foi pedido.\n",
    "\n",
    "* InvociceDate --> É a data de venda do produto.\n",
    "\n",
    "* UnitPrice --> É o preço por unidade vendida\n",
    "\n",
    "* CustomerID --> É o código do cliente comprante.\n",
    "\n",
    "Assim os dados duplicados não parecem, aparentemente, que são duplicados de fato. Só mantem um padrão, o que podemos observar são para mesmos números de NF com códigos StockCode iguais, ai pode ser que são duplicados.\n",
    "\n",
    "Iremos fazer essa última análise para comprovar."
   ]
  },
  {
   "cell_type": "code",
   "execution_count": 258,
   "metadata": {},
   "outputs": [
    {
     "data": {
      "text/html": [
       "<div>\n",
       "<style scoped>\n",
       "    .dataframe tbody tr th:only-of-type {\n",
       "        vertical-align: middle;\n",
       "    }\n",
       "\n",
       "    .dataframe tbody tr th {\n",
       "        vertical-align: top;\n",
       "    }\n",
       "\n",
       "    .dataframe thead th {\n",
       "        text-align: right;\n",
       "    }\n",
       "</style>\n",
       "<table border=\"1\" class=\"dataframe\">\n",
       "  <thead>\n",
       "    <tr style=\"text-align: right;\">\n",
       "      <th></th>\n",
       "      <th>InvoiceNo</th>\n",
       "      <th>StockCode</th>\n",
       "      <th>Description</th>\n",
       "      <th>Quantity</th>\n",
       "      <th>InvoiceDate</th>\n",
       "      <th>UnitPrice</th>\n",
       "      <th>CustomerID</th>\n",
       "    </tr>\n",
       "  </thead>\n",
       "  <tbody>\n",
       "    <tr>\n",
       "      <th>113</th>\n",
       "      <td>536381</td>\n",
       "      <td>71270</td>\n",
       "      <td>PHOTO CLIP LINE</td>\n",
       "      <td>1</td>\n",
       "      <td>2018-11-29 09:41:00</td>\n",
       "      <td>1.25</td>\n",
       "      <td>15311</td>\n",
       "    </tr>\n",
       "    <tr>\n",
       "      <th>125</th>\n",
       "      <td>536381</td>\n",
       "      <td>71270</td>\n",
       "      <td>PHOTO CLIP LINE</td>\n",
       "      <td>3</td>\n",
       "      <td>2018-11-29 09:41:00</td>\n",
       "      <td>1.25</td>\n",
       "      <td>15311</td>\n",
       "    </tr>\n",
       "    <tr>\n",
       "      <th>483</th>\n",
       "      <td>536409</td>\n",
       "      <td>90199C</td>\n",
       "      <td>5 STRAND GLASS NECKLACE CRYSTAL</td>\n",
       "      <td>3</td>\n",
       "      <td>2018-11-29 11:45:00</td>\n",
       "      <td>6.35</td>\n",
       "      <td>17908</td>\n",
       "    </tr>\n",
       "    <tr>\n",
       "      <th>485</th>\n",
       "      <td>536409</td>\n",
       "      <td>22111</td>\n",
       "      <td>SCOTTIE DOG HOT WATER BOTTLE</td>\n",
       "      <td>1</td>\n",
       "      <td>2018-11-29 11:45:00</td>\n",
       "      <td>4.95</td>\n",
       "      <td>17908</td>\n",
       "    </tr>\n",
       "    <tr>\n",
       "      <th>489</th>\n",
       "      <td>536409</td>\n",
       "      <td>22866</td>\n",
       "      <td>HAND WARMER SCOTTY DOG DESIGN</td>\n",
       "      <td>1</td>\n",
       "      <td>2018-11-29 11:45:00</td>\n",
       "      <td>2.10</td>\n",
       "      <td>17908</td>\n",
       "    </tr>\n",
       "    <tr>\n",
       "      <th>491</th>\n",
       "      <td>536409</td>\n",
       "      <td>85116</td>\n",
       "      <td>BLACK CANDELABRA T-LIGHT HOLDER</td>\n",
       "      <td>1</td>\n",
       "      <td>2018-11-29 11:45:00</td>\n",
       "      <td>2.10</td>\n",
       "      <td>17908</td>\n",
       "    </tr>\n",
       "    <tr>\n",
       "      <th>494</th>\n",
       "      <td>536409</td>\n",
       "      <td>21866</td>\n",
       "      <td>UNION JACK FLAG LUGGAGE TAG</td>\n",
       "      <td>1</td>\n",
       "      <td>2018-11-29 11:45:00</td>\n",
       "      <td>1.25</td>\n",
       "      <td>17908</td>\n",
       "    </tr>\n",
       "    <tr>\n",
       "      <th>498</th>\n",
       "      <td>536409</td>\n",
       "      <td>90199C</td>\n",
       "      <td>5 STRAND GLASS NECKLACE CRYSTAL</td>\n",
       "      <td>1</td>\n",
       "      <td>2018-11-29 11:45:00</td>\n",
       "      <td>6.35</td>\n",
       "      <td>17908</td>\n",
       "    </tr>\n",
       "    <tr>\n",
       "      <th>502</th>\n",
       "      <td>536409</td>\n",
       "      <td>85116</td>\n",
       "      <td>BLACK CANDELABRA T-LIGHT HOLDER</td>\n",
       "      <td>5</td>\n",
       "      <td>2018-11-29 11:45:00</td>\n",
       "      <td>2.10</td>\n",
       "      <td>17908</td>\n",
       "    </tr>\n",
       "    <tr>\n",
       "      <th>517</th>\n",
       "      <td>536409</td>\n",
       "      <td>21866</td>\n",
       "      <td>UNION JACK FLAG LUGGAGE TAG</td>\n",
       "      <td>1</td>\n",
       "      <td>2018-11-29 11:45:00</td>\n",
       "      <td>1.25</td>\n",
       "      <td>17908</td>\n",
       "    </tr>\n",
       "    <tr>\n",
       "      <th>521</th>\n",
       "      <td>536409</td>\n",
       "      <td>22900</td>\n",
       "      <td>SET 2 TEA TOWELS I LOVE LONDON</td>\n",
       "      <td>1</td>\n",
       "      <td>2018-11-29 11:45:00</td>\n",
       "      <td>2.95</td>\n",
       "      <td>17908</td>\n",
       "    </tr>\n",
       "    <tr>\n",
       "      <th>525</th>\n",
       "      <td>536409</td>\n",
       "      <td>90199C</td>\n",
       "      <td>5 STRAND GLASS NECKLACE CRYSTAL</td>\n",
       "      <td>2</td>\n",
       "      <td>2018-11-29 11:45:00</td>\n",
       "      <td>6.35</td>\n",
       "      <td>17908</td>\n",
       "    </tr>\n",
       "    <tr>\n",
       "      <th>527</th>\n",
       "      <td>536409</td>\n",
       "      <td>22866</td>\n",
       "      <td>HAND WARMER SCOTTY DOG DESIGN</td>\n",
       "      <td>1</td>\n",
       "      <td>2018-11-29 11:45:00</td>\n",
       "      <td>2.10</td>\n",
       "      <td>17908</td>\n",
       "    </tr>\n",
       "    <tr>\n",
       "      <th>537</th>\n",
       "      <td>536409</td>\n",
       "      <td>22900</td>\n",
       "      <td>SET 2 TEA TOWELS I LOVE LONDON</td>\n",
       "      <td>1</td>\n",
       "      <td>2018-11-29 11:45:00</td>\n",
       "      <td>2.95</td>\n",
       "      <td>17908</td>\n",
       "    </tr>\n",
       "    <tr>\n",
       "      <th>539</th>\n",
       "      <td>536409</td>\n",
       "      <td>22111</td>\n",
       "      <td>SCOTTIE DOG HOT WATER BOTTLE</td>\n",
       "      <td>1</td>\n",
       "      <td>2018-11-29 11:45:00</td>\n",
       "      <td>4.95</td>\n",
       "      <td>17908</td>\n",
       "    </tr>\n",
       "    <tr>\n",
       "      <th>548</th>\n",
       "      <td>536412</td>\n",
       "      <td>22327</td>\n",
       "      <td>ROUND SNACK BOXES SET OF 4 SKULLS</td>\n",
       "      <td>1</td>\n",
       "      <td>2018-11-29 11:49:00</td>\n",
       "      <td>2.95</td>\n",
       "      <td>17920</td>\n",
       "    </tr>\n",
       "    <tr>\n",
       "      <th>555</th>\n",
       "      <td>536412</td>\n",
       "      <td>22327</td>\n",
       "      <td>ROUND SNACK BOXES SET OF 4 SKULLS</td>\n",
       "      <td>1</td>\n",
       "      <td>2018-11-29 11:49:00</td>\n",
       "      <td>2.95</td>\n",
       "      <td>17920</td>\n",
       "    </tr>\n",
       "    <tr>\n",
       "      <th>556</th>\n",
       "      <td>536412</td>\n",
       "      <td>22273</td>\n",
       "      <td>FELTCRAFT DOLL MOLLY</td>\n",
       "      <td>1</td>\n",
       "      <td>2018-11-29 11:49:00</td>\n",
       "      <td>2.95</td>\n",
       "      <td>17920</td>\n",
       "    </tr>\n",
       "    <tr>\n",
       "      <th>557</th>\n",
       "      <td>536412</td>\n",
       "      <td>22940</td>\n",
       "      <td>FELTCRAFT CHRISTMAS FAIRY</td>\n",
       "      <td>3</td>\n",
       "      <td>2018-11-29 11:49:00</td>\n",
       "      <td>4.25</td>\n",
       "      <td>17920</td>\n",
       "    </tr>\n",
       "    <tr>\n",
       "      <th>559</th>\n",
       "      <td>536412</td>\n",
       "      <td>22759</td>\n",
       "      <td>SET OF 3 NOTEBOOKS IN PARCEL</td>\n",
       "      <td>1</td>\n",
       "      <td>2018-11-29 11:49:00</td>\n",
       "      <td>1.65</td>\n",
       "      <td>17920</td>\n",
       "    </tr>\n",
       "  </tbody>\n",
       "</table>\n",
       "</div>"
      ],
      "text/plain": [
       "    InvoiceNo StockCode                        Description  Quantity  \\\n",
       "113    536381     71270                    PHOTO CLIP LINE         1   \n",
       "125    536381     71270                    PHOTO CLIP LINE         3   \n",
       "483    536409    90199C    5 STRAND GLASS NECKLACE CRYSTAL         3   \n",
       "485    536409     22111       SCOTTIE DOG HOT WATER BOTTLE         1   \n",
       "489    536409     22866      HAND WARMER SCOTTY DOG DESIGN         1   \n",
       "491    536409     85116    BLACK CANDELABRA T-LIGHT HOLDER         1   \n",
       "494    536409     21866        UNION JACK FLAG LUGGAGE TAG         1   \n",
       "498    536409    90199C    5 STRAND GLASS NECKLACE CRYSTAL         1   \n",
       "502    536409     85116    BLACK CANDELABRA T-LIGHT HOLDER         5   \n",
       "517    536409     21866        UNION JACK FLAG LUGGAGE TAG         1   \n",
       "521    536409     22900    SET 2 TEA TOWELS I LOVE LONDON          1   \n",
       "525    536409    90199C    5 STRAND GLASS NECKLACE CRYSTAL         2   \n",
       "527    536409     22866      HAND WARMER SCOTTY DOG DESIGN         1   \n",
       "537    536409     22900    SET 2 TEA TOWELS I LOVE LONDON          1   \n",
       "539    536409     22111       SCOTTIE DOG HOT WATER BOTTLE         1   \n",
       "548    536412     22327  ROUND SNACK BOXES SET OF 4 SKULLS         1   \n",
       "555    536412     22327  ROUND SNACK BOXES SET OF 4 SKULLS         1   \n",
       "556    536412     22273               FELTCRAFT DOLL MOLLY         1   \n",
       "557    536412     22940          FELTCRAFT CHRISTMAS FAIRY         3   \n",
       "559    536412     22759       SET OF 3 NOTEBOOKS IN PARCEL         1   \n",
       "\n",
       "            InvoiceDate  UnitPrice  CustomerID  \n",
       "113 2018-11-29 09:41:00       1.25       15311  \n",
       "125 2018-11-29 09:41:00       1.25       15311  \n",
       "483 2018-11-29 11:45:00       6.35       17908  \n",
       "485 2018-11-29 11:45:00       4.95       17908  \n",
       "489 2018-11-29 11:45:00       2.10       17908  \n",
       "491 2018-11-29 11:45:00       2.10       17908  \n",
       "494 2018-11-29 11:45:00       1.25       17908  \n",
       "498 2018-11-29 11:45:00       6.35       17908  \n",
       "502 2018-11-29 11:45:00       2.10       17908  \n",
       "517 2018-11-29 11:45:00       1.25       17908  \n",
       "521 2018-11-29 11:45:00       2.95       17908  \n",
       "525 2018-11-29 11:45:00       6.35       17908  \n",
       "527 2018-11-29 11:45:00       2.10       17908  \n",
       "537 2018-11-29 11:45:00       2.95       17908  \n",
       "539 2018-11-29 11:45:00       4.95       17908  \n",
       "548 2018-11-29 11:49:00       2.95       17920  \n",
       "555 2018-11-29 11:49:00       2.95       17920  \n",
       "556 2018-11-29 11:49:00       2.95       17920  \n",
       "557 2018-11-29 11:49:00       4.25       17920  \n",
       "559 2018-11-29 11:49:00       1.65       17920  "
      ]
     },
     "execution_count": 258,
     "metadata": {},
     "output_type": "execute_result"
    }
   ],
   "source": [
    "# Identificando duplicatas para o mesmo InvoiceNo e StockCode\n",
    "duplicated_rows = df[df.duplicated(subset=['InvoiceNo', 'StockCode'], keep=False)]\n",
    "\n",
    "# Mostrando os resultados\n",
    "duplicated_rows.head(20)"
   ]
  },
  {
   "cell_type": "code",
   "execution_count": 259,
   "metadata": {},
   "outputs": [
    {
     "name": "stdout",
     "output_type": "stream",
     "text": [
      "<class 'pandas.core.frame.DataFrame'>\n",
      "Int64Index: 20378 entries, 113 to 541701\n",
      "Data columns (total 7 columns):\n",
      " #   Column       Non-Null Count  Dtype         \n",
      "---  ------       --------------  -----         \n",
      " 0   InvoiceNo    20378 non-null  object        \n",
      " 1   StockCode    20378 non-null  object        \n",
      " 2   Description  20378 non-null  object        \n",
      " 3   Quantity     20378 non-null  int64         \n",
      " 4   InvoiceDate  20378 non-null  datetime64[ns]\n",
      " 5   UnitPrice    20378 non-null  float64       \n",
      " 6   CustomerID   19345 non-null  Int64         \n",
      "dtypes: Int64(1), datetime64[ns](1), float64(1), int64(1), object(3)\n",
      "memory usage: 1.3+ MB\n"
     ]
    }
   ],
   "source": [
    "# Informação das duplicadas\n",
    "duplicated_rows.info()"
   ]
  },
  {
   "cell_type": "markdown",
   "metadata": {},
   "source": [
    "**Conclusões**\n",
    "\n",
    "Podemos perceber que ao filtrar os dados e ler eles temos:\n",
    "\n",
    "* Um total de 20378 linhas afetadas, afetando aproximadamente 3% dos dados.\n",
    "\n",
    "* Os dados duplicados parecem, ter o mesmo preço e o que altera é o volume de produto que foi pedido.\n",
    "\n",
    "* Essa diferença pode ser porque o cliente primeiro adicionou um volume e depois fez mais adições ao carrinho do mesmo produto com um novo volume.\n",
    "\n",
    "* Apesar disso, outra premissa poderia ser que os dados estão incorretos no sistema e foram contabilizados de maneira errada. Ou que, o cliente tirou algum dos dados do carrinho e o sistema não deletou.\n",
    "\n",
    "\n",
    "Para tal, iremos trabalhar com a segunda hipótese de que o sistema contabilizou os produtos duas vezes, iremos retirar as duplicatas"
   ]
  },
  {
   "cell_type": "code",
   "execution_count": 260,
   "metadata": {},
   "outputs": [],
   "source": [
    "# Retirando os dados duplicados\n",
    "df = df.drop_duplicates()"
   ]
  },
  {
   "cell_type": "code",
   "execution_count": 261,
   "metadata": {},
   "outputs": [
    {
     "name": "stdout",
     "output_type": "stream",
     "text": [
      "<class 'pandas.core.frame.DataFrame'>\n",
      "Int64Index: 536641 entries, 0 to 541908\n",
      "Data columns (total 7 columns):\n",
      " #   Column       Non-Null Count   Dtype         \n",
      "---  ------       --------------   -----         \n",
      " 0   InvoiceNo    536641 non-null  object        \n",
      " 1   StockCode    536641 non-null  object        \n",
      " 2   Description  535187 non-null  object        \n",
      " 3   Quantity     536641 non-null  int64         \n",
      " 4   InvoiceDate  536641 non-null  datetime64[ns]\n",
      " 5   UnitPrice    536641 non-null  float64       \n",
      " 6   CustomerID   401604 non-null  Int64         \n",
      "dtypes: Int64(1), datetime64[ns](1), float64(1), int64(1), object(3)\n",
      "memory usage: 33.3+ MB\n"
     ]
    }
   ],
   "source": [
    "# Informações\n",
    "df.info()"
   ]
  },
  {
   "cell_type": "markdown",
   "metadata": {},
   "source": [
    "### Dados faltantes\n",
    "\n",
    "Podemos perceber que a coluna CustomerID possuí dados faltantes. Iremos estudar esses dados faltantes e entender eles.\n",
    "\n",
    "Após isso, iremos analisar os dados faltantes em description."
   ]
  },
  {
   "cell_type": "markdown",
   "metadata": {},
   "source": [
    "#### Faltantes em CustomerID"
   ]
  },
  {
   "cell_type": "code",
   "execution_count": 262,
   "metadata": {},
   "outputs": [
    {
     "data": {
      "text/html": [
       "<div>\n",
       "<style scoped>\n",
       "    .dataframe tbody tr th:only-of-type {\n",
       "        vertical-align: middle;\n",
       "    }\n",
       "\n",
       "    .dataframe tbody tr th {\n",
       "        vertical-align: top;\n",
       "    }\n",
       "\n",
       "    .dataframe thead th {\n",
       "        text-align: right;\n",
       "    }\n",
       "</style>\n",
       "<table border=\"1\" class=\"dataframe\">\n",
       "  <thead>\n",
       "    <tr style=\"text-align: right;\">\n",
       "      <th></th>\n",
       "      <th>InvoiceNo</th>\n",
       "      <th>StockCode</th>\n",
       "      <th>Description</th>\n",
       "      <th>Quantity</th>\n",
       "      <th>InvoiceDate</th>\n",
       "      <th>UnitPrice</th>\n",
       "      <th>CustomerID</th>\n",
       "    </tr>\n",
       "  </thead>\n",
       "  <tbody>\n",
       "    <tr>\n",
       "      <th>622</th>\n",
       "      <td>536414</td>\n",
       "      <td>22139</td>\n",
       "      <td>NaN</td>\n",
       "      <td>56</td>\n",
       "      <td>2018-11-29 11:52:00</td>\n",
       "      <td>0.00</td>\n",
       "      <td>&lt;NA&gt;</td>\n",
       "    </tr>\n",
       "    <tr>\n",
       "      <th>1443</th>\n",
       "      <td>536544</td>\n",
       "      <td>21773</td>\n",
       "      <td>DECORATIVE ROSE BATHROOM BOTTLE</td>\n",
       "      <td>1</td>\n",
       "      <td>2018-11-29 14:32:00</td>\n",
       "      <td>2.51</td>\n",
       "      <td>&lt;NA&gt;</td>\n",
       "    </tr>\n",
       "    <tr>\n",
       "      <th>1444</th>\n",
       "      <td>536544</td>\n",
       "      <td>21774</td>\n",
       "      <td>DECORATIVE CATS BATHROOM BOTTLE</td>\n",
       "      <td>2</td>\n",
       "      <td>2018-11-29 14:32:00</td>\n",
       "      <td>2.51</td>\n",
       "      <td>&lt;NA&gt;</td>\n",
       "    </tr>\n",
       "    <tr>\n",
       "      <th>1445</th>\n",
       "      <td>536544</td>\n",
       "      <td>21786</td>\n",
       "      <td>POLKADOT RAIN HAT</td>\n",
       "      <td>4</td>\n",
       "      <td>2018-11-29 14:32:00</td>\n",
       "      <td>0.85</td>\n",
       "      <td>&lt;NA&gt;</td>\n",
       "    </tr>\n",
       "    <tr>\n",
       "      <th>1446</th>\n",
       "      <td>536544</td>\n",
       "      <td>21787</td>\n",
       "      <td>RAIN PONCHO RETROSPOT</td>\n",
       "      <td>2</td>\n",
       "      <td>2018-11-29 14:32:00</td>\n",
       "      <td>1.66</td>\n",
       "      <td>&lt;NA&gt;</td>\n",
       "    </tr>\n",
       "    <tr>\n",
       "      <th>1447</th>\n",
       "      <td>536544</td>\n",
       "      <td>21790</td>\n",
       "      <td>VINTAGE SNAP CARDS</td>\n",
       "      <td>9</td>\n",
       "      <td>2018-11-29 14:32:00</td>\n",
       "      <td>1.66</td>\n",
       "      <td>&lt;NA&gt;</td>\n",
       "    </tr>\n",
       "    <tr>\n",
       "      <th>1448</th>\n",
       "      <td>536544</td>\n",
       "      <td>21791</td>\n",
       "      <td>VINTAGE HEADS AND TAILS CARD GAME</td>\n",
       "      <td>2</td>\n",
       "      <td>2018-11-29 14:32:00</td>\n",
       "      <td>2.51</td>\n",
       "      <td>&lt;NA&gt;</td>\n",
       "    </tr>\n",
       "    <tr>\n",
       "      <th>1449</th>\n",
       "      <td>536544</td>\n",
       "      <td>21801</td>\n",
       "      <td>CHRISTMAS TREE DECORATION WITH BELL</td>\n",
       "      <td>10</td>\n",
       "      <td>2018-11-29 14:32:00</td>\n",
       "      <td>0.43</td>\n",
       "      <td>&lt;NA&gt;</td>\n",
       "    </tr>\n",
       "    <tr>\n",
       "      <th>1450</th>\n",
       "      <td>536544</td>\n",
       "      <td>21802</td>\n",
       "      <td>CHRISTMAS TREE HEART DECORATION</td>\n",
       "      <td>9</td>\n",
       "      <td>2018-11-29 14:32:00</td>\n",
       "      <td>0.43</td>\n",
       "      <td>&lt;NA&gt;</td>\n",
       "    </tr>\n",
       "    <tr>\n",
       "      <th>1451</th>\n",
       "      <td>536544</td>\n",
       "      <td>21803</td>\n",
       "      <td>CHRISTMAS TREE STAR DECORATION</td>\n",
       "      <td>11</td>\n",
       "      <td>2018-11-29 14:32:00</td>\n",
       "      <td>0.43</td>\n",
       "      <td>&lt;NA&gt;</td>\n",
       "    </tr>\n",
       "    <tr>\n",
       "      <th>1452</th>\n",
       "      <td>536544</td>\n",
       "      <td>21809</td>\n",
       "      <td>CHRISTMAS HANGING TREE WITH BELL</td>\n",
       "      <td>1</td>\n",
       "      <td>2018-11-29 14:32:00</td>\n",
       "      <td>2.51</td>\n",
       "      <td>&lt;NA&gt;</td>\n",
       "    </tr>\n",
       "    <tr>\n",
       "      <th>1453</th>\n",
       "      <td>536544</td>\n",
       "      <td>21810</td>\n",
       "      <td>CHRISTMAS HANGING STAR WITH BELL</td>\n",
       "      <td>3</td>\n",
       "      <td>2018-11-29 14:32:00</td>\n",
       "      <td>2.51</td>\n",
       "      <td>&lt;NA&gt;</td>\n",
       "    </tr>\n",
       "    <tr>\n",
       "      <th>1454</th>\n",
       "      <td>536544</td>\n",
       "      <td>21811</td>\n",
       "      <td>CHRISTMAS HANGING HEART WITH BELL</td>\n",
       "      <td>1</td>\n",
       "      <td>2018-11-29 14:32:00</td>\n",
       "      <td>2.51</td>\n",
       "      <td>&lt;NA&gt;</td>\n",
       "    </tr>\n",
       "    <tr>\n",
       "      <th>1455</th>\n",
       "      <td>536544</td>\n",
       "      <td>21821</td>\n",
       "      <td>GLITTER STAR GARLAND WITH BELLS</td>\n",
       "      <td>1</td>\n",
       "      <td>2018-11-29 14:32:00</td>\n",
       "      <td>7.62</td>\n",
       "      <td>&lt;NA&gt;</td>\n",
       "    </tr>\n",
       "    <tr>\n",
       "      <th>1456</th>\n",
       "      <td>536544</td>\n",
       "      <td>21822</td>\n",
       "      <td>GLITTER CHRISTMAS TREE WITH BELLS</td>\n",
       "      <td>1</td>\n",
       "      <td>2018-11-29 14:32:00</td>\n",
       "      <td>4.21</td>\n",
       "      <td>&lt;NA&gt;</td>\n",
       "    </tr>\n",
       "    <tr>\n",
       "      <th>1457</th>\n",
       "      <td>536544</td>\n",
       "      <td>21823</td>\n",
       "      <td>PAINTED METAL HEART WITH HOLLY BELL</td>\n",
       "      <td>2</td>\n",
       "      <td>2018-11-29 14:32:00</td>\n",
       "      <td>2.98</td>\n",
       "      <td>&lt;NA&gt;</td>\n",
       "    </tr>\n",
       "    <tr>\n",
       "      <th>1458</th>\n",
       "      <td>536544</td>\n",
       "      <td>21844</td>\n",
       "      <td>RED RETROSPOT MUG</td>\n",
       "      <td>2</td>\n",
       "      <td>2018-11-29 14:32:00</td>\n",
       "      <td>5.91</td>\n",
       "      <td>&lt;NA&gt;</td>\n",
       "    </tr>\n",
       "    <tr>\n",
       "      <th>1459</th>\n",
       "      <td>536544</td>\n",
       "      <td>21851</td>\n",
       "      <td>LILAC DIAMANTE PEN IN GIFT BOX</td>\n",
       "      <td>1</td>\n",
       "      <td>2018-11-29 14:32:00</td>\n",
       "      <td>4.21</td>\n",
       "      <td>&lt;NA&gt;</td>\n",
       "    </tr>\n",
       "    <tr>\n",
       "      <th>1460</th>\n",
       "      <td>536544</td>\n",
       "      <td>21870</td>\n",
       "      <td>I CAN ONLY PLEASE ONE PERSON MUG</td>\n",
       "      <td>1</td>\n",
       "      <td>2018-11-29 14:32:00</td>\n",
       "      <td>3.36</td>\n",
       "      <td>&lt;NA&gt;</td>\n",
       "    </tr>\n",
       "    <tr>\n",
       "      <th>1461</th>\n",
       "      <td>536544</td>\n",
       "      <td>21871</td>\n",
       "      <td>SAVE THE PLANET MUG</td>\n",
       "      <td>5</td>\n",
       "      <td>2018-11-29 14:32:00</td>\n",
       "      <td>3.36</td>\n",
       "      <td>&lt;NA&gt;</td>\n",
       "    </tr>\n",
       "  </tbody>\n",
       "</table>\n",
       "</div>"
      ],
      "text/plain": [
       "     InvoiceNo StockCode                          Description  Quantity  \\\n",
       "622     536414     22139                                  NaN        56   \n",
       "1443    536544     21773      DECORATIVE ROSE BATHROOM BOTTLE         1   \n",
       "1444    536544     21774      DECORATIVE CATS BATHROOM BOTTLE         2   \n",
       "1445    536544     21786                   POLKADOT RAIN HAT          4   \n",
       "1446    536544     21787                RAIN PONCHO RETROSPOT         2   \n",
       "1447    536544     21790                   VINTAGE SNAP CARDS         9   \n",
       "1448    536544     21791   VINTAGE HEADS AND TAILS CARD GAME          2   \n",
       "1449    536544     21801  CHRISTMAS TREE DECORATION WITH BELL        10   \n",
       "1450    536544     21802      CHRISTMAS TREE HEART DECORATION         9   \n",
       "1451    536544     21803       CHRISTMAS TREE STAR DECORATION        11   \n",
       "1452    536544     21809     CHRISTMAS HANGING TREE WITH BELL         1   \n",
       "1453    536544     21810     CHRISTMAS HANGING STAR WITH BELL         3   \n",
       "1454    536544     21811    CHRISTMAS HANGING HEART WITH BELL         1   \n",
       "1455    536544     21821     GLITTER STAR GARLAND WITH BELLS          1   \n",
       "1456    536544     21822    GLITTER CHRISTMAS TREE WITH BELLS         1   \n",
       "1457    536544     21823  PAINTED METAL HEART WITH HOLLY BELL         2   \n",
       "1458    536544     21844                    RED RETROSPOT MUG         2   \n",
       "1459    536544     21851       LILAC DIAMANTE PEN IN GIFT BOX         1   \n",
       "1460    536544     21870     I CAN ONLY PLEASE ONE PERSON MUG         1   \n",
       "1461    536544     21871                  SAVE THE PLANET MUG         5   \n",
       "\n",
       "             InvoiceDate  UnitPrice  CustomerID  \n",
       "622  2018-11-29 11:52:00       0.00        <NA>  \n",
       "1443 2018-11-29 14:32:00       2.51        <NA>  \n",
       "1444 2018-11-29 14:32:00       2.51        <NA>  \n",
       "1445 2018-11-29 14:32:00       0.85        <NA>  \n",
       "1446 2018-11-29 14:32:00       1.66        <NA>  \n",
       "1447 2018-11-29 14:32:00       1.66        <NA>  \n",
       "1448 2018-11-29 14:32:00       2.51        <NA>  \n",
       "1449 2018-11-29 14:32:00       0.43        <NA>  \n",
       "1450 2018-11-29 14:32:00       0.43        <NA>  \n",
       "1451 2018-11-29 14:32:00       0.43        <NA>  \n",
       "1452 2018-11-29 14:32:00       2.51        <NA>  \n",
       "1453 2018-11-29 14:32:00       2.51        <NA>  \n",
       "1454 2018-11-29 14:32:00       2.51        <NA>  \n",
       "1455 2018-11-29 14:32:00       7.62        <NA>  \n",
       "1456 2018-11-29 14:32:00       4.21        <NA>  \n",
       "1457 2018-11-29 14:32:00       2.98        <NA>  \n",
       "1458 2018-11-29 14:32:00       5.91        <NA>  \n",
       "1459 2018-11-29 14:32:00       4.21        <NA>  \n",
       "1460 2018-11-29 14:32:00       3.36        <NA>  \n",
       "1461 2018-11-29 14:32:00       3.36        <NA>  "
      ]
     },
     "execution_count": 262,
     "metadata": {},
     "output_type": "execute_result"
    }
   ],
   "source": [
    "# Criando df nova com faltantes em customerid\n",
    "df_missing = df[df['CustomerID'].isnull()]\n",
    "\n",
    "# Imprimindo\n",
    "df_missing.head(20)"
   ]
  },
  {
   "cell_type": "markdown",
   "metadata": {},
   "source": [
    "**Conclusão Intermediária**\n",
    "\n",
    "O primeiro tratamento que podemos fazer na base de dados afim de recuperar os dados é verificar nos dados se não existem pedidos com o mesmo InvoiceNo com o nome do cliente e preencher. Após isso analisar o quanto recuperamos de dados."
   ]
  },
  {
   "cell_type": "code",
   "execution_count": 263,
   "metadata": {},
   "outputs": [
    {
     "name": "stdout",
     "output_type": "stream",
     "text": [
      "<class 'pandas.core.frame.DataFrame'>\n",
      "Int64Index: 536641 entries, 0 to 541908\n",
      "Data columns (total 7 columns):\n",
      " #   Column       Non-Null Count   Dtype         \n",
      "---  ------       --------------   -----         \n",
      " 0   InvoiceNo    536641 non-null  object        \n",
      " 1   StockCode    536641 non-null  object        \n",
      " 2   Description  535187 non-null  object        \n",
      " 3   Quantity     536641 non-null  int64         \n",
      " 4   InvoiceDate  536641 non-null  datetime64[ns]\n",
      " 5   UnitPrice    536641 non-null  float64       \n",
      " 6   CustomerID   401604 non-null  Int64         \n",
      "dtypes: Int64(1), datetime64[ns](1), float64(1), int64(1), object(3)\n",
      "memory usage: 33.3+ MB\n"
     ]
    }
   ],
   "source": [
    "# Criando um dicionário de InvoiceNo para CustomerID onde CustomerID não é nulo\n",
    "invoice_to_customer = df.dropna(subset=['CustomerID']).groupby('InvoiceNo')['CustomerID'].first().to_dict()\n",
    "\n",
    "# Preenchendo valores faltantes de CustomerID usando o dicionário\n",
    "df['CustomerID'].fillna(df['InvoiceNo'].map(invoice_to_customer), inplace=True)\n",
    "\n",
    "# Mostrando as informações\n",
    "df.info()"
   ]
  },
  {
   "cell_type": "markdown",
   "metadata": {},
   "source": [
    "**Conclusão**\n",
    "\n",
    "Podemos perceber que nosso tratamento não surtiu nenhum efeito nos dados faltantes. Nesse caso, como estamos trabalhando com o objetivo de entender o perfil de consumidor, precisamos desses dados.\n",
    "\n",
    "Podemos observar que as invoices não foram cadastradas o código do cliente. Assim, se apagar esses dados de nossa análise não será afetada, devido a que as invoices que não tem customerID são únicas e não iriam afetar outras.\n",
    "\n",
    "Logo, devido a essas questões iremos optar por apagar os dados faltantes da coluna CustomerID"
   ]
  },
  {
   "cell_type": "code",
   "execution_count": 264,
   "metadata": {},
   "outputs": [
    {
     "name": "stdout",
     "output_type": "stream",
     "text": [
      "<class 'pandas.core.frame.DataFrame'>\n",
      "Int64Index: 401604 entries, 0 to 541908\n",
      "Data columns (total 7 columns):\n",
      " #   Column       Non-Null Count   Dtype         \n",
      "---  ------       --------------   -----         \n",
      " 0   InvoiceNo    401604 non-null  object        \n",
      " 1   StockCode    401604 non-null  object        \n",
      " 2   Description  401604 non-null  object        \n",
      " 3   Quantity     401604 non-null  int64         \n",
      " 4   InvoiceDate  401604 non-null  datetime64[ns]\n",
      " 5   UnitPrice    401604 non-null  float64       \n",
      " 6   CustomerID   401604 non-null  Int64         \n",
      "dtypes: Int64(1), datetime64[ns](1), float64(1), int64(1), object(3)\n",
      "memory usage: 24.9+ MB\n"
     ]
    }
   ],
   "source": [
    "# Apagando os dados faltantes\n",
    "df.dropna(subset=['CustomerID'], inplace=True)\n",
    "\n",
    "# Mostrando as infos\n",
    "df.info()"
   ]
  },
  {
   "cell_type": "markdown",
   "metadata": {},
   "source": [
    "**Conclusão**\n",
    "\n",
    "Podemos perceber que perdemos um volume considerável de dados, mas ao mesmo tempo essa limpeza já tratou dados faltentes em Description.\n",
    "\n",
    "Isso, até pode, reiterar a hipótese de que existia certa falha no sistema. Agora com os dados Organizados, podemos continuar nossas análises. \n",
    "\n",
    "A última mudança será alterar o nome das colunas para snake_case para facilitar nosso trabalho futuro."
   ]
  },
  {
   "cell_type": "code",
   "execution_count": 265,
   "metadata": {
    "scrolled": true
   },
   "outputs": [
    {
     "name": "stdout",
     "output_type": "stream",
     "text": [
      "<class 'pandas.core.frame.DataFrame'>\n",
      "Int64Index: 401604 entries, 0 to 541908\n",
      "Data columns (total 7 columns):\n",
      " #   Column        Non-Null Count   Dtype         \n",
      "---  ------        --------------   -----         \n",
      " 0   invoice_no    401604 non-null  object        \n",
      " 1   stock_code    401604 non-null  object        \n",
      " 2   description   401604 non-null  object        \n",
      " 3   quantity      401604 non-null  int64         \n",
      " 4   invoice_date  401604 non-null  datetime64[ns]\n",
      " 5   unit_price    401604 non-null  float64       \n",
      " 6   customer_id   401604 non-null  Int64         \n",
      "dtypes: Int64(1), datetime64[ns](1), float64(1), int64(1), object(3)\n",
      "memory usage: 24.9+ MB\n"
     ]
    }
   ],
   "source": [
    "# Função para converter para snake_case\n",
    "def to_snake_case(string):\n",
    "    s1 = re.sub('(.)([A-Z][a-z]+)', r'\\1_\\2', string)\n",
    "    return re.sub('([a-z0-9])([A-Z])', r'\\1_\\2', s1).lower()\n",
    "\n",
    "# Alterar os nomes das colunas\n",
    "df.columns = [to_snake_case(col) for col in df.columns]\n",
    "\n",
    "# Mostando info\n",
    "df.info()"
   ]
  },
  {
   "cell_type": "markdown",
   "metadata": {},
   "source": [
    "## Analise Exploratória de Dados - EDA \n",
    "\n",
    "Agora iremos realizar nossa EDA, entender os dados quantitativos para cada uma das colunas. \n",
    "\n",
    "Nesse processo conseguimos enteder os dados quantitativos, a estatística, distribuição das vendas entre outros.\n",
    "\n",
    "Nesse passo iremos gerar as seguintes análises:\n",
    "\n",
    "* Resumo Estatístico: Estatísticas descritivas básicas para obter uma noção geral dos dados.\n",
    "* Análise de correlação.\n",
    "* Visualizações de Dados: Histogramas, gráficos de dispersão, gráficos de caixa, etc.\n",
    "* Análise de Outliers."
   ]
  },
  {
   "cell_type": "markdown",
   "metadata": {},
   "source": [
    "### Resumo Estatístico dos dados"
   ]
  },
  {
   "cell_type": "code",
   "execution_count": 266,
   "metadata": {},
   "outputs": [
    {
     "name": "stdout",
     "output_type": "stream",
     "text": [
      "            quantity     unit_price    customer_id\n",
      "count  401604.000000  401604.000000  401604.000000\n",
      "mean       12.183273       3.474064   15281.160818\n",
      "std       250.283037      69.764035    1714.006089\n",
      "min    -80995.000000       0.000000   12346.000000\n",
      "25%         2.000000       1.250000   13939.000000\n",
      "50%         5.000000       1.950000   15145.000000\n",
      "75%        12.000000       3.750000   16784.000000\n",
      "max     80995.000000   38970.000000   18287.000000\n"
     ]
    }
   ],
   "source": [
    "# Descrevendo os dados\n",
    "print(df.describe())"
   ]
  },
  {
   "cell_type": "markdown",
   "metadata": {},
   "source": [
    "**Conclusão**\n",
    "\n",
    "Com base na descrição estatística dos dados, podemos concluir o seguinte:\n",
    "\n",
    "1. **Quantity (Quantidade)**:\n",
    "    - O valor médio de quantidade é aproximadamente 12, sugerindo que, em média, as ordens têm por volta de 12 itens.\n",
    "    - Há uma grande variação na quantidade, com um desvio padrão de 250,28.\n",
    "    - Interessantemente, temos valores negativos para a quantidade, o que indica que pode-se ter dados no sistema incorretos ou devoluções. Precisamos entender os dados com mais profundidade futuramente.\n",
    "    - 25% das ordens têm 2 ou menos itens, e 75% das ordens têm 12 ou menos itens.\n",
    "\n",
    "2. **UnitPrice (Preço Unitário)**:\n",
    "    - O preço médio do produto é de aproximadamente 3,46.\n",
    "    - Novamente, há uma grande variação nos preços, com um desvio padrão de 69,32.\n",
    "    - O preço mínimo é 0, o que pode indicar produtos promocionais ou brindes. Por outro lado, o preço máximo chega a 38.970, indicando a presença de produtos de alto valor no conjunto de dados.\n",
    "    - 50% dos produtos têm um preço unitário de 1,95 ou menos.\n",
    "\n",
    "A presença de outliers, especialmente em 'Quantity' e 'UnitPrice', é evidente pela diferença entre os valores médios e máximos, bem como pelos valores negativos em 'Quantity'. Esses outliers podem ser resultado de devoluções, descontos especiais ou erros de entrada de dados e podem precisar de investigação adicional para tomada de decisões de negócios."
   ]
  },
  {
   "cell_type": "markdown",
   "metadata": {},
   "source": [
    "### Análise de correlação"
   ]
  },
  {
   "cell_type": "code",
   "execution_count": 267,
   "metadata": {},
   "outputs": [
    {
     "data": {
      "image/png": "[encoded data removed]",
      "text/plain": [
       "<Figure size 432x288 with 2 Axes>"
      ]
     },
     "metadata": {
      "needs_background": "light"
     },
     "output_type": "display_data"
    }
   ],
   "source": [
    "# Criando a matriz de correlação de dados\n",
    "correlation_matrix = df.corr()\n",
    "sns.heatmap(correlation_matrix, annot=True)\n",
    "plt.title('Matrix de Correlação')\n",
    "plt.show()"
   ]
  },
  {
   "cell_type": "markdown",
   "metadata": {},
   "source": [
    "**Conclusões**\n",
    "\n",
    "A tabela apresentada mostra os coeficientes de correlação entre três variáveis: 'quantity', 'unit_price', e 'customer_id'. A correlação com CustomerID não faz sentido, por isso, não iremos levar em consideração em nossa abordagem. Assim, baseado nesses coeficientes, podemos concluir:\n",
    "\n",
    "1. **Correlação entre Quantity e Unit_Price**: \n",
    "   - O coeficiente é -0.001238, o que é muito próximo de zero. Isto sugere que há uma correlação negligível entre a quantidade e o preço unitário. Em termos práticos, isso significa que alterações no preço unitário não estão fortemente associadas a alterações na quantidade comprada, e vice-versa.\n",
    "\n",
    "2. **Correlações Diagonais**: \n",
    "   - Os valores na diagonal principal (de cima à esquerda para baixo à direita) são todos 1.00000. Isto é esperado, pois qualquer variável terá uma correlação perfeita consigo mesma.\n",
    "\n",
    "Em resumo, as variáveis apresentadas têm correlações muito fracas entre si. Portanto, no contexto deste conjunto de dados, não podemos concluir que mudanças em uma dessas variáveis causariam mudanças previsíveis em qualquer uma das outras. Por exemplo, alterar o preço unitário de um item não teria um impacto significativo na quantidade do item que é comprada, pelo menos com base nesta análise de correlação."
   ]
  },
  {
   "cell_type": "code",
   "execution_count": 268,
   "metadata": {
    "scrolled": true
   },
   "outputs": [
    {
     "name": "stdout",
     "output_type": "stream",
     "text": [
      "<class 'pandas.core.frame.DataFrame'>\n",
      "Int64Index: 401604 entries, 0 to 541908\n",
      "Data columns (total 7 columns):\n",
      " #   Column        Non-Null Count   Dtype         \n",
      "---  ------        --------------   -----         \n",
      " 0   invoice_no    401604 non-null  object        \n",
      " 1   stock_code    401604 non-null  object        \n",
      " 2   description   401604 non-null  object        \n",
      " 3   quantity      401604 non-null  int64         \n",
      " 4   invoice_date  401604 non-null  datetime64[ns]\n",
      " 5   unit_price    401604 non-null  float64       \n",
      " 6   customer_id   401604 non-null  Int64         \n",
      "dtypes: Int64(1), datetime64[ns](1), float64(1), int64(1), object(3)\n",
      "memory usage: 24.9+ MB\n"
     ]
    }
   ],
   "source": [
    "df.info()"
   ]
  },
  {
   "cell_type": "markdown",
   "metadata": {},
   "source": [
    "### Análise dos dados das colunas\n",
    "\n",
    "Iremos analisar cada uma das colunas para entender seus dados quantitativos e suas especificações."
   ]
  },
  {
   "cell_type": "markdown",
   "metadata": {},
   "source": [
    "#### Coluna invoice_no\n",
    "\n",
    "Aqui iremos tentar entender o número de pedidos distintos e depois gerar um gráfico de linha com o número agregado de pedidos por dia, semana e mês."
   ]
  },
  {
   "cell_type": "code",
   "execution_count": 269,
   "metadata": {},
   "outputs": [
    {
     "name": "stdout",
     "output_type": "stream",
     "text": [
      "Número total de pedidos distintos: 22190\n"
     ]
    }
   ],
   "source": [
    "# Número de pedidos únicos\n",
    "unique_invoices = df['invoice_no'].nunique()\n",
    "print(f\"Número total de pedidos distintos: {unique_invoices}\")"
   ]
  },
  {
   "cell_type": "code",
   "execution_count": 270,
   "metadata": {},
   "outputs": [
    {
     "data": {
      "image/png": "[encoded data removed]",
      "text/plain": [
       "<Figure size 1152x576 with 1 Axes>"
      ]
     },
     "metadata": {
      "needs_background": "light"
     },
     "output_type": "display_data"
    }
   ],
   "source": [
    "# Extraindo a data (sem a hora) da coluna 'invoice_date'\n",
    "df['date'] = df['invoice_date'].dt.date\n",
    "\n",
    "# Contando o número de pedidos únicos por dia\n",
    "daily_orders = df.groupby('date')['invoice_no'].nunique()\n",
    "\n",
    "# Plotando o gráfico de linha\n",
    "plt.figure(figsize=(16, 8))\n",
    "daily_orders.plot(kind='line')\n",
    "plt.title('Número de Pedidos Únicos por Dia')\n",
    "plt.xlabel('Data')\n",
    "plt.ylabel('Número de Pedidos Únicos')\n",
    "plt.grid(True)\n",
    "plt.tight_layout()\n",
    "plt.show()"
   ]
  },
  {
   "cell_type": "code",
   "execution_count": 271,
   "metadata": {},
   "outputs": [
    {
     "data": {
      "image/png": "[encoded data removed]",
      "text/plain": [
       "<Figure size 1152x576 with 1 Axes>"
      ]
     },
     "metadata": {
      "needs_background": "light"
     },
     "output_type": "display_data"
    }
   ],
   "source": [
    "# Extraindo a semana e o ano da coluna 'invoice_date'\n",
    "df['week_year'] = df['invoice_date'].dt.to_period('W')\n",
    "\n",
    "# Contando o número de pedidos únicos por semana\n",
    "weekly_orders = df.groupby('week_year')['invoice_no'].nunique()\n",
    "\n",
    "# Plotando o gráfico de linha\n",
    "plt.figure(figsize=(16, 8))\n",
    "weekly_orders.plot(kind='line')\n",
    "plt.title('Número de Pedidos Únicos por Semana')\n",
    "plt.xlabel('Semana')\n",
    "plt.ylabel('Número de Pedidos Únicos')\n",
    "plt.grid(True)\n",
    "plt.tight_layout()\n",
    "plt.show()"
   ]
  },
  {
   "cell_type": "code",
   "execution_count": 272,
   "metadata": {},
   "outputs": [
    {
     "data": {
      "image/png": "[encoded data removed]",
      "text/plain": [
       "<Figure size 1152x576 with 1 Axes>"
      ]
     },
     "metadata": {
      "needs_background": "light"
     },
     "output_type": "display_data"
    }
   ],
   "source": [
    "# Extraindo o mês e o ano da coluna 'invoice_date'\n",
    "df['month_year'] = df['invoice_date'].dt.to_period('M')\n",
    "\n",
    "# Contando o número de pedidos únicos por mês\n",
    "monthly_orders = df.groupby('month_year')['invoice_no'].nunique()\n",
    "\n",
    "# Plotando o gráfico de linha\n",
    "plt.figure(figsize=(16, 8))\n",
    "monthly_orders.plot(kind='line')\n",
    "\n",
    "# Título e rótulos dos eixos\n",
    "plt.title('Número de Pedidos Únicos por Mês')\n",
    "plt.xlabel('Mês')\n",
    "plt.ylabel('Número de Pedidos Únicos')\n",
    "\n",
    "# Ajustando o eixo x para exibir as datas de forma mais espaçada\n",
    "xticks = monthly_orders.index[::2]  # Pega cada segundo rótulo para espaçar\n",
    "plt.xticks(ticks=xticks, labels=xticks, rotation=45)\n",
    "\n",
    "plt.grid(True)\n",
    "plt.tight_layout()\n",
    "plt.show()"
   ]
  },
  {
   "cell_type": "code",
   "execution_count": 273,
   "metadata": {
    "scrolled": true
   },
   "outputs": [
    {
     "name": "stdout",
     "output_type": "stream",
     "text": [
      "Data inicial: 2018-11-29 08:26:00\n",
      "Data final: 2019-12-07 12:50:00\n"
     ]
    }
   ],
   "source": [
    "# Capturando a data inicial e final da coluna 'invoice_date'\n",
    "start_date = df['invoice_date'].min()\n",
    "end_date = df['invoice_date'].max()\n",
    "\n",
    "print(f\"Data inicial: {start_date}\")\n",
    "print(f\"Data final: {end_date}\")"
   ]
  },
  {
   "cell_type": "markdown",
   "metadata": {},
   "source": [
    "**Conclusões**\n",
    "\n",
    "Podemos perceber que:\n",
    "\n",
    "* O número total de pedidos distintos é de 22190 pedidos durante o período.\n",
    "\n",
    "* O gráfico de pedidos diários demonstra sazonalidade nas compras diárias, com picos de altas e de baixa. O intuito aqui não é entender a ciclicidade das compras e sim o comportamento diário, por isso, não gerou-se cálculos precisos para tal.\n",
    "\n",
    "* Ao gerar o gráfico com pedidos únicos semanais a tendência é mais clara, onde no meio do mês de Dezembro há uma queda grande nos pedidos e vai se recuperando gradualmente durante o ano. O padrão de queda se repete, pois ao final dos dados há uma queda no número de pedidos como visto anteriormente, mas de menor magnitude.\n",
    "\n",
    "* Para o compilado dos pedidos mensais podemos observar que apesar da queda no meio do mês de Dezembro, o mês parece ser bom no geral para as vendas, apontando para uma primeira quinzena boa e a segunda ruim para 2018, mas com um padrão de crescimento no número de pedidos únicos mensais iguais aos observados no semanal.\n",
    "\n",
    "* Apesar das visualizações dos dados apontarem para que o mês de novembro de 2018 foi ruim e dezembro de 2019 também, não é possível afirmar isso, pois não temos os dados completos do mês para afirmação de tal.\n",
    "\n",
    "* O que pode-se observar e concluir de fato é de que há uma tendência no crescimento dos pedidos entre os períodos observados e objeto de estudo, revelando uma tração nas vendas do e-commerce.\n",
    "\n",
    "* Além disso, há uma sazonalidade diária das vendas. Podendo ser um objeto de estudo para a criação de um modelo de previsão de vendas com Machine Learning posterior."
   ]
  },
  {
   "cell_type": "markdown",
   "metadata": {},
   "source": [
    "#### Coluna stock_code\n",
    "\n",
    "Iremos analisar:\n",
    "\n",
    "* Quantidade de valores únicos.\n",
    "* Valores mais frequentes e sua contagem.\n",
    "* Histograma ou gráfico de barras dos códigos de estoque mais frequentes. Isso nos ajudará a visualizar os códigos de estoque que são mais populares.\n",
    "* Relacionamento com outras colunas"
   ]
  },
  {
   "cell_type": "code",
   "execution_count": 274,
   "metadata": {},
   "outputs": [
    {
     "data": {
      "text/plain": [
       "3684"
      ]
     },
     "execution_count": 274,
     "metadata": {},
     "output_type": "execute_result"
    }
   ],
   "source": [
    "# Número de produtos únicos\n",
    "unique_stock_codes = df['stock_code'].nunique()\n",
    "unique_stock_codes"
   ]
  },
  {
   "cell_type": "code",
   "execution_count": 275,
   "metadata": {},
   "outputs": [
    {
     "name": "stdout",
     "output_type": "stream",
     "text": [
      "     stock_code                         description  count\n",
      "3475     85123A  WHITE HANGING HEART T-LIGHT HOLDER   2058\n",
      "1322      22423            REGENCY CAKESTAND 3 TIER   1894\n",
      "3460     85099B             JUMBO BAG RED RETROSPOT   1659\n",
      "2805      47566                       PARTY BUNTING   1409\n",
      "3288      84879       ASSORTED COLOUR BIRD ORNAMENT   1405\n",
      "174       20725             LUNCH BAG RED RETROSPOT   1345\n",
      "1611      22720   SET OF 3 CAKE TINS PANTRY DESIGN    1224\n",
      "3915       POST                             POSTAGE   1196\n",
      "177       20727             LUNCH BAG  BLACK SKULL.   1099\n",
      "434       21212     PACK OF 72 RETROSPOT CAKE CASES   1062\n"
     ]
    }
   ],
   "source": [
    "# Agrupando por 'stock_code' e 'description', obtenha a contagem de frequência e ordene em ordem descendente\n",
    "top_stock_with_description = df.groupby(['stock_code', 'description']).size().reset_index(name='count').sort_values(by='count', ascending=False).head(10)\n",
    "\n",
    "print(top_stock_with_description)"
   ]
  },
  {
   "cell_type": "markdown",
   "metadata": {},
   "source": [
    "**Conclusão Intermediária** \n",
    "\n",
    "Podemos ver que:\n",
    "\n",
    "* Existem 3684 diferentes códigos de produtos cadastrados na analise realizada\n",
    "\n",
    "* Temos um código de produto chamado de POST. Iremos tentar entender com mais clareza o que ela significa para continuar."
   ]
  },
  {
   "cell_type": "code",
   "execution_count": 276,
   "metadata": {},
   "outputs": [
    {
     "data": {
      "text/html": [
       "<div>\n",
       "<style scoped>\n",
       "    .dataframe tbody tr th:only-of-type {\n",
       "        vertical-align: middle;\n",
       "    }\n",
       "\n",
       "    .dataframe tbody tr th {\n",
       "        vertical-align: top;\n",
       "    }\n",
       "\n",
       "    .dataframe thead th {\n",
       "        text-align: right;\n",
       "    }\n",
       "</style>\n",
       "<table border=\"1\" class=\"dataframe\">\n",
       "  <thead>\n",
       "    <tr style=\"text-align: right;\">\n",
       "      <th></th>\n",
       "      <th>invoice_no</th>\n",
       "      <th>stock_code</th>\n",
       "      <th>description</th>\n",
       "      <th>quantity</th>\n",
       "      <th>invoice_date</th>\n",
       "      <th>unit_price</th>\n",
       "      <th>customer_id</th>\n",
       "      <th>date</th>\n",
       "      <th>week_year</th>\n",
       "      <th>month_year</th>\n",
       "    </tr>\n",
       "  </thead>\n",
       "  <tbody>\n",
       "    <tr>\n",
       "      <th>45</th>\n",
       "      <td>536370</td>\n",
       "      <td>POST</td>\n",
       "      <td>POSTAGE</td>\n",
       "      <td>3</td>\n",
       "      <td>2018-11-29 08:45:00</td>\n",
       "      <td>18.0</td>\n",
       "      <td>12583</td>\n",
       "      <td>2018-11-29</td>\n",
       "      <td>2018-11-26/2018-12-02</td>\n",
       "      <td>2018-11</td>\n",
       "    </tr>\n",
       "    <tr>\n",
       "      <th>386</th>\n",
       "      <td>536403</td>\n",
       "      <td>POST</td>\n",
       "      <td>POSTAGE</td>\n",
       "      <td>1</td>\n",
       "      <td>2018-11-29 11:27:00</td>\n",
       "      <td>15.0</td>\n",
       "      <td>12791</td>\n",
       "      <td>2018-11-29</td>\n",
       "      <td>2018-11-26/2018-12-02</td>\n",
       "      <td>2018-11</td>\n",
       "    </tr>\n",
       "    <tr>\n",
       "      <th>1123</th>\n",
       "      <td>536527</td>\n",
       "      <td>POST</td>\n",
       "      <td>POSTAGE</td>\n",
       "      <td>1</td>\n",
       "      <td>2018-11-29 13:04:00</td>\n",
       "      <td>18.0</td>\n",
       "      <td>12662</td>\n",
       "      <td>2018-11-29</td>\n",
       "      <td>2018-11-26/2018-12-02</td>\n",
       "      <td>2018-11</td>\n",
       "    </tr>\n",
       "    <tr>\n",
       "      <th>5073</th>\n",
       "      <td>536840</td>\n",
       "      <td>POST</td>\n",
       "      <td>POSTAGE</td>\n",
       "      <td>1</td>\n",
       "      <td>2018-11-30 18:27:00</td>\n",
       "      <td>18.0</td>\n",
       "      <td>12738</td>\n",
       "      <td>2018-11-30</td>\n",
       "      <td>2018-11-26/2018-12-02</td>\n",
       "      <td>2018-11</td>\n",
       "    </tr>\n",
       "    <tr>\n",
       "      <th>5258</th>\n",
       "      <td>536852</td>\n",
       "      <td>POST</td>\n",
       "      <td>POSTAGE</td>\n",
       "      <td>1</td>\n",
       "      <td>2018-12-01 09:51:00</td>\n",
       "      <td>18.0</td>\n",
       "      <td>12686</td>\n",
       "      <td>2018-12-01</td>\n",
       "      <td>2018-11-26/2018-12-02</td>\n",
       "      <td>2018-12</td>\n",
       "    </tr>\n",
       "    <tr>\n",
       "      <th>...</th>\n",
       "      <td>...</td>\n",
       "      <td>...</td>\n",
       "      <td>...</td>\n",
       "      <td>...</td>\n",
       "      <td>...</td>\n",
       "      <td>...</td>\n",
       "      <td>...</td>\n",
       "      <td>...</td>\n",
       "      <td>...</td>\n",
       "      <td>...</td>\n",
       "    </tr>\n",
       "    <tr>\n",
       "      <th>541198</th>\n",
       "      <td>581493</td>\n",
       "      <td>POST</td>\n",
       "      <td>POSTAGE</td>\n",
       "      <td>1</td>\n",
       "      <td>2019-12-07 10:10:00</td>\n",
       "      <td>15.0</td>\n",
       "      <td>12423</td>\n",
       "      <td>2019-12-07</td>\n",
       "      <td>2019-12-02/2019-12-08</td>\n",
       "      <td>2019-12</td>\n",
       "    </tr>\n",
       "    <tr>\n",
       "      <th>541216</th>\n",
       "      <td>581494</td>\n",
       "      <td>POST</td>\n",
       "      <td>POSTAGE</td>\n",
       "      <td>2</td>\n",
       "      <td>2019-12-07 10:13:00</td>\n",
       "      <td>18.0</td>\n",
       "      <td>12518</td>\n",
       "      <td>2019-12-07</td>\n",
       "      <td>2019-12-02/2019-12-08</td>\n",
       "      <td>2019-12</td>\n",
       "    </tr>\n",
       "    <tr>\n",
       "      <th>541730</th>\n",
       "      <td>581570</td>\n",
       "      <td>POST</td>\n",
       "      <td>POSTAGE</td>\n",
       "      <td>1</td>\n",
       "      <td>2019-12-07 11:59:00</td>\n",
       "      <td>18.0</td>\n",
       "      <td>12662</td>\n",
       "      <td>2019-12-07</td>\n",
       "      <td>2019-12-02/2019-12-08</td>\n",
       "      <td>2019-12</td>\n",
       "    </tr>\n",
       "    <tr>\n",
       "      <th>541767</th>\n",
       "      <td>581574</td>\n",
       "      <td>POST</td>\n",
       "      <td>POSTAGE</td>\n",
       "      <td>2</td>\n",
       "      <td>2019-12-07 12:09:00</td>\n",
       "      <td>18.0</td>\n",
       "      <td>12526</td>\n",
       "      <td>2019-12-07</td>\n",
       "      <td>2019-12-02/2019-12-08</td>\n",
       "      <td>2019-12</td>\n",
       "    </tr>\n",
       "    <tr>\n",
       "      <th>541768</th>\n",
       "      <td>581578</td>\n",
       "      <td>POST</td>\n",
       "      <td>POSTAGE</td>\n",
       "      <td>3</td>\n",
       "      <td>2019-12-07 12:16:00</td>\n",
       "      <td>18.0</td>\n",
       "      <td>12713</td>\n",
       "      <td>2019-12-07</td>\n",
       "      <td>2019-12-02/2019-12-08</td>\n",
       "      <td>2019-12</td>\n",
       "    </tr>\n",
       "  </tbody>\n",
       "</table>\n",
       "<p>1196 rows × 10 columns</p>\n",
       "</div>"
      ],
      "text/plain": [
       "       invoice_no stock_code description  quantity        invoice_date  \\\n",
       "45         536370       POST     POSTAGE         3 2018-11-29 08:45:00   \n",
       "386        536403       POST     POSTAGE         1 2018-11-29 11:27:00   \n",
       "1123       536527       POST     POSTAGE         1 2018-11-29 13:04:00   \n",
       "5073       536840       POST     POSTAGE         1 2018-11-30 18:27:00   \n",
       "5258       536852       POST     POSTAGE         1 2018-12-01 09:51:00   \n",
       "...           ...        ...         ...       ...                 ...   \n",
       "541198     581493       POST     POSTAGE         1 2019-12-07 10:10:00   \n",
       "541216     581494       POST     POSTAGE         2 2019-12-07 10:13:00   \n",
       "541730     581570       POST     POSTAGE         1 2019-12-07 11:59:00   \n",
       "541767     581574       POST     POSTAGE         2 2019-12-07 12:09:00   \n",
       "541768     581578       POST     POSTAGE         3 2019-12-07 12:16:00   \n",
       "\n",
       "        unit_price  customer_id        date              week_year month_year  \n",
       "45            18.0        12583  2018-11-29  2018-11-26/2018-12-02    2018-11  \n",
       "386           15.0        12791  2018-11-29  2018-11-26/2018-12-02    2018-11  \n",
       "1123          18.0        12662  2018-11-29  2018-11-26/2018-12-02    2018-11  \n",
       "5073          18.0        12738  2018-11-30  2018-11-26/2018-12-02    2018-11  \n",
       "5258          18.0        12686  2018-12-01  2018-11-26/2018-12-02    2018-12  \n",
       "...            ...          ...         ...                    ...        ...  \n",
       "541198        15.0        12423  2019-12-07  2019-12-02/2019-12-08    2019-12  \n",
       "541216        18.0        12518  2019-12-07  2019-12-02/2019-12-08    2019-12  \n",
       "541730        18.0        12662  2019-12-07  2019-12-02/2019-12-08    2019-12  \n",
       "541767        18.0        12526  2019-12-07  2019-12-02/2019-12-08    2019-12  \n",
       "541768        18.0        12713  2019-12-07  2019-12-02/2019-12-08    2019-12  \n",
       "\n",
       "[1196 rows x 10 columns]"
      ]
     },
     "execution_count": 276,
     "metadata": {},
     "output_type": "execute_result"
    }
   ],
   "source": [
    "# Filtrando linhas onde a coluna 'stock_code' contém o código 'POST'\n",
    "post_df = df[df['stock_code'] == 'POST']\n",
    "post_df"
   ]
  },
  {
   "cell_type": "markdown",
   "metadata": {},
   "source": [
    "**Conclusão Intermediária** \n",
    "\n",
    "Podemos perceber que o código POST é de POSTAGE, ou seja, de envio dos produtos pros clientes. \n",
    "\n",
    "Isso deve ser, pois, o sistema considera como um pagamento o valor do frete e assim entra junta na nota fiscal. iremos deixar esses dados em nossa análise e analisar posteriromente."
   ]
  },
  {
   "cell_type": "markdown",
   "metadata": {},
   "source": [
    "Agora iremos gerar:\n",
    "\n",
    "* Histograma ou gráfico de barras dos códigos de estoque mais frequentes. Isso nos ajudará a visualizar os códigos de estoque que são mais populares."
   ]
  },
  {
   "cell_type": "code",
   "execution_count": 277,
   "metadata": {},
   "outputs": [
    {
     "data": {
      "image/png": "[encoded data removed]",
      "text/plain": [
       "<Figure size 1080x504 with 1 Axes>"
      ]
     },
     "metadata": {
      "needs_background": "light"
     },
     "output_type": "display_data"
    }
   ],
   "source": [
    "# Criando figura\n",
    "plt.figure(figsize=(15, 7))\n",
    "\n",
    "# Gerando o Plot\n",
    "sns.countplot(data=df, y='stock_code', order=df['stock_code'].value_counts().index[:10])\n",
    "plt.title('Top 10 Códigos de Estoque Mais Frequentes')\n",
    "plt.xlabel('Contagem')\n",
    "plt.ylabel('Stock Code')\n",
    "plt.show()"
   ]
  },
  {
   "cell_type": "code",
   "execution_count": 278,
   "metadata": {},
   "outputs": [
    {
     "data": {
      "text/html": [
       "<div>\n",
       "<style scoped>\n",
       "    .dataframe tbody tr th:only-of-type {\n",
       "        vertical-align: middle;\n",
       "    }\n",
       "\n",
       "    .dataframe tbody tr th {\n",
       "        vertical-align: top;\n",
       "    }\n",
       "\n",
       "    .dataframe thead th {\n",
       "        text-align: right;\n",
       "    }\n",
       "</style>\n",
       "<table border=\"1\" class=\"dataframe\">\n",
       "  <thead>\n",
       "    <tr style=\"text-align: right;\">\n",
       "      <th></th>\n",
       "      <th>stock_code</th>\n",
       "      <th>count</th>\n",
       "      <th>description</th>\n",
       "    </tr>\n",
       "  </thead>\n",
       "  <tbody>\n",
       "    <tr>\n",
       "      <th>0</th>\n",
       "      <td>85123A</td>\n",
       "      <td>2065</td>\n",
       "      <td>WHITE HANGING HEART T-LIGHT HOLDER</td>\n",
       "    </tr>\n",
       "    <tr>\n",
       "      <th>1</th>\n",
       "      <td>85123A</td>\n",
       "      <td>2065</td>\n",
       "      <td>CREAM HANGING HEART T-LIGHT HOLDER</td>\n",
       "    </tr>\n",
       "    <tr>\n",
       "      <th>2</th>\n",
       "      <td>22423</td>\n",
       "      <td>1894</td>\n",
       "      <td>REGENCY CAKESTAND 3 TIER</td>\n",
       "    </tr>\n",
       "    <tr>\n",
       "      <th>3</th>\n",
       "      <td>85099B</td>\n",
       "      <td>1659</td>\n",
       "      <td>JUMBO BAG RED RETROSPOT</td>\n",
       "    </tr>\n",
       "    <tr>\n",
       "      <th>4</th>\n",
       "      <td>47566</td>\n",
       "      <td>1409</td>\n",
       "      <td>PARTY BUNTING</td>\n",
       "    </tr>\n",
       "    <tr>\n",
       "      <th>5</th>\n",
       "      <td>84879</td>\n",
       "      <td>1405</td>\n",
       "      <td>ASSORTED COLOUR BIRD ORNAMENT</td>\n",
       "    </tr>\n",
       "    <tr>\n",
       "      <th>6</th>\n",
       "      <td>20725</td>\n",
       "      <td>1346</td>\n",
       "      <td>LUNCH BAG RED RETROSPOT</td>\n",
       "    </tr>\n",
       "    <tr>\n",
       "      <th>7</th>\n",
       "      <td>20725</td>\n",
       "      <td>1346</td>\n",
       "      <td>LUNCH BAG RED SPOTTY</td>\n",
       "    </tr>\n",
       "    <tr>\n",
       "      <th>8</th>\n",
       "      <td>22720</td>\n",
       "      <td>1224</td>\n",
       "      <td>SET OF 3 CAKE TINS PANTRY DESIGN</td>\n",
       "    </tr>\n",
       "    <tr>\n",
       "      <th>9</th>\n",
       "      <td>POST</td>\n",
       "      <td>1196</td>\n",
       "      <td>POSTAGE</td>\n",
       "    </tr>\n",
       "    <tr>\n",
       "      <th>10</th>\n",
       "      <td>22197</td>\n",
       "      <td>1110</td>\n",
       "      <td>SMALL POPCORN HOLDER</td>\n",
       "    </tr>\n",
       "    <tr>\n",
       "      <th>11</th>\n",
       "      <td>22197</td>\n",
       "      <td>1110</td>\n",
       "      <td>POPCORN HOLDER</td>\n",
       "    </tr>\n",
       "    <tr>\n",
       "      <th>12</th>\n",
       "      <td>23203</td>\n",
       "      <td>1108</td>\n",
       "      <td>JUMBO BAG DOILEY PATTERNS</td>\n",
       "    </tr>\n",
       "    <tr>\n",
       "      <th>13</th>\n",
       "      <td>23203</td>\n",
       "      <td>1108</td>\n",
       "      <td>JUMBO BAG VINTAGE DOILEY</td>\n",
       "    </tr>\n",
       "    <tr>\n",
       "      <th>14</th>\n",
       "      <td>23203</td>\n",
       "      <td>1108</td>\n",
       "      <td>JUMBO BAG VINTAGE DOILY</td>\n",
       "    </tr>\n",
       "  </tbody>\n",
       "</table>\n",
       "</div>"
      ],
      "text/plain": [
       "   stock_code  count                         description\n",
       "0      85123A   2065  WHITE HANGING HEART T-LIGHT HOLDER\n",
       "1      85123A   2065  CREAM HANGING HEART T-LIGHT HOLDER\n",
       "2       22423   1894            REGENCY CAKESTAND 3 TIER\n",
       "3      85099B   1659             JUMBO BAG RED RETROSPOT\n",
       "4       47566   1409                       PARTY BUNTING\n",
       "5       84879   1405       ASSORTED COLOUR BIRD ORNAMENT\n",
       "6       20725   1346             LUNCH BAG RED RETROSPOT\n",
       "7       20725   1346                LUNCH BAG RED SPOTTY\n",
       "8       22720   1224   SET OF 3 CAKE TINS PANTRY DESIGN \n",
       "9        POST   1196                             POSTAGE\n",
       "10      22197   1110                SMALL POPCORN HOLDER\n",
       "11      22197   1110                      POPCORN HOLDER\n",
       "12      23203   1108           JUMBO BAG DOILEY PATTERNS\n",
       "13      23203   1108           JUMBO BAG VINTAGE DOILEY \n",
       "14      23203   1108            JUMBO BAG VINTAGE DOILY "
      ]
     },
     "execution_count": 278,
     "metadata": {},
     "output_type": "execute_result"
    }
   ],
   "source": [
    "# Contando a frequência de cada stock_code\n",
    "stock_counts = df.groupby('stock_code').size().reset_index(name='count')\n",
    "\n",
    "# Ordenando e pegando os top 10\n",
    "top_10_stocks = stock_counts.sort_values(by='count', ascending=False).head(10)\n",
    "\n",
    "# Juntando com a coluna description\n",
    "top_10_stocks_with_desc = top_10_stocks.merge(df[['stock_code', 'description']].drop_duplicates(), \n",
    "                                              on='stock_code', \n",
    "                                              how='left')\n",
    "\n",
    "# Demonstrando a tabela Top 10\n",
    "top_10_stocks_with_desc"
   ]
  },
  {
   "cell_type": "markdown",
   "metadata": {},
   "source": [
    "**Conclusões Intermediárias**\n",
    "\n",
    "Com base nos produtos mais vendidos apresentados, chegamos às seguintes observações:\n",
    "\n",
    "1. **Diversidade de Produtos**: O inventário reflete uma ampla gama de preferências dos clientes, abrangendo desde itens decorativos, como \"WHITE HANGING HEART T-LIGHT HOLDER\", até utilitários de cozinha, como \"SET OF 3 CAKE TINS PANTRY DESIGN\".\n",
    "  \n",
    "2. **Decorativos em Destaque**: Produtos como \"WHITE HANGING HEART T-LIGHT HOLDER\" e \"ASSORTED COLOUR BIRD ORNAMENT\" destacam-se, o que sugere uma predileção por itens decorativos entre os compradores.\n",
    "\n",
    "3. **Afinidade com Cozinha**: Itens relacionados à cozinha, como \"REGENCY CAKESTAND 3 TIER\" e \"LUNCH BAG RED RETROSPOT\", também figuram entre os favoritos, indicando o apreço por produtos estilizados e funcionais para esse ambiente.\n",
    "\n",
    "4. **Postagem na Lista**: É notável que \"POSTAGE\" esteja entre os itens mais adquiridos, sinalizando a possibilidade de muitas compras sendo enviadas ou de postagem sendo uma taxa separada em várias transações.\n",
    "\n",
    "5. **Consistência de Dados**: Ao analisar o código de estoque e as descrições, nota-se potenciais inconsistências. Por exemplo, produtos com descrições levemente diferentes compartilhando o mesmo código de estoque, como \"LUNCH BAG RED RETROSPOT\" e \"LUNCH BAG RED SPOTTY\". Assim, para o uso futuro da geração de modelos para os clientes precisaremos utilizar o código dos produtos ao invés das descrições."
   ]
  },
  {
   "cell_type": "markdown",
   "metadata": {},
   "source": [
    "Iremos agora entender a analise de relacionamento de colunas:\n",
    "    \n",
    "Analisando como stock_code se relaciona com outras colunas pode oferecer insights valiosos:\n",
    "\n",
    "* Verificaremos a média da quantity e unit_price para cada stock_code."
   ]
  },
  {
   "cell_type": "code",
   "execution_count": 279,
   "metadata": {},
   "outputs": [
    {
     "data": {
      "text/html": [
       "<div>\n",
       "<style scoped>\n",
       "    .dataframe tbody tr th:only-of-type {\n",
       "        vertical-align: middle;\n",
       "    }\n",
       "\n",
       "    .dataframe tbody tr th {\n",
       "        vertical-align: top;\n",
       "    }\n",
       "\n",
       "    .dataframe thead th {\n",
       "        text-align: right;\n",
       "    }\n",
       "</style>\n",
       "<table border=\"1\" class=\"dataframe\">\n",
       "  <thead>\n",
       "    <tr style=\"text-align: right;\">\n",
       "      <th></th>\n",
       "      <th>stock_code</th>\n",
       "      <th>quantity</th>\n",
       "      <th>unit_price</th>\n",
       "    </tr>\n",
       "  </thead>\n",
       "  <tbody>\n",
       "    <tr>\n",
       "      <th>0</th>\n",
       "      <td>10002</td>\n",
       "      <td>16.795918</td>\n",
       "      <td>0.850000</td>\n",
       "    </tr>\n",
       "    <tr>\n",
       "      <th>1</th>\n",
       "      <td>10080</td>\n",
       "      <td>13.857143</td>\n",
       "      <td>0.411905</td>\n",
       "    </tr>\n",
       "    <tr>\n",
       "      <th>2</th>\n",
       "      <td>10120</td>\n",
       "      <td>6.620690</td>\n",
       "      <td>0.210000</td>\n",
       "    </tr>\n",
       "    <tr>\n",
       "      <th>3</th>\n",
       "      <td>10123C</td>\n",
       "      <td>1.666667</td>\n",
       "      <td>0.650000</td>\n",
       "    </tr>\n",
       "    <tr>\n",
       "      <th>4</th>\n",
       "      <td>10124A</td>\n",
       "      <td>3.200000</td>\n",
       "      <td>0.420000</td>\n",
       "    </tr>\n",
       "    <tr>\n",
       "      <th>...</th>\n",
       "      <td>...</td>\n",
       "      <td>...</td>\n",
       "      <td>...</td>\n",
       "    </tr>\n",
       "    <tr>\n",
       "      <th>3679</th>\n",
       "      <td>D</td>\n",
       "      <td>-15.506494</td>\n",
       "      <td>72.484545</td>\n",
       "    </tr>\n",
       "    <tr>\n",
       "      <th>3680</th>\n",
       "      <td>DOT</td>\n",
       "      <td>1.000000</td>\n",
       "      <td>744.147500</td>\n",
       "    </tr>\n",
       "    <tr>\n",
       "      <th>3681</th>\n",
       "      <td>M</td>\n",
       "      <td>6.400000</td>\n",
       "      <td>338.044391</td>\n",
       "    </tr>\n",
       "    <tr>\n",
       "      <th>3682</th>\n",
       "      <td>PADS</td>\n",
       "      <td>1.000000</td>\n",
       "      <td>0.000750</td>\n",
       "    </tr>\n",
       "    <tr>\n",
       "      <th>3683</th>\n",
       "      <td>POST</td>\n",
       "      <td>2.510033</td>\n",
       "      <td>37.888528</td>\n",
       "    </tr>\n",
       "  </tbody>\n",
       "</table>\n",
       "<p>3684 rows × 3 columns</p>\n",
       "</div>"
      ],
      "text/plain": [
       "     stock_code   quantity  unit_price\n",
       "0         10002  16.795918    0.850000\n",
       "1         10080  13.857143    0.411905\n",
       "2         10120   6.620690    0.210000\n",
       "3        10123C   1.666667    0.650000\n",
       "4        10124A   3.200000    0.420000\n",
       "...         ...        ...         ...\n",
       "3679          D -15.506494   72.484545\n",
       "3680        DOT   1.000000  744.147500\n",
       "3681          M   6.400000  338.044391\n",
       "3682       PADS   1.000000    0.000750\n",
       "3683       POST   2.510033   37.888528\n",
       "\n",
       "[3684 rows x 3 columns]"
      ]
     },
     "execution_count": 279,
     "metadata": {},
     "output_type": "execute_result"
    }
   ],
   "source": [
    "# Gerando dados\n",
    "stock_summary = df.groupby('stock_code').agg({'quantity': 'mean', 'unit_price': 'mean'}).reset_index()\n",
    "stock_summary"
   ]
  },
  {
   "cell_type": "markdown",
   "metadata": {},
   "source": [
    "**Conclusão**\n",
    "\n",
    "Como observado anteriromente, podemos ver que existem códigos diferentes que se referem a outros serviços que não somente os de compras de produtos. Como por exemplo o código \"D\" pode se referir a descontos ou devoluções, já que a quantidade é negativa. Precisamos entender com mais precisão o que cada um deles significa.\n",
    "\n",
    "Para tal, podemos observar que os padrões para tais são escritas somente sem números. Iremos tentar entender o que elas significam brevemente abaixo."
   ]
  },
  {
   "cell_type": "code",
   "execution_count": 280,
   "metadata": {},
   "outputs": [
    {
     "data": {
      "text/html": [
       "<div>\n",
       "<style scoped>\n",
       "    .dataframe tbody tr th:only-of-type {\n",
       "        vertical-align: middle;\n",
       "    }\n",
       "\n",
       "    .dataframe tbody tr th {\n",
       "        vertical-align: top;\n",
       "    }\n",
       "\n",
       "    .dataframe thead th {\n",
       "        text-align: right;\n",
       "    }\n",
       "</style>\n",
       "<table border=\"1\" class=\"dataframe\">\n",
       "  <thead>\n",
       "    <tr style=\"text-align: right;\">\n",
       "      <th></th>\n",
       "      <th>stock_code</th>\n",
       "      <th>description</th>\n",
       "    </tr>\n",
       "  </thead>\n",
       "  <tbody>\n",
       "    <tr>\n",
       "      <th>45</th>\n",
       "      <td>POST</td>\n",
       "      <td>POSTAGE</td>\n",
       "    </tr>\n",
       "    <tr>\n",
       "      <th>141</th>\n",
       "      <td>D</td>\n",
       "      <td>Discount</td>\n",
       "    </tr>\n",
       "    <tr>\n",
       "      <th>2239</th>\n",
       "      <td>M</td>\n",
       "      <td>Manual</td>\n",
       "    </tr>\n",
       "    <tr>\n",
       "      <th>4406</th>\n",
       "      <td>BANK CHARGES</td>\n",
       "      <td>Bank Charges</td>\n",
       "    </tr>\n",
       "    <tr>\n",
       "      <th>157195</th>\n",
       "      <td>PADS</td>\n",
       "      <td>PADS TO MATCH ALL CUSHIONS</td>\n",
       "    </tr>\n",
       "    <tr>\n",
       "      <th>317507</th>\n",
       "      <td>DOT</td>\n",
       "      <td>DOTCOM POSTAGE</td>\n",
       "    </tr>\n",
       "    <tr>\n",
       "      <th>317508</th>\n",
       "      <td>CRUK</td>\n",
       "      <td>CRUK Commission</td>\n",
       "    </tr>\n",
       "  </tbody>\n",
       "</table>\n",
       "</div>"
      ],
      "text/plain": [
       "          stock_code                 description\n",
       "45              POST                     POSTAGE\n",
       "141                D                    Discount\n",
       "2239               M                      Manual\n",
       "4406    BANK CHARGES                Bank Charges\n",
       "157195          PADS  PADS TO MATCH ALL CUSHIONS\n",
       "317507           DOT              DOTCOM POSTAGE\n",
       "317508          CRUK             CRUK Commission"
      ]
     },
     "execution_count": 280,
     "metadata": {},
     "output_type": "execute_result"
    }
   ],
   "source": [
    "# Filtrar stock_code que contém somente letras e possivelmente espaços\n",
    "filtered_df = df[df['stock_code'].str.match('^[A-Za-z ]+$')]\n",
    "\n",
    "# Exibir stock_code e description\n",
    "filtered_df = filtered_df[['stock_code', 'description']]\n",
    "filtered_df = filtered_df.drop_duplicates()\n",
    "filtered_df"
   ]
  },
  {
   "cell_type": "markdown",
   "metadata": {},
   "source": [
    "**Conclusões**\n",
    "\n",
    "O conjunto de dados contém códigos de estoque que representam tanto produtos físicos quanto serviços/ajustes relacionados à compra:\n",
    "\n",
    "1. Códigos como `POST`, `D`, `DOT`, e `CRUK` indicam ações como postagem, descontos e comissões, ao invés de produtos tradicionais.\n",
    "2. Alguns códigos, como `PADS`, representam produtos específicos, neste caso, almofadas.\n",
    "3. Como nosso intuito nesse projeto será gerar insights com os produtos consumidos pelos clientes iremos dar enfoque para os produtos e não os seriços entre outros. Dessa maneira iremos retirar os dados acima de nossa analise"
   ]
  },
  {
   "cell_type": "code",
   "execution_count": 281,
   "metadata": {},
   "outputs": [],
   "source": [
    "# Retirando os dados\n",
    "df = df[~df['stock_code'].str.match('^[A-Za-z ]+$')]"
   ]
  },
  {
   "cell_type": "markdown",
   "metadata": {},
   "source": [
    "#### Coluna quantity\n",
    "\n",
    "Para a coluna iremos gerar as analises:\n",
    "\n",
    "1. **Estatísticas descritivas:**\n",
    "    - Média\n",
    "    - Mediana\n",
    "    - Desvio padrão\n",
    "    - Valor mínimo e máximo\n",
    "    - Quartis\n",
    "\n",
    "2. **Visualizações gráficas:**\n",
    "    - Histograma\n",
    "    - Box plot\n",
    "\n",
    "3. **Análise de valores extremos (outliers)**"
   ]
  },
  {
   "cell_type": "code",
   "execution_count": 282,
   "metadata": {},
   "outputs": [
    {
     "data": {
      "text/plain": [
       "count    399823.000000\n",
       "mean         12.225617\n",
       "std         250.794906\n",
       "min      -80995.000000\n",
       "25%           2.000000\n",
       "50%           5.000000\n",
       "75%          12.000000\n",
       "max       80995.000000\n",
       "Name: quantity, dtype: float64"
      ]
     },
     "execution_count": 282,
     "metadata": {},
     "output_type": "execute_result"
    }
   ],
   "source": [
    "# Gerando estatística descritiva\n",
    "df['quantity'].describe()"
   ]
  },
  {
   "cell_type": "markdown",
   "metadata": {},
   "source": [
    "**Conclusão Intermediária**"
   ]
  },
  {
   "cell_type": "code",
   "execution_count": 283,
   "metadata": {
    "scrolled": false
   },
   "outputs": [
    {
     "data": {
      "image/png": "[encoded data removed]",
      "text/plain": [
       "<Figure size 1152x576 with 1 Axes>"
      ]
     },
     "metadata": {
      "needs_background": "light"
     },
     "output_type": "display_data"
    },
    {
     "data": {
      "image/png": "[encoded data removed]",
      "text/plain": [
       "<Figure size 1152x576 with 1 Axes>"
      ]
     },
     "metadata": {
      "needs_background": "light"
     },
     "output_type": "display_data"
    }
   ],
   "source": [
    "# Histograma\n",
    "plt.figure(figsize=(16,8))\n",
    "sns.histplot(df['quantity'], bins=50, kde=True)\n",
    "plt.title('Histograma da Coluna Quantity')\n",
    "plt.xlabel('Quantity')\n",
    "plt.ylabel('Frequência')\n",
    "plt.grid(True)\n",
    "plt.show()\n",
    "\n",
    "# Boxplot\n",
    "plt.figure(figsize=(16,8))\n",
    "sns.boxplot(x=df['quantity'])\n",
    "plt.title('Boxplot da Coluna Quantity')\n",
    "plt.grid(True)\n",
    "plt.show()"
   ]
  },
  {
   "cell_type": "markdown",
   "metadata": {},
   "source": [
    "**Conclusões**\n",
    "\n",
    "Podemos perceber pelos gráficos e pela descrição gerada que:\n",
    "\n",
    "* Existem dados discrepantes em nossa amostra, isso pode ser claramente visto pelo bloxpot gerado e pela amplitude do histograma;\n",
    "\n",
    "* Pelos gráficos gerados não conseguimos observar com clareza no histograma qual o range e distribuição dos produtos, isso se dá ao fato de ter pedidos com um número de quantidade muito elevado negativo e positivo. Apesar disso, pode-se perceber que até 75% dos pedidos tem até 12 unidades.\n",
    "\n",
    "* O fato de que o Q3 apresenta até 12 unidades em comparação com o boxplot gerado nos dá a clara impressão que precisamos tratar os outliers de nossa amostra. \n",
    "\n",
    "Temos dados negativos para quantidade, iremos gerar uma nova tabela com esses dados e entender se são erros ou como tratalos. Após isso, iremos tratar os Outliers retirando os dados utilizando os Quartil inferior e superior para tal, agregando os dados mais comuns na amostra."
   ]
  },
  {
   "cell_type": "markdown",
   "metadata": {},
   "source": [
    "Agora iremos gerar os dados com quantidades negativas para entender o que são e como tratar."
   ]
  },
  {
   "cell_type": "code",
   "execution_count": 284,
   "metadata": {},
   "outputs": [
    {
     "data": {
      "text/html": [
       "<div>\n",
       "<style scoped>\n",
       "    .dataframe tbody tr th:only-of-type {\n",
       "        vertical-align: middle;\n",
       "    }\n",
       "\n",
       "    .dataframe tbody tr th {\n",
       "        vertical-align: top;\n",
       "    }\n",
       "\n",
       "    .dataframe thead th {\n",
       "        text-align: right;\n",
       "    }\n",
       "</style>\n",
       "<table border=\"1\" class=\"dataframe\">\n",
       "  <thead>\n",
       "    <tr style=\"text-align: right;\">\n",
       "      <th></th>\n",
       "      <th>invoice_no</th>\n",
       "      <th>stock_code</th>\n",
       "      <th>description</th>\n",
       "      <th>quantity</th>\n",
       "      <th>invoice_date</th>\n",
       "      <th>unit_price</th>\n",
       "      <th>customer_id</th>\n",
       "      <th>date</th>\n",
       "      <th>week_year</th>\n",
       "      <th>month_year</th>\n",
       "    </tr>\n",
       "  </thead>\n",
       "  <tbody>\n",
       "    <tr>\n",
       "      <th>154</th>\n",
       "      <td>C536383</td>\n",
       "      <td>35004C</td>\n",
       "      <td>SET OF 3 COLOURED  FLYING DUCKS</td>\n",
       "      <td>-1</td>\n",
       "      <td>2018-11-29 09:49:00</td>\n",
       "      <td>4.65</td>\n",
       "      <td>15311</td>\n",
       "      <td>2018-11-29</td>\n",
       "      <td>2018-11-26/2018-12-02</td>\n",
       "      <td>2018-11</td>\n",
       "    </tr>\n",
       "    <tr>\n",
       "      <th>235</th>\n",
       "      <td>C536391</td>\n",
       "      <td>22556</td>\n",
       "      <td>PLASTERS IN TIN CIRCUS PARADE</td>\n",
       "      <td>-12</td>\n",
       "      <td>2018-11-29 10:24:00</td>\n",
       "      <td>1.65</td>\n",
       "      <td>17548</td>\n",
       "      <td>2018-11-29</td>\n",
       "      <td>2018-11-26/2018-12-02</td>\n",
       "      <td>2018-11</td>\n",
       "    </tr>\n",
       "    <tr>\n",
       "      <th>236</th>\n",
       "      <td>C536391</td>\n",
       "      <td>21984</td>\n",
       "      <td>PACK OF 12 PINK PAISLEY TISSUES</td>\n",
       "      <td>-24</td>\n",
       "      <td>2018-11-29 10:24:00</td>\n",
       "      <td>0.29</td>\n",
       "      <td>17548</td>\n",
       "      <td>2018-11-29</td>\n",
       "      <td>2018-11-26/2018-12-02</td>\n",
       "      <td>2018-11</td>\n",
       "    </tr>\n",
       "    <tr>\n",
       "      <th>237</th>\n",
       "      <td>C536391</td>\n",
       "      <td>21983</td>\n",
       "      <td>PACK OF 12 BLUE PAISLEY TISSUES</td>\n",
       "      <td>-24</td>\n",
       "      <td>2018-11-29 10:24:00</td>\n",
       "      <td>0.29</td>\n",
       "      <td>17548</td>\n",
       "      <td>2018-11-29</td>\n",
       "      <td>2018-11-26/2018-12-02</td>\n",
       "      <td>2018-11</td>\n",
       "    </tr>\n",
       "    <tr>\n",
       "      <th>238</th>\n",
       "      <td>C536391</td>\n",
       "      <td>21980</td>\n",
       "      <td>PACK OF 12 RED RETROSPOT TISSUES</td>\n",
       "      <td>-24</td>\n",
       "      <td>2018-11-29 10:24:00</td>\n",
       "      <td>0.29</td>\n",
       "      <td>17548</td>\n",
       "      <td>2018-11-29</td>\n",
       "      <td>2018-11-26/2018-12-02</td>\n",
       "      <td>2018-11</td>\n",
       "    </tr>\n",
       "    <tr>\n",
       "      <th>...</th>\n",
       "      <td>...</td>\n",
       "      <td>...</td>\n",
       "      <td>...</td>\n",
       "      <td>...</td>\n",
       "      <td>...</td>\n",
       "      <td>...</td>\n",
       "      <td>...</td>\n",
       "      <td>...</td>\n",
       "      <td>...</td>\n",
       "      <td>...</td>\n",
       "    </tr>\n",
       "    <tr>\n",
       "      <th>540448</th>\n",
       "      <td>C581490</td>\n",
       "      <td>22178</td>\n",
       "      <td>VICTORIAN GLASS HANGING T-LIGHT</td>\n",
       "      <td>-12</td>\n",
       "      <td>2019-12-07 09:57:00</td>\n",
       "      <td>1.95</td>\n",
       "      <td>14397</td>\n",
       "      <td>2019-12-07</td>\n",
       "      <td>2019-12-02/2019-12-08</td>\n",
       "      <td>2019-12</td>\n",
       "    </tr>\n",
       "    <tr>\n",
       "      <th>540449</th>\n",
       "      <td>C581490</td>\n",
       "      <td>23144</td>\n",
       "      <td>ZINC T-LIGHT HOLDER STARS SMALL</td>\n",
       "      <td>-11</td>\n",
       "      <td>2019-12-07 09:57:00</td>\n",
       "      <td>0.83</td>\n",
       "      <td>14397</td>\n",
       "      <td>2019-12-07</td>\n",
       "      <td>2019-12-02/2019-12-08</td>\n",
       "      <td>2019-12</td>\n",
       "    </tr>\n",
       "    <tr>\n",
       "      <th>541715</th>\n",
       "      <td>C581568</td>\n",
       "      <td>21258</td>\n",
       "      <td>VICTORIAN SEWING BOX LARGE</td>\n",
       "      <td>-5</td>\n",
       "      <td>2019-12-07 11:57:00</td>\n",
       "      <td>10.95</td>\n",
       "      <td>15311</td>\n",
       "      <td>2019-12-07</td>\n",
       "      <td>2019-12-02/2019-12-08</td>\n",
       "      <td>2019-12</td>\n",
       "    </tr>\n",
       "    <tr>\n",
       "      <th>541716</th>\n",
       "      <td>C581569</td>\n",
       "      <td>84978</td>\n",
       "      <td>HANGING HEART JAR T-LIGHT HOLDER</td>\n",
       "      <td>-1</td>\n",
       "      <td>2019-12-07 11:58:00</td>\n",
       "      <td>1.25</td>\n",
       "      <td>17315</td>\n",
       "      <td>2019-12-07</td>\n",
       "      <td>2019-12-02/2019-12-08</td>\n",
       "      <td>2019-12</td>\n",
       "    </tr>\n",
       "    <tr>\n",
       "      <th>541717</th>\n",
       "      <td>C581569</td>\n",
       "      <td>20979</td>\n",
       "      <td>36 PENCILS TUBE RED RETROSPOT</td>\n",
       "      <td>-5</td>\n",
       "      <td>2019-12-07 11:58:00</td>\n",
       "      <td>1.25</td>\n",
       "      <td>17315</td>\n",
       "      <td>2019-12-07</td>\n",
       "      <td>2019-12-02/2019-12-08</td>\n",
       "      <td>2019-12</td>\n",
       "    </tr>\n",
       "  </tbody>\n",
       "</table>\n",
       "<p>8507 rows × 10 columns</p>\n",
       "</div>"
      ],
      "text/plain": [
       "       invoice_no stock_code                        description  quantity  \\\n",
       "154       C536383     35004C    SET OF 3 COLOURED  FLYING DUCKS        -1   \n",
       "235       C536391      22556     PLASTERS IN TIN CIRCUS PARADE        -12   \n",
       "236       C536391      21984   PACK OF 12 PINK PAISLEY TISSUES        -24   \n",
       "237       C536391      21983   PACK OF 12 BLUE PAISLEY TISSUES        -24   \n",
       "238       C536391      21980  PACK OF 12 RED RETROSPOT TISSUES        -24   \n",
       "...           ...        ...                                ...       ...   \n",
       "540448    C581490      22178    VICTORIAN GLASS HANGING T-LIGHT       -12   \n",
       "540449    C581490      23144    ZINC T-LIGHT HOLDER STARS SMALL       -11   \n",
       "541715    C581568      21258         VICTORIAN SEWING BOX LARGE        -5   \n",
       "541716    C581569      84978   HANGING HEART JAR T-LIGHT HOLDER        -1   \n",
       "541717    C581569      20979      36 PENCILS TUBE RED RETROSPOT        -5   \n",
       "\n",
       "              invoice_date  unit_price  customer_id        date  \\\n",
       "154    2018-11-29 09:49:00        4.65        15311  2018-11-29   \n",
       "235    2018-11-29 10:24:00        1.65        17548  2018-11-29   \n",
       "236    2018-11-29 10:24:00        0.29        17548  2018-11-29   \n",
       "237    2018-11-29 10:24:00        0.29        17548  2018-11-29   \n",
       "238    2018-11-29 10:24:00        0.29        17548  2018-11-29   \n",
       "...                    ...         ...          ...         ...   \n",
       "540448 2019-12-07 09:57:00        1.95        14397  2019-12-07   \n",
       "540449 2019-12-07 09:57:00        0.83        14397  2019-12-07   \n",
       "541715 2019-12-07 11:57:00       10.95        15311  2019-12-07   \n",
       "541716 2019-12-07 11:58:00        1.25        17315  2019-12-07   \n",
       "541717 2019-12-07 11:58:00        1.25        17315  2019-12-07   \n",
       "\n",
       "                    week_year month_year  \n",
       "154     2018-11-26/2018-12-02    2018-11  \n",
       "235     2018-11-26/2018-12-02    2018-11  \n",
       "236     2018-11-26/2018-12-02    2018-11  \n",
       "237     2018-11-26/2018-12-02    2018-11  \n",
       "238     2018-11-26/2018-12-02    2018-11  \n",
       "...                       ...        ...  \n",
       "540448  2019-12-02/2019-12-08    2019-12  \n",
       "540449  2019-12-02/2019-12-08    2019-12  \n",
       "541715  2019-12-02/2019-12-08    2019-12  \n",
       "541716  2019-12-02/2019-12-08    2019-12  \n",
       "541717  2019-12-02/2019-12-08    2019-12  \n",
       "\n",
       "[8507 rows x 10 columns]"
      ]
     },
     "execution_count": 284,
     "metadata": {},
     "output_type": "execute_result"
    }
   ],
   "source": [
    "# Filtrando df\n",
    "negative_quant = df[df['quantity'] < 0]\n",
    "\n",
    "# Mostrando tabela\n",
    "negative_quant"
   ]
  },
  {
   "cell_type": "markdown",
   "metadata": {},
   "source": [
    "**Conclusões**\n",
    "\n",
    "Podemos perceber que os dados negativos são apresentados nos produtos e não tem uma descrição se são devoluções ou erros na base repassada, dessa maneira e por não ter clareza do porquê esses dados estão dispostos assim iremos retirar, neste modelo, de nossa analise.\n",
    "\n",
    "O correto, porém, seria entrar em contato com o Engenheiro de Dados responsável e realizar o questionamento para uma analise mais aprofundada."
   ]
  },
  {
   "cell_type": "code",
   "execution_count": 285,
   "metadata": {},
   "outputs": [
    {
     "name": "stdout",
     "output_type": "stream",
     "text": [
      "Número de outliers identificados: 26597\n"
     ]
    }
   ],
   "source": [
    "# Calculando quartis\n",
    "Q1 = df['quantity'].quantile(0.25)\n",
    "Q3 = df['quantity'].quantile(0.75)\n",
    "IQR = Q3 - Q1\n",
    "\n",
    "# Outliers\n",
    "lower_bound = Q1 - 1.5 * IQR\n",
    "upper_bound = Q3 + 1.5 * IQR\n",
    "\n",
    "outliers = df[(df['quantity'] < lower_bound) | (df['quantity'] > upper_bound)]\n",
    "print(f\"Número de outliers identificados: {len(outliers)}\")"
   ]
  },
  {
   "cell_type": "code",
   "execution_count": 286,
   "metadata": {},
   "outputs": [],
   "source": [
    "# Definindo os limites\n",
    "lower_limit = Q1 - 1.5 * IQR\n",
    "upper_limit = Q3 + 1.5 * IQR\n",
    "\n",
    "# Filtrando o DataFrame para remover outliers\n",
    "df = df[(df['quantity'] >= lower_limit) & (df['quantity'] <= upper_limit)]"
   ]
  },
  {
   "cell_type": "code",
   "execution_count": 287,
   "metadata": {
    "scrolled": false
   },
   "outputs": [
    {
     "data": {
      "image/png": "[encoded data removed]",
      "text/plain": [
       "<Figure size 1152x576 with 1 Axes>"
      ]
     },
     "metadata": {
      "needs_background": "light"
     },
     "output_type": "display_data"
    },
    {
     "data": {
      "image/png": "[encoded data removed]",
      "text/plain": [
       "<Figure size 1152x576 with 1 Axes>"
      ]
     },
     "metadata": {
      "needs_background": "light"
     },
     "output_type": "display_data"
    }
   ],
   "source": [
    "# Histograma\n",
    "plt.figure(figsize=(16,8))\n",
    "sns.histplot(df['quantity'], bins=50, kde=True)\n",
    "plt.title('Histograma da Coluna Quantity')\n",
    "plt.xlabel('Quantity')\n",
    "plt.ylabel('Frequência')\n",
    "plt.grid(True)\n",
    "plt.show()\n",
    "\n",
    "# Boxplot\n",
    "plt.figure(figsize=(16,8))\n",
    "sns.boxplot(x = df['quantity'])\n",
    "plt.title('Boxplot da Coluna Quantity')\n",
    "plt.grid(True)\n",
    "plt.show()"
   ]
  },
  {
   "cell_type": "markdown",
   "metadata": {},
   "source": [
    "**Conclusão**\n",
    "\n",
    "Após a retirada dos outliers podemos perceber que os dados ficaram de maneira mais homogenia e aparentam a demonstrar mais a realidade das vendas. \n",
    "\n",
    "Agora, podemos perceber que o boxplot ficou amis correto e a distribuição faz mais sentido. Além disos, para distribuição seria interessante utilizar a mediana como valor central. Iremos retirar, também, os itens negativos, pois são devoluções e não entram em nossa analise."
   ]
  },
  {
   "cell_type": "code",
   "execution_count": 288,
   "metadata": {},
   "outputs": [],
   "source": [
    "# Filtrando para maiores de 0\n",
    "df = df[df['quantity'] > 0]"
   ]
  },
  {
   "cell_type": "markdown",
   "metadata": {},
   "source": [
    "#### Coluna unit_price\n",
    "\n",
    "Iremos realizar as analises de:\n",
    "\n",
    "1. Estatísticas Descritivas: Incluindo média, mediana, moda, desvio padrão, quartis, mínimo e máximo.\n",
    "\n",
    "2. Visualizações:\n",
    "* Histograma ou gráfico de densidade para ver a distribuição dos preços.\n",
    "* Box plot para visualizar quartis e detectar outliers.\n",
    "* Se apropriado, um gráfico de linha temporal se os preços mudam significativamente ao longo do tempo.\n",
    "\n",
    "3. Detecção de Outliers: Usando, por exemplo, o método IQR.\n",
    "4. Análise de Valores Zerados ou Negativos:"
   ]
  },
  {
   "cell_type": "code",
   "execution_count": 289,
   "metadata": {},
   "outputs": [
    {
     "name": "stdout",
     "output_type": "stream",
     "text": [
      "count    365713.000000\n",
      "mean          2.988140\n",
      "std           4.363062\n",
      "min           0.000000\n",
      "25%           1.250000\n",
      "50%           1.950000\n",
      "75%           3.750000\n",
      "max         649.500000\n",
      "Name: unit_price, dtype: float64\n"
     ]
    }
   ],
   "source": [
    "# Gerando estatística descritiva\n",
    "print(df['unit_price'].describe())"
   ]
  },
  {
   "cell_type": "markdown",
   "metadata": {},
   "source": [
    "**Conclusões**\n",
    "\n",
    "\"A coluna `unit_price` conta com 365,713 entradas, com uma média de preço de aproximadamente 2.99 unidades. A mediana está em 1.95 unidades, o que sinaliza uma distribuição inclinada à direita. A considerável diferença entre o 75º percentil (3.75 unidades) e o valor máximo (649.50 unidades) destaca a presença de outliers. A maioria dos produtos tem preços abaixo de 3.75 unidades, mas existem alguns produtos com preços substancialmente elevados que elevam a média. \n",
    "\n",
    "Iremos analisar esses valores mais altos para assegurar a melhor veracidade dos dados possíveis."
   ]
  },
  {
   "cell_type": "markdown",
   "metadata": {},
   "source": [
    "Agora iremos apresentar as visualizações dos dados"
   ]
  },
  {
   "cell_type": "code",
   "execution_count": 290,
   "metadata": {},
   "outputs": [
    {
     "data": {
      "image/png": "[encoded data removed]",
      "text/plain": [
       "<Figure size 1152x576 with 2 Axes>"
      ]
     },
     "metadata": {
      "needs_background": "light"
     },
     "output_type": "display_data"
    }
   ],
   "source": [
    "def plot_data(data, title, x_label):\n",
    "    fig, axs = plt.subplots(2, 1, figsize=(16, 8))\n",
    "\n",
    "    # Histograma\n",
    "    axs[0].hist(data, bins=50, edgecolor='k', alpha=0.65)\n",
    "    axs[0].set_title(f'Histograma de {title}')\n",
    "    axs[0].set_xlabel(x_label)\n",
    "    axs[0].set_ylabel('Frequência')\n",
    "\n",
    "    # Boxplot\n",
    "    axs[1].boxplot(data, vert=False)\n",
    "    axs[1].set_title(f'Box Plot de {title}')\n",
    "    axs[1].set_xlabel(x_label)\n",
    "\n",
    "    plt.tight_layout()\n",
    "    plt.show()\n",
    "\n",
    "# Usando a função para visualizar os Preços Unitários\n",
    "plot_data(df['unit_price'], 'Preços Unitários', 'Preço Unitário')"
   ]
  },
  {
   "cell_type": "code",
   "execution_count": 291,
   "metadata": {},
   "outputs": [
    {
     "name": "stdout",
     "output_type": "stream",
     "text": [
      "Limite inferior -2.5\n",
      "Limite superior 7.5\n"
     ]
    }
   ],
   "source": [
    "# Calculando os IQR\n",
    "Q1 = df['unit_price'].quantile(0.25)\n",
    "Q3 = df['unit_price'].quantile(0.75)\n",
    "IQR = Q3 - Q1\n",
    "lower_limit = Q1 - 1.5 * IQR\n",
    "upper_limit = Q3 + 1.5 * IQR\n",
    "\n",
    "print(f'Limite inferior {lower_limit}')\n",
    "print(f'Limite superior {upper_limit}')"
   ]
  },
  {
   "cell_type": "markdown",
   "metadata": {},
   "source": [
    "**Conclusão Intermediária**\n",
    "\n",
    "Podemos observar que temos preços com valores surreais, acima de 1000 dolar por item. Iremos analisar os itens com valor acima dos limites e valores negativos. \n",
    "\n",
    "Pela distribuição podemos ver os preços dos produtos são de baixo valor agregado e assim não se justificam os valores tão altos dos produtos. Isso deve ser, provavalmente, erros do sistem de compilação.\n",
    "\n",
    "Iremos estudar os dois casos afundo."
   ]
  },
  {
   "cell_type": "markdown",
   "metadata": {},
   "source": [
    "##### Valores negativos"
   ]
  },
  {
   "cell_type": "code",
   "execution_count": 292,
   "metadata": {},
   "outputs": [
    {
     "name": "stdout",
     "output_type": "stream",
     "text": [
      "Número de registros com preços zerados ou negativos: 24\n"
     ]
    }
   ],
   "source": [
    "# Calculando\n",
    "zero_or_negative_prices = df[df['unit_price'] <= 0]\n",
    "print(\"Número de registros com preços zerados ou negativos:\", len(zero_or_negative_prices))"
   ]
  },
  {
   "cell_type": "code",
   "execution_count": 293,
   "metadata": {},
   "outputs": [
    {
     "data": {
      "text/html": [
       "<div>\n",
       "<style scoped>\n",
       "    .dataframe tbody tr th:only-of-type {\n",
       "        vertical-align: middle;\n",
       "    }\n",
       "\n",
       "    .dataframe tbody tr th {\n",
       "        vertical-align: top;\n",
       "    }\n",
       "\n",
       "    .dataframe thead th {\n",
       "        text-align: right;\n",
       "    }\n",
       "</style>\n",
       "<table border=\"1\" class=\"dataframe\">\n",
       "  <thead>\n",
       "    <tr style=\"text-align: right;\">\n",
       "      <th></th>\n",
       "      <th>invoice_no</th>\n",
       "      <th>stock_code</th>\n",
       "      <th>description</th>\n",
       "      <th>quantity</th>\n",
       "      <th>invoice_date</th>\n",
       "      <th>unit_price</th>\n",
       "      <th>customer_id</th>\n",
       "      <th>date</th>\n",
       "      <th>week_year</th>\n",
       "      <th>month_year</th>\n",
       "    </tr>\n",
       "  </thead>\n",
       "  <tbody>\n",
       "    <tr>\n",
       "      <th>9302</th>\n",
       "      <td>537197</td>\n",
       "      <td>22841</td>\n",
       "      <td>ROUND CAKE TIN VINTAGE GREEN</td>\n",
       "      <td>1</td>\n",
       "      <td>2018-12-03 14:02:00</td>\n",
       "      <td>0.0</td>\n",
       "      <td>12647</td>\n",
       "      <td>2018-12-03</td>\n",
       "      <td>2018-12-03/2018-12-09</td>\n",
       "      <td>2018-12</td>\n",
       "    </tr>\n",
       "    <tr>\n",
       "      <th>33576</th>\n",
       "      <td>539263</td>\n",
       "      <td>22580</td>\n",
       "      <td>ADVENT CALENDAR GINGHAM SACK</td>\n",
       "      <td>4</td>\n",
       "      <td>2018-12-14 14:36:00</td>\n",
       "      <td>0.0</td>\n",
       "      <td>16560</td>\n",
       "      <td>2018-12-14</td>\n",
       "      <td>2018-12-10/2018-12-16</td>\n",
       "      <td>2018-12</td>\n",
       "    </tr>\n",
       "    <tr>\n",
       "      <th>40089</th>\n",
       "      <td>539722</td>\n",
       "      <td>22423</td>\n",
       "      <td>REGENCY CAKESTAND 3 TIER</td>\n",
       "      <td>10</td>\n",
       "      <td>2018-12-19 13:45:00</td>\n",
       "      <td>0.0</td>\n",
       "      <td>14911</td>\n",
       "      <td>2018-12-19</td>\n",
       "      <td>2018-12-17/2018-12-23</td>\n",
       "      <td>2018-12</td>\n",
       "    </tr>\n",
       "    <tr>\n",
       "      <th>47068</th>\n",
       "      <td>540372</td>\n",
       "      <td>22090</td>\n",
       "      <td>PAPER BUNTING RETROSPOT</td>\n",
       "      <td>24</td>\n",
       "      <td>2019-01-04 16:41:00</td>\n",
       "      <td>0.0</td>\n",
       "      <td>13081</td>\n",
       "      <td>2019-01-04</td>\n",
       "      <td>2018-12-31/2019-01-06</td>\n",
       "      <td>2019-01</td>\n",
       "    </tr>\n",
       "    <tr>\n",
       "      <th>47070</th>\n",
       "      <td>540372</td>\n",
       "      <td>22553</td>\n",
       "      <td>PLASTERS IN TIN SKULLS</td>\n",
       "      <td>24</td>\n",
       "      <td>2019-01-04 16:41:00</td>\n",
       "      <td>0.0</td>\n",
       "      <td>13081</td>\n",
       "      <td>2019-01-04</td>\n",
       "      <td>2018-12-31/2019-01-06</td>\n",
       "      <td>2019-01</td>\n",
       "    </tr>\n",
       "    <tr>\n",
       "      <th>56674</th>\n",
       "      <td>541109</td>\n",
       "      <td>22168</td>\n",
       "      <td>ORGANISER WOOD ANTIQUE WHITE</td>\n",
       "      <td>1</td>\n",
       "      <td>2019-01-11 15:10:00</td>\n",
       "      <td>0.0</td>\n",
       "      <td>15107</td>\n",
       "      <td>2019-01-11</td>\n",
       "      <td>2019-01-07/2019-01-13</td>\n",
       "      <td>2019-01</td>\n",
       "    </tr>\n",
       "    <tr>\n",
       "      <th>86789</th>\n",
       "      <td>543599</td>\n",
       "      <td>84535B</td>\n",
       "      <td>FAIRY CAKES NOTEBOOK A6 SIZE</td>\n",
       "      <td>16</td>\n",
       "      <td>2019-02-08 13:08:00</td>\n",
       "      <td>0.0</td>\n",
       "      <td>17560</td>\n",
       "      <td>2019-02-08</td>\n",
       "      <td>2019-02-04/2019-02-10</td>\n",
       "      <td>2019-02</td>\n",
       "    </tr>\n",
       "    <tr>\n",
       "      <th>139453</th>\n",
       "      <td>548318</td>\n",
       "      <td>22055</td>\n",
       "      <td>MINI CAKE STAND  HANGING STRAWBERY</td>\n",
       "      <td>5</td>\n",
       "      <td>2019-03-28 12:45:00</td>\n",
       "      <td>0.0</td>\n",
       "      <td>13113</td>\n",
       "      <td>2019-03-28</td>\n",
       "      <td>2019-03-25/2019-03-31</td>\n",
       "      <td>2019-03</td>\n",
       "    </tr>\n",
       "    <tr>\n",
       "      <th>145208</th>\n",
       "      <td>548871</td>\n",
       "      <td>22162</td>\n",
       "      <td>HEART GARLAND RUSTIC PADDED</td>\n",
       "      <td>2</td>\n",
       "      <td>2019-04-02 14:42:00</td>\n",
       "      <td>0.0</td>\n",
       "      <td>14410</td>\n",
       "      <td>2019-04-02</td>\n",
       "      <td>2019-04-01/2019-04-07</td>\n",
       "      <td>2019-04</td>\n",
       "    </tr>\n",
       "    <tr>\n",
       "      <th>157042</th>\n",
       "      <td>550188</td>\n",
       "      <td>22636</td>\n",
       "      <td>CHILDS BREAKFAST SET CIRCUS PARADE</td>\n",
       "      <td>1</td>\n",
       "      <td>2019-04-12 18:57:00</td>\n",
       "      <td>0.0</td>\n",
       "      <td>12457</td>\n",
       "      <td>2019-04-12</td>\n",
       "      <td>2019-04-08/2019-04-14</td>\n",
       "      <td>2019-04</td>\n",
       "    </tr>\n",
       "    <tr>\n",
       "      <th>187613</th>\n",
       "      <td>553000</td>\n",
       "      <td>47566</td>\n",
       "      <td>PARTY BUNTING</td>\n",
       "      <td>4</td>\n",
       "      <td>2019-05-10 15:21:00</td>\n",
       "      <td>0.0</td>\n",
       "      <td>17667</td>\n",
       "      <td>2019-05-10</td>\n",
       "      <td>2019-05-06/2019-05-12</td>\n",
       "      <td>2019-05</td>\n",
       "    </tr>\n",
       "    <tr>\n",
       "      <th>279324</th>\n",
       "      <td>561284</td>\n",
       "      <td>22167</td>\n",
       "      <td>OVAL WALL MIRROR DIAMANTE</td>\n",
       "      <td>1</td>\n",
       "      <td>2019-07-24 12:24:00</td>\n",
       "      <td>0.0</td>\n",
       "      <td>16818</td>\n",
       "      <td>2019-07-24</td>\n",
       "      <td>2019-07-22/2019-07-28</td>\n",
       "      <td>2019-07</td>\n",
       "    </tr>\n",
       "    <tr>\n",
       "      <th>282912</th>\n",
       "      <td>561669</td>\n",
       "      <td>22960</td>\n",
       "      <td>JAM MAKING SET WITH JARS</td>\n",
       "      <td>11</td>\n",
       "      <td>2019-07-26 17:09:00</td>\n",
       "      <td>0.0</td>\n",
       "      <td>12507</td>\n",
       "      <td>2019-07-26</td>\n",
       "      <td>2019-07-22/2019-07-28</td>\n",
       "      <td>2019-07</td>\n",
       "    </tr>\n",
       "    <tr>\n",
       "      <th>379913</th>\n",
       "      <td>569716</td>\n",
       "      <td>22778</td>\n",
       "      <td>GLASS CLOCHE SMALL</td>\n",
       "      <td>2</td>\n",
       "      <td>2019-10-04 08:17:00</td>\n",
       "      <td>0.0</td>\n",
       "      <td>15804</td>\n",
       "      <td>2019-10-04</td>\n",
       "      <td>2019-09-30/2019-10-06</td>\n",
       "      <td>2019-10</td>\n",
       "    </tr>\n",
       "    <tr>\n",
       "      <th>420404</th>\n",
       "      <td>572893</td>\n",
       "      <td>21208</td>\n",
       "      <td>PASTEL COLOUR HONEYCOMB FAN</td>\n",
       "      <td>5</td>\n",
       "      <td>2019-10-24 14:36:00</td>\n",
       "      <td>0.0</td>\n",
       "      <td>18059</td>\n",
       "      <td>2019-10-24</td>\n",
       "      <td>2019-10-21/2019-10-27</td>\n",
       "      <td>2019-10</td>\n",
       "    </tr>\n",
       "    <tr>\n",
       "      <th>436597</th>\n",
       "      <td>574175</td>\n",
       "      <td>22065</td>\n",
       "      <td>CHRISTMAS PUDDING TRINKET POT</td>\n",
       "      <td>12</td>\n",
       "      <td>2019-11-01 11:47:00</td>\n",
       "      <td>0.0</td>\n",
       "      <td>14110</td>\n",
       "      <td>2019-11-01</td>\n",
       "      <td>2019-10-28/2019-11-03</td>\n",
       "      <td>2019-11</td>\n",
       "    </tr>\n",
       "    <tr>\n",
       "      <th>439361</th>\n",
       "      <td>574469</td>\n",
       "      <td>22385</td>\n",
       "      <td>JUMBO BAG SPACEBOY DESIGN</td>\n",
       "      <td>12</td>\n",
       "      <td>2019-11-02 11:55:00</td>\n",
       "      <td>0.0</td>\n",
       "      <td>12431</td>\n",
       "      <td>2019-11-02</td>\n",
       "      <td>2019-10-28/2019-11-03</td>\n",
       "      <td>2019-11</td>\n",
       "    </tr>\n",
       "    <tr>\n",
       "      <th>446125</th>\n",
       "      <td>574879</td>\n",
       "      <td>22625</td>\n",
       "      <td>RED KITCHEN SCALES</td>\n",
       "      <td>2</td>\n",
       "      <td>2019-11-05 13:22:00</td>\n",
       "      <td>0.0</td>\n",
       "      <td>13014</td>\n",
       "      <td>2019-11-05</td>\n",
       "      <td>2019-11-04/2019-11-10</td>\n",
       "      <td>2019-11</td>\n",
       "    </tr>\n",
       "    <tr>\n",
       "      <th>446793</th>\n",
       "      <td>574920</td>\n",
       "      <td>22899</td>\n",
       "      <td>CHILDREN'S APRON DOLLY GIRL</td>\n",
       "      <td>1</td>\n",
       "      <td>2019-11-05 16:34:00</td>\n",
       "      <td>0.0</td>\n",
       "      <td>13985</td>\n",
       "      <td>2019-11-05</td>\n",
       "      <td>2019-11-04/2019-11-10</td>\n",
       "      <td>2019-11</td>\n",
       "    </tr>\n",
       "    <tr>\n",
       "      <th>446794</th>\n",
       "      <td>574920</td>\n",
       "      <td>23480</td>\n",
       "      <td>MINI LIGHTS WOODLAND MUSHROOMS</td>\n",
       "      <td>1</td>\n",
       "      <td>2019-11-05 16:34:00</td>\n",
       "      <td>0.0</td>\n",
       "      <td>13985</td>\n",
       "      <td>2019-11-05</td>\n",
       "      <td>2019-11-04/2019-11-10</td>\n",
       "      <td>2019-11</td>\n",
       "    </tr>\n",
       "    <tr>\n",
       "      <th>454463</th>\n",
       "      <td>575579</td>\n",
       "      <td>22437</td>\n",
       "      <td>SET OF 9 BLACK SKULL BALLOONS</td>\n",
       "      <td>20</td>\n",
       "      <td>2019-11-08 11:49:00</td>\n",
       "      <td>0.0</td>\n",
       "      <td>13081</td>\n",
       "      <td>2019-11-08</td>\n",
       "      <td>2019-11-04/2019-11-10</td>\n",
       "      <td>2019-11</td>\n",
       "    </tr>\n",
       "    <tr>\n",
       "      <th>454464</th>\n",
       "      <td>575579</td>\n",
       "      <td>22089</td>\n",
       "      <td>PAPER BUNTING VINTAGE PAISLEY</td>\n",
       "      <td>24</td>\n",
       "      <td>2019-11-08 11:49:00</td>\n",
       "      <td>0.0</td>\n",
       "      <td>13081</td>\n",
       "      <td>2019-11-08</td>\n",
       "      <td>2019-11-04/2019-11-10</td>\n",
       "      <td>2019-11</td>\n",
       "    </tr>\n",
       "    <tr>\n",
       "      <th>479079</th>\n",
       "      <td>577129</td>\n",
       "      <td>22464</td>\n",
       "      <td>HANGING METAL HEART LANTERN</td>\n",
       "      <td>4</td>\n",
       "      <td>2019-11-15 19:52:00</td>\n",
       "      <td>0.0</td>\n",
       "      <td>15602</td>\n",
       "      <td>2019-11-15</td>\n",
       "      <td>2019-11-11/2019-11-17</td>\n",
       "      <td>2019-11</td>\n",
       "    </tr>\n",
       "    <tr>\n",
       "      <th>480649</th>\n",
       "      <td>577314</td>\n",
       "      <td>23407</td>\n",
       "      <td>SET OF 2 TRAYS HOME SWEET HOME</td>\n",
       "      <td>2</td>\n",
       "      <td>2019-11-16 13:23:00</td>\n",
       "      <td>0.0</td>\n",
       "      <td>12444</td>\n",
       "      <td>2019-11-16</td>\n",
       "      <td>2019-11-11/2019-11-17</td>\n",
       "      <td>2019-11</td>\n",
       "    </tr>\n",
       "  </tbody>\n",
       "</table>\n",
       "</div>"
      ],
      "text/plain": [
       "       invoice_no stock_code                         description  quantity  \\\n",
       "9302       537197      22841        ROUND CAKE TIN VINTAGE GREEN         1   \n",
       "33576      539263      22580        ADVENT CALENDAR GINGHAM SACK         4   \n",
       "40089      539722      22423            REGENCY CAKESTAND 3 TIER        10   \n",
       "47068      540372      22090             PAPER BUNTING RETROSPOT        24   \n",
       "47070      540372      22553              PLASTERS IN TIN SKULLS        24   \n",
       "56674      541109      22168       ORGANISER WOOD ANTIQUE WHITE          1   \n",
       "86789      543599     84535B        FAIRY CAKES NOTEBOOK A6 SIZE        16   \n",
       "139453     548318      22055  MINI CAKE STAND  HANGING STRAWBERY         5   \n",
       "145208     548871      22162         HEART GARLAND RUSTIC PADDED         2   \n",
       "157042     550188      22636  CHILDS BREAKFAST SET CIRCUS PARADE         1   \n",
       "187613     553000      47566                       PARTY BUNTING         4   \n",
       "279324     561284      22167          OVAL WALL MIRROR DIAMANTE          1   \n",
       "282912     561669      22960            JAM MAKING SET WITH JARS        11   \n",
       "379913     569716      22778                  GLASS CLOCHE SMALL         2   \n",
       "420404     572893      21208         PASTEL COLOUR HONEYCOMB FAN         5   \n",
       "436597     574175      22065      CHRISTMAS PUDDING TRINKET POT         12   \n",
       "439361     574469      22385           JUMBO BAG SPACEBOY DESIGN        12   \n",
       "446125     574879      22625                  RED KITCHEN SCALES         2   \n",
       "446793     574920      22899        CHILDREN'S APRON DOLLY GIRL          1   \n",
       "446794     574920      23480      MINI LIGHTS WOODLAND MUSHROOMS         1   \n",
       "454463     575579      22437       SET OF 9 BLACK SKULL BALLOONS        20   \n",
       "454464     575579      22089       PAPER BUNTING VINTAGE PAISLEY        24   \n",
       "479079     577129      22464         HANGING METAL HEART LANTERN         4   \n",
       "480649     577314      23407      SET OF 2 TRAYS HOME SWEET HOME         2   \n",
       "\n",
       "              invoice_date  unit_price  customer_id        date  \\\n",
       "9302   2018-12-03 14:02:00         0.0        12647  2018-12-03   \n",
       "33576  2018-12-14 14:36:00         0.0        16560  2018-12-14   \n",
       "40089  2018-12-19 13:45:00         0.0        14911  2018-12-19   \n",
       "47068  2019-01-04 16:41:00         0.0        13081  2019-01-04   \n",
       "47070  2019-01-04 16:41:00         0.0        13081  2019-01-04   \n",
       "56674  2019-01-11 15:10:00         0.0        15107  2019-01-11   \n",
       "86789  2019-02-08 13:08:00         0.0        17560  2019-02-08   \n",
       "139453 2019-03-28 12:45:00         0.0        13113  2019-03-28   \n",
       "145208 2019-04-02 14:42:00         0.0        14410  2019-04-02   \n",
       "157042 2019-04-12 18:57:00         0.0        12457  2019-04-12   \n",
       "187613 2019-05-10 15:21:00         0.0        17667  2019-05-10   \n",
       "279324 2019-07-24 12:24:00         0.0        16818  2019-07-24   \n",
       "282912 2019-07-26 17:09:00         0.0        12507  2019-07-26   \n",
       "379913 2019-10-04 08:17:00         0.0        15804  2019-10-04   \n",
       "420404 2019-10-24 14:36:00         0.0        18059  2019-10-24   \n",
       "436597 2019-11-01 11:47:00         0.0        14110  2019-11-01   \n",
       "439361 2019-11-02 11:55:00         0.0        12431  2019-11-02   \n",
       "446125 2019-11-05 13:22:00         0.0        13014  2019-11-05   \n",
       "446793 2019-11-05 16:34:00         0.0        13985  2019-11-05   \n",
       "446794 2019-11-05 16:34:00         0.0        13985  2019-11-05   \n",
       "454463 2019-11-08 11:49:00         0.0        13081  2019-11-08   \n",
       "454464 2019-11-08 11:49:00         0.0        13081  2019-11-08   \n",
       "479079 2019-11-15 19:52:00         0.0        15602  2019-11-15   \n",
       "480649 2019-11-16 13:23:00         0.0        12444  2019-11-16   \n",
       "\n",
       "                    week_year month_year  \n",
       "9302    2018-12-03/2018-12-09    2018-12  \n",
       "33576   2018-12-10/2018-12-16    2018-12  \n",
       "40089   2018-12-17/2018-12-23    2018-12  \n",
       "47068   2018-12-31/2019-01-06    2019-01  \n",
       "47070   2018-12-31/2019-01-06    2019-01  \n",
       "56674   2019-01-07/2019-01-13    2019-01  \n",
       "86789   2019-02-04/2019-02-10    2019-02  \n",
       "139453  2019-03-25/2019-03-31    2019-03  \n",
       "145208  2019-04-01/2019-04-07    2019-04  \n",
       "157042  2019-04-08/2019-04-14    2019-04  \n",
       "187613  2019-05-06/2019-05-12    2019-05  \n",
       "279324  2019-07-22/2019-07-28    2019-07  \n",
       "282912  2019-07-22/2019-07-28    2019-07  \n",
       "379913  2019-09-30/2019-10-06    2019-10  \n",
       "420404  2019-10-21/2019-10-27    2019-10  \n",
       "436597  2019-10-28/2019-11-03    2019-11  \n",
       "439361  2019-10-28/2019-11-03    2019-11  \n",
       "446125  2019-11-04/2019-11-10    2019-11  \n",
       "446793  2019-11-04/2019-11-10    2019-11  \n",
       "446794  2019-11-04/2019-11-10    2019-11  \n",
       "454463  2019-11-04/2019-11-10    2019-11  \n",
       "454464  2019-11-04/2019-11-10    2019-11  \n",
       "479079  2019-11-11/2019-11-17    2019-11  \n",
       "480649  2019-11-11/2019-11-17    2019-11  "
      ]
     },
     "execution_count": 293,
     "metadata": {},
     "output_type": "execute_result"
    }
   ],
   "source": [
    "# Filtrar as linhas onde o unit_price é menor ou igual a zero\n",
    "negative_or_zero_price_df = df[df['unit_price'] <= 0]\n",
    "\n",
    "# Imprimir as linhas filtradas\n",
    "negative_or_zero_price_df"
   ]
  },
  {
   "cell_type": "markdown",
   "metadata": {},
   "source": [
    "**Conclusão**\n",
    "\n",
    "Iremos retirar os valores que estão zerados, pois eles apresentam produtos e valores zerados podendo trazer erros para nossa análise futura."
   ]
  },
  {
   "cell_type": "code",
   "execution_count": 294,
   "metadata": {},
   "outputs": [],
   "source": [
    "# Mantendo apenas as linhas onde o unit_price é maior que zero\n",
    "df = df[df['unit_price'] > 0]"
   ]
  },
  {
   "cell_type": "markdown",
   "metadata": {},
   "source": [
    "##### Valores outliers"
   ]
  },
  {
   "cell_type": "code",
   "execution_count": 295,
   "metadata": {},
   "outputs": [
    {
     "data": {
      "text/html": [
       "<div>\n",
       "<style scoped>\n",
       "    .dataframe tbody tr th:only-of-type {\n",
       "        vertical-align: middle;\n",
       "    }\n",
       "\n",
       "    .dataframe tbody tr th {\n",
       "        vertical-align: top;\n",
       "    }\n",
       "\n",
       "    .dataframe thead th {\n",
       "        text-align: right;\n",
       "    }\n",
       "</style>\n",
       "<table border=\"1\" class=\"dataframe\">\n",
       "  <thead>\n",
       "    <tr style=\"text-align: right;\">\n",
       "      <th></th>\n",
       "      <th>invoice_no</th>\n",
       "      <th>stock_code</th>\n",
       "      <th>description</th>\n",
       "      <th>quantity</th>\n",
       "      <th>invoice_date</th>\n",
       "      <th>unit_price</th>\n",
       "      <th>customer_id</th>\n",
       "      <th>date</th>\n",
       "      <th>week_year</th>\n",
       "      <th>month_year</th>\n",
       "    </tr>\n",
       "  </thead>\n",
       "  <tbody>\n",
       "    <tr>\n",
       "      <th>5</th>\n",
       "      <td>536365</td>\n",
       "      <td>22752</td>\n",
       "      <td>SET 7 BABUSHKA NESTING BOXES</td>\n",
       "      <td>2</td>\n",
       "      <td>2018-11-29 08:26:00</td>\n",
       "      <td>7.65</td>\n",
       "      <td>17850</td>\n",
       "      <td>2018-11-29</td>\n",
       "      <td>2018-11-26/2018-12-02</td>\n",
       "      <td>2018-11</td>\n",
       "    </tr>\n",
       "    <tr>\n",
       "      <th>16</th>\n",
       "      <td>536367</td>\n",
       "      <td>22622</td>\n",
       "      <td>BOX OF VINTAGE ALPHABET BLOCKS</td>\n",
       "      <td>2</td>\n",
       "      <td>2018-11-29 08:34:00</td>\n",
       "      <td>9.95</td>\n",
       "      <td>13047</td>\n",
       "      <td>2018-11-29</td>\n",
       "      <td>2018-11-26/2018-12-02</td>\n",
       "      <td>2018-11</td>\n",
       "    </tr>\n",
       "    <tr>\n",
       "      <th>19</th>\n",
       "      <td>536367</td>\n",
       "      <td>21777</td>\n",
       "      <td>RECIPE BOX WITH METAL HEART</td>\n",
       "      <td>4</td>\n",
       "      <td>2018-11-29 08:34:00</td>\n",
       "      <td>7.95</td>\n",
       "      <td>13047</td>\n",
       "      <td>2018-11-29</td>\n",
       "      <td>2018-11-26/2018-12-02</td>\n",
       "      <td>2018-11</td>\n",
       "    </tr>\n",
       "    <tr>\n",
       "      <th>20</th>\n",
       "      <td>536367</td>\n",
       "      <td>48187</td>\n",
       "      <td>DOORMAT NEW ENGLAND</td>\n",
       "      <td>4</td>\n",
       "      <td>2018-11-29 08:34:00</td>\n",
       "      <td>7.95</td>\n",
       "      <td>13047</td>\n",
       "      <td>2018-11-29</td>\n",
       "      <td>2018-11-26/2018-12-02</td>\n",
       "      <td>2018-11</td>\n",
       "    </tr>\n",
       "    <tr>\n",
       "      <th>63</th>\n",
       "      <td>536373</td>\n",
       "      <td>22752</td>\n",
       "      <td>SET 7 BABUSHKA NESTING BOXES</td>\n",
       "      <td>2</td>\n",
       "      <td>2018-11-29 09:02:00</td>\n",
       "      <td>7.65</td>\n",
       "      <td>17850</td>\n",
       "      <td>2018-11-29</td>\n",
       "      <td>2018-11-26/2018-12-02</td>\n",
       "      <td>2018-11</td>\n",
       "    </tr>\n",
       "    <tr>\n",
       "      <th>...</th>\n",
       "      <td>...</td>\n",
       "      <td>...</td>\n",
       "      <td>...</td>\n",
       "      <td>...</td>\n",
       "      <td>...</td>\n",
       "      <td>...</td>\n",
       "      <td>...</td>\n",
       "      <td>...</td>\n",
       "      <td>...</td>\n",
       "      <td>...</td>\n",
       "    </tr>\n",
       "    <tr>\n",
       "      <th>541763</th>\n",
       "      <td>581574</td>\n",
       "      <td>23111</td>\n",
       "      <td>PARISIENNE SEWING BOX</td>\n",
       "      <td>2</td>\n",
       "      <td>2019-12-07 12:09:00</td>\n",
       "      <td>12.50</td>\n",
       "      <td>12526</td>\n",
       "      <td>2019-12-07</td>\n",
       "      <td>2019-12-02/2019-12-08</td>\n",
       "      <td>2019-12</td>\n",
       "    </tr>\n",
       "    <tr>\n",
       "      <th>541786</th>\n",
       "      <td>581578</td>\n",
       "      <td>22622</td>\n",
       "      <td>BOX OF VINTAGE ALPHABET BLOCKS</td>\n",
       "      <td>6</td>\n",
       "      <td>2019-12-07 12:16:00</td>\n",
       "      <td>11.95</td>\n",
       "      <td>12713</td>\n",
       "      <td>2019-12-07</td>\n",
       "      <td>2019-12-02/2019-12-08</td>\n",
       "      <td>2019-12</td>\n",
       "    </tr>\n",
       "    <tr>\n",
       "      <th>541831</th>\n",
       "      <td>581579</td>\n",
       "      <td>22941</td>\n",
       "      <td>CHRISTMAS LIGHTS 10 REINDEER</td>\n",
       "      <td>4</td>\n",
       "      <td>2019-12-07 12:19:00</td>\n",
       "      <td>8.50</td>\n",
       "      <td>17581</td>\n",
       "      <td>2019-12-07</td>\n",
       "      <td>2019-12-02/2019-12-08</td>\n",
       "      <td>2019-12</td>\n",
       "    </tr>\n",
       "    <tr>\n",
       "      <th>541849</th>\n",
       "      <td>581580</td>\n",
       "      <td>22894</td>\n",
       "      <td>TABLECLOTH RED APPLES DESIGN</td>\n",
       "      <td>2</td>\n",
       "      <td>2019-12-07 12:20:00</td>\n",
       "      <td>9.95</td>\n",
       "      <td>12748</td>\n",
       "      <td>2019-12-07</td>\n",
       "      <td>2019-12-02/2019-12-08</td>\n",
       "      <td>2019-12</td>\n",
       "    </tr>\n",
       "    <tr>\n",
       "      <th>541892</th>\n",
       "      <td>581586</td>\n",
       "      <td>21217</td>\n",
       "      <td>RED RETROSPOT ROUND CAKE TINS</td>\n",
       "      <td>24</td>\n",
       "      <td>2019-12-07 12:49:00</td>\n",
       "      <td>8.95</td>\n",
       "      <td>13113</td>\n",
       "      <td>2019-12-07</td>\n",
       "      <td>2019-12-02/2019-12-08</td>\n",
       "      <td>2019-12</td>\n",
       "    </tr>\n",
       "  </tbody>\n",
       "</table>\n",
       "<p>32644 rows × 10 columns</p>\n",
       "</div>"
      ],
      "text/plain": [
       "       invoice_no stock_code                     description  quantity  \\\n",
       "5          536365      22752    SET 7 BABUSHKA NESTING BOXES         2   \n",
       "16         536367      22622  BOX OF VINTAGE ALPHABET BLOCKS         2   \n",
       "19         536367      21777     RECIPE BOX WITH METAL HEART         4   \n",
       "20         536367      48187             DOORMAT NEW ENGLAND         4   \n",
       "63         536373      22752    SET 7 BABUSHKA NESTING BOXES         2   \n",
       "...           ...        ...                             ...       ...   \n",
       "541763     581574      23111           PARISIENNE SEWING BOX         2   \n",
       "541786     581578      22622  BOX OF VINTAGE ALPHABET BLOCKS         6   \n",
       "541831     581579      22941    CHRISTMAS LIGHTS 10 REINDEER         4   \n",
       "541849     581580      22894   TABLECLOTH RED APPLES DESIGN          2   \n",
       "541892     581586      21217   RED RETROSPOT ROUND CAKE TINS        24   \n",
       "\n",
       "              invoice_date  unit_price  customer_id        date  \\\n",
       "5      2018-11-29 08:26:00        7.65        17850  2018-11-29   \n",
       "16     2018-11-29 08:34:00        9.95        13047  2018-11-29   \n",
       "19     2018-11-29 08:34:00        7.95        13047  2018-11-29   \n",
       "20     2018-11-29 08:34:00        7.95        13047  2018-11-29   \n",
       "63     2018-11-29 09:02:00        7.65        17850  2018-11-29   \n",
       "...                    ...         ...          ...         ...   \n",
       "541763 2019-12-07 12:09:00       12.50        12526  2019-12-07   \n",
       "541786 2019-12-07 12:16:00       11.95        12713  2019-12-07   \n",
       "541831 2019-12-07 12:19:00        8.50        17581  2019-12-07   \n",
       "541849 2019-12-07 12:20:00        9.95        12748  2019-12-07   \n",
       "541892 2019-12-07 12:49:00        8.95        13113  2019-12-07   \n",
       "\n",
       "                    week_year month_year  \n",
       "5       2018-11-26/2018-12-02    2018-11  \n",
       "16      2018-11-26/2018-12-02    2018-11  \n",
       "19      2018-11-26/2018-12-02    2018-11  \n",
       "20      2018-11-26/2018-12-02    2018-11  \n",
       "63      2018-11-26/2018-12-02    2018-11  \n",
       "...                       ...        ...  \n",
       "541763  2019-12-02/2019-12-08    2019-12  \n",
       "541786  2019-12-02/2019-12-08    2019-12  \n",
       "541831  2019-12-02/2019-12-08    2019-12  \n",
       "541849  2019-12-02/2019-12-08    2019-12  \n",
       "541892  2019-12-02/2019-12-08    2019-12  \n",
       "\n",
       "[32644 rows x 10 columns]"
      ]
     },
     "execution_count": 295,
     "metadata": {},
     "output_type": "execute_result"
    }
   ],
   "source": [
    "# Filtrando\n",
    "outliers_price = df[df['unit_price'] > upper_limit]\n",
    "\n",
    "# Imprimindo\n",
    "outliers_price"
   ]
  },
  {
   "cell_type": "code",
   "execution_count": 296,
   "metadata": {},
   "outputs": [
    {
     "name": "stdout",
     "output_type": "stream",
     "text": [
      "<class 'pandas.core.frame.DataFrame'>\n",
      "Int64Index: 365689 entries, 0 to 541908\n",
      "Data columns (total 10 columns):\n",
      " #   Column        Non-Null Count   Dtype         \n",
      "---  ------        --------------   -----         \n",
      " 0   invoice_no    365689 non-null  object        \n",
      " 1   stock_code    365689 non-null  object        \n",
      " 2   description   365689 non-null  object        \n",
      " 3   quantity      365689 non-null  int64         \n",
      " 4   invoice_date  365689 non-null  datetime64[ns]\n",
      " 5   unit_price    365689 non-null  float64       \n",
      " 6   customer_id   365689 non-null  Int64         \n",
      " 7   date          365689 non-null  object        \n",
      " 8   week_year     365689 non-null  period[W-SUN] \n",
      " 9   month_year    365689 non-null  period[M]     \n",
      "dtypes: Int64(1), datetime64[ns](1), float64(1), int64(1), object(4), period[M](1), period[W-SUN](1)\n",
      "memory usage: 31.0+ MB\n"
     ]
    }
   ],
   "source": [
    "df.info()"
   ]
  },
  {
   "cell_type": "markdown",
   "metadata": {},
   "source": [
    "**Conclusão Intermediária**\n",
    "\n",
    "Ao analisar os dados entendemos que o ecommerce trabalha com produtos para casas. Ao gerar os quartis, percebemos que o limite superior (Q1) tem um valor de até 7,5 dólares. Nesse contexto e sabendo com o que a empresa trabalha pode-se plausivelmente ter produtos com valores maiores que esse e, caso retirarmos da amostra, podemos afetar futuras segmentações de clientes que podemos realizar.\n",
    "\n",
    "Desta maneira, iremos gerar tabelas com filtros de preços acima dos seguintes valores:\n",
    "\n",
    "- 100 dolares\n",
    "- 200 dolares\n",
    "- 300 dolares\n",
    "\n",
    "\n",
    "Posteriormente iremos analisar e entender o que podemos fazer para decidir o melhor filtro para nossos dados."
   ]
  },
  {
   "cell_type": "code",
   "execution_count": 297,
   "metadata": {},
   "outputs": [
    {
     "data": {
      "text/html": [
       "<div>\n",
       "<style scoped>\n",
       "    .dataframe tbody tr th:only-of-type {\n",
       "        vertical-align: middle;\n",
       "    }\n",
       "\n",
       "    .dataframe tbody tr th {\n",
       "        vertical-align: top;\n",
       "    }\n",
       "\n",
       "    .dataframe thead th {\n",
       "        text-align: right;\n",
       "    }\n",
       "</style>\n",
       "<table border=\"1\" class=\"dataframe\">\n",
       "  <thead>\n",
       "    <tr style=\"text-align: right;\">\n",
       "      <th></th>\n",
       "      <th>invoice_no</th>\n",
       "      <th>stock_code</th>\n",
       "      <th>description</th>\n",
       "      <th>quantity</th>\n",
       "      <th>invoice_date</th>\n",
       "      <th>unit_price</th>\n",
       "      <th>customer_id</th>\n",
       "      <th>date</th>\n",
       "      <th>week_year</th>\n",
       "      <th>month_year</th>\n",
       "    </tr>\n",
       "  </thead>\n",
       "  <tbody>\n",
       "    <tr>\n",
       "      <th>246</th>\n",
       "      <td>536392</td>\n",
       "      <td>22827</td>\n",
       "      <td>RUSTIC  SEVENTEEN DRAWER SIDEBOARD</td>\n",
       "      <td>1</td>\n",
       "      <td>2018-11-29 10:29:00</td>\n",
       "      <td>165.0</td>\n",
       "      <td>13705</td>\n",
       "      <td>2018-11-29</td>\n",
       "      <td>2018-11-26/2018-12-02</td>\n",
       "      <td>2018-11</td>\n",
       "    </tr>\n",
       "    <tr>\n",
       "      <th>4989</th>\n",
       "      <td>536835</td>\n",
       "      <td>22655</td>\n",
       "      <td>VINTAGE RED KITCHEN CABINET</td>\n",
       "      <td>1</td>\n",
       "      <td>2018-11-30 18:06:00</td>\n",
       "      <td>295.0</td>\n",
       "      <td>13145</td>\n",
       "      <td>2018-11-30</td>\n",
       "      <td>2018-11-26/2018-12-02</td>\n",
       "      <td>2018-11</td>\n",
       "    </tr>\n",
       "    <tr>\n",
       "      <th>19428</th>\n",
       "      <td>537859</td>\n",
       "      <td>22828</td>\n",
       "      <td>REGENCY MIRROR WITH SHUTTERS</td>\n",
       "      <td>1</td>\n",
       "      <td>2018-12-06 16:11:00</td>\n",
       "      <td>165.0</td>\n",
       "      <td>14030</td>\n",
       "      <td>2018-12-06</td>\n",
       "      <td>2018-12-03/2018-12-09</td>\n",
       "      <td>2018-12</td>\n",
       "    </tr>\n",
       "    <tr>\n",
       "      <th>19429</th>\n",
       "      <td>537859</td>\n",
       "      <td>22827</td>\n",
       "      <td>RUSTIC  SEVENTEEN DRAWER SIDEBOARD</td>\n",
       "      <td>2</td>\n",
       "      <td>2018-12-06 16:11:00</td>\n",
       "      <td>145.0</td>\n",
       "      <td>14030</td>\n",
       "      <td>2018-12-06</td>\n",
       "      <td>2018-12-03/2018-12-09</td>\n",
       "      <td>2018-12</td>\n",
       "    </tr>\n",
       "    <tr>\n",
       "      <th>25168</th>\n",
       "      <td>538354</td>\n",
       "      <td>22826</td>\n",
       "      <td>LOVE SEAT ANTIQUE WHITE METAL</td>\n",
       "      <td>2</td>\n",
       "      <td>2018-12-08 15:45:00</td>\n",
       "      <td>175.0</td>\n",
       "      <td>16873</td>\n",
       "      <td>2018-12-08</td>\n",
       "      <td>2018-12-03/2018-12-09</td>\n",
       "      <td>2018-12</td>\n",
       "    </tr>\n",
       "    <tr>\n",
       "      <th>...</th>\n",
       "      <td>...</td>\n",
       "      <td>...</td>\n",
       "      <td>...</td>\n",
       "      <td>...</td>\n",
       "      <td>...</td>\n",
       "      <td>...</td>\n",
       "      <td>...</td>\n",
       "      <td>...</td>\n",
       "      <td>...</td>\n",
       "      <td>...</td>\n",
       "    </tr>\n",
       "    <tr>\n",
       "      <th>433190</th>\n",
       "      <td>573905</td>\n",
       "      <td>22655</td>\n",
       "      <td>VINTAGE RED KITCHEN CABINET</td>\n",
       "      <td>1</td>\n",
       "      <td>2019-10-30 15:06:00</td>\n",
       "      <td>125.0</td>\n",
       "      <td>16971</td>\n",
       "      <td>2019-10-30</td>\n",
       "      <td>2019-10-28/2019-11-03</td>\n",
       "      <td>2019-10</td>\n",
       "    </tr>\n",
       "    <tr>\n",
       "      <th>443596</th>\n",
       "      <td>574705</td>\n",
       "      <td>22827</td>\n",
       "      <td>RUSTIC  SEVENTEEN DRAWER SIDEBOARD</td>\n",
       "      <td>1</td>\n",
       "      <td>2019-11-04 14:06:00</td>\n",
       "      <td>165.0</td>\n",
       "      <td>14553</td>\n",
       "      <td>2019-11-04</td>\n",
       "      <td>2019-11-04/2019-11-10</td>\n",
       "      <td>2019-11</td>\n",
       "    </tr>\n",
       "    <tr>\n",
       "      <th>468546</th>\n",
       "      <td>576512</td>\n",
       "      <td>22823</td>\n",
       "      <td>CHEST NATURAL WOOD 20 DRAWERS</td>\n",
       "      <td>4</td>\n",
       "      <td>2019-11-13 12:09:00</td>\n",
       "      <td>110.0</td>\n",
       "      <td>15524</td>\n",
       "      <td>2019-11-13</td>\n",
       "      <td>2019-11-11/2019-11-17</td>\n",
       "      <td>2019-11</td>\n",
       "    </tr>\n",
       "    <tr>\n",
       "      <th>471340</th>\n",
       "      <td>576635</td>\n",
       "      <td>22828</td>\n",
       "      <td>REGENCY MIRROR WITH SHUTTERS</td>\n",
       "      <td>2</td>\n",
       "      <td>2019-11-14 09:32:00</td>\n",
       "      <td>145.0</td>\n",
       "      <td>15269</td>\n",
       "      <td>2019-11-14</td>\n",
       "      <td>2019-11-11/2019-11-17</td>\n",
       "      <td>2019-11</td>\n",
       "    </tr>\n",
       "    <tr>\n",
       "      <th>479081</th>\n",
       "      <td>577130</td>\n",
       "      <td>22827</td>\n",
       "      <td>RUSTIC  SEVENTEEN DRAWER SIDEBOARD</td>\n",
       "      <td>1</td>\n",
       "      <td>2019-11-15 19:58:00</td>\n",
       "      <td>165.0</td>\n",
       "      <td>15861</td>\n",
       "      <td>2019-11-15</td>\n",
       "      <td>2019-11-11/2019-11-17</td>\n",
       "      <td>2019-11</td>\n",
       "    </tr>\n",
       "  </tbody>\n",
       "</table>\n",
       "<p>114 rows × 10 columns</p>\n",
       "</div>"
      ],
      "text/plain": [
       "       invoice_no stock_code                         description  quantity  \\\n",
       "246        536392      22827  RUSTIC  SEVENTEEN DRAWER SIDEBOARD         1   \n",
       "4989       536835      22655         VINTAGE RED KITCHEN CABINET         1   \n",
       "19428      537859      22828        REGENCY MIRROR WITH SHUTTERS         1   \n",
       "19429      537859      22827  RUSTIC  SEVENTEEN DRAWER SIDEBOARD         2   \n",
       "25168      538354      22826       LOVE SEAT ANTIQUE WHITE METAL         2   \n",
       "...           ...        ...                                 ...       ...   \n",
       "433190     573905      22655         VINTAGE RED KITCHEN CABINET         1   \n",
       "443596     574705      22827  RUSTIC  SEVENTEEN DRAWER SIDEBOARD         1   \n",
       "468546     576512      22823       CHEST NATURAL WOOD 20 DRAWERS         4   \n",
       "471340     576635      22828        REGENCY MIRROR WITH SHUTTERS         2   \n",
       "479081     577130      22827  RUSTIC  SEVENTEEN DRAWER SIDEBOARD         1   \n",
       "\n",
       "              invoice_date  unit_price  customer_id        date  \\\n",
       "246    2018-11-29 10:29:00       165.0        13705  2018-11-29   \n",
       "4989   2018-11-30 18:06:00       295.0        13145  2018-11-30   \n",
       "19428  2018-12-06 16:11:00       165.0        14030  2018-12-06   \n",
       "19429  2018-12-06 16:11:00       145.0        14030  2018-12-06   \n",
       "25168  2018-12-08 15:45:00       175.0        16873  2018-12-08   \n",
       "...                    ...         ...          ...         ...   \n",
       "433190 2019-10-30 15:06:00       125.0        16971  2019-10-30   \n",
       "443596 2019-11-04 14:06:00       165.0        14553  2019-11-04   \n",
       "468546 2019-11-13 12:09:00       110.0        15524  2019-11-13   \n",
       "471340 2019-11-14 09:32:00       145.0        15269  2019-11-14   \n",
       "479081 2019-11-15 19:58:00       165.0        15861  2019-11-15   \n",
       "\n",
       "                    week_year month_year  \n",
       "246     2018-11-26/2018-12-02    2018-11  \n",
       "4989    2018-11-26/2018-12-02    2018-11  \n",
       "19428   2018-12-03/2018-12-09    2018-12  \n",
       "19429   2018-12-03/2018-12-09    2018-12  \n",
       "25168   2018-12-03/2018-12-09    2018-12  \n",
       "...                       ...        ...  \n",
       "433190  2019-10-28/2019-11-03    2019-10  \n",
       "443596  2019-11-04/2019-11-10    2019-11  \n",
       "468546  2019-11-11/2019-11-17    2019-11  \n",
       "471340  2019-11-11/2019-11-17    2019-11  \n",
       "479081  2019-11-11/2019-11-17    2019-11  \n",
       "\n",
       "[114 rows x 10 columns]"
      ]
     },
     "execution_count": 297,
     "metadata": {},
     "output_type": "execute_result"
    }
   ],
   "source": [
    "# Filtro de 100 dolares\n",
    "outliers_price = df[df['unit_price'] > 100]\n",
    "outliers_price"
   ]
  },
  {
   "cell_type": "code",
   "execution_count": 298,
   "metadata": {},
   "outputs": [
    {
     "data": {
      "text/html": [
       "<div>\n",
       "<style scoped>\n",
       "    .dataframe tbody tr th:only-of-type {\n",
       "        vertical-align: middle;\n",
       "    }\n",
       "\n",
       "    .dataframe tbody tr th {\n",
       "        vertical-align: top;\n",
       "    }\n",
       "\n",
       "    .dataframe thead th {\n",
       "        text-align: right;\n",
       "    }\n",
       "</style>\n",
       "<table border=\"1\" class=\"dataframe\">\n",
       "  <thead>\n",
       "    <tr style=\"text-align: right;\">\n",
       "      <th></th>\n",
       "      <th>invoice_no</th>\n",
       "      <th>stock_code</th>\n",
       "      <th>description</th>\n",
       "      <th>quantity</th>\n",
       "      <th>invoice_date</th>\n",
       "      <th>unit_price</th>\n",
       "      <th>customer_id</th>\n",
       "      <th>date</th>\n",
       "      <th>week_year</th>\n",
       "      <th>month_year</th>\n",
       "    </tr>\n",
       "  </thead>\n",
       "  <tbody>\n",
       "    <tr>\n",
       "      <th>4989</th>\n",
       "      <td>536835</td>\n",
       "      <td>22655</td>\n",
       "      <td>VINTAGE RED KITCHEN CABINET</td>\n",
       "      <td>1</td>\n",
       "      <td>2018-11-30 18:06:00</td>\n",
       "      <td>295.0</td>\n",
       "      <td>13145</td>\n",
       "      <td>2018-11-30</td>\n",
       "      <td>2018-11-26/2018-12-02</td>\n",
       "      <td>2018-11</td>\n",
       "    </tr>\n",
       "    <tr>\n",
       "      <th>32484</th>\n",
       "      <td>539080</td>\n",
       "      <td>22655</td>\n",
       "      <td>VINTAGE RED KITCHEN CABINET</td>\n",
       "      <td>1</td>\n",
       "      <td>2018-12-14 08:41:00</td>\n",
       "      <td>295.0</td>\n",
       "      <td>16607</td>\n",
       "      <td>2018-12-14</td>\n",
       "      <td>2018-12-10/2018-12-16</td>\n",
       "      <td>2018-12</td>\n",
       "    </tr>\n",
       "    <tr>\n",
       "      <th>51636</th>\n",
       "      <td>540647</td>\n",
       "      <td>22655</td>\n",
       "      <td>VINTAGE RED KITCHEN CABINET</td>\n",
       "      <td>1</td>\n",
       "      <td>2019-01-08 14:57:00</td>\n",
       "      <td>295.0</td>\n",
       "      <td>17406</td>\n",
       "      <td>2019-01-08</td>\n",
       "      <td>2019-01-07/2019-01-13</td>\n",
       "      <td>2019-01</td>\n",
       "    </tr>\n",
       "    <tr>\n",
       "      <th>82768</th>\n",
       "      <td>543253</td>\n",
       "      <td>22655</td>\n",
       "      <td>VINTAGE RED KITCHEN CABINET</td>\n",
       "      <td>1</td>\n",
       "      <td>2019-02-02 15:32:00</td>\n",
       "      <td>295.0</td>\n",
       "      <td>14842</td>\n",
       "      <td>2019-02-02</td>\n",
       "      <td>2019-01-28/2019-02-03</td>\n",
       "      <td>2019-02</td>\n",
       "    </tr>\n",
       "    <tr>\n",
       "      <th>118769</th>\n",
       "      <td>546480</td>\n",
       "      <td>22656</td>\n",
       "      <td>VINTAGE BLUE KITCHEN CABINET</td>\n",
       "      <td>1</td>\n",
       "      <td>2019-03-12 11:38:00</td>\n",
       "      <td>295.0</td>\n",
       "      <td>13452</td>\n",
       "      <td>2019-03-12</td>\n",
       "      <td>2019-03-11/2019-03-17</td>\n",
       "      <td>2019-03</td>\n",
       "    </tr>\n",
       "    <tr>\n",
       "      <th>133994</th>\n",
       "      <td>547814</td>\n",
       "      <td>22656</td>\n",
       "      <td>VINTAGE BLUE KITCHEN CABINET</td>\n",
       "      <td>1</td>\n",
       "      <td>2019-03-23 14:19:00</td>\n",
       "      <td>295.0</td>\n",
       "      <td>13452</td>\n",
       "      <td>2019-03-23</td>\n",
       "      <td>2019-03-18/2019-03-24</td>\n",
       "      <td>2019-03</td>\n",
       "    </tr>\n",
       "    <tr>\n",
       "      <th>171178</th>\n",
       "      <td>551393</td>\n",
       "      <td>22656</td>\n",
       "      <td>VINTAGE BLUE KITCHEN CABINET</td>\n",
       "      <td>1</td>\n",
       "      <td>2019-04-26 12:22:00</td>\n",
       "      <td>295.0</td>\n",
       "      <td>14973</td>\n",
       "      <td>2019-04-26</td>\n",
       "      <td>2019-04-22/2019-04-28</td>\n",
       "      <td>2019-04</td>\n",
       "    </tr>\n",
       "    <tr>\n",
       "      <th>205759</th>\n",
       "      <td>554836</td>\n",
       "      <td>22655</td>\n",
       "      <td>VINTAGE RED KITCHEN CABINET</td>\n",
       "      <td>1</td>\n",
       "      <td>2019-05-24 16:25:00</td>\n",
       "      <td>295.0</td>\n",
       "      <td>13015</td>\n",
       "      <td>2019-05-24</td>\n",
       "      <td>2019-05-20/2019-05-26</td>\n",
       "      <td>2019-05</td>\n",
       "    </tr>\n",
       "    <tr>\n",
       "      <th>222682</th>\n",
       "      <td>556446</td>\n",
       "      <td>22502</td>\n",
       "      <td>PICNIC BASKET WICKER 60 PIECES</td>\n",
       "      <td>1</td>\n",
       "      <td>2019-06-08 15:33:00</td>\n",
       "      <td>649.5</td>\n",
       "      <td>15098</td>\n",
       "      <td>2019-06-08</td>\n",
       "      <td>2019-06-03/2019-06-09</td>\n",
       "      <td>2019-06</td>\n",
       "    </tr>\n",
       "  </tbody>\n",
       "</table>\n",
       "</div>"
      ],
      "text/plain": [
       "       invoice_no stock_code                     description  quantity  \\\n",
       "4989       536835      22655     VINTAGE RED KITCHEN CABINET         1   \n",
       "32484      539080      22655     VINTAGE RED KITCHEN CABINET         1   \n",
       "51636      540647      22655     VINTAGE RED KITCHEN CABINET         1   \n",
       "82768      543253      22655     VINTAGE RED KITCHEN CABINET         1   \n",
       "118769     546480      22656    VINTAGE BLUE KITCHEN CABINET         1   \n",
       "133994     547814      22656    VINTAGE BLUE KITCHEN CABINET         1   \n",
       "171178     551393      22656    VINTAGE BLUE KITCHEN CABINET         1   \n",
       "205759     554836      22655     VINTAGE RED KITCHEN CABINET         1   \n",
       "222682     556446      22502  PICNIC BASKET WICKER 60 PIECES         1   \n",
       "\n",
       "              invoice_date  unit_price  customer_id        date  \\\n",
       "4989   2018-11-30 18:06:00       295.0        13145  2018-11-30   \n",
       "32484  2018-12-14 08:41:00       295.0        16607  2018-12-14   \n",
       "51636  2019-01-08 14:57:00       295.0        17406  2019-01-08   \n",
       "82768  2019-02-02 15:32:00       295.0        14842  2019-02-02   \n",
       "118769 2019-03-12 11:38:00       295.0        13452  2019-03-12   \n",
       "133994 2019-03-23 14:19:00       295.0        13452  2019-03-23   \n",
       "171178 2019-04-26 12:22:00       295.0        14973  2019-04-26   \n",
       "205759 2019-05-24 16:25:00       295.0        13015  2019-05-24   \n",
       "222682 2019-06-08 15:33:00       649.5        15098  2019-06-08   \n",
       "\n",
       "                    week_year month_year  \n",
       "4989    2018-11-26/2018-12-02    2018-11  \n",
       "32484   2018-12-10/2018-12-16    2018-12  \n",
       "51636   2019-01-07/2019-01-13    2019-01  \n",
       "82768   2019-01-28/2019-02-03    2019-02  \n",
       "118769  2019-03-11/2019-03-17    2019-03  \n",
       "133994  2019-03-18/2019-03-24    2019-03  \n",
       "171178  2019-04-22/2019-04-28    2019-04  \n",
       "205759  2019-05-20/2019-05-26    2019-05  \n",
       "222682  2019-06-03/2019-06-09    2019-06  "
      ]
     },
     "execution_count": 298,
     "metadata": {},
     "output_type": "execute_result"
    }
   ],
   "source": [
    "# Filtro de 200 dolares\n",
    "outliers_price = df[df['unit_price'] > 200]\n",
    "outliers_price"
   ]
  },
  {
   "cell_type": "code",
   "execution_count": 299,
   "metadata": {},
   "outputs": [
    {
     "data": {
      "text/html": [
       "<div>\n",
       "<style scoped>\n",
       "    .dataframe tbody tr th:only-of-type {\n",
       "        vertical-align: middle;\n",
       "    }\n",
       "\n",
       "    .dataframe tbody tr th {\n",
       "        vertical-align: top;\n",
       "    }\n",
       "\n",
       "    .dataframe thead th {\n",
       "        text-align: right;\n",
       "    }\n",
       "</style>\n",
       "<table border=\"1\" class=\"dataframe\">\n",
       "  <thead>\n",
       "    <tr style=\"text-align: right;\">\n",
       "      <th></th>\n",
       "      <th>invoice_no</th>\n",
       "      <th>stock_code</th>\n",
       "      <th>description</th>\n",
       "      <th>quantity</th>\n",
       "      <th>invoice_date</th>\n",
       "      <th>unit_price</th>\n",
       "      <th>customer_id</th>\n",
       "      <th>date</th>\n",
       "      <th>week_year</th>\n",
       "      <th>month_year</th>\n",
       "    </tr>\n",
       "  </thead>\n",
       "  <tbody>\n",
       "    <tr>\n",
       "      <th>222682</th>\n",
       "      <td>556446</td>\n",
       "      <td>22502</td>\n",
       "      <td>PICNIC BASKET WICKER 60 PIECES</td>\n",
       "      <td>1</td>\n",
       "      <td>2019-06-08 15:33:00</td>\n",
       "      <td>649.5</td>\n",
       "      <td>15098</td>\n",
       "      <td>2019-06-08</td>\n",
       "      <td>2019-06-03/2019-06-09</td>\n",
       "      <td>2019-06</td>\n",
       "    </tr>\n",
       "  </tbody>\n",
       "</table>\n",
       "</div>"
      ],
      "text/plain": [
       "       invoice_no stock_code                     description  quantity  \\\n",
       "222682     556446      22502  PICNIC BASKET WICKER 60 PIECES         1   \n",
       "\n",
       "              invoice_date  unit_price  customer_id        date  \\\n",
       "222682 2019-06-08 15:33:00       649.5        15098  2019-06-08   \n",
       "\n",
       "                    week_year month_year  \n",
       "222682  2019-06-03/2019-06-09    2019-06  "
      ]
     },
     "execution_count": 299,
     "metadata": {},
     "output_type": "execute_result"
    }
   ],
   "source": [
    "# Filtro de 300 dolares\n",
    "outliers_price = df[df['unit_price'] > 300]\n",
    "outliers_price"
   ]
  },
  {
   "cell_type": "markdown",
   "metadata": {},
   "source": [
    "**Conclusão**\n",
    "\n",
    "Após observar os dados fatiados entre os grupos, podemos observar que existem produtos que são vendidos em Bulk, ou seja, não de maneira unitária mas em volumes maiores. Normalmente, empresas oferecem isso para vender mais e com preços menores.\n",
    "\n",
    "Além disso, existem dados de produtos como Cabinet ou Sideboards que são produtos mais caros como havíamos colocado como premissa anteriromente. Dessa maneira, iremos deixar todos os dados em nossa analise, pois todos eles são compras reais e fazem sentido no âmbito de vendas, ou seja, não são erros e nem outliers, representando a realidade."
   ]
  },
  {
   "cell_type": "markdown",
   "metadata": {},
   "source": [
    "#### Coluna customer_id\n",
    "\n",
    "Iremos gerar o número distintos de clientes e o número de clientes únicos por dia que realizaram pedido."
   ]
  },
  {
   "cell_type": "code",
   "execution_count": 300,
   "metadata": {},
   "outputs": [
    {
     "name": "stdout",
     "output_type": "stream",
     "text": [
      "Número de clientes únicos: 4227\n"
     ]
    }
   ],
   "source": [
    "# Número de clientes únicos\n",
    "unique_customers = df['customer_id'].nunique()\n",
    "print(f\"Número de clientes únicos: {unique_customers}\")"
   ]
  },
  {
   "cell_type": "code",
   "execution_count": 301,
   "metadata": {},
   "outputs": [
    {
     "data": {
      "image/png": "[encoded data removed]",
      "text/plain": [
       "<Figure size 1152x576 with 1 Axes>"
      ]
     },
     "metadata": {
      "needs_background": "light"
     },
     "output_type": "display_data"
    }
   ],
   "source": [
    "# Agrupando por data e contando clientes únicos\n",
    "daily_unique_customers = df.groupby('date')['customer_id'].nunique()\n",
    "\n",
    "# Plotando\n",
    "daily_unique_customers.plot(figsize=(16, 8), marker='o', linestyle='-')\n",
    "plt.title('Número de Clientes Únicos por Dia')\n",
    "plt.xlabel('Data')\n",
    "plt.ylabel('Número de Clientes Únicos')\n",
    "plt.grid(True)\n",
    "plt.tight_layout()\n",
    "plt.show()"
   ]
  },
  {
   "cell_type": "code",
   "execution_count": 302,
   "metadata": {},
   "outputs": [
    {
     "data": {
      "image/png": "[encoded data removed]",
      "text/plain": [
       "<Figure size 1152x576 with 1 Axes>"
      ]
     },
     "metadata": {
      "needs_background": "light"
     },
     "output_type": "display_data"
    }
   ],
   "source": [
    "# Agrupando por semana e contando clientes únicos\n",
    "weekly_unique_customers = df.groupby('week_year')['customer_id'].nunique()\n",
    "\n",
    "# Plotando\n",
    "weekly_unique_customers.plot(figsize=(16, 8), marker='o', linestyle='-')\n",
    "plt.title('Número de Clientes Únicos por Semana')\n",
    "plt.xlabel('Semana')\n",
    "plt.ylabel('Número de Clientes Únicos')\n",
    "plt.grid(True)\n",
    "plt.tight_layout()\n",
    "plt.show()"
   ]
  },
  {
   "cell_type": "code",
   "execution_count": 303,
   "metadata": {},
   "outputs": [
    {
     "data": {
      "image/png": "[encoded data removed]",
      "text/plain": [
       "<Figure size 1152x576 with 1 Axes>"
      ]
     },
     "metadata": {
      "needs_background": "light"
     },
     "output_type": "display_data"
    }
   ],
   "source": [
    "# Agrupando por mês e contando clientes únicos\n",
    "monthly_unique_customers = df.groupby('month_year')['customer_id'].nunique()\n",
    "\n",
    "# Plotando\n",
    "monthly_unique_customers.plot(figsize=(16, 8), marker='o', linestyle='-')\n",
    "plt.title('Número de Clientes Únicos por Mês')\n",
    "plt.xlabel('Mês')\n",
    "plt.ylabel('Número de Clientes Únicos')\n",
    "plt.grid(True)\n",
    "plt.tight_layout()\n",
    "plt.show()"
   ]
  },
  {
   "cell_type": "markdown",
   "metadata": {},
   "source": [
    "**Conclusão**\n",
    "\n",
    "* O número de clientes é de 4227 clientes diferentes, um volume expressivo de clientes≥\n",
    "\n",
    "* Assim como no número de invoice, podemos perceber a mesma tendencia para os gráficos diários, semanais e mensais. Isso apresenta uma sinergia entre ambos, ou seja, o crescimento no número de pedidos se deve ao crescimento no número de clientes na plataforma, provavelmente."
   ]
  },
  {
   "cell_type": "markdown",
   "metadata": {},
   "source": [
    "## Segmentação de usuários\n",
    "\n",
    "A segmentação de usuários é um passo essencial no processo de entender e melhor atender os diferentes perfis de clientes que interagem com nossa plataforma. Ao segmentar os usuários com base no histórico de compras, podemos identificar padrões específicos de comportamento, preferências e hábitos de compra que, por sua vez, nos permitem criar estratégias de marketing mais eficazes.\n",
    "\n",
    "Nesta seção, exploraremos diversas abordagens para segmentar nossos usuários. Embora haja diversas maneiras de abordar a segmentação, um ponto de partida é examinar o que os usuários compram. Ao analisar suas compras, podemos agrupar mercadorias de acordo com a categoria de produto a que pertencem, revelando insights sobre as preferências dos usuários.\n",
    "\n",
    "A ideia é ir além da segmentação superficial e realmente mergulhar nos dados, permitindo-nos desenvolver ofertas mais personalizadas e relevantes para cada segmento. A personalização não é apenas uma forma eficaz de aumentar a fidelidade do cliente, mas também de maximizar o ROI em campanhas de marketing.\n",
    "\n",
    "Iremos aplicar alguns métodos para segmentar os usuários sendo:\n",
    "\n",
    "1. Análise de RFM (Recência, Frequência, Monetaridade)\n",
    "2. Segmentação Baseada no Produto (Utilizando K-means)\n",
    "3. Segmentação Baseada em Valor Total de Compra"
   ]
  },
  {
   "cell_type": "markdown",
   "metadata": {},
   "source": [
    "### Análise RFM\n",
    "\n",
    "A análise RFM (Recência, Frequência e Monetaridade) é uma técnica de segmentação de clientes que utiliza o comportamento de compra passado para dividir os clientes em grupos. O RFM ajuda a dividir os clientes em várias categorias ou clusters para identificar clientes mais propensos a responder a promoções e também para futuros serviços personalizados.\n",
    "\n",
    "* Recência (R): Quando a última compra foi feita.\n",
    "* Frequência (F): Com que frequência as compras são feitas.\n",
    "* Valor Monetário (M): Quanto é gasto.\n",
    "* Implicações Comerciais\n",
    "\n",
    "Com base na pontuação RFM atribuída, os clientes são divididos em 11 segmentos:\n",
    "\n",
    "1. Campeão: Comprou recentemente, faz pedidos frequentemente e gasta mais.\n",
    "2. Leal: Faz pedidos regularmente. Responde bem a promoções.\n",
    "3. Potencialmente Leal: Clientes recentes e gastaram um bom valor.\n",
    "4. Novos Clientes: Fizeram a compra mais recentemente.\n",
    "5. Promissores: Eram potencialmente leais alguns meses atrás. Gastam frequentemente e um bom valor. Mas a última compra foi há várias semanas.\n",
    "6. Núcleo: Clientes padrão com uma compra não tão distante.\n",
    "7. Precisa de atenção: Clientes do núcleo cuja última compra aconteceu há mais de um mês.\n",
    "8. Não podemos perdê-los, mas estamos perdendo: Fizeram os maiores pedidos, e frequentemente. Mas não retornaram por muito tempo.\n",
    "9. Em Risco: Semelhante a \"Não podemos perdê-los, mas estamos perdendo\", mas com menor valor monetário e frequência.\n",
    "10. Perdendo mas engajado: Fizeram a última compra há muito tempo, mas nas últimas 4 semanas visitaram o site ou abriram um e-mail.\n",
    "11. Perdido: Fizeram a última compra há muito tempo e não se envolveram de forma alguma nas últimas 4 semanas.\n",
    "\n",
    "Cada um dos componentes RFM recebe uma pontuação entre 1 e 5 (sendo 5 a melhor pontuação).\n",
    "\n",
    "A divisão de Recência (R), Frequência (F) e Monetário (M):\n",
    "\n",
    "* Campeão [R(4 – 5), F(4 – 5), M(4 - 5)]\n",
    "* Leal [R(3 – 5), F(3 – 5), M(1 - 3)]\n",
    "* Potencialmente Leal [R(4 – 5), F(1 – 3), M(3 - 5)]\n",
    "* Novos Clientes R [(4 – 5), F(1 – 2), M(1 - 5)]\n",
    "* Promissor [R(2 – 3), F(1 – 3), M (3 - 5)]\n",
    "* Núcleo [R(2-3), F(2-3), M(2-3)]\n",
    "* Precisa de Atenção R [(1 – 2), F(2 – 3), M(1 - 3)]\n",
    "* Não Podemos Perder, mas Perdendo [R(1 – 3), F(3 – 5), M(4 - 5)]\n",
    "* Em Risco [R(1 – 2), F(2 – 5), M(1 - 3)]\n",
    "* Perdendo mas Engajado [R(2 – 3), F(1 - 2), M(1 - 5)]\n",
    "* Perdido [R(1), F(1 – 2), M(1 - 5)]"
   ]
  },
  {
   "cell_type": "code",
   "execution_count": 304,
   "metadata": {},
   "outputs": [],
   "source": [
    "# Criando nova coluna com total de compra\n",
    "df['TotalPurchase'] = df['quantity'] * df['unit_price']\n",
    "\n",
    "# A data de referência pode ser definida como a data da última fatura + 1 dia\n",
    "reference_date = df['invoice_date'].max() + pd.Timedelta(days=1)\n",
    "\n",
    "rfm = df.groupby('customer_id').agg({\n",
    "    'invoice_date': lambda invoice_date: (reference_date - invoice_date.max()).days,\n",
    "    'invoice_no': lambda invoice_no: invoice_no.nunique(),\n",
    "    'TotalPurchase': lambda TotalPurchase: TotalPurchase.sum()\n",
    "})\n",
    "\n",
    "rfm.columns = ['recency', 'frequency', 'monetary']\n",
    "\n",
    "rfm[\"RecencyScore\"] = pd.qcut(rfm['recency'], 5, labels=[5, 4, 3, 2, 1])\n",
    "rfm[\"FrequencyScore\"] = pd.qcut(rfm['frequency'].rank(method=\"first\"), 5, labels=[1, 2, 3, 4, 5])\n",
    "rfm[\"MonetaryScore\"] = pd.qcut(rfm['monetary'], 5, labels=[1, 2, 3, 4, 5])\n",
    "\n",
    "rfm[\"RFM_Score\"] = rfm['RecencyScore'].astype(str) + rfm['FrequencyScore'].astype(str) + rfm['MonetaryScore'].astype(str)\n",
    "\n",
    "seg_map = {\n",
    "    r'[4-5][4-5][4-5]': 'champion',\n",
    "    r'[3-5][3-5][1-3]': 'loyal',\n",
    "    r'[4-5][1-3][3-5]': 'potential_loyalist',\n",
    "    r'[4-5][1-2][1-5]': 'new_customers',\n",
    "    r'[2-3][1-3][3-5]': 'promising',\n",
    "    r'[2-3][2-3][2-3]': 'core',\n",
    "    r'[1-2][2-3][1-3]': 'need_attention',\n",
    "    r'[1-3][3-5][4-5]': 'cant_lose',\n",
    "    r'[1-2][2-5][1-3]': 'at_Risk',\n",
    "    r'[2-3][1-2][1-5]': 'losing_Engaged',\n",
    "    r'1[1-2][1-5]': 'lost'\n",
    "}\n",
    "\n",
    "rfm['segment'] = rfm['RFM_Score'].replace(seg_map, regex=True)\n",
    "rfm.reset_index(inplace=True)"
   ]
  },
  {
   "cell_type": "code",
   "execution_count": 305,
   "metadata": {},
   "outputs": [
    {
     "data": {
      "text/html": [
       "<div>\n",
       "<style scoped>\n",
       "    .dataframe tbody tr th:only-of-type {\n",
       "        vertical-align: middle;\n",
       "    }\n",
       "\n",
       "    .dataframe tbody tr th {\n",
       "        vertical-align: top;\n",
       "    }\n",
       "\n",
       "    .dataframe thead th {\n",
       "        text-align: right;\n",
       "    }\n",
       "</style>\n",
       "<table border=\"1\" class=\"dataframe\">\n",
       "  <thead>\n",
       "    <tr style=\"text-align: right;\">\n",
       "      <th></th>\n",
       "      <th>customer_id</th>\n",
       "      <th>recency</th>\n",
       "      <th>frequency</th>\n",
       "      <th>monetary</th>\n",
       "      <th>RecencyScore</th>\n",
       "      <th>FrequencyScore</th>\n",
       "      <th>MonetaryScore</th>\n",
       "      <th>RFM_Score</th>\n",
       "      <th>segment</th>\n",
       "    </tr>\n",
       "  </thead>\n",
       "  <tbody>\n",
       "    <tr>\n",
       "      <th>0</th>\n",
       "      <td>12347</td>\n",
       "      <td>2</td>\n",
       "      <td>7</td>\n",
       "      <td>3643.58</td>\n",
       "      <td>5</td>\n",
       "      <td>5</td>\n",
       "      <td>5</td>\n",
       "      <td>555</td>\n",
       "      <td>champion</td>\n",
       "    </tr>\n",
       "    <tr>\n",
       "      <th>1</th>\n",
       "      <td>12348</td>\n",
       "      <td>249</td>\n",
       "      <td>3</td>\n",
       "      <td>90.20</td>\n",
       "      <td>1</td>\n",
       "      <td>3</td>\n",
       "      <td>1</td>\n",
       "      <td>131</td>\n",
       "      <td>need_attention</td>\n",
       "    </tr>\n",
       "    <tr>\n",
       "      <th>2</th>\n",
       "      <td>12349</td>\n",
       "      <td>19</td>\n",
       "      <td>1</td>\n",
       "      <td>1367.55</td>\n",
       "      <td>4</td>\n",
       "      <td>1</td>\n",
       "      <td>4</td>\n",
       "      <td>414</td>\n",
       "      <td>potential_loyalist</td>\n",
       "    </tr>\n",
       "    <tr>\n",
       "      <th>3</th>\n",
       "      <td>12350</td>\n",
       "      <td>310</td>\n",
       "      <td>1</td>\n",
       "      <td>294.40</td>\n",
       "      <td>1</td>\n",
       "      <td>1</td>\n",
       "      <td>2</td>\n",
       "      <td>112</td>\n",
       "      <td>lost</td>\n",
       "    </tr>\n",
       "    <tr>\n",
       "      <th>4</th>\n",
       "      <td>12352</td>\n",
       "      <td>36</td>\n",
       "      <td>7</td>\n",
       "      <td>1385.74</td>\n",
       "      <td>3</td>\n",
       "      <td>5</td>\n",
       "      <td>4</td>\n",
       "      <td>354</td>\n",
       "      <td>cant_lose</td>\n",
       "    </tr>\n",
       "    <tr>\n",
       "      <th>...</th>\n",
       "      <td>...</td>\n",
       "      <td>...</td>\n",
       "      <td>...</td>\n",
       "      <td>...</td>\n",
       "      <td>...</td>\n",
       "      <td>...</td>\n",
       "      <td>...</td>\n",
       "      <td>...</td>\n",
       "      <td>...</td>\n",
       "    </tr>\n",
       "    <tr>\n",
       "      <th>4222</th>\n",
       "      <td>18280</td>\n",
       "      <td>278</td>\n",
       "      <td>1</td>\n",
       "      <td>180.60</td>\n",
       "      <td>1</td>\n",
       "      <td>2</td>\n",
       "      <td>1</td>\n",
       "      <td>121</td>\n",
       "      <td>need_attention</td>\n",
       "    </tr>\n",
       "    <tr>\n",
       "      <th>4223</th>\n",
       "      <td>18281</td>\n",
       "      <td>181</td>\n",
       "      <td>1</td>\n",
       "      <td>80.82</td>\n",
       "      <td>1</td>\n",
       "      <td>2</td>\n",
       "      <td>1</td>\n",
       "      <td>121</td>\n",
       "      <td>need_attention</td>\n",
       "    </tr>\n",
       "    <tr>\n",
       "      <th>4224</th>\n",
       "      <td>18282</td>\n",
       "      <td>8</td>\n",
       "      <td>2</td>\n",
       "      <td>164.13</td>\n",
       "      <td>5</td>\n",
       "      <td>3</td>\n",
       "      <td>1</td>\n",
       "      <td>531</td>\n",
       "      <td>loyal</td>\n",
       "    </tr>\n",
       "    <tr>\n",
       "      <th>4225</th>\n",
       "      <td>18283</td>\n",
       "      <td>4</td>\n",
       "      <td>16</td>\n",
       "      <td>2039.58</td>\n",
       "      <td>5</td>\n",
       "      <td>5</td>\n",
       "      <td>5</td>\n",
       "      <td>555</td>\n",
       "      <td>champion</td>\n",
       "    </tr>\n",
       "    <tr>\n",
       "      <th>4226</th>\n",
       "      <td>18287</td>\n",
       "      <td>43</td>\n",
       "      <td>3</td>\n",
       "      <td>994.76</td>\n",
       "      <td>3</td>\n",
       "      <td>4</td>\n",
       "      <td>4</td>\n",
       "      <td>344</td>\n",
       "      <td>cant_lose</td>\n",
       "    </tr>\n",
       "  </tbody>\n",
       "</table>\n",
       "<p>4227 rows × 9 columns</p>\n",
       "</div>"
      ],
      "text/plain": [
       "      customer_id  recency  frequency  monetary RecencyScore FrequencyScore  \\\n",
       "0           12347        2          7   3643.58            5              5   \n",
       "1           12348      249          3     90.20            1              3   \n",
       "2           12349       19          1   1367.55            4              1   \n",
       "3           12350      310          1    294.40            1              1   \n",
       "4           12352       36          7   1385.74            3              5   \n",
       "...           ...      ...        ...       ...          ...            ...   \n",
       "4222        18280      278          1    180.60            1              2   \n",
       "4223        18281      181          1     80.82            1              2   \n",
       "4224        18282        8          2    164.13            5              3   \n",
       "4225        18283        4         16   2039.58            5              5   \n",
       "4226        18287       43          3    994.76            3              4   \n",
       "\n",
       "     MonetaryScore RFM_Score             segment  \n",
       "0                5       555            champion  \n",
       "1                1       131      need_attention  \n",
       "2                4       414  potential_loyalist  \n",
       "3                2       112                lost  \n",
       "4                4       354           cant_lose  \n",
       "...            ...       ...                 ...  \n",
       "4222             1       121      need_attention  \n",
       "4223             1       121      need_attention  \n",
       "4224             1       531               loyal  \n",
       "4225             5       555            champion  \n",
       "4226             4       344           cant_lose  \n",
       "\n",
       "[4227 rows x 9 columns]"
      ]
     },
     "execution_count": 305,
     "metadata": {},
     "output_type": "execute_result"
    }
   ],
   "source": [
    "# Mostrando a segmentação de nossos clientes\n",
    "rfm"
   ]
  },
  {
   "cell_type": "code",
   "execution_count": 306,
   "metadata": {},
   "outputs": [
    {
     "data": {
      "application/vnd.plotly.v1+json": {
       "config": {
        "plotlyServerURL": "https://plot.ly"
       },
       "data": [
        {
         "branchvalues": "total",
         "customdata": [
          [
           110,
           110
          ],
          [
           413,
           413
          ],
          [
           939,
           939
          ],
          [
           167,
           167
          ],
          [
           316,
           316
          ],
          [
           371,
           371
          ],
          [
           592,
           592
          ],
          [
           500,
           500
          ],
          [
           222,
           222
          ],
          [
           174,
           174
          ],
          [
           423,
           423
          ],
          [
           517.7972557369293,
           517.7972557369293
          ]
         ],
         "domain": {
          "x": [
           0,
           1
          ],
          "y": [
           0,
           1
          ]
         },
         "hovertemplate": "labels=%{label}<br>count_sum=%{value}<br>parent=%{parent}<br>id=%{id}<br>count=%{color}<extra></extra>",
         "ids": [
          "segment/at_Risk",
          "segment/cant_lose",
          "segment/champion",
          "segment/core",
          "segment/losing_Engaged",
          "segment/lost",
          "segment/loyal",
          "segment/need_attention",
          "segment/new_customers",
          "segment/potential_loyalist",
          "segment/promising",
          "segment"
         ],
         "labels": [
          "at_Risk",
          "cant_lose",
          "champion",
          "core",
          "losing_Engaged",
          "lost",
          "loyal",
          "need_attention",
          "new_customers",
          "potential_loyalist",
          "promising",
          "segment"
         ],
         "marker": {
          "coloraxis": "coloraxis",
          "colors": [
           110,
           413,
           939,
           167,
           316,
           371,
           592,
           500,
           222,
           174,
           423,
           517.7972557369293
          ]
         },
         "name": "",
         "parents": [
          "segment",
          "segment",
          "segment",
          "segment",
          "segment",
          "segment",
          "segment",
          "segment",
          "segment",
          "segment",
          "segment",
          ""
         ],
         "type": "treemap",
         "values": [
          110,
          413,
          939,
          167,
          316,
          371,
          592,
          500,
          222,
          174,
          423,
          4227
         ]
        }
       ],
       "layout": {
        "coloraxis": {
         "cmid": 517.7972557369293,
         "colorbar": {
          "title": {
           "text": "count"
          }
         },
         "colorscale": [
          [
           0,
           "rgb(103,0,31)"
          ],
          [
           0.1,
           "rgb(178,24,43)"
          ],
          [
           0.2,
           "rgb(214,96,77)"
          ],
          [
           0.3,
           "rgb(244,165,130)"
          ],
          [
           0.4,
           "rgb(253,219,199)"
          ],
          [
           0.5,
           "rgb(247,247,247)"
          ],
          [
           0.6,
           "rgb(209,229,240)"
          ],
          [
           0.7,
           "rgb(146,197,222)"
          ],
          [
           0.8,
           "rgb(67,147,195)"
          ],
          [
           0.9,
           "rgb(33,102,172)"
          ],
          [
           1,
           "rgb(5,48,97)"
          ]
         ]
        },
        "legend": {
         "tracegroupgap": 0
        },
        "margin": {
         "t": 60
        },
        "template": {
         "data": {
          "bar": [
           {
            "error_x": {
             "color": "#2a3f5f"
            },
            "error_y": {
             "color": "#2a3f5f"
            },
            "marker": {
             "line": {
              "color": "#E5ECF6",
              "width": 0.5
             },
             "pattern": {
              "fillmode": "overlay",
              "size": 10,
              "solidity": 0.2
             }
            },
            "type": "bar"
           }
          ],
          "barpolar": [
           {
            "marker": {
             "line": {
              "color": "#E5ECF6",
              "width": 0.5
             },
             "pattern": {
              "fillmode": "overlay",
              "size": 10,
              "solidity": 0.2
             }
            },
            "type": "barpolar"
           }
          ],
          "carpet": [
           {
            "aaxis": {
             "endlinecolor": "#2a3f5f",
             "gridcolor": "white",
             "linecolor": "white",
             "minorgridcolor": "white",
             "startlinecolor": "#2a3f5f"
            },
            "baxis": {
             "endlinecolor": "#2a3f5f",
             "gridcolor": "white",
             "linecolor": "white",
             "minorgridcolor": "white",
             "startlinecolor": "#2a3f5f"
            },
            "type": "carpet"
           }
          ],
          "choropleth": [
           {
            "colorbar": {
             "outlinewidth": 0,
             "ticks": ""
            },
            "type": "choropleth"
           }
          ],
          "contour": [
           {
            "colorbar": {
             "outlinewidth": 0,
             "ticks": ""
            },
            "colorscale": [
             [
              0,
              "#0d0887"
             ],
             [
              0.1111111111111111,
              "#46039f"
             ],
             [
              0.2222222222222222,
              "#7201a8"
             ],
             [
              0.3333333333333333,
              "#9c179e"
             ],
             [
              0.4444444444444444,
              "#bd3786"
             ],
             [
              0.5555555555555556,
              "#d8576b"
             ],
             [
              0.6666666666666666,
              "#ed7953"
             ],
             [
              0.7777777777777778,
              "#fb9f3a"
             ],
             [
              0.8888888888888888,
              "#fdca26"
             ],
             [
              1,
              "#f0f921"
             ]
            ],
            "type": "contour"
           }
          ],
          "contourcarpet": [
           {
            "colorbar": {
             "outlinewidth": 0,
             "ticks": ""
            },
            "type": "contourcarpet"
           }
          ],
          "heatmap": [
           {
            "colorbar": {
             "outlinewidth": 0,
             "ticks": ""
            },
            "colorscale": [
             [
              0,
              "#0d0887"
             ],
             [
              0.1111111111111111,
              "#46039f"
             ],
             [
              0.2222222222222222,
              "#7201a8"
             ],
             [
              0.3333333333333333,
              "#9c179e"
             ],
             [
              0.4444444444444444,
              "#bd3786"
             ],
             [
              0.5555555555555556,
              "#d8576b"
             ],
             [
              0.6666666666666666,
              "#ed7953"
             ],
             [
              0.7777777777777778,
              "#fb9f3a"
             ],
             [
              0.8888888888888888,
              "#fdca26"
             ],
             [
              1,
              "#f0f921"
             ]
            ],
            "type": "heatmap"
           }
          ],
          "heatmapgl": [
           {
            "colorbar": {
             "outlinewidth": 0,
             "ticks": ""
            },
            "colorscale": [
             [
              0,
              "#0d0887"
             ],
             [
              0.1111111111111111,
              "#46039f"
             ],
             [
              0.2222222222222222,
              "#7201a8"
             ],
             [
              0.3333333333333333,
              "#9c179e"
             ],
             [
              0.4444444444444444,
              "#bd3786"
             ],
             [
              0.5555555555555556,
              "#d8576b"
             ],
             [
              0.6666666666666666,
              "#ed7953"
             ],
             [
              0.7777777777777778,
              "#fb9f3a"
             ],
             [
              0.8888888888888888,
              "#fdca26"
             ],
             [
              1,
              "#f0f921"
             ]
            ],
            "type": "heatmapgl"
           }
          ],
          "histogram": [
           {
            "marker": {
             "pattern": {
              "fillmode": "overlay",
              "size": 10,
              "solidity": 0.2
             }
            },
            "type": "histogram"
           }
          ],
          "histogram2d": [
           {
            "colorbar": {
             "outlinewidth": 0,
             "ticks": ""
            },
            "colorscale": [
             [
              0,
              "#0d0887"
             ],
             [
              0.1111111111111111,
              "#46039f"
             ],
             [
              0.2222222222222222,
              "#7201a8"
             ],
             [
              0.3333333333333333,
              "#9c179e"
             ],
             [
              0.4444444444444444,
              "#bd3786"
             ],
             [
              0.5555555555555556,
              "#d8576b"
             ],
             [
              0.6666666666666666,
              "#ed7953"
             ],
             [
              0.7777777777777778,
              "#fb9f3a"
             ],
             [
              0.8888888888888888,
              "#fdca26"
             ],
             [
              1,
              "#f0f921"
             ]
            ],
            "type": "histogram2d"
           }
          ],
          "histogram2dcontour": [
           {
            "colorbar": {
             "outlinewidth": 0,
             "ticks": ""
            },
            "colorscale": [
             [
              0,
              "#0d0887"
             ],
             [
              0.1111111111111111,
              "#46039f"
             ],
             [
              0.2222222222222222,
              "#7201a8"
             ],
             [
              0.3333333333333333,
              "#9c179e"
             ],
             [
              0.4444444444444444,
              "#bd3786"
             ],
             [
              0.5555555555555556,
              "#d8576b"
             ],
             [
              0.6666666666666666,
              "#ed7953"
             ],
             [
              0.7777777777777778,
              "#fb9f3a"
             ],
             [
              0.8888888888888888,
              "#fdca26"
             ],
             [
              1,
              "#f0f921"
             ]
            ],
            "type": "histogram2dcontour"
           }
          ],
          "mesh3d": [
           {
            "colorbar": {
             "outlinewidth": 0,
             "ticks": ""
            },
            "type": "mesh3d"
           }
          ],
          "parcoords": [
           {
            "line": {
             "colorbar": {
              "outlinewidth": 0,
              "ticks": ""
             }
            },
            "type": "parcoords"
           }
          ],
          "pie": [
           {
            "automargin": true,
            "type": "pie"
           }
          ],
          "scatter": [
           {
            "marker": {
             "colorbar": {
              "outlinewidth": 0,
              "ticks": ""
             }
            },
            "type": "scatter"
           }
          ],
          "scatter3d": [
           {
            "line": {
             "colorbar": {
              "outlinewidth": 0,
              "ticks": ""
             }
            },
            "marker": {
             "colorbar": {
              "outlinewidth": 0,
              "ticks": ""
             }
            },
            "type": "scatter3d"
           }
          ],
          "scattercarpet": [
           {
            "marker": {
             "colorbar": {
              "outlinewidth": 0,
              "ticks": ""
             }
            },
            "type": "scattercarpet"
           }
          ],
          "scattergeo": [
           {
            "marker": {
             "colorbar": {
              "outlinewidth": 0,
              "ticks": ""
             }
            },
            "type": "scattergeo"
           }
          ],
          "scattergl": [
           {
            "marker": {
             "colorbar": {
              "outlinewidth": 0,
              "ticks": ""
             }
            },
            "type": "scattergl"
           }
          ],
          "scattermapbox": [
           {
            "marker": {
             "colorbar": {
              "outlinewidth": 0,
              "ticks": ""
             }
            },
            "type": "scattermapbox"
           }
          ],
          "scatterpolar": [
           {
            "marker": {
             "colorbar": {
              "outlinewidth": 0,
              "ticks": ""
             }
            },
            "type": "scatterpolar"
           }
          ],
          "scatterpolargl": [
           {
            "marker": {
             "colorbar": {
              "outlinewidth": 0,
              "ticks": ""
             }
            },
            "type": "scatterpolargl"
           }
          ],
          "scatterternary": [
           {
            "marker": {
             "colorbar": {
              "outlinewidth": 0,
              "ticks": ""
             }
            },
            "type": "scatterternary"
           }
          ],
          "surface": [
           {
            "colorbar": {
             "outlinewidth": 0,
             "ticks": ""
            },
            "colorscale": [
             [
              0,
              "#0d0887"
             ],
             [
              0.1111111111111111,
              "#46039f"
             ],
             [
              0.2222222222222222,
              "#7201a8"
             ],
             [
              0.3333333333333333,
              "#9c179e"
             ],
             [
              0.4444444444444444,
              "#bd3786"
             ],
             [
              0.5555555555555556,
              "#d8576b"
             ],
             [
              0.6666666666666666,
              "#ed7953"
             ],
             [
              0.7777777777777778,
              "#fb9f3a"
             ],
             [
              0.8888888888888888,
              "#fdca26"
             ],
             [
              1,
              "#f0f921"
             ]
            ],
            "type": "surface"
           }
          ],
          "table": [
           {
            "cells": {
             "fill": {
              "color": "#EBF0F8"
             },
             "line": {
              "color": "white"
             }
            },
            "header": {
             "fill": {
              "color": "#C8D4E3"
             },
             "line": {
              "color": "white"
             }
            },
            "type": "table"
           }
          ]
         },
         "layout": {
          "annotationdefaults": {
           "arrowcolor": "#2a3f5f",
           "arrowhead": 0,
           "arrowwidth": 1
          },
          "autotypenumbers": "strict",
          "coloraxis": {
           "colorbar": {
            "outlinewidth": 0,
            "ticks": ""
           }
          },
          "colorscale": {
           "diverging": [
            [
             0,
             "#8e0152"
            ],
            [
             0.1,
             "#c51b7d"
            ],
            [
             0.2,
             "#de77ae"
            ],
            [
             0.3,
             "#f1b6da"
            ],
            [
             0.4,
             "#fde0ef"
            ],
            [
             0.5,
             "#f7f7f7"
            ],
            [
             0.6,
             "#e6f5d0"
            ],
            [
             0.7,
             "#b8e186"
            ],
            [
             0.8,
             "#7fbc41"
            ],
            [
             0.9,
             "#4d9221"
            ],
            [
             1,
             "#276419"
            ]
           ],
           "sequential": [
            [
             0,
             "#0d0887"
            ],
            [
             0.1111111111111111,
             "#46039f"
            ],
            [
             0.2222222222222222,
             "#7201a8"
            ],
            [
             0.3333333333333333,
             "#9c179e"
            ],
            [
             0.4444444444444444,
             "#bd3786"
            ],
            [
             0.5555555555555556,
             "#d8576b"
            ],
            [
             0.6666666666666666,
             "#ed7953"
            ],
            [
             0.7777777777777778,
             "#fb9f3a"
            ],
            [
             0.8888888888888888,
             "#fdca26"
            ],
            [
             1,
             "#f0f921"
            ]
           ],
           "sequentialminus": [
            [
             0,
             "#0d0887"
            ],
            [
             0.1111111111111111,
             "#46039f"
            ],
            [
             0.2222222222222222,
             "#7201a8"
            ],
            [
             0.3333333333333333,
             "#9c179e"
            ],
            [
             0.4444444444444444,
             "#bd3786"
            ],
            [
             0.5555555555555556,
             "#d8576b"
            ],
            [
             0.6666666666666666,
             "#ed7953"
            ],
            [
             0.7777777777777778,
             "#fb9f3a"
            ],
            [
             0.8888888888888888,
             "#fdca26"
            ],
            [
             1,
             "#f0f921"
            ]
           ]
          },
          "colorway": [
           "#636efa",
           "#EF553B",
           "#00cc96",
           "#ab63fa",
           "#FFA15A",
           "#19d3f3",
           "#FF6692",
           "#B6E880",
           "#FF97FF",
           "#FECB52"
          ],
          "font": {
           "color": "#2a3f5f"
          },
          "geo": {
           "bgcolor": "white",
           "lakecolor": "white",
           "landcolor": "#E5ECF6",
           "showlakes": true,
           "showland": true,
           "subunitcolor": "white"
          },
          "hoverlabel": {
           "align": "left"
          },
          "hovermode": "closest",
          "mapbox": {
           "style": "light"
          },
          "paper_bgcolor": "white",
          "plot_bgcolor": "#E5ECF6",
          "polar": {
           "angularaxis": {
            "gridcolor": "white",
            "linecolor": "white",
            "ticks": ""
           },
           "bgcolor": "#E5ECF6",
           "radialaxis": {
            "gridcolor": "white",
            "linecolor": "white",
            "ticks": ""
           }
          },
          "scene": {
           "xaxis": {
            "backgroundcolor": "#E5ECF6",
            "gridcolor": "white",
            "gridwidth": 2,
            "linecolor": "white",
            "showbackground": true,
            "ticks": "",
            "zerolinecolor": "white"
           },
           "yaxis": {
            "backgroundcolor": "#E5ECF6",
            "gridcolor": "white",
            "gridwidth": 2,
            "linecolor": "white",
            "showbackground": true,
            "ticks": "",
            "zerolinecolor": "white"
           },
           "zaxis": {
            "backgroundcolor": "#E5ECF6",
            "gridcolor": "white",
            "gridwidth": 2,
            "linecolor": "white",
            "showbackground": true,
            "ticks": "",
            "zerolinecolor": "white"
           }
          },
          "shapedefaults": {
           "line": {
            "color": "#2a3f5f"
           }
          },
          "ternary": {
           "aaxis": {
            "gridcolor": "white",
            "linecolor": "white",
            "ticks": ""
           },
           "baxis": {
            "gridcolor": "white",
            "linecolor": "white",
            "ticks": ""
           },
           "bgcolor": "#E5ECF6",
           "caxis": {
            "gridcolor": "white",
            "linecolor": "white",
            "ticks": ""
           }
          },
          "title": {
           "x": 0.05
          },
          "xaxis": {
           "automargin": true,
           "gridcolor": "white",
           "linecolor": "white",
           "ticks": "",
           "title": {
            "standoff": 15
           },
           "zerolinecolor": "white",
           "zerolinewidth": 2
          },
          "yaxis": {
           "automargin": true,
           "gridcolor": "white",
           "linecolor": "white",
           "ticks": "",
           "title": {
            "standoff": 15
           },
           "zerolinecolor": "white",
           "zerolinewidth": 2
          }
         }
        }
       }
      },
      "text/html": [
       "<div>                            <div id=\"b52e2341-3463-479b-ab45-49a2dc182028\" class=\"plotly-graph-div\" style=\"height:525px; width:100%;\"></div>            <script type=\"text/javascript\">                require([\"plotly\"], function(Plotly) {                    window.PLOTLYENV=window.PLOTLYENV || {};                                    if (document.getElementById(\"b52e2341-3463-479b-ab45-49a2dc182028\")) {                    Plotly.newPlot(                        \"b52e2341-3463-479b-ab45-49a2dc182028\",                        [{\"branchvalues\":\"total\",\"customdata\":[[110.0,110.0],[413.0,413.0],[939.0,939.0],[167.0,167.0],[316.0,316.0],[371.0,371.0],[592.0,592.0],[500.0,500.0],[222.0,222.0],[174.0,174.0],[423.0,423.0],[517.7972557369293,517.7972557369293]],\"domain\":{\"x\":[0.0,1.0],\"y\":[0.0,1.0]},\"hovertemplate\":\"labels=%{label}<br>count_sum=%{value}<br>parent=%{parent}<br>id=%{id}<br>count=%{color}<extra></extra>\",\"ids\":[\"segment/at_Risk\",\"segment/cant_lose\",\"segment/champion\",\"segment/core\",\"segment/losing_Engaged\",\"segment/lost\",\"segment/loyal\",\"segment/need_attention\",\"segment/new_customers\",\"segment/potential_loyalist\",\"segment/promising\",\"segment\"],\"labels\":[\"at_Risk\",\"cant_lose\",\"champion\",\"core\",\"losing_Engaged\",\"lost\",\"loyal\",\"need_attention\",\"new_customers\",\"potential_loyalist\",\"promising\",\"segment\"],\"marker\":{\"coloraxis\":\"coloraxis\",\"colors\":[110.0,413.0,939.0,167.0,316.0,371.0,592.0,500.0,222.0,174.0,423.0,517.7972557369293]},\"name\":\"\",\"parents\":[\"segment\",\"segment\",\"segment\",\"segment\",\"segment\",\"segment\",\"segment\",\"segment\",\"segment\",\"segment\",\"segment\",\"\"],\"values\":[110,413,939,167,316,371,592,500,222,174,423,4227],\"type\":\"treemap\"}],                        {\"template\":{\"data\":{\"bar\":[{\"error_x\":{\"color\":\"#2a3f5f\"},\"error_y\":{\"color\":\"#2a3f5f\"},\"marker\":{\"line\":{\"color\":\"#E5ECF6\",\"width\":0.5},\"pattern\":{\"fillmode\":\"overlay\",\"size\":10,\"solidity\":0.2}},\"type\":\"bar\"}],\"barpolar\":[{\"marker\":{\"line\":{\"color\":\"#E5ECF6\",\"width\":0.5},\"pattern\":{\"fillmode\":\"overlay\",\"size\":10,\"solidity\":0.2}},\"type\":\"barpolar\"}],\"carpet\":[{\"aaxis\":{\"endlinecolor\":\"#2a3f5f\",\"gridcolor\":\"white\",\"linecolor\":\"white\",\"minorgridcolor\":\"white\",\"startlinecolor\":\"#2a3f5f\"},\"baxis\":{\"endlinecolor\":\"#2a3f5f\",\"gridcolor\":\"white\",\"linecolor\":\"white\",\"minorgridcolor\":\"white\",\"startlinecolor\":\"#2a3f5f\"},\"type\":\"carpet\"}],\"choropleth\":[{\"colorbar\":{\"outlinewidth\":0,\"ticks\":\"\"},\"type\":\"choropleth\"}],\"contour\":[{\"colorbar\":{\"outlinewidth\":0,\"ticks\":\"\"},\"colorscale\":[[0.0,\"#0d0887\"],[0.1111111111111111,\"#46039f\"],[0.2222222222222222,\"#7201a8\"],[0.3333333333333333,\"#9c179e\"],[0.4444444444444444,\"#bd3786\"],[0.5555555555555556,\"#d8576b\"],[0.6666666666666666,\"#ed7953\"],[0.7777777777777778,\"#fb9f3a\"],[0.8888888888888888,\"#fdca26\"],[1.0,\"#f0f921\"]],\"type\":\"contour\"}],\"contourcarpet\":[{\"colorbar\":{\"outlinewidth\":0,\"ticks\":\"\"},\"type\":\"contourcarpet\"}],\"heatmap\":[{\"colorbar\":{\"outlinewidth\":0,\"ticks\":\"\"},\"colorscale\":[[0.0,\"#0d0887\"],[0.1111111111111111,\"#46039f\"],[0.2222222222222222,\"#7201a8\"],[0.3333333333333333,\"#9c179e\"],[0.4444444444444444,\"#bd3786\"],[0.5555555555555556,\"#d8576b\"],[0.6666666666666666,\"#ed7953\"],[0.7777777777777778,\"#fb9f3a\"],[0.8888888888888888,\"#fdca26\"],[1.0,\"#f0f921\"]],\"type\":\"heatmap\"}],\"heatmapgl\":[{\"colorbar\":{\"outlinewidth\":0,\"ticks\":\"\"},\"colorscale\":[[0.0,\"#0d0887\"],[0.1111111111111111,\"#46039f\"],[0.2222222222222222,\"#7201a8\"],[0.3333333333333333,\"#9c179e\"],[0.4444444444444444,\"#bd3786\"],[0.5555555555555556,\"#d8576b\"],[0.6666666666666666,\"#ed7953\"],[0.7777777777777778,\"#fb9f3a\"],[0.8888888888888888,\"#fdca26\"],[1.0,\"#f0f921\"]],\"type\":\"heatmapgl\"}],\"histogram\":[{\"marker\":{\"pattern\":{\"fillmode\":\"overlay\",\"size\":10,\"solidity\":0.2}},\"type\":\"histogram\"}],\"histogram2d\":[{\"colorbar\":{\"outlinewidth\":0,\"ticks\":\"\"},\"colorscale\":[[0.0,\"#0d0887\"],[0.1111111111111111,\"#46039f\"],[0.2222222222222222,\"#7201a8\"],[0.3333333333333333,\"#9c179e\"],[0.4444444444444444,\"#bd3786\"],[0.5555555555555556,\"#d8576b\"],[0.6666666666666666,\"#ed7953\"],[0.7777777777777778,\"#fb9f3a\"],[0.8888888888888888,\"#fdca26\"],[1.0,\"#f0f921\"]],\"type\":\"histogram2d\"}],\"histogram2dcontour\":[{\"colorbar\":{\"outlinewidth\":0,\"ticks\":\"\"},\"colorscale\":[[0.0,\"#0d0887\"],[0.1111111111111111,\"#46039f\"],[0.2222222222222222,\"#7201a8\"],[0.3333333333333333,\"#9c179e\"],[0.4444444444444444,\"#bd3786\"],[0.5555555555555556,\"#d8576b\"],[0.6666666666666666,\"#ed7953\"],[0.7777777777777778,\"#fb9f3a\"],[0.8888888888888888,\"#fdca26\"],[1.0,\"#f0f921\"]],\"type\":\"histogram2dcontour\"}],\"mesh3d\":[{\"colorbar\":{\"outlinewidth\":0,\"ticks\":\"\"},\"type\":\"mesh3d\"}],\"parcoords\":[{\"line\":{\"colorbar\":{\"outlinewidth\":0,\"ticks\":\"\"}},\"type\":\"parcoords\"}],\"pie\":[{\"automargin\":true,\"type\":\"pie\"}],\"scatter\":[{\"marker\":{\"colorbar\":{\"outlinewidth\":0,\"ticks\":\"\"}},\"type\":\"scatter\"}],\"scatter3d\":[{\"line\":{\"colorbar\":{\"outlinewidth\":0,\"ticks\":\"\"}},\"marker\":{\"colorbar\":{\"outlinewidth\":0,\"ticks\":\"\"}},\"type\":\"scatter3d\"}],\"scattercarpet\":[{\"marker\":{\"colorbar\":{\"outlinewidth\":0,\"ticks\":\"\"}},\"type\":\"scattercarpet\"}],\"scattergeo\":[{\"marker\":{\"colorbar\":{\"outlinewidth\":0,\"ticks\":\"\"}},\"type\":\"scattergeo\"}],\"scattergl\":[{\"marker\":{\"colorbar\":{\"outlinewidth\":0,\"ticks\":\"\"}},\"type\":\"scattergl\"}],\"scattermapbox\":[{\"marker\":{\"colorbar\":{\"outlinewidth\":0,\"ticks\":\"\"}},\"type\":\"scattermapbox\"}],\"scatterpolar\":[{\"marker\":{\"colorbar\":{\"outlinewidth\":0,\"ticks\":\"\"}},\"type\":\"scatterpolar\"}],\"scatterpolargl\":[{\"marker\":{\"colorbar\":{\"outlinewidth\":0,\"ticks\":\"\"}},\"type\":\"scatterpolargl\"}],\"scatterternary\":[{\"marker\":{\"colorbar\":{\"outlinewidth\":0,\"ticks\":\"\"}},\"type\":\"scatterternary\"}],\"surface\":[{\"colorbar\":{\"outlinewidth\":0,\"ticks\":\"\"},\"colorscale\":[[0.0,\"#0d0887\"],[0.1111111111111111,\"#46039f\"],[0.2222222222222222,\"#7201a8\"],[0.3333333333333333,\"#9c179e\"],[0.4444444444444444,\"#bd3786\"],[0.5555555555555556,\"#d8576b\"],[0.6666666666666666,\"#ed7953\"],[0.7777777777777778,\"#fb9f3a\"],[0.8888888888888888,\"#fdca26\"],[1.0,\"#f0f921\"]],\"type\":\"surface\"}],\"table\":[{\"cells\":{\"fill\":{\"color\":\"#EBF0F8\"},\"line\":{\"color\":\"white\"}},\"header\":{\"fill\":{\"color\":\"#C8D4E3\"},\"line\":{\"color\":\"white\"}},\"type\":\"table\"}]},\"layout\":{\"annotationdefaults\":{\"arrowcolor\":\"#2a3f5f\",\"arrowhead\":0,\"arrowwidth\":1},\"autotypenumbers\":\"strict\",\"coloraxis\":{\"colorbar\":{\"outlinewidth\":0,\"ticks\":\"\"}},\"colorscale\":{\"diverging\":[[0,\"#8e0152\"],[0.1,\"#c51b7d\"],[0.2,\"#de77ae\"],[0.3,\"#f1b6da\"],[0.4,\"#fde0ef\"],[0.5,\"#f7f7f7\"],[0.6,\"#e6f5d0\"],[0.7,\"#b8e186\"],[0.8,\"#7fbc41\"],[0.9,\"#4d9221\"],[1,\"#276419\"]],\"sequential\":[[0.0,\"#0d0887\"],[0.1111111111111111,\"#46039f\"],[0.2222222222222222,\"#7201a8\"],[0.3333333333333333,\"#9c179e\"],[0.4444444444444444,\"#bd3786\"],[0.5555555555555556,\"#d8576b\"],[0.6666666666666666,\"#ed7953\"],[0.7777777777777778,\"#fb9f3a\"],[0.8888888888888888,\"#fdca26\"],[1.0,\"#f0f921\"]],\"sequentialminus\":[[0.0,\"#0d0887\"],[0.1111111111111111,\"#46039f\"],[0.2222222222222222,\"#7201a8\"],[0.3333333333333333,\"#9c179e\"],[0.4444444444444444,\"#bd3786\"],[0.5555555555555556,\"#d8576b\"],[0.6666666666666666,\"#ed7953\"],[0.7777777777777778,\"#fb9f3a\"],[0.8888888888888888,\"#fdca26\"],[1.0,\"#f0f921\"]]},\"colorway\":[\"#636efa\",\"#EF553B\",\"#00cc96\",\"#ab63fa\",\"#FFA15A\",\"#19d3f3\",\"#FF6692\",\"#B6E880\",\"#FF97FF\",\"#FECB52\"],\"font\":{\"color\":\"#2a3f5f\"},\"geo\":{\"bgcolor\":\"white\",\"lakecolor\":\"white\",\"landcolor\":\"#E5ECF6\",\"showlakes\":true,\"showland\":true,\"subunitcolor\":\"white\"},\"hoverlabel\":{\"align\":\"left\"},\"hovermode\":\"closest\",\"mapbox\":{\"style\":\"light\"},\"paper_bgcolor\":\"white\",\"plot_bgcolor\":\"#E5ECF6\",\"polar\":{\"angularaxis\":{\"gridcolor\":\"white\",\"linecolor\":\"white\",\"ticks\":\"\"},\"bgcolor\":\"#E5ECF6\",\"radialaxis\":{\"gridcolor\":\"white\",\"linecolor\":\"white\",\"ticks\":\"\"}},\"scene\":{\"xaxis\":{\"backgroundcolor\":\"#E5ECF6\",\"gridcolor\":\"white\",\"gridwidth\":2,\"linecolor\":\"white\",\"showbackground\":true,\"ticks\":\"\",\"zerolinecolor\":\"white\"},\"yaxis\":{\"backgroundcolor\":\"#E5ECF6\",\"gridcolor\":\"white\",\"gridwidth\":2,\"linecolor\":\"white\",\"showbackground\":true,\"ticks\":\"\",\"zerolinecolor\":\"white\"},\"zaxis\":{\"backgroundcolor\":\"#E5ECF6\",\"gridcolor\":\"white\",\"gridwidth\":2,\"linecolor\":\"white\",\"showbackground\":true,\"ticks\":\"\",\"zerolinecolor\":\"white\"}},\"shapedefaults\":{\"line\":{\"color\":\"#2a3f5f\"}},\"ternary\":{\"aaxis\":{\"gridcolor\":\"white\",\"linecolor\":\"white\",\"ticks\":\"\"},\"baxis\":{\"gridcolor\":\"white\",\"linecolor\":\"white\",\"ticks\":\"\"},\"bgcolor\":\"#E5ECF6\",\"caxis\":{\"gridcolor\":\"white\",\"linecolor\":\"white\",\"ticks\":\"\"}},\"title\":{\"x\":0.05},\"xaxis\":{\"automargin\":true,\"gridcolor\":\"white\",\"linecolor\":\"white\",\"ticks\":\"\",\"title\":{\"standoff\":15},\"zerolinecolor\":\"white\",\"zerolinewidth\":2},\"yaxis\":{\"automargin\":true,\"gridcolor\":\"white\",\"linecolor\":\"white\",\"ticks\":\"\",\"title\":{\"standoff\":15},\"zerolinecolor\":\"white\",\"zerolinewidth\":2}}},\"coloraxis\":{\"colorbar\":{\"title\":{\"text\":\"count\"}},\"colorscale\":[[0.0,\"rgb(103,0,31)\"],[0.1,\"rgb(178,24,43)\"],[0.2,\"rgb(214,96,77)\"],[0.3,\"rgb(244,165,130)\"],[0.4,\"rgb(253,219,199)\"],[0.5,\"rgb(247,247,247)\"],[0.6,\"rgb(209,229,240)\"],[0.7,\"rgb(146,197,222)\"],[0.8,\"rgb(67,147,195)\"],[0.9,\"rgb(33,102,172)\"],[1.0,\"rgb(5,48,97)\"]],\"cmid\":517.7972557369293},\"legend\":{\"tracegroupgap\":0},\"margin\":{\"t\":60}},                        {\"responsive\": true}                    ).then(function(){\n",
       "                            \n",
       "var gd = document.getElementById('b52e2341-3463-479b-ab45-49a2dc182028');\n",
       "var x = new MutationObserver(function (mutations, observer) {{\n",
       "        var display = window.getComputedStyle(gd).display;\n",
       "        if (!display || display === 'none') {{\n",
       "            console.log([gd, 'removed!']);\n",
       "            Plotly.purge(gd);\n",
       "            observer.disconnect();\n",
       "        }}\n",
       "}});\n",
       "\n",
       "// Listen for the removal of the full notebook cells\n",
       "var notebookContainer = gd.closest('#notebook-container');\n",
       "if (notebookContainer) {{\n",
       "    x.observe(notebookContainer, {childList: true});\n",
       "}}\n",
       "\n",
       "// Listen for the clearing of the current output cell\n",
       "var outputEl = gd.closest('.output');\n",
       "if (outputEl) {{\n",
       "    x.observe(outputEl, {childList: true});\n",
       "}}\n",
       "\n",
       "                        })                };                });            </script>        </div>"
      ]
     },
     "metadata": {},
     "output_type": "display_data"
    }
   ],
   "source": [
    "# Gerando Treemap\n",
    "segments_count = rfm.groupby('segment').size().reset_index(name='count')\n",
    "\n",
    "fig = px.treemap(segments_count, \n",
    "                 path=[px.Constant(\"segment\"), 'segment'], \n",
    "                 values='count',\n",
    "                 color='count', \n",
    "                 hover_data=['count'], \n",
    "                 color_continuous_scale='RdBu',\n",
    "                 color_continuous_midpoint=np.average(segments_count['count'], weights=segments_count['count']))\n",
    "\n",
    "fig.show()"
   ]
  },
  {
   "cell_type": "markdown",
   "metadata": {},
   "source": [
    "**Conclusão**\n",
    "\n",
    "Utilizando a segmentação RFM, somos capazes de extrair insights valiosos sobre nossa base de clientes, oferecendo uma compreensão clara sobre o engajamento de cada segmento.\n",
    "\n",
    "A análise e visualização dos dados nos permite destacar que:\n",
    "\n",
    "1. Nossa base de clientes é diversificada:\n",
    "   - Possuímos um número significativo de clientes categorizados como \"campeões\" e \"leais\", demonstrando um forte engajamento de uma parte expressiva de nossa base.\n",
    "   - Observamos um crescimento encorajador na quantidade de clientes \"promissores\" e \"novos clientes\", sinalizando uma oportunidade de conversão destes para categorias mais engajadas.\n",
    "\n",
    "2. Contudo, uma parcela considerável de nossa base é composta por clientes que demandam atenção imediata:\n",
    "   - Clientes classificados como \"necessitando de atenção\", \"perdendo engajamento\" e \"em risco\" combinados representam um segmento que não deve ser negligenciado, dado seu potencial impacto sobre o negócio.\n",
    "   \n",
    "3. Existe um potencial inexplorado:\n",
    "   - Os \"novos clientes\" e \"potenciais clientes leais\" representam uma oportunidade. Com as estratégias certas, eles podem migrar para categorias mais engajadas, ampliando sua contribuição ao negócio.\n",
    "\n",
    "**Recomendações Baseadas nos Insights:**\n",
    "\n",
    "- O foco em **retenção** deve ser priorizado, dada a quantidade de clientes que estão \"perdendo engajamento\", \"em risco\" e \"necessitando de atenção\". Ações específicas, como campanhas de e-mail marketing, ofertas especiais ou programas de fidelidade, podem ser eficazes aqui.\n",
    "  \n",
    "- Os \"novos clientes\" e \"potenciais clientes leais\" devem ser alvo de estratégias de **engajamento**. Oferecer suporte, introduzir a programas de fidelidade e fornecer recomendações personalizadas são algumas das ações que podem ser consideradas.\n",
    "\n",
    "---\n",
    "\n",
    "Espero que essa conclusão revisada lhe ajude a comunicar os insights de forma mais clara e concisa.\n",
    "\n",
    "Com esses dados personalizados e agrupados pelos diferentes clientes, podemos, por exemplo, tratar cada um deles de maneira diferente, afim de fidelizar ainda mais o cliente, incentivar ou tentar reativar os mesmos. Seguem algumas recomendações padrões para cada grupo da analise RFM:\n",
    "\n",
    "---\n",
    "\n",
    "**Campeão (Champion)**: \n",
    "- Recompense-os.\n",
    "- Podem ser os primeiros a adotar novos produtos.\n",
    "- Promoverão sua marca.\n",
    "- Muito provavelmente enviarão referências.\n",
    "\n",
    "**Leal (Loyal)**:\n",
    "- Ofereça produtos de maior valor.\n",
    "- Peça por avaliações.\n",
    "\n",
    "**Potencialmente Leal (Potential Loyalist)**:\n",
    "- Ofereça programa de fidelidade/membros.\n",
    "- Mantenha-os engajados.\n",
    "- Ofereça recomendações personalizadas.\n",
    "\n",
    "**Novos Clientes (New Customers)**:\n",
    "- Forneça suporte de integração.\n",
    "- Dê a eles acesso antecipado.\n",
    "- Comece a construir um relacionamento.\n",
    "\n",
    "**Promissores (Promising)**:\n",
    "- Ofereça cupons.\n",
    "- Traga-os de volta à plataforma.\n",
    "- Mantenha-os engajados.\n",
    "- Ofereça recomendações personalizadas.\n",
    "\n",
    "**Principal (Core)**:\n",
    "- Faça ofertas por tempo limitado.\n",
    "\n",
    "**Precisa de Atenção (Needs attention)**:\n",
    "- Faça ofertas por tempo limitado.\n",
    "- Ofereça recomendações personalizadas.\n",
    "\n",
    "**Não Podemos Perdê-los, Mas Estamos Perdendo (Can’t lose them but losing)**:\n",
    "- Reconquiste-os através de renovações ou novos produtos.\n",
    "- Não os perca para a concorrência.\n",
    "- Fale com eles se necessário.\n",
    "- Dedique tempo à personalização mais detalhada possível.\n",
    "\n",
    "**Em Risco (At Risk)**:\n",
    "- Forneça recursos úteis no site.\n",
    "- Envie e-mails personalizados.\n",
    "\n",
    "**Perdendo, mas Engajado (Losing but engaged)**:\n",
    "- Torne as linhas de assunto dos e-mails muito personalizadas.\n",
    "- Reviva o interesse deles com um desconto específico em um produto específico.\n",
    "\n",
    "**Perdido (Lost)**:\n",
    "- Reviva o interesse com campanhas de alcance.\n",
    "- Ignore-os, caso contrário.\n",
    "\n",
    "---"
   ]
  },
  {
   "cell_type": "markdown",
   "metadata": {},
   "source": [
    "### Segmentação baseada no produto\n",
    "\n",
    "Segmentar produtos usando técnicas de aprendizado não supervisionado, como clustering, pode ser uma maneira eficaz de entender as associações entre diferentes produtos. Isso pode ser especialmente útil para fazer recomendações cruzadas, em que, com base na compra de um produto por um cliente, você pode recomendar outros produtos que outras pessoas também compraram.\n",
    "\n",
    "Para fazer isso, usaremos uma abordagem de co-ocorrência, onde a ideia principal é observar quais produtos são frequentemente comprados juntos. Posteriormente, podemos utilizar a técnica de KMeans para segmentar esses produtos em grupos.\n",
    "\n",
    "Vamos ver uma implementação passo a passo:\n",
    "\n",
    "1. Criar uma matriz de co-ocorrência de produtos.\n",
    "2. Clusterizar os produtos usando KMeans.\n",
    "3. Analisar os clusters resultantes.\n",
    "\n",
    "Esse tipo de método é muito útil para sistemas de recomendação do tipo 'Quem levou esse item também levou esse outro:\"\n",
    "\n",
    "Começamos criando uma tabela pivot dos dados, onde cada entrada indica se um produto foi comprado em uma determinada compra. Usando essa tabela, criamos uma matriz de co-ocorrência que indica quantas vezes dois produtos foram comprados juntos.\n",
    "\n",
    "A matriz de co-ocorrência é então clusterizada usando KMeans. Os clusters resultantes representarão grupos de produtos que são frequentemente comprados juntos. Esta informação pode ser utilizada para fazer recomendações de produtos para clientes com base no que eles já compraram.\n",
    "\n",
    "\n",
    "**Explicação do código**\n",
    "\n",
    "1. Criação do Pivot: Iremos gerar um pivot_table entre os dados de invoice e produtos, onde os invoices serão as linhas e os produtos as colunas. Caso o produto tenha sido adquirido na invoice (fatura) o sistema irá aparecer 1, caso o contrário 0. Iremos deixar em binário para posterior trabalho. Precisamos do Pivot para padronizar os dados de maneira que possamos trabalhar posteriormente de maneira binária.\n",
    "\n",
    "2. Com a nossa pivot_table disposta com produtos e invoice de maneira binária geramos uma matriz de co-ocorrência que, matematicamente, nada mais é que uma vetorização (i,j). Ela é feita através da multiplicação de nosso pivot com um pivot transposto. Fazemos isso para que possamos encontrar produtos que foram comprados juntos, pois na multiplicação de matrizes iremos ter binariamente (0,1) caso a multiplicação seja 1x0 teremos 0, caso 1x1 teremos 1. Assim, saberemos cada produto que foi comprado junto.\n",
    "\n",
    "3. O objetivo real desse cluster será a criação de um sistema de recomendação de produtos, de maneira incial, com o quesito de instigar e de curiosidade. Podendo gerar insights para a empresa."
   ]
  },
  {
   "cell_type": "code",
   "execution_count": 307,
   "metadata": {},
   "outputs": [],
   "source": [
    "# Criando cópia de df\n",
    "data = df.copy()\n",
    "\n",
    "# Criando uma tabela pivot com invoice_no como índice e produtos como colunas\n",
    "pivot_table = data.pivot_table(index='invoice_no', columns='stock_code', values='quantity', aggfunc='sum').fillna(0)"
   ]
  },
  {
   "cell_type": "code",
   "execution_count": 308,
   "metadata": {},
   "outputs": [],
   "source": [
    "# Convertendo as quantidades em 0 ou 1 de forma vetorizada\n",
    "pivot_table = (pivot_table > 0).astype(int)\n",
    "\n",
    "# Matriz de co-ocorrência usando multiplicação de matrizes\n",
    "cooccurrence_matrix = pivot_table.T.dot(pivot_table)\n",
    "cooccurrence_matrix = (cooccurrence_matrix > 0).astype(int)\n",
    "\n",
    "# Diagonal principal da matriz de co-ocorrência deve ser setada para 1\n",
    "np.fill_diagonal(cooccurrence_matrix.values, 1)"
   ]
  },
  {
   "cell_type": "code",
   "execution_count": 309,
   "metadata": {},
   "outputs": [
    {
     "data": {
      "text/html": [
       "<div>\n",
       "<style scoped>\n",
       "    .dataframe tbody tr th:only-of-type {\n",
       "        vertical-align: middle;\n",
       "    }\n",
       "\n",
       "    .dataframe tbody tr th {\n",
       "        vertical-align: top;\n",
       "    }\n",
       "\n",
       "    .dataframe thead th {\n",
       "        text-align: right;\n",
       "    }\n",
       "</style>\n",
       "<table border=\"1\" class=\"dataframe\">\n",
       "  <thead>\n",
       "    <tr style=\"text-align: right;\">\n",
       "      <th>stock_code</th>\n",
       "      <th>10002</th>\n",
       "      <th>10080</th>\n",
       "      <th>10120</th>\n",
       "      <th>10123C</th>\n",
       "      <th>10124A</th>\n",
       "      <th>10124G</th>\n",
       "      <th>10125</th>\n",
       "      <th>10133</th>\n",
       "      <th>10135</th>\n",
       "      <th>11001</th>\n",
       "      <th>...</th>\n",
       "      <th>90214P</th>\n",
       "      <th>90214R</th>\n",
       "      <th>90214S</th>\n",
       "      <th>90214T</th>\n",
       "      <th>90214U</th>\n",
       "      <th>90214V</th>\n",
       "      <th>90214W</th>\n",
       "      <th>90214Y</th>\n",
       "      <th>90214Z</th>\n",
       "      <th>C2</th>\n",
       "    </tr>\n",
       "    <tr>\n",
       "      <th>stock_code</th>\n",
       "      <th></th>\n",
       "      <th></th>\n",
       "      <th></th>\n",
       "      <th></th>\n",
       "      <th></th>\n",
       "      <th></th>\n",
       "      <th></th>\n",
       "      <th></th>\n",
       "      <th></th>\n",
       "      <th></th>\n",
       "      <th></th>\n",
       "      <th></th>\n",
       "      <th></th>\n",
       "      <th></th>\n",
       "      <th></th>\n",
       "      <th></th>\n",
       "      <th></th>\n",
       "      <th></th>\n",
       "      <th></th>\n",
       "      <th></th>\n",
       "      <th></th>\n",
       "    </tr>\n",
       "  </thead>\n",
       "  <tbody>\n",
       "    <tr>\n",
       "      <th>10002</th>\n",
       "      <td>1</td>\n",
       "      <td>0</td>\n",
       "      <td>1</td>\n",
       "      <td>1</td>\n",
       "      <td>0</td>\n",
       "      <td>0</td>\n",
       "      <td>1</td>\n",
       "      <td>0</td>\n",
       "      <td>1</td>\n",
       "      <td>1</td>\n",
       "      <td>...</td>\n",
       "      <td>0</td>\n",
       "      <td>0</td>\n",
       "      <td>0</td>\n",
       "      <td>0</td>\n",
       "      <td>0</td>\n",
       "      <td>0</td>\n",
       "      <td>0</td>\n",
       "      <td>0</td>\n",
       "      <td>0</td>\n",
       "      <td>0</td>\n",
       "    </tr>\n",
       "    <tr>\n",
       "      <th>10080</th>\n",
       "      <td>0</td>\n",
       "      <td>1</td>\n",
       "      <td>0</td>\n",
       "      <td>0</td>\n",
       "      <td>0</td>\n",
       "      <td>0</td>\n",
       "      <td>0</td>\n",
       "      <td>0</td>\n",
       "      <td>0</td>\n",
       "      <td>0</td>\n",
       "      <td>...</td>\n",
       "      <td>0</td>\n",
       "      <td>0</td>\n",
       "      <td>0</td>\n",
       "      <td>0</td>\n",
       "      <td>0</td>\n",
       "      <td>0</td>\n",
       "      <td>0</td>\n",
       "      <td>0</td>\n",
       "      <td>0</td>\n",
       "      <td>0</td>\n",
       "    </tr>\n",
       "    <tr>\n",
       "      <th>10120</th>\n",
       "      <td>1</td>\n",
       "      <td>0</td>\n",
       "      <td>1</td>\n",
       "      <td>1</td>\n",
       "      <td>0</td>\n",
       "      <td>0</td>\n",
       "      <td>1</td>\n",
       "      <td>0</td>\n",
       "      <td>1</td>\n",
       "      <td>1</td>\n",
       "      <td>...</td>\n",
       "      <td>0</td>\n",
       "      <td>0</td>\n",
       "      <td>0</td>\n",
       "      <td>0</td>\n",
       "      <td>0</td>\n",
       "      <td>0</td>\n",
       "      <td>0</td>\n",
       "      <td>0</td>\n",
       "      <td>0</td>\n",
       "      <td>0</td>\n",
       "    </tr>\n",
       "    <tr>\n",
       "      <th>10123C</th>\n",
       "      <td>1</td>\n",
       "      <td>0</td>\n",
       "      <td>1</td>\n",
       "      <td>1</td>\n",
       "      <td>0</td>\n",
       "      <td>0</td>\n",
       "      <td>1</td>\n",
       "      <td>0</td>\n",
       "      <td>0</td>\n",
       "      <td>0</td>\n",
       "      <td>...</td>\n",
       "      <td>0</td>\n",
       "      <td>0</td>\n",
       "      <td>0</td>\n",
       "      <td>0</td>\n",
       "      <td>0</td>\n",
       "      <td>0</td>\n",
       "      <td>0</td>\n",
       "      <td>0</td>\n",
       "      <td>0</td>\n",
       "      <td>0</td>\n",
       "    </tr>\n",
       "    <tr>\n",
       "      <th>10124A</th>\n",
       "      <td>0</td>\n",
       "      <td>0</td>\n",
       "      <td>0</td>\n",
       "      <td>0</td>\n",
       "      <td>1</td>\n",
       "      <td>1</td>\n",
       "      <td>0</td>\n",
       "      <td>0</td>\n",
       "      <td>0</td>\n",
       "      <td>0</td>\n",
       "      <td>...</td>\n",
       "      <td>0</td>\n",
       "      <td>0</td>\n",
       "      <td>0</td>\n",
       "      <td>0</td>\n",
       "      <td>0</td>\n",
       "      <td>0</td>\n",
       "      <td>0</td>\n",
       "      <td>0</td>\n",
       "      <td>0</td>\n",
       "      <td>0</td>\n",
       "    </tr>\n",
       "    <tr>\n",
       "      <th>...</th>\n",
       "      <td>...</td>\n",
       "      <td>...</td>\n",
       "      <td>...</td>\n",
       "      <td>...</td>\n",
       "      <td>...</td>\n",
       "      <td>...</td>\n",
       "      <td>...</td>\n",
       "      <td>...</td>\n",
       "      <td>...</td>\n",
       "      <td>...</td>\n",
       "      <td>...</td>\n",
       "      <td>...</td>\n",
       "      <td>...</td>\n",
       "      <td>...</td>\n",
       "      <td>...</td>\n",
       "      <td>...</td>\n",
       "      <td>...</td>\n",
       "      <td>...</td>\n",
       "      <td>...</td>\n",
       "      <td>...</td>\n",
       "      <td>...</td>\n",
       "    </tr>\n",
       "    <tr>\n",
       "      <th>90214V</th>\n",
       "      <td>0</td>\n",
       "      <td>0</td>\n",
       "      <td>0</td>\n",
       "      <td>0</td>\n",
       "      <td>0</td>\n",
       "      <td>0</td>\n",
       "      <td>0</td>\n",
       "      <td>0</td>\n",
       "      <td>0</td>\n",
       "      <td>0</td>\n",
       "      <td>...</td>\n",
       "      <td>1</td>\n",
       "      <td>1</td>\n",
       "      <td>1</td>\n",
       "      <td>1</td>\n",
       "      <td>1</td>\n",
       "      <td>1</td>\n",
       "      <td>1</td>\n",
       "      <td>1</td>\n",
       "      <td>1</td>\n",
       "      <td>0</td>\n",
       "    </tr>\n",
       "    <tr>\n",
       "      <th>90214W</th>\n",
       "      <td>0</td>\n",
       "      <td>0</td>\n",
       "      <td>0</td>\n",
       "      <td>0</td>\n",
       "      <td>0</td>\n",
       "      <td>0</td>\n",
       "      <td>0</td>\n",
       "      <td>0</td>\n",
       "      <td>0</td>\n",
       "      <td>0</td>\n",
       "      <td>...</td>\n",
       "      <td>1</td>\n",
       "      <td>1</td>\n",
       "      <td>1</td>\n",
       "      <td>1</td>\n",
       "      <td>1</td>\n",
       "      <td>1</td>\n",
       "      <td>1</td>\n",
       "      <td>1</td>\n",
       "      <td>1</td>\n",
       "      <td>0</td>\n",
       "    </tr>\n",
       "    <tr>\n",
       "      <th>90214Y</th>\n",
       "      <td>0</td>\n",
       "      <td>0</td>\n",
       "      <td>0</td>\n",
       "      <td>0</td>\n",
       "      <td>0</td>\n",
       "      <td>0</td>\n",
       "      <td>0</td>\n",
       "      <td>0</td>\n",
       "      <td>1</td>\n",
       "      <td>0</td>\n",
       "      <td>...</td>\n",
       "      <td>1</td>\n",
       "      <td>1</td>\n",
       "      <td>1</td>\n",
       "      <td>1</td>\n",
       "      <td>1</td>\n",
       "      <td>1</td>\n",
       "      <td>1</td>\n",
       "      <td>1</td>\n",
       "      <td>1</td>\n",
       "      <td>0</td>\n",
       "    </tr>\n",
       "    <tr>\n",
       "      <th>90214Z</th>\n",
       "      <td>0</td>\n",
       "      <td>0</td>\n",
       "      <td>0</td>\n",
       "      <td>0</td>\n",
       "      <td>0</td>\n",
       "      <td>0</td>\n",
       "      <td>0</td>\n",
       "      <td>0</td>\n",
       "      <td>0</td>\n",
       "      <td>0</td>\n",
       "      <td>...</td>\n",
       "      <td>1</td>\n",
       "      <td>1</td>\n",
       "      <td>1</td>\n",
       "      <td>1</td>\n",
       "      <td>1</td>\n",
       "      <td>1</td>\n",
       "      <td>1</td>\n",
       "      <td>1</td>\n",
       "      <td>1</td>\n",
       "      <td>0</td>\n",
       "    </tr>\n",
       "    <tr>\n",
       "      <th>C2</th>\n",
       "      <td>0</td>\n",
       "      <td>0</td>\n",
       "      <td>0</td>\n",
       "      <td>0</td>\n",
       "      <td>0</td>\n",
       "      <td>0</td>\n",
       "      <td>0</td>\n",
       "      <td>1</td>\n",
       "      <td>0</td>\n",
       "      <td>1</td>\n",
       "      <td>...</td>\n",
       "      <td>0</td>\n",
       "      <td>0</td>\n",
       "      <td>0</td>\n",
       "      <td>0</td>\n",
       "      <td>0</td>\n",
       "      <td>0</td>\n",
       "      <td>0</td>\n",
       "      <td>0</td>\n",
       "      <td>0</td>\n",
       "      <td>1</td>\n",
       "    </tr>\n",
       "  </tbody>\n",
       "</table>\n",
       "<p>3642 rows × 3642 columns</p>\n",
       "</div>"
      ],
      "text/plain": [
       "stock_code  10002  10080  10120  10123C  10124A  10124G  10125  10133  10135  \\\n",
       "stock_code                                                                     \n",
       "10002           1      0      1       1       0       0      1      0      1   \n",
       "10080           0      1      0       0       0       0      0      0      0   \n",
       "10120           1      0      1       1       0       0      1      0      1   \n",
       "10123C          1      0      1       1       0       0      1      0      0   \n",
       "10124A          0      0      0       0       1       1      0      0      0   \n",
       "...           ...    ...    ...     ...     ...     ...    ...    ...    ...   \n",
       "90214V          0      0      0       0       0       0      0      0      0   \n",
       "90214W          0      0      0       0       0       0      0      0      0   \n",
       "90214Y          0      0      0       0       0       0      0      0      1   \n",
       "90214Z          0      0      0       0       0       0      0      0      0   \n",
       "C2              0      0      0       0       0       0      0      1      0   \n",
       "\n",
       "stock_code  11001  ...  90214P  90214R  90214S  90214T  90214U  90214V  \\\n",
       "stock_code         ...                                                   \n",
       "10002           1  ...       0       0       0       0       0       0   \n",
       "10080           0  ...       0       0       0       0       0       0   \n",
       "10120           1  ...       0       0       0       0       0       0   \n",
       "10123C          0  ...       0       0       0       0       0       0   \n",
       "10124A          0  ...       0       0       0       0       0       0   \n",
       "...           ...  ...     ...     ...     ...     ...     ...     ...   \n",
       "90214V          0  ...       1       1       1       1       1       1   \n",
       "90214W          0  ...       1       1       1       1       1       1   \n",
       "90214Y          0  ...       1       1       1       1       1       1   \n",
       "90214Z          0  ...       1       1       1       1       1       1   \n",
       "C2              1  ...       0       0       0       0       0       0   \n",
       "\n",
       "stock_code  90214W  90214Y  90214Z  C2  \n",
       "stock_code                              \n",
       "10002            0       0       0   0  \n",
       "10080            0       0       0   0  \n",
       "10120            0       0       0   0  \n",
       "10123C           0       0       0   0  \n",
       "10124A           0       0       0   0  \n",
       "...            ...     ...     ...  ..  \n",
       "90214V           1       1       1   0  \n",
       "90214W           1       1       1   0  \n",
       "90214Y           1       1       1   0  \n",
       "90214Z           1       1       1   0  \n",
       "C2               0       0       0   1  \n",
       "\n",
       "[3642 rows x 3642 columns]"
      ]
     },
     "execution_count": 309,
     "metadata": {},
     "output_type": "execute_result"
    }
   ],
   "source": [
    "cooccurrence_matrix"
   ]
  },
  {
   "cell_type": "code",
   "execution_count": 310,
   "metadata": {
    "scrolled": false
   },
   "outputs": [
    {
     "data": {
      "image/png": "[encoded data removed]",
      "text/plain": [
       "<Figure size 720x360 with 1 Axes>"
      ]
     },
     "metadata": {
      "needs_background": "light"
     },
     "output_type": "display_data"
    }
   ],
   "source": [
    "# Normalizar os dados para ter média 0 e desvio padrão 1\n",
    "scaler = StandardScaler()\n",
    "scaled_data = scaler.fit_transform(cooccurrence_matrix)\n",
    "\n",
    "# Determinando o número ótimo de clusters através do método da Silhueta\n",
    "silhouette_scores = []\n",
    "for i in range(2, 11):  # Começamos de 2 porque o coeficiente de silhueta requer pelo menos 2 clusters\n",
    "    kmeans = KMeans(n_clusters=i, random_state=42)\n",
    "    kmeans.fit(scaled_data)\n",
    "    silhouette_scores.append(silhouette_score(scaled_data, kmeans.labels_))\n",
    "\n",
    "plt.figure(figsize=(10, 5))\n",
    "sns.lineplot(x=range(2, 11), y=silhouette_scores, marker='o', color='blue')\n",
    "plt.title('Método da Silhueta')\n",
    "plt.xlabel('Número de clusters')\n",
    "plt.ylabel('Coeficiente de Silhueta')\n",
    "plt.show()"
   ]
  },
  {
   "cell_type": "markdown",
   "metadata": {},
   "source": [
    "**Conclusão Intermediária**\n",
    "\n",
    "Podemos observar que pelo método Silhueta para definição de clusters teríamos que a melhor escolha pelo coeficiente é de 2 clusters.\n",
    "\n",
    "Também é possível ver que que há uma queda grande de 2 até 5 grupos. Para tal, iremos utilizar o número de clusters de 3 para os produtos. Esse valor pode e deve ser melhorado com o tempo com outras analises futuras para os clusters. No caso seria interessante categorizar melhor a base por categorias de produtos.\n",
    "\n",
    "Dessa maneira iremos criar um cluster com 3 grupos."
   ]
  },
  {
   "cell_type": "code",
   "execution_count": 311,
   "metadata": {},
   "outputs": [
    {
     "name": "stdout",
     "output_type": "stream",
     "text": [
      "0    1045\n",
      "1    1347\n",
      "2    1250\n",
      "Name: Cluster, dtype: int64\n"
     ]
    }
   ],
   "source": [
    "# Suponhamos que 3 seja o número ótimo de clusters determinado pelo método Silhueta\n",
    "kmeans = KMeans(n_clusters=3, random_state=42)\n",
    "clusters = kmeans.fit_predict(scaled_data)\n",
    "\n",
    "cooccurrence_matrix['Cluster'] = clusters\n",
    "\n",
    "print(cooccurrence_matrix['Cluster'].value_counts().sort_index())"
   ]
  },
  {
   "cell_type": "code",
   "execution_count": 312,
   "metadata": {},
   "outputs": [
    {
     "data": {
      "text/html": [
       "<div>\n",
       "<style scoped>\n",
       "    .dataframe tbody tr th:only-of-type {\n",
       "        vertical-align: middle;\n",
       "    }\n",
       "\n",
       "    .dataframe tbody tr th {\n",
       "        vertical-align: top;\n",
       "    }\n",
       "\n",
       "    .dataframe thead th {\n",
       "        text-align: right;\n",
       "    }\n",
       "</style>\n",
       "<table border=\"1\" class=\"dataframe\">\n",
       "  <thead>\n",
       "    <tr style=\"text-align: right;\">\n",
       "      <th>stock_code</th>\n",
       "      <th>10002</th>\n",
       "      <th>10080</th>\n",
       "      <th>10120</th>\n",
       "      <th>10123C</th>\n",
       "      <th>10124A</th>\n",
       "      <th>10124G</th>\n",
       "      <th>10125</th>\n",
       "      <th>10133</th>\n",
       "      <th>10135</th>\n",
       "      <th>11001</th>\n",
       "      <th>...</th>\n",
       "      <th>90214R</th>\n",
       "      <th>90214S</th>\n",
       "      <th>90214T</th>\n",
       "      <th>90214U</th>\n",
       "      <th>90214V</th>\n",
       "      <th>90214W</th>\n",
       "      <th>90214Y</th>\n",
       "      <th>90214Z</th>\n",
       "      <th>C2</th>\n",
       "      <th>Cluster</th>\n",
       "    </tr>\n",
       "    <tr>\n",
       "      <th>stock_code</th>\n",
       "      <th></th>\n",
       "      <th></th>\n",
       "      <th></th>\n",
       "      <th></th>\n",
       "      <th></th>\n",
       "      <th></th>\n",
       "      <th></th>\n",
       "      <th></th>\n",
       "      <th></th>\n",
       "      <th></th>\n",
       "      <th></th>\n",
       "      <th></th>\n",
       "      <th></th>\n",
       "      <th></th>\n",
       "      <th></th>\n",
       "      <th></th>\n",
       "      <th></th>\n",
       "      <th></th>\n",
       "      <th></th>\n",
       "      <th></th>\n",
       "      <th></th>\n",
       "    </tr>\n",
       "  </thead>\n",
       "  <tbody>\n",
       "    <tr>\n",
       "      <th>10002</th>\n",
       "      <td>1</td>\n",
       "      <td>0</td>\n",
       "      <td>1</td>\n",
       "      <td>1</td>\n",
       "      <td>0</td>\n",
       "      <td>0</td>\n",
       "      <td>1</td>\n",
       "      <td>0</td>\n",
       "      <td>1</td>\n",
       "      <td>1</td>\n",
       "      <td>...</td>\n",
       "      <td>0</td>\n",
       "      <td>0</td>\n",
       "      <td>0</td>\n",
       "      <td>0</td>\n",
       "      <td>0</td>\n",
       "      <td>0</td>\n",
       "      <td>0</td>\n",
       "      <td>0</td>\n",
       "      <td>0</td>\n",
       "      <td>2</td>\n",
       "    </tr>\n",
       "    <tr>\n",
       "      <th>10080</th>\n",
       "      <td>0</td>\n",
       "      <td>1</td>\n",
       "      <td>0</td>\n",
       "      <td>0</td>\n",
       "      <td>0</td>\n",
       "      <td>0</td>\n",
       "      <td>0</td>\n",
       "      <td>0</td>\n",
       "      <td>0</td>\n",
       "      <td>0</td>\n",
       "      <td>...</td>\n",
       "      <td>0</td>\n",
       "      <td>0</td>\n",
       "      <td>0</td>\n",
       "      <td>0</td>\n",
       "      <td>0</td>\n",
       "      <td>0</td>\n",
       "      <td>0</td>\n",
       "      <td>0</td>\n",
       "      <td>0</td>\n",
       "      <td>1</td>\n",
       "    </tr>\n",
       "    <tr>\n",
       "      <th>10120</th>\n",
       "      <td>1</td>\n",
       "      <td>0</td>\n",
       "      <td>1</td>\n",
       "      <td>1</td>\n",
       "      <td>0</td>\n",
       "      <td>0</td>\n",
       "      <td>1</td>\n",
       "      <td>0</td>\n",
       "      <td>1</td>\n",
       "      <td>1</td>\n",
       "      <td>...</td>\n",
       "      <td>0</td>\n",
       "      <td>0</td>\n",
       "      <td>0</td>\n",
       "      <td>0</td>\n",
       "      <td>0</td>\n",
       "      <td>0</td>\n",
       "      <td>0</td>\n",
       "      <td>0</td>\n",
       "      <td>0</td>\n",
       "      <td>2</td>\n",
       "    </tr>\n",
       "  </tbody>\n",
       "</table>\n",
       "<p>3 rows × 3643 columns</p>\n",
       "</div>"
      ],
      "text/plain": [
       "stock_code  10002  10080  10120  10123C  10124A  10124G  10125  10133  10135  \\\n",
       "stock_code                                                                     \n",
       "10002           1      0      1       1       0       0      1      0      1   \n",
       "10080           0      1      0       0       0       0      0      0      0   \n",
       "10120           1      0      1       1       0       0      1      0      1   \n",
       "\n",
       "stock_code  11001  ...  90214R  90214S  90214T  90214U  90214V  90214W  \\\n",
       "stock_code         ...                                                   \n",
       "10002           1  ...       0       0       0       0       0       0   \n",
       "10080           0  ...       0       0       0       0       0       0   \n",
       "10120           1  ...       0       0       0       0       0       0   \n",
       "\n",
       "stock_code  90214Y  90214Z  C2  Cluster  \n",
       "stock_code                               \n",
       "10002            0       0   0        2  \n",
       "10080            0       0   0        1  \n",
       "10120            0       0   0        2  \n",
       "\n",
       "[3 rows x 3643 columns]"
      ]
     },
     "execution_count": 312,
     "metadata": {},
     "output_type": "execute_result"
    }
   ],
   "source": [
    "cooccurrence_matrix.head(3)"
   ]
  },
  {
   "cell_type": "code",
   "execution_count": 313,
   "metadata": {},
   "outputs": [
    {
     "data": {
      "text/html": [
       "<div>\n",
       "<style scoped>\n",
       "    .dataframe tbody tr th:only-of-type {\n",
       "        vertical-align: middle;\n",
       "    }\n",
       "\n",
       "    .dataframe tbody tr th {\n",
       "        vertical-align: top;\n",
       "    }\n",
       "\n",
       "    .dataframe thead th {\n",
       "        text-align: right;\n",
       "    }\n",
       "</style>\n",
       "<table border=\"1\" class=\"dataframe\">\n",
       "  <thead>\n",
       "    <tr style=\"text-align: right;\">\n",
       "      <th></th>\n",
       "      <th>invoice_no</th>\n",
       "      <th>stock_code</th>\n",
       "      <th>description</th>\n",
       "      <th>quantity</th>\n",
       "      <th>invoice_date</th>\n",
       "      <th>unit_price</th>\n",
       "      <th>customer_id</th>\n",
       "      <th>date</th>\n",
       "      <th>week_year</th>\n",
       "      <th>month_year</th>\n",
       "      <th>TotalPurchase</th>\n",
       "      <th>cluster</th>\n",
       "    </tr>\n",
       "  </thead>\n",
       "  <tbody>\n",
       "    <tr>\n",
       "      <th>0</th>\n",
       "      <td>536365</td>\n",
       "      <td>85123A</td>\n",
       "      <td>WHITE HANGING HEART T-LIGHT HOLDER</td>\n",
       "      <td>6</td>\n",
       "      <td>2018-11-29 08:26:00</td>\n",
       "      <td>2.55</td>\n",
       "      <td>17850</td>\n",
       "      <td>2018-11-29</td>\n",
       "      <td>2018-11-26/2018-12-02</td>\n",
       "      <td>2018-11</td>\n",
       "      <td>15.30</td>\n",
       "      <td>1</td>\n",
       "    </tr>\n",
       "    <tr>\n",
       "      <th>1</th>\n",
       "      <td>536365</td>\n",
       "      <td>71053</td>\n",
       "      <td>WHITE METAL LANTERN</td>\n",
       "      <td>6</td>\n",
       "      <td>2018-11-29 08:26:00</td>\n",
       "      <td>3.39</td>\n",
       "      <td>17850</td>\n",
       "      <td>2018-11-29</td>\n",
       "      <td>2018-11-26/2018-12-02</td>\n",
       "      <td>2018-11</td>\n",
       "      <td>20.34</td>\n",
       "      <td>1</td>\n",
       "    </tr>\n",
       "    <tr>\n",
       "      <th>2</th>\n",
       "      <td>536365</td>\n",
       "      <td>84406B</td>\n",
       "      <td>CREAM CUPID HEARTS COAT HANGER</td>\n",
       "      <td>8</td>\n",
       "      <td>2018-11-29 08:26:00</td>\n",
       "      <td>2.75</td>\n",
       "      <td>17850</td>\n",
       "      <td>2018-11-29</td>\n",
       "      <td>2018-11-26/2018-12-02</td>\n",
       "      <td>2018-11</td>\n",
       "      <td>22.00</td>\n",
       "      <td>1</td>\n",
       "    </tr>\n",
       "    <tr>\n",
       "      <th>3</th>\n",
       "      <td>536365</td>\n",
       "      <td>84029G</td>\n",
       "      <td>KNITTED UNION FLAG HOT WATER BOTTLE</td>\n",
       "      <td>6</td>\n",
       "      <td>2018-11-29 08:26:00</td>\n",
       "      <td>3.39</td>\n",
       "      <td>17850</td>\n",
       "      <td>2018-11-29</td>\n",
       "      <td>2018-11-26/2018-12-02</td>\n",
       "      <td>2018-11</td>\n",
       "      <td>20.34</td>\n",
       "      <td>1</td>\n",
       "    </tr>\n",
       "    <tr>\n",
       "      <th>4</th>\n",
       "      <td>536365</td>\n",
       "      <td>84029E</td>\n",
       "      <td>RED WOOLLY HOTTIE WHITE HEART.</td>\n",
       "      <td>6</td>\n",
       "      <td>2018-11-29 08:26:00</td>\n",
       "      <td>3.39</td>\n",
       "      <td>17850</td>\n",
       "      <td>2018-11-29</td>\n",
       "      <td>2018-11-26/2018-12-02</td>\n",
       "      <td>2018-11</td>\n",
       "      <td>20.34</td>\n",
       "      <td>1</td>\n",
       "    </tr>\n",
       "    <tr>\n",
       "      <th>...</th>\n",
       "      <td>...</td>\n",
       "      <td>...</td>\n",
       "      <td>...</td>\n",
       "      <td>...</td>\n",
       "      <td>...</td>\n",
       "      <td>...</td>\n",
       "      <td>...</td>\n",
       "      <td>...</td>\n",
       "      <td>...</td>\n",
       "      <td>...</td>\n",
       "      <td>...</td>\n",
       "      <td>...</td>\n",
       "    </tr>\n",
       "    <tr>\n",
       "      <th>365684</th>\n",
       "      <td>581587</td>\n",
       "      <td>22613</td>\n",
       "      <td>PACK OF 20 SPACEBOY NAPKINS</td>\n",
       "      <td>12</td>\n",
       "      <td>2019-12-07 12:50:00</td>\n",
       "      <td>0.85</td>\n",
       "      <td>12680</td>\n",
       "      <td>2019-12-07</td>\n",
       "      <td>2019-12-02/2019-12-08</td>\n",
       "      <td>2019-12</td>\n",
       "      <td>10.20</td>\n",
       "      <td>1</td>\n",
       "    </tr>\n",
       "    <tr>\n",
       "      <th>365685</th>\n",
       "      <td>581587</td>\n",
       "      <td>22899</td>\n",
       "      <td>CHILDREN'S APRON DOLLY GIRL</td>\n",
       "      <td>6</td>\n",
       "      <td>2019-12-07 12:50:00</td>\n",
       "      <td>2.10</td>\n",
       "      <td>12680</td>\n",
       "      <td>2019-12-07</td>\n",
       "      <td>2019-12-02/2019-12-08</td>\n",
       "      <td>2019-12</td>\n",
       "      <td>12.60</td>\n",
       "      <td>1</td>\n",
       "    </tr>\n",
       "    <tr>\n",
       "      <th>365686</th>\n",
       "      <td>581587</td>\n",
       "      <td>23254</td>\n",
       "      <td>CHILDRENS CUTLERY DOLLY GIRL</td>\n",
       "      <td>4</td>\n",
       "      <td>2019-12-07 12:50:00</td>\n",
       "      <td>4.15</td>\n",
       "      <td>12680</td>\n",
       "      <td>2019-12-07</td>\n",
       "      <td>2019-12-02/2019-12-08</td>\n",
       "      <td>2019-12</td>\n",
       "      <td>16.60</td>\n",
       "      <td>1</td>\n",
       "    </tr>\n",
       "    <tr>\n",
       "      <th>365687</th>\n",
       "      <td>581587</td>\n",
       "      <td>23255</td>\n",
       "      <td>CHILDRENS CUTLERY CIRCUS PARADE</td>\n",
       "      <td>4</td>\n",
       "      <td>2019-12-07 12:50:00</td>\n",
       "      <td>4.15</td>\n",
       "      <td>12680</td>\n",
       "      <td>2019-12-07</td>\n",
       "      <td>2019-12-02/2019-12-08</td>\n",
       "      <td>2019-12</td>\n",
       "      <td>16.60</td>\n",
       "      <td>1</td>\n",
       "    </tr>\n",
       "    <tr>\n",
       "      <th>365688</th>\n",
       "      <td>581587</td>\n",
       "      <td>22138</td>\n",
       "      <td>BAKING SET 9 PIECE RETROSPOT</td>\n",
       "      <td>3</td>\n",
       "      <td>2019-12-07 12:50:00</td>\n",
       "      <td>4.95</td>\n",
       "      <td>12680</td>\n",
       "      <td>2019-12-07</td>\n",
       "      <td>2019-12-02/2019-12-08</td>\n",
       "      <td>2019-12</td>\n",
       "      <td>14.85</td>\n",
       "      <td>1</td>\n",
       "    </tr>\n",
       "  </tbody>\n",
       "</table>\n",
       "<p>365689 rows × 12 columns</p>\n",
       "</div>"
      ],
      "text/plain": [
       "       invoice_no stock_code                          description  quantity  \\\n",
       "0          536365     85123A   WHITE HANGING HEART T-LIGHT HOLDER         6   \n",
       "1          536365      71053                  WHITE METAL LANTERN         6   \n",
       "2          536365     84406B       CREAM CUPID HEARTS COAT HANGER         8   \n",
       "3          536365     84029G  KNITTED UNION FLAG HOT WATER BOTTLE         6   \n",
       "4          536365     84029E       RED WOOLLY HOTTIE WHITE HEART.         6   \n",
       "...           ...        ...                                  ...       ...   \n",
       "365684     581587      22613          PACK OF 20 SPACEBOY NAPKINS        12   \n",
       "365685     581587      22899         CHILDREN'S APRON DOLLY GIRL          6   \n",
       "365686     581587      23254        CHILDRENS CUTLERY DOLLY GIRL          4   \n",
       "365687     581587      23255      CHILDRENS CUTLERY CIRCUS PARADE         4   \n",
       "365688     581587      22138        BAKING SET 9 PIECE RETROSPOT          3   \n",
       "\n",
       "              invoice_date  unit_price  customer_id        date  \\\n",
       "0      2018-11-29 08:26:00        2.55        17850  2018-11-29   \n",
       "1      2018-11-29 08:26:00        3.39        17850  2018-11-29   \n",
       "2      2018-11-29 08:26:00        2.75        17850  2018-11-29   \n",
       "3      2018-11-29 08:26:00        3.39        17850  2018-11-29   \n",
       "4      2018-11-29 08:26:00        3.39        17850  2018-11-29   \n",
       "...                    ...         ...          ...         ...   \n",
       "365684 2019-12-07 12:50:00        0.85        12680  2019-12-07   \n",
       "365685 2019-12-07 12:50:00        2.10        12680  2019-12-07   \n",
       "365686 2019-12-07 12:50:00        4.15        12680  2019-12-07   \n",
       "365687 2019-12-07 12:50:00        4.15        12680  2019-12-07   \n",
       "365688 2019-12-07 12:50:00        4.95        12680  2019-12-07   \n",
       "\n",
       "                    week_year month_year  TotalPurchase  cluster  \n",
       "0       2018-11-26/2018-12-02    2018-11          15.30        1  \n",
       "1       2018-11-26/2018-12-02    2018-11          20.34        1  \n",
       "2       2018-11-26/2018-12-02    2018-11          22.00        1  \n",
       "3       2018-11-26/2018-12-02    2018-11          20.34        1  \n",
       "4       2018-11-26/2018-12-02    2018-11          20.34        1  \n",
       "...                       ...        ...            ...      ...  \n",
       "365684  2019-12-02/2019-12-08    2019-12          10.20        1  \n",
       "365685  2019-12-02/2019-12-08    2019-12          12.60        1  \n",
       "365686  2019-12-02/2019-12-08    2019-12          16.60        1  \n",
       "365687  2019-12-02/2019-12-08    2019-12          16.60        1  \n",
       "365688  2019-12-02/2019-12-08    2019-12          14.85        1  \n",
       "\n",
       "[365689 rows x 12 columns]"
      ]
     },
     "execution_count": 313,
     "metadata": {},
     "output_type": "execute_result"
    }
   ],
   "source": [
    "# Definindo o número de clusters que você deseja (por exemplo, 3)\n",
    "n_clusters = 3\n",
    "\n",
    "# Realizando a clusterização\n",
    "clusters = kmeans.fit_predict(cooccurrence_matrix)\n",
    "\n",
    "# Criando um DataFrame para os clusters\n",
    "clusters_df = pd.DataFrame({\n",
    "    'stock_code': cooccurrence_matrix.index,\n",
    "    'cluster': clusters\n",
    "})\n",
    "\n",
    "# Mesclando os clusters ao DataFrame principal\n",
    "df = df.merge(clusters_df, on='stock_code', how='left')\n",
    "\n",
    "# Mostrando a df\n",
    "df"
   ]
  },
  {
   "cell_type": "markdown",
   "metadata": {},
   "source": [
    "**Conclusão**\n",
    "\n",
    "Conseguimos gerar um modelo de clusterização utilizando K-means para recomendação de produtos. Para tal utilizamos as colunas de invoice e produto para entender em diferentes faturas quais produtos foram comprados juntos.\n",
    "\n",
    "A partir desse entendimento, criou-se uma tabela com os dados binários (0,1) para cada invoice e gerou-se um tabela vetor que chamamos de `cooccurrence_matrix`. Essa matriz, nos dá os produtos que foram comprados juntos, apresentando tanto na coluna quanto nas linhas os produtos. Essa tabela deve-se ler da segeuinte maneira:\n",
    "\n",
    "- O produto da coluna 1 e o produto da linha 2:\n",
    "\n",
    "    * caso o valor seja 1: são comprados juntos\n",
    "    * caso om valor seja 0: não são comprados juntos\n",
    "\n",
    "Depois da geração desta matriz, normalizamos os dados e analisamos o número de clusters ótimos. Em nosso caso, optamos por separar os grupos de produtos em 3 grandes grupos de compras. Com tais dados na mão, utilizamos K-means para gerar os clusters em base a nossa matriz normalizada. O algorítimo irá tentar compreender quais itens tem correlação de compra em base as compras em conjunto.\n",
    "\n",
    "Ao final, geramos 3 grandes grupos de produtos que são comprados, normalmente, em conjunto ou que tem a probabilidade de serem adquiridos em conjunto pelos clientes. Desta maneira, quando algum cliente entrar na página de algum produto o algoritmo poderá rodar e realizar recomendações de compras em conjunto ao que ele produto, fornecendo a possiblidade de cross-selling. Tais sistemas já tem grande usabilidade por grandes ecommerces como Amazon e Mercado Livre.\n",
    "\n",
    "Outro insight importante pode ser utilizado para o entedimento dos clientes, pois podemos entender qual o comportamento de compra do cliente perante cada grupo (cluster) e quais os produtos ou categorias que ele mais procura, podendo oferecer de maneira personalizada futuramente os produtos que ele não adquiriu dentro do cluster que ele mais compra.\n",
    "\n",
    "Outra possibilidade, ainda, é de compreender como cada cluster de produto está rendendo para a empresa e como pode-se aumentar o agrupamento.\n",
    "\n",
    "Logo, com tantas possibilidades podemos concluir que os clusters gerados podem ser de grande valiosidade para o ecommerce e para entender os perfis de produtos e clientes diferentes.\n",
    "\n",
    "Um caso interessante, poderia ser se para cada clientes criassemos um agrupamento e entedessemos qual grupo ele compra mais e, em base nisso, criar uma campanha de marketing ou cupom personalizado para ele."
   ]
  },
  {
   "cell_type": "markdown",
   "metadata": {},
   "source": [
    "### Segmentação baseada no valor de compra\n",
    "\n",
    "Segmentação Baseada em Valor Total de Compra\n",
    "\n",
    "Dentro da análise RFM, a segmentação com base no valor total de compra é uma técnica valiosa que se concentra especificamente na Monetaridade (M). Ela categoriza os clientes com base no total que gastaram, ajudando as empresas a entender quais clientes são os mais valiosos em termos de receita gerada.\n",
    "\n",
    "Ao segmentar os clientes em categorias de \"alto valor\", \"valor médio\" e \"baixo valor\", as empresas podem direcionar suas estratégias de marketing e ofertas para atender melhor a cada segmento. Por exemplo, os clientes de \"alto valor\" podem receber ofertas especiais ou recompensas por sua lealdade, enquanto os clientes de \"baixo valor\" podem ser alvo de campanhas de upsell ou cross-sell.\n",
    "\n",
    "Iremos criar uma segmentação simples baseada nos valores consumidos pelos clientes e irão ser segmentados em três grupos:\n",
    "\n",
    "* Clientes de alto valor --> Quartil superior dos valores gastos.\n",
    "* Clientes de médio valor --> Entre os quartis superiro e inferior\n",
    "* Clientes de baixo valor --> Até o quartil inferior de valor gasto.\n",
    "\n",
    "Isso nos dá um norte para saber em criar ações específicas para clientes e melhorar a conversão e dar mais incentivo para clientes de alto valor."
   ]
  },
  {
   "cell_type": "code",
   "execution_count": 314,
   "metadata": {},
   "outputs": [],
   "source": [
    "# Valor total gasto\n",
    "total_spend = df.groupby('customer_id')['unit_price'].sum().sort_values(ascending=False)\n",
    "\n",
    "# Clientes de alto valor\n",
    "high_value = total_spend[total_spend >= total_spend.quantile(0.75)]\n",
    "\n",
    "# Clientes de médio valor\n",
    "mid_value = total_spend[(total_spend < total_spend.quantile(0.75)) & (total_spend > total_spend.quantile(0.25))]\n",
    "\n",
    "# Clientes de baixo valor\n",
    "low_value = total_spend[total_spend <= total_spend.quantile(0.25)]"
   ]
  },
  {
   "cell_type": "code",
   "execution_count": 315,
   "metadata": {},
   "outputs": [
    {
     "data": {
      "text/plain": [
       "customer_id\n",
       "14911    22314.20\n",
       "14096    21341.04\n",
       "17841    19417.83\n",
       "12748    10348.59\n",
       "14606     7477.93\n",
       "           ...   \n",
       "12838      276.64\n",
       "12429      276.44\n",
       "17198      276.44\n",
       "14621      276.29\n",
       "12381      276.29\n",
       "Name: unit_price, Length: 1057, dtype: float64"
      ]
     },
     "execution_count": 315,
     "metadata": {},
     "output_type": "execute_result"
    }
   ],
   "source": [
    "# Mostrando clientes de alto valor\n",
    "high_value"
   ]
  },
  {
   "cell_type": "code",
   "execution_count": 316,
   "metadata": {},
   "outputs": [
    {
     "data": {
      "text/plain": [
       "customer_id\n",
       "15093    276.19\n",
       "17092    275.99\n",
       "13196    275.86\n",
       "12598    275.82\n",
       "14250    275.79\n",
       "          ...  \n",
       "14853     51.10\n",
       "16884     51.08\n",
       "16366     50.92\n",
       "14804     50.89\n",
       "17506     50.88\n",
       "Name: unit_price, Length: 2113, dtype: float64"
      ]
     },
     "execution_count": 316,
     "metadata": {},
     "output_type": "execute_result"
    }
   ],
   "source": [
    "# Mostrando clientes de médio valor\n",
    "mid_value"
   ]
  },
  {
   "cell_type": "code",
   "execution_count": 317,
   "metadata": {},
   "outputs": [
    {
     "data": {
      "text/plain": [
       "customer_id\n",
       "15287    50.82\n",
       "13519    50.75\n",
       "15148    50.71\n",
       "16803    50.48\n",
       "13784    50.44\n",
       "         ...  \n",
       "17212     0.79\n",
       "17857     0.55\n",
       "14616     0.42\n",
       "18058     0.29\n",
       "15744     0.29\n",
       "Name: unit_price, Length: 1057, dtype: float64"
      ]
     },
     "execution_count": 317,
     "metadata": {},
     "output_type": "execute_result"
    }
   ],
   "source": [
    "# Mostrando clientes de baixo valor\n",
    "low_value"
   ]
  },
  {
   "cell_type": "code",
   "execution_count": 318,
   "metadata": {},
   "outputs": [
    {
     "data": {
      "text/html": [
       "<div>\n",
       "<style scoped>\n",
       "    .dataframe tbody tr th:only-of-type {\n",
       "        vertical-align: middle;\n",
       "    }\n",
       "\n",
       "    .dataframe tbody tr th {\n",
       "        vertical-align: top;\n",
       "    }\n",
       "\n",
       "    .dataframe thead th {\n",
       "        text-align: right;\n",
       "    }\n",
       "</style>\n",
       "<table border=\"1\" class=\"dataframe\">\n",
       "  <thead>\n",
       "    <tr style=\"text-align: right;\">\n",
       "      <th></th>\n",
       "      <th>customer_id</th>\n",
       "      <th>segment</th>\n",
       "    </tr>\n",
       "  </thead>\n",
       "  <tbody>\n",
       "    <tr>\n",
       "      <th>0</th>\n",
       "      <td>12347</td>\n",
       "      <td>high_value</td>\n",
       "    </tr>\n",
       "    <tr>\n",
       "      <th>1</th>\n",
       "      <td>12348</td>\n",
       "      <td>low_value</td>\n",
       "    </tr>\n",
       "    <tr>\n",
       "      <th>2</th>\n",
       "      <td>12349</td>\n",
       "      <td>high_value</td>\n",
       "    </tr>\n",
       "    <tr>\n",
       "      <th>3</th>\n",
       "      <td>12350</td>\n",
       "      <td>mid_value</td>\n",
       "    </tr>\n",
       "    <tr>\n",
       "      <th>4</th>\n",
       "      <td>12352</td>\n",
       "      <td>high_value</td>\n",
       "    </tr>\n",
       "    <tr>\n",
       "      <th>...</th>\n",
       "      <td>...</td>\n",
       "      <td>...</td>\n",
       "    </tr>\n",
       "    <tr>\n",
       "      <th>4222</th>\n",
       "      <td>18280</td>\n",
       "      <td>low_value</td>\n",
       "    </tr>\n",
       "    <tr>\n",
       "      <th>4223</th>\n",
       "      <td>18281</td>\n",
       "      <td>low_value</td>\n",
       "    </tr>\n",
       "    <tr>\n",
       "      <th>4224</th>\n",
       "      <td>18282</td>\n",
       "      <td>low_value</td>\n",
       "    </tr>\n",
       "    <tr>\n",
       "      <th>4225</th>\n",
       "      <td>18283</td>\n",
       "      <td>high_value</td>\n",
       "    </tr>\n",
       "    <tr>\n",
       "      <th>4226</th>\n",
       "      <td>18287</td>\n",
       "      <td>mid_value</td>\n",
       "    </tr>\n",
       "  </tbody>\n",
       "</table>\n",
       "<p>4227 rows × 2 columns</p>\n",
       "</div>"
      ],
      "text/plain": [
       "      customer_id     segment\n",
       "0           12347  high_value\n",
       "1           12348   low_value\n",
       "2           12349  high_value\n",
       "3           12350   mid_value\n",
       "4           12352  high_value\n",
       "...           ...         ...\n",
       "4222        18280   low_value\n",
       "4223        18281   low_value\n",
       "4224        18282   low_value\n",
       "4225        18283  high_value\n",
       "4226        18287   mid_value\n",
       "\n",
       "[4227 rows x 2 columns]"
      ]
     },
     "execution_count": 318,
     "metadata": {},
     "output_type": "execute_result"
    }
   ],
   "source": [
    "# Segmentação dos clientes\n",
    "total_spend = df.groupby('customer_id')['TotalPurchase'].sum()\n",
    "\n",
    "# Definindo a segmentação\n",
    "conditions = [\n",
    "    (total_spend >= total_spend.quantile(0.75)),\n",
    "    (total_spend < total_spend.quantile(0.75)) & (total_spend > total_spend.quantile(0.25)),\n",
    "    (total_spend <= total_spend.quantile(0.25))\n",
    "]\n",
    "\n",
    "choices = ['high_value', 'mid_value', 'low_value']\n",
    "\n",
    "segment = pd.Series(np.select(conditions, choices, default='mid_value'), index=total_spend.index).reset_index(name='segment')\n",
    "\n",
    "# Resultado\n",
    "segment"
   ]
  },
  {
   "cell_type": "markdown",
   "metadata": {},
   "source": [
    "**Conclusão**\n",
    "\n",
    "Com base na análise de segmentação de clientes, classificamos os clientes em três categorias com base em seu valor total gasto: clientes de alto valor, médio valor e baixo valor.\n",
    "\n",
    "**Clientes de Alto Valor:**\n",
    "- Representam um grupo específico que contribui substancialmente para a receita da empresa. \n",
    "- Este segmento é caracterizado por compras frequentes e gastos consideráveis.\n",
    "\n",
    "**Clientes de Médio Valor:**\n",
    "- Formam a maior parte da base de clientes.\n",
    "- A consistência de seus gastos os torna uma fonte estável de receita, mesmo que seus gastos individuais sejam menores do que os de alto valor.\n",
    "\n",
    "**Clientes de Baixo Valor:**\n",
    "- Este grupo consiste em clientes que têm gastos mínimos.\n",
    "- Embora seus gastos sejam menores, eles ainda representam uma oportunidade. Estratégias adequadas podem convertê-los em clientes de médio ou alto valor no futuro.\n",
    "\n",
    "A segmentação oferece uma visão valiosa que pode orientar estratégias de marketing, promoções e engajamento. Por exemplo:\n",
    "- Os clientes de alto valor podem ser alvos de campanhas premium ou programas de lealdade.\n",
    "- Os clientes de médio valor podem ser abordados com ofertas de upselling.\n",
    "- Os clientes de baixo valor podem ser incentivados através de ofertas especiais para aumentar seus gastos.\n",
    "\n",
    "É crucial entender que todos os segmentos são vitais. Enquanto os clientes de alto valor têm um impacto direto nas receitas, os de médio e baixo valor têm o potencial de serem convertidos em clientes de maior valor com as estratégias certas.\n",
    "\n",
    "Em resumo, a segmentação dos clientes com base no valor total gasto proporciona uma abordagem mais personalizada e direcionada, levando a campanhas de marketing mais eficazes e, finalmente, ao crescimento do ecommerce."
   ]
  },
  {
   "cell_type": "markdown",
   "metadata": {},
   "source": [
    "## Testes de hipóteses\n",
    "\n",
    "Para validar nossas premissas, testes e criação de modelos iremos formular algumas hipótses e testar em cima dos nossos modelos de cluster que criamos.\n",
    "\n",
    "Assim iremos testar as seguintes hipóteses:\n",
    "\n",
    "1. Hipóteses relacionadas à segmentação RFM --> Os clientes no segmento \"Campeão\" têm uma média de valor monetário (M) maior do que os clientes no segmento \"Leal\".\n",
    "\n",
    "2. Hipóteses relacionadas à segmentação baseada em produto com KMeans --> Há uma diferença significativa no número de produtos comprados entre os diferentes clusters identificados pelo KMeans.\n",
    "\n",
    "3. Hipóteses relacionadas à segmentação baseada no valor total de compra --> Os clientes de \"high_value\" gastam, em média, mais do que os clientes de \"mid_value\" e \"low_value\"."
   ]
  },
  {
   "cell_type": "markdown",
   "metadata": {},
   "source": [
    "### Hipótese RFM\n",
    "\n",
    "\n",
    "**Introdução: Comparando Segmentos Champion e Loyal**\n",
    "\n",
    "A segmentação RFM é uma técnica amplamente utilizada para classificar clientes com base em três fatores: Recência, Frequência e Valor Monetário. Usando essa segmentação, podemos categorizar nossos clientes em grupos distintos, como \"champion\", \"loyal\", entre outros. Uma pergunta que pode surgir é: há uma diferença significativa no valor monetário entre os clientes classificados como \"champion\" e \"loyal\"? \n",
    "\n",
    "Para responder a essa pergunta, aplicaremos o teste t de amostras independentes, que nos permite comparar as médias de dois grupos e determinar se há uma diferença estatisticamente significativa entre eles.\n",
    "\n",
    "**Hipótese:**\n",
    "- \\(H_0\\): Não há diferença estatisticamente significativa no valor monetário entre os segmentos \"champion\" e \"loyal\".\n",
    "- \\(H_1\\): Existe uma diferença estatisticamente significativa no valor monetário entre os segmentos \"champion\" e \"loyal\".\n",
    "\n",
    "**Teste Utilizado:** Teste t de amostras independentes.\n",
    "\n",
    "**Nível de significância (\\(\\alpha\\)):** 0,05.\n",
    "\n"
   ]
  },
  {
   "cell_type": "code",
   "execution_count": 319,
   "metadata": {},
   "outputs": [
    {
     "name": "stdout",
     "output_type": "stream",
     "text": [
      "T-statistic: 13.546\n",
      "P-value: 0.00000\n",
      "Há uma diferença estatisticamente significativa entre champion e loyal (p < 0.05).\n"
     ]
    }
   ],
   "source": [
    "def perform_ttest(df, column, group_col, group1, group2, alpha=0.05):\n",
    "    \"\"\"\n",
    "    Executa um t-test independente entre dois grupos em um DataFrame.\n",
    "    \n",
    "    :param df: DataFrame contendo os dados\n",
    "    :param column: Coluna que contém os valores para o teste\n",
    "    :param group_col: Coluna que contém os grupos\n",
    "    :param group1: Primeiro grupo para comparação\n",
    "    :param group2: Segundo grupo para comparação\n",
    "    :param alpha: Nível de significância, padrão 0.05\n",
    "    :return: None (imprime os resultados)\n",
    "    \"\"\"\n",
    "    \n",
    "    group1_data = df[df[group_col] == group1][column]\n",
    "    group2_data = df[df[group_col] == group2][column]\n",
    "    \n",
    "    if not (len(group1_data) and len(group2_data)):\n",
    "        print(f\"Verifique se os grupos '{group1}' e '{group2}' existem na coluna '{group_col}' e possuem dados.\")\n",
    "        return\n",
    "\n",
    "    t_stat, p_val = ttest_ind(group1_data, group2_data)\n",
    "\n",
    "    print(f'T-statistic: {t_stat:.3f}')\n",
    "    print(f'P-value: {p_val:.5f}')\n",
    "    if p_val < alpha:\n",
    "        print(f\"Há uma diferença estatisticamente significativa entre {group1} e {group2} (p < {alpha}).\")\n",
    "    else:\n",
    "        print(f\"Não há uma diferença estatisticamente significativa entre {group1} e {group2} (p >= {alpha}).\")\n",
    "\n",
    "# Uso:\n",
    "perform_ttest(rfm, 'monetary', 'segment', 'champion', 'loyal')"
   ]
  },
  {
   "cell_type": "markdown",
   "metadata": {},
   "source": [
    "**Conclusão**\n",
    "\n",
    "Com base em nossa análise aprofundada, identificamos diferenças significativas nos padrões de compra entre os segmentos de clientes \"champion\" e \"loyal\". Os números são claros: a média de gastos do segmento \"champion\" supera consideravelmente a dos clientes \"loyal\". Este insight não é apenas uma observação estatística, mas um indicativo poderoso de comportamentos distintos de consumo entre esses dois grupos.\n",
    "\n",
    "A magnitude da Estatística T, avaliada em 13.523, corrobora essa disparidade substancial nas médias de gastos entre os segmentos. Um valor-p praticamente nulo reforça ainda mais essa conclusão, nos dando a confiança para afirmar que a diferença observada não ocorreu por mero acaso.\n",
    "\n",
    "A significância dessas descobertas vai além da mera análise numérica. Elas sublinham a necessidade premente de alinhar e, se necessário, recalibrar nossas estratégias de marketing e engajamento. Ao entender que os clientes \"champion\" têm uma tendência maior de gastos, podemos direcionar esforços específicos de retenção e engajamento para este grupo, ao mesmo tempo em que desenvolvemos abordagens diferenciadas para o segmento \"loyal\", buscando elevá-los a níveis de gastos mais altos.\n",
    "\n",
    "Em resumo, estas análises não só iluminam áreas de foco imediato, mas também traçam o caminho para estratégias futuras. Estamos comprometidos em adaptar e moldar nossas iniciativas com base nestes insights, assegurando que continuemos a atender e superar as expectativas de nossos clientes em todos os segmentos."
   ]
  },
  {
   "cell_type": "markdown",
   "metadata": {},
   "source": [
    "### Hipóteses Relativas à Segmentação de Clientes Baseada em Produtos com KMeans:**\n",
    "\n",
    "**Introdução:**  \n",
    "Em uma economia onde os padrões de compra estão em constante evolução, a segmentação de clientes se torna crucial para entender suas preferências e comportamentos. A segmentação baseada em produtos, empregando o algoritmo KMeans, nos permite decifrar os intricados padrões de consumo, agrupando clientes com comportamentos de compra semelhantes. Estes clusters, ou segmentos, podem revelar insights sobre a variedade e quantidade de produtos que os clientes tendem a comprar, permitindo uma abordagem mais personalizada nas estratégias de marketing.\n",
    "\n",
    "**H2_1:** Existe uma diferença notável no número de produtos adquiridos entre os distintos clusters identificados pelo KMeans.\n",
    "\n",
    "**H0_2_1:** O número de produtos comprados é uniformemente distribuído entre os diferentes clusters, ou seja, não há diferença perceptível no número de produtos adquiridos entre eles.\n",
    "\n",
    "**Teste Estatístico:** ANOVA  \n",
    "**Alpha (α):** 0.05"
   ]
  },
  {
   "cell_type": "code",
   "execution_count": 320,
   "metadata": {
    "scrolled": true
   },
   "outputs": [
    {
     "name": "stdout",
     "output_type": "stream",
     "text": [
      "F-statistic: 1081.5492746013667\n",
      "P-value: 0.0\n",
      "\n",
      "Rejeitamos a hipótese nula (H0_2_1) e aceitamos a hipótese alternativa (H2_1).\n",
      "Isso indica que há uma diferença significativa no número de produtos comprados entre os diferentes clusters.\n"
     ]
    }
   ],
   "source": [
    "# Importando biblioteca\n",
    "import scipy.stats as stats\n",
    "\n",
    "# Agrupando os dados\n",
    "grouped = df.groupby(['stock_code', 'cluster'])['quantity'].sum().reset_index()\n",
    "\n",
    "# Preparando os dados para a análise ANOVA\n",
    "clusters = grouped['cluster'].unique()\n",
    "data = [grouped[grouped['cluster'] == cluster]['quantity'] for cluster in clusters]\n",
    "\n",
    "# Realizando a análise ANOVA\n",
    "f_stat, p_val = stats.f_oneway(*data)\n",
    "\n",
    "print(f'F-statistic: {f_stat}')\n",
    "print(f'P-value: {p_val}\\n')\n",
    "\n",
    "# Interpretando os resultados\n",
    "alpha = 0.05\n",
    "if p_val < alpha:\n",
    "    print(\"Rejeitamos a hipótese nula (H0_2_1) e aceitamos a hipótese alternativa (H2_1).\")\n",
    "    print(\"Isso indica que há uma diferença significativa no número de produtos comprados entre os diferentes clusters.\")\n",
    "else:\n",
    "    print(\"Não rejeitamos a hipótese nula (H0_2_1).\")\n",
    "    print(\"Isso sugere que não há diferença significativa no número de produtos comprados entre os diferentes clusters.\")"
   ]
  },
  {
   "cell_type": "markdown",
   "metadata": {},
   "source": [
    "**Conclusão**\n",
    "\n",
    "Com base nos resultados obtidos:\n",
    "\n",
    "Os resultados da análise ANOVA revelam uma estatística F de 1085.26 e um valor-p de 0.0. Dado que o valor-p é inferior ao nível de significância pré-estabelecido (α = 0.05), rejeitamos firmemente a hipótese nula. Isso confirma que há variações significativas no número de produtos comprados entre os diferentes clusters. \n",
    "\n",
    "Em termos práticos, isso sugere que os clusters identificados pelo algoritmo KMeans de fato representam grupos distintos em termos de comportamento de compra. Assim, as estratégias de marketing podem ser ajustadas e personalizadas para cada segmento de cliente, reconhecendo suas características únicas e padrões de consumo."
   ]
  },
  {
   "cell_type": "markdown",
   "metadata": {},
   "source": [
    "### Hipóteses relacionadas à segmentação baseada no valor total de compra\n",
    "\n",
    "**Introdução:**\n",
    "\n",
    "Em qualquer negócio, entender os hábitos de gasto e a frequência de compra dos clientes é crucial para otimizar estratégias de marketing e vendas. Uma prática comum é segmentar clientes com base no seu valor total de compra. Esta segmentação pode revelar grupos de clientes que demonstram padrões de compra distintos, possibilitando que as empresas ajustem suas abordagens de acordo. Nesta seção, vamos testar hipóteses relacionadas a três segmentos de clientes: \"high_value\", \"mid_value\" e \"low_value\". Especificamente, exploraremos se os clientes considerados de alto valor realmente gastam mais e compram com mais frequência do que os outros grupos.\n",
    "\n",
    "**Hipóteses:**\n",
    "\n",
    "1. **H3_1:** Os clientes de \"high_value\" gastam, em média, mais do que os clientes de \"mid_value\" e \"low_value\".\n",
    "   \n",
    "   **H0_3_1:** Não há diferença no gasto médio entre os clientes de \"high_value\" e os outros segmentos.\n",
    "\n",
    "2. **H3_2:** A frequência média de compra é maior para os clientes \"high_value\" do que para os \"low_value\".\n",
    "   \n",
    "   **H0_3_2:** Não há diferença na frequência média de compra entre os clientes \"high_value\" e \"low_value\".\n",
    "\n",
    "**Teste Estatístico:** Para testar essas hipóteses, utilizaremos o teste ANOVA para comparar as médias entre os grupos.\n",
    "\n",
    "**Nível de Significância (Alpha, α):** Estabeleceremos um nível de significância de 0.05. Se o valor-p resultante do teste for menor que esse valor, rejeitaremos a hipótese nula."
   ]
  },
  {
   "cell_type": "code",
   "execution_count": 321,
   "metadata": {},
   "outputs": [],
   "source": [
    "# Renomeando a tabela 'segment' para evitar confusões.\n",
    "segment_df = segment\n",
    "\n",
    "# Mesclando as tabelas df e segment_df usando 'customer_id' como chave.\n",
    "merged_df = df.merge(segment_df, on='customer_id', how='left')"
   ]
  },
  {
   "cell_type": "code",
   "execution_count": 322,
   "metadata": {
    "scrolled": true
   },
   "outputs": [
    {
     "name": "stdout",
     "output_type": "stream",
     "text": [
      "Resultados do teste sobre gastos:\n",
      "F-statistic: 1519.380407087459\n",
      "P-value: 0.0\n",
      "\n",
      "Resultados do teste sobre frequência de compra:\n",
      "F-statistic: 498.45318893307007\n",
      "P-value: 2.648461284896899e-99\n",
      "\n",
      "Rejeitamos a hipótese nula H0_3_1 e aceitamos a hipótese alternativa H3_1.\n",
      "Rejeitamos a hipótese nula H0_3_2 e aceitamos a hipótese alternativa H3_2.\n"
     ]
    }
   ],
   "source": [
    "# 3. Testar as hipóteses\n",
    "# H3_1 e H0_3_1\n",
    "data_spending = [merged_df[merged_df['segment'] == s]['TotalPurchase'] for s in choices]\n",
    "f_stat_spending, p_val_spending = stats.f_oneway(*data_spending)\n",
    "\n",
    "# H3_2 e H0_3_2\n",
    "# Supondo que 'invoice_date' pode indicar a frequência de compras de um cliente\n",
    "data_frequency = merged_df.groupby(['segment', 'customer_id'])['invoice_date'].nunique().reset_index()\n",
    "\n",
    "high_value_freq = data_frequency[data_frequency['segment'] == 'high_value']['invoice_date']\n",
    "low_value_freq = data_frequency[data_frequency['segment'] == 'low_value']['invoice_date']\n",
    "\n",
    "f_stat_frequency, p_val_frequency = stats.f_oneway(high_value_freq, low_value_freq)\n",
    "\n",
    "# Resultados\n",
    "print(f\"Resultados do teste sobre gastos:\")\n",
    "print(f\"F-statistic: {f_stat_spending}\")\n",
    "print(f\"P-value: {p_val_spending}\")\n",
    "print(\"\\nResultados do teste sobre frequência de compra:\")\n",
    "print(f\"F-statistic: {f_stat_frequency}\")\n",
    "print(f\"P-value: {p_val_frequency}\")\n",
    "\n",
    "alpha = 0.05\n",
    "if p_val_spending < alpha:\n",
    "    print(\"\\nRejeitamos a hipótese nula H0_3_1 e aceitamos a hipótese alternativa H3_1.\")\n",
    "else:\n",
    "    print(\"\\nNão rejeitamos a hipótese nula H0_3_1.\")\n",
    "\n",
    "if p_val_frequency < alpha:\n",
    "    print(\"Rejeitamos a hipótese nula H0_3_2 e aceitamos a hipótese alternativa H3_2.\")\n",
    "else:\n",
    "    print(\"Não rejeitamos a hipótese nula H0_3_2.\")"
   ]
  },
  {
   "cell_type": "markdown",
   "metadata": {},
   "source": [
    "**Conclusão**\n",
    "\n",
    "Os resultados estatísticos apresentados destacam significativas discrepâncias nos padrões de consumo dos diferentes segmentos de clientes.\n",
    "\n",
    "1. **Sobre os Gastos**:\n",
    "    - A estatística F de 1602.01 e um p-valor de 0.0 fortemente sugerem que há diferenças significativas nos gastos totais entre os diferentes segmentos de clientes. Especificamente, rejeitamos a hipótese nula (H0_3_1) e aceitamos a hipótese alternativa (H3_1), indicando que os clientes de \"high_value\" realmente gastam, em média, mais do que os clientes de \"mid_value\" e \"low_value\". \n",
    "\n",
    "2. **Sobre a Frequência de Compra**:\n",
    "    - Similarmente, a estatística F de 498.11 e um p-valor extremamente próximo de zero (3.11e-99) confirmam que existe uma diferença notável na frequência média de compras entre os segmentos. A rejeição da hipótese nula (H0_3_2) em favor da hipótese alternativa (H3_2) nos diz que a frequência média de compra é, de fato, maior para os clientes \"high_value\" em comparação aos clientes \"low_value\".\n",
    "\n",
    "Estes insights são vitais para a tomada de decisão no negócio."
   ]
  },
  {
   "cell_type": "markdown",
   "metadata": {},
   "source": [
    "## Conclusão\n",
    "\n",
    "Iremos separar as conclusões em dois segmentos. A primeira parte iremos abordar a fonte de dados repassada e os tratamentos realizados gerais e a segunda iremos abordar os modelos gerados e conclusões que tivemos:\n",
    "\n",
    "---\n",
    "### Conclusões acerca da fonte de dados:\n",
    "\n",
    "A base de dados recebida veio em formato TSV ao invés de CSV, é recomendado, se possível trocarmos o modelo de separação de dados, pois o CSV evita erros de compilação. O Pandas é inteligente o suficiente para ler, mas caso trabalharmos com outras ferramentas podemos ter problemas.\n",
    "\n",
    "Os dados apresentaram certas incosistências como, por exemplo:\n",
    "\n",
    "1. Dados duplicados;\n",
    "2. Dados errados --> Quantidades de vendas exuberantes;\n",
    "3. Códigos iguais e Descrições diferentes --> Mostra falta de padronização dos dados;\n",
    "4. Presença de dados negativos sem explicação necessária --> Seria interessante ter uma explicação para os dados negativos ou código para tal;\n",
    "5. Mistura de vendas com outras operações --> Descontos, fretes e comissões estão na mesma base de dados que as vendas realizadas. \n",
    "6. Presença de outliers para preços e quantidades;\n",
    "7. Existem dados faltantes na coluna CustomerID e para essa analise se faz super importante.\n",
    "\n",
    "**Essas conclusões são interessantes para o Engenheiro de Dados aprimorar a base de dados.**\n",
    "\n",
    "\n",
    "Além disso, em quesito de performance geral do Ecommerce temos que:\n",
    "\n",
    "- A empresa está crescendo o número de vendas e é possível observar isso no número de invoices mensais e semanais;\n",
    "- A empresa está crescendo no número de clientes diferentes;\n",
    "- É interessante a empresa investir em modelos de previsões de demandas com Machine Learning, pois pode-se observar uma sazonalidade e tendencia nas vendas diárias. Isso pode ajudar a manter estoque ou prever faturamento.\n",
    "- Conseguimos captar um Top10 produtos mais vendidos pela empresa. \n",
    "- A empresa possuí, por baixas que sejam, vendas de produtos de alto valor agregado, algo que pode ser interessante visto que aumenta o faturamento com poucos itens.\n",
    "- Apesar disso, o business se concentra no itens de baixo valor agregado.\n",
    "\n",
    "\n",
    "\n",
    "---\n",
    "\n",
    "### Conclusões acerca dos modelos de segmentação de clientes\n",
    "\n",
    "Ao longo das análises de segmentação, foi possível explorar e compreender a complexidade e diversidade de nossos clientes e produtos, bem como as nuances de seus comportamentos de compra. Em suma, extraímos insights valiosos de três modelos distintos de segmentação: \n",
    "\n",
    "1. **Segmentação baseada no valor da compra:** Esta abordagem nos forneceu uma visão geral sobre o gasto dos clientes, permitindo categorizá-los em grupos de alto, médio e baixo valor. Ao entendermos esses perfis, é possível otimizar estratégias de marketing e engajamento, mirando precisamente nas necessidades e características de cada segmento.\n",
    "\n",
    "2. **Segmentação RFM:** Este método ofereceu uma visão mais detalhada sobre a recência, frequência e valor monetário das compras. Consequentemente, identificamos grupos de clientes desde \"campeões\" e \"leais\" até aqueles que estão \"em risco\" ou \"perdidos\". Essa segmentação é crucial para ações de retenção, engajamento e reativação.\n",
    "\n",
    "3. **Segmentação baseada no produto:** Usando técnicas de clusterização, identificamos padrões de compras combinadas, revelando grupos de produtos frequentemente adquiridos juntos. Esse insight abre portas para estratégias de cross-selling, compreensão do comportamento do cliente e campanhas de marketing personalizadas.\n",
    "\n",
    "Cada uma dessas abordagens de segmentação traz sua própria lente de análise, e juntas elas oferecem uma imagem panorâmica da nossa base de clientes e produtos. A combinação desses insights nos capacita a criar campanhas de marketing mais direcionadas, melhorar o relacionamento com os clientes, otimizar o mix de produtos e, em última análise, impulsionar a rentabilidade do negócio.\n",
    "\n",
    "Finalmente, é fundamental reiterar a necessidade de uma abordagem dinâmica e adaptativa. O comportamento do cliente e as tendências do mercado estão sempre evoluindo, e, como tal, devemos revisitar e refinar regularmente nossos modelos e estratégias de segmentação para nos mantermos alinhados com as mudanças e garantir que continuamos a atender e superar as expectativas dos clientes.\n",
    "\n",
    "As análises estatísticas, especialmente a **ANOVA**, reforçaram que os clusters criados por técnicas como o KMeans possuem comportamentos de compra distintos. Este insight demonstra a relevância de campanhas de marketing personalizadas para cada cluster.\n",
    "\n",
    "Finalmente, sobre **gastos e frequência de compra**, os resultados estatísticos apontaram para diferenças significativas entre os segmentos de clientes. Estas disparidades no gasto total e frequência de compras fornecem uma base sólida para desenvolver estratégias de marketing e vendas altamente direcionadas.\n",
    "\n",
    "Em síntese, os insights extraídos destas análises são fundamentais para qualquer empresa que busca otimizar o engajamento do cliente e maximizar o retorno sobre o investimento. Com uma abordagem adaptativa e baseada em dados, as empresas estão bem posicionadas para refinar continuamente suas estratégias, garantindo crescimento sustentável e fortalecendo o relacionamento com os clientes.\n",
    "\n",
    "---\n",
    "\n",
    "## Fontes de dados\n",
    "\n",
    "Algumas das fontes utilizadas foram:\n",
    "\n",
    "1. https://medium.com/@sonaliknr/understand-data-analysis-process-step-by-step-27ed384c13bb : utilizada para melhorar o processo de EDA completo e entender o processo de analise completa dos dados.\n",
    "\n",
    "2. https://medium.com/@ugursavci/complete-exploratory-data-analysis-using-python-9f685d67d1e4 : entender técnicas passo a passo para EDA e os métodos mais ágeis para tal.\n",
    "\n",
    "3. https://www.kaggle.com/code/vincentvaseghi/e-commerce-data-analysis-customer-segmentation: modelo para segmentação de clientes\n",
    "\n",
    "4. https://towardsdatascience.com/build-your-own-clustering-based-recommendation-engine-in-15-minutes-bdddd591d394: criação de clusters para sistemas de recomendação utilizando machine learning\n",
    "\n",
    "5. https://scikit-learn.org/stable/auto_examples/cluster/plot_kmeans_silhouette_analysis.html: como utilizar o silhouette para clusterização de dados.\n",
    "\n",
    "---\n",
    "\n",
    "## Materiais extras\n",
    "\n",
    "* Link para apresentação em PDF: https://drive.google.com/file/d/19QuWxlO_mjacYCQtK24s-v_l0TzpC9MZ/view?usp=sharing\n",
    "\n",
    "* Link para o Dashboard em Tableau: https://public.tableau.com/views/Livro1_16950828394430/Dashboard?:language=pt-BR&publish=yes&:display_count=n&:origin=viz_share_link"
   ]
  }
 ],
 "metadata": {
  "kernelspec": {
   "display_name": "Python 3",
   "language": "python",
   "name": "python3"
  },
  "language_info": {
   "codemirror_mode": {
    "name": "ipython",
    "version": 3
   },
   "file_extension": ".py",
   "mimetype": "text/x-python",
   "name": "python",
   "nbconvert_exporter": "python",
   "pygments_lexer": "ipython3",
   "version": "3.8.8"
  },
  "toc": {
   "base_numbering": 1,
   "nav_menu": {},
   "number_sections": true,
   "sideBar": true,
   "skip_h1_title": true,
   "title_cell": "Table of Contents",
   "title_sidebar": "Contents",
   "toc_cell": false,
   "toc_position": {
    "height": "calc(100% - 180px)",
    "left": "10px",
    "top": "150px",
    "width": "350px"
   },
   "toc_section_display": true,
   "toc_window_display": true
  }
 },
 "nbformat": 4,
 "nbformat_minor": 2
}
