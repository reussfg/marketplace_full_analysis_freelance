{
 "cells": [
  {
   "cell_type": "markdown",
   "metadata": {},
   "source": [
    "# Análise de Dados de Livros e Avaliações no Contexto do COVID-19 - SQL\n",
    "\n",
    "\n",
    "\n",
    "**Contexto**\n",
    "\n",
    "O advento da pandemia do COVID-19 trouxe mudanças drásticas na rotina das pessoas ao redor do mundo. Devido às restrições impostas para conter a propagação do vírus, muitas pessoas optaram por atividades indoor, dentre as quais a leitura se destacou. Esse aumento no consumo de livros impulsionou o desenvolvimento de novos aplicativos e plataformas voltados para os amantes da leitura.\n",
    "\n",
    "A partir de um banco de dados fornecido por um dos serviços concorrentes no mercado de livros, pretendemos realizar uma análise detalhada dos livros, autores, editoras, classificações e avaliações para extrair insights valiosos que possam contribuir para a proposição de um novo produto.\n",
    "\n",
    "\n",
    "\n",
    "**Objetivos do Estudo**\n",
    "\n",
    "1. **Análise de Publicações**: Determinar o número de livros publicados após 1 de janeiro de 2000. Esse dado ajudará a entender a tendência de publicações no novo milênio, e pode indicar um crescimento ou queda na produção literária.\n",
    "\n",
    "2. **Avaliações dos Livros**: Identificar o número total de avaliações e a classificação média para cada livro. Isso fornecerá uma visão sobre a recepção dos livros pelo público.\n",
    "\n",
    "3. **Editoras em Destaque**: Identificar a editora que publicou o maior número de livros com mais de 50 páginas. Isso ajudará a filtrar as principais editoras, excluindo publicações menores como brochuras e panfletos.\n",
    "\n",
    "4. **Autores mais Bem Avaliados**: Determinar o autor com a média de classificação mais alta, considerando apenas os livros com pelo menos 50 classificações. Isso destacará os autores que são consistentemente bem recebidos pelo público.\n",
    "\n",
    "5. **Engajamento dos Usuários**: Calcular o número médio de avaliações entre usuários que classificaram mais de 50 livros. Isso pode dar insights sobre o engajamento dos usuários mais ativos na plataforma.\n",
    "\n",
    "\n",
    "Ao final desta análise, esperamos obter informações relevantes que possam nortear o desenvolvimento e a estratégia de um novo produto para amantes de livros no atual cenário global.\n",
    "\n",
    "\n",
    "\n",
    "**Tecnologia Empregada**\n",
    "\n",
    "Para este estudo, utilizaremos SQL como ferramenta de consulta e manipulação dos dados, devido à sua eficiência em lidar com grandes conjuntos de dados e capacidade de realizar consultas complexas. Os resultados dessas consultas serão integrados a um Jupyter Notebook através da biblioteca pandas para análise e visualização adicional.\n",
    "\n",
    "\n",
    "\n",
    "**Configuração do Banco de Dados**\n",
    "\n",
    "Para acessar e trabalhar com o banco de dados fornecido, utilizaremos a biblioteca sqlalchemy e estabeleceremos uma conexão segura com o banco de dados utilizando as configurações fornecidas"
   ]
  },
  {
   "cell_type": "markdown",
   "metadata": {},
   "source": [
    "## Importação dos nossos dados e carregamento das bases\n",
    "\n",
    "Iremos carregar as bibliotecas que iremos usar para gerar as análises e gráficos.\n",
    "\n",
    "Iremos explicar cada um dos usos das bibliotecas:\n",
    "\n",
    "* pandas --> análise de dados;\n",
    "* numpy --> geração de gráficos e auxílio ao pandas;\n",
    "* matplotlib.pyplot --> geração de gráficos\n",
    "* sqlalchemy --> conexão com o banco de dados.\n",
    "\n",
    "Após isso iremos abrir nossos dados em diferentes seções e analisar a qualidade das bases e realizar as correções devidas em cada uma das seções como pré-análise de dados e processamento de base."
   ]
  },
  {
   "cell_type": "code",
   "execution_count": 1,
   "metadata": {},
   "outputs": [],
   "source": [
    "# importar bibliotecas\n",
    "import pandas as pd\n",
    "from sqlalchemy import create_engine\n",
    "import numpy as np\n",
    "import matplotlib.pyplot as plt\n",
    "\n",
    "\n",
    "# conectar na base de dados\n",
    "db_config = {'user': 'user', # nome de usuário\n",
    "'pwd': 'iwontgiveyouthepass', # senha\n",
    "'host': 'rc1b-wcoijxj3yxfsf3fs.mdb.yandexcloud.net',\n",
    "'port': 6432, # porta de conexão\n",
    "'db': 'covid_yand_db'} # o nome do banco de dados\n",
    "connection_string = 'postgresql://{}:{}@{}:{}/{}'.format(db_config['user'],\n",
    "db_config['pwd'],\n",
    "db_config['host'],\n",
    "db_config['port'],\n",
    "db_config['db'])\n",
    "engine = create_engine(connection_string, connect_args={'sslmode':'require'})"
   ]
  },
  {
   "cell_type": "markdown",
   "metadata": {},
   "source": [
    "## Estudo das tabelas\n",
    "\n",
    "Iremos chamar as primeiras linhas de cada uma das tabelas para compreender como elas estão organizadas e como iremos trabalhar com elas.\n",
    "\n",
    "Também vai ser importante para compreender os dados e como estão colocados na base de dados para as futuras queries."
   ]
  },
  {
   "cell_type": "markdown",
   "metadata": {},
   "source": [
    "### Tabela books"
   ]
  },
  {
   "cell_type": "code",
   "execution_count": 2,
   "metadata": {},
   "outputs": [
    {
     "name": "stdout",
     "output_type": "stream",
     "text": [
      "Primeiras linhas da tabela books:\n"
     ]
    },
    {
     "data": {
      "text/html": [
       "<div>\n",
       "<style scoped>\n",
       "    .dataframe tbody tr th:only-of-type {\n",
       "        vertical-align: middle;\n",
       "    }\n",
       "\n",
       "    .dataframe tbody tr th {\n",
       "        vertical-align: top;\n",
       "    }\n",
       "\n",
       "    .dataframe thead th {\n",
       "        text-align: right;\n",
       "    }\n",
       "</style>\n",
       "<table border=\"1\" class=\"dataframe\">\n",
       "  <thead>\n",
       "    <tr style=\"text-align: right;\">\n",
       "      <th></th>\n",
       "      <th>book_id</th>\n",
       "      <th>author_id</th>\n",
       "      <th>title</th>\n",
       "      <th>num_pages</th>\n",
       "      <th>publication_date</th>\n",
       "      <th>publisher_id</th>\n",
       "    </tr>\n",
       "  </thead>\n",
       "  <tbody>\n",
       "    <tr>\n",
       "      <th>0</th>\n",
       "      <td>1</td>\n",
       "      <td>546</td>\n",
       "      <td>'Salem's Lot</td>\n",
       "      <td>594</td>\n",
       "      <td>2005-11-01</td>\n",
       "      <td>93</td>\n",
       "    </tr>\n",
       "    <tr>\n",
       "      <th>1</th>\n",
       "      <td>2</td>\n",
       "      <td>465</td>\n",
       "      <td>1 000 Places to See Before You Die</td>\n",
       "      <td>992</td>\n",
       "      <td>2003-05-22</td>\n",
       "      <td>336</td>\n",
       "    </tr>\n",
       "    <tr>\n",
       "      <th>2</th>\n",
       "      <td>3</td>\n",
       "      <td>407</td>\n",
       "      <td>13 Little Blue Envelopes (Little Blue Envelope...</td>\n",
       "      <td>322</td>\n",
       "      <td>2010-12-21</td>\n",
       "      <td>135</td>\n",
       "    </tr>\n",
       "    <tr>\n",
       "      <th>3</th>\n",
       "      <td>4</td>\n",
       "      <td>82</td>\n",
       "      <td>1491: New Revelations of the Americas Before C...</td>\n",
       "      <td>541</td>\n",
       "      <td>2006-10-10</td>\n",
       "      <td>309</td>\n",
       "    </tr>\n",
       "    <tr>\n",
       "      <th>4</th>\n",
       "      <td>5</td>\n",
       "      <td>125</td>\n",
       "      <td>1776</td>\n",
       "      <td>386</td>\n",
       "      <td>2006-07-04</td>\n",
       "      <td>268</td>\n",
       "    </tr>\n",
       "  </tbody>\n",
       "</table>\n",
       "</div>"
      ],
      "text/plain": [
       "   book_id  author_id                                              title  \\\n",
       "0        1        546                                       'Salem's Lot   \n",
       "1        2        465                 1 000 Places to See Before You Die   \n",
       "2        3        407  13 Little Blue Envelopes (Little Blue Envelope...   \n",
       "3        4         82  1491: New Revelations of the Americas Before C...   \n",
       "4        5        125                                               1776   \n",
       "\n",
       "   num_pages publication_date  publisher_id  \n",
       "0        594       2005-11-01            93  \n",
       "1        992       2003-05-22           336  \n",
       "2        322       2010-12-21           135  \n",
       "3        541       2006-10-10           309  \n",
       "4        386       2006-07-04           268  "
      ]
     },
     "execution_count": 2,
     "metadata": {},
     "output_type": "execute_result"
    }
   ],
   "source": [
    "# Tabela books\n",
    "books_query = \"SELECT * FROM books LIMIT 5;\"\n",
    "books_sample = pd.read_sql(books_query, engine)\n",
    "print(\"Primeiras linhas da tabela books:\")\n",
    "books_sample"
   ]
  },
  {
   "cell_type": "markdown",
   "metadata": {},
   "source": [
    "**Visão geral**\n",
    "\n",
    "Para essa tabela podemos ver os seguintes dados:\n",
    "\n",
    "* \t\tbook_id — identificador do livro - string\n",
    "* \t\tauthor_id — identificador do autor - int\n",
    "* \t\ttitle — título - string\n",
    "* \t\tnum_pages — número de páginas - int\n",
    "* \t\tpublication_date — data de publicação - date\n",
    "* \t\tpublisher_id — identificador da editora - int"
   ]
  },
  {
   "cell_type": "markdown",
   "metadata": {},
   "source": [
    "### Tabela authors"
   ]
  },
  {
   "cell_type": "code",
   "execution_count": 3,
   "metadata": {},
   "outputs": [
    {
     "name": "stdout",
     "output_type": "stream",
     "text": [
      "Primeiras linhas da tabela authors:\n"
     ]
    },
    {
     "data": {
      "text/html": [
       "<div>\n",
       "<style scoped>\n",
       "    .dataframe tbody tr th:only-of-type {\n",
       "        vertical-align: middle;\n",
       "    }\n",
       "\n",
       "    .dataframe tbody tr th {\n",
       "        vertical-align: top;\n",
       "    }\n",
       "\n",
       "    .dataframe thead th {\n",
       "        text-align: right;\n",
       "    }\n",
       "</style>\n",
       "<table border=\"1\" class=\"dataframe\">\n",
       "  <thead>\n",
       "    <tr style=\"text-align: right;\">\n",
       "      <th></th>\n",
       "      <th>author_id</th>\n",
       "      <th>author</th>\n",
       "    </tr>\n",
       "  </thead>\n",
       "  <tbody>\n",
       "    <tr>\n",
       "      <th>0</th>\n",
       "      <td>1</td>\n",
       "      <td>A.S. Byatt</td>\n",
       "    </tr>\n",
       "    <tr>\n",
       "      <th>1</th>\n",
       "      <td>2</td>\n",
       "      <td>Aesop/Laura Harris/Laura Gibbs</td>\n",
       "    </tr>\n",
       "    <tr>\n",
       "      <th>2</th>\n",
       "      <td>3</td>\n",
       "      <td>Agatha Christie</td>\n",
       "    </tr>\n",
       "    <tr>\n",
       "      <th>3</th>\n",
       "      <td>4</td>\n",
       "      <td>Alan Brennert</td>\n",
       "    </tr>\n",
       "    <tr>\n",
       "      <th>4</th>\n",
       "      <td>5</td>\n",
       "      <td>Alan Moore/David   Lloyd</td>\n",
       "    </tr>\n",
       "  </tbody>\n",
       "</table>\n",
       "</div>"
      ],
      "text/plain": [
       "   author_id                          author\n",
       "0          1                      A.S. Byatt\n",
       "1          2  Aesop/Laura Harris/Laura Gibbs\n",
       "2          3                 Agatha Christie\n",
       "3          4                   Alan Brennert\n",
       "4          5        Alan Moore/David   Lloyd"
      ]
     },
     "execution_count": 3,
     "metadata": {},
     "output_type": "execute_result"
    }
   ],
   "source": [
    "# Tabela authors\n",
    "authors_query = \"SELECT * FROM authors LIMIT 5;\"\n",
    "authors_sample = pd.read_sql(authors_query, engine)\n",
    "print(\"Primeiras linhas da tabela authors:\")\n",
    "authors_sample"
   ]
  },
  {
   "cell_type": "markdown",
   "metadata": {},
   "source": [
    "**Visão geral**\n",
    "\n",
    "Para essa tabela podemos ver os seguintes dados:\n",
    "\n",
    "* \t\tauthor_id — identificador do autor - int\n",
    "* \t\tauthor — autor - string"
   ]
  },
  {
   "cell_type": "markdown",
   "metadata": {},
   "source": [
    "### Tabela publishers"
   ]
  },
  {
   "cell_type": "code",
   "execution_count": 4,
   "metadata": {},
   "outputs": [
    {
     "name": "stdout",
     "output_type": "stream",
     "text": [
      "Primeiras linhas da tabela publishers:\n"
     ]
    },
    {
     "data": {
      "text/html": [
       "<div>\n",
       "<style scoped>\n",
       "    .dataframe tbody tr th:only-of-type {\n",
       "        vertical-align: middle;\n",
       "    }\n",
       "\n",
       "    .dataframe tbody tr th {\n",
       "        vertical-align: top;\n",
       "    }\n",
       "\n",
       "    .dataframe thead th {\n",
       "        text-align: right;\n",
       "    }\n",
       "</style>\n",
       "<table border=\"1\" class=\"dataframe\">\n",
       "  <thead>\n",
       "    <tr style=\"text-align: right;\">\n",
       "      <th></th>\n",
       "      <th>publisher_id</th>\n",
       "      <th>publisher</th>\n",
       "    </tr>\n",
       "  </thead>\n",
       "  <tbody>\n",
       "    <tr>\n",
       "      <th>0</th>\n",
       "      <td>1</td>\n",
       "      <td>Ace</td>\n",
       "    </tr>\n",
       "    <tr>\n",
       "      <th>1</th>\n",
       "      <td>2</td>\n",
       "      <td>Ace Book</td>\n",
       "    </tr>\n",
       "    <tr>\n",
       "      <th>2</th>\n",
       "      <td>3</td>\n",
       "      <td>Ace Books</td>\n",
       "    </tr>\n",
       "    <tr>\n",
       "      <th>3</th>\n",
       "      <td>4</td>\n",
       "      <td>Ace Hardcover</td>\n",
       "    </tr>\n",
       "    <tr>\n",
       "      <th>4</th>\n",
       "      <td>5</td>\n",
       "      <td>Addison Wesley Publishing Company</td>\n",
       "    </tr>\n",
       "  </tbody>\n",
       "</table>\n",
       "</div>"
      ],
      "text/plain": [
       "   publisher_id                          publisher\n",
       "0             1                                Ace\n",
       "1             2                           Ace Book\n",
       "2             3                          Ace Books\n",
       "3             4                      Ace Hardcover\n",
       "4             5  Addison Wesley Publishing Company"
      ]
     },
     "execution_count": 4,
     "metadata": {},
     "output_type": "execute_result"
    }
   ],
   "source": [
    "# Tabela publishers\n",
    "publishers_query = \"SELECT * FROM publishers LIMIT 5;\"\n",
    "publishers_sample = pd.read_sql(publishers_query, engine)\n",
    "print(\"Primeiras linhas da tabela publishers:\")\n",
    "publishers_sample"
   ]
  },
  {
   "cell_type": "markdown",
   "metadata": {},
   "source": [
    "**Visão geral**\n",
    "\n",
    "Para essa tabela podemos ver os seguintes dados:\n",
    "\n",
    "* \t\tpublisher_id — identificador da editora - int\n",
    "* \t\tpublisher — editora - string"
   ]
  },
  {
   "cell_type": "markdown",
   "metadata": {},
   "source": [
    "### Tabela ratings"
   ]
  },
  {
   "cell_type": "code",
   "execution_count": 5,
   "metadata": {},
   "outputs": [
    {
     "name": "stdout",
     "output_type": "stream",
     "text": [
      "Primeiras linhas da tabela ratings:\n"
     ]
    },
    {
     "data": {
      "text/html": [
       "<div>\n",
       "<style scoped>\n",
       "    .dataframe tbody tr th:only-of-type {\n",
       "        vertical-align: middle;\n",
       "    }\n",
       "\n",
       "    .dataframe tbody tr th {\n",
       "        vertical-align: top;\n",
       "    }\n",
       "\n",
       "    .dataframe thead th {\n",
       "        text-align: right;\n",
       "    }\n",
       "</style>\n",
       "<table border=\"1\" class=\"dataframe\">\n",
       "  <thead>\n",
       "    <tr style=\"text-align: right;\">\n",
       "      <th></th>\n",
       "      <th>rating_id</th>\n",
       "      <th>book_id</th>\n",
       "      <th>username</th>\n",
       "      <th>rating</th>\n",
       "    </tr>\n",
       "  </thead>\n",
       "  <tbody>\n",
       "    <tr>\n",
       "      <th>0</th>\n",
       "      <td>1</td>\n",
       "      <td>1</td>\n",
       "      <td>ryanfranco</td>\n",
       "      <td>4</td>\n",
       "    </tr>\n",
       "    <tr>\n",
       "      <th>1</th>\n",
       "      <td>2</td>\n",
       "      <td>1</td>\n",
       "      <td>grantpatricia</td>\n",
       "      <td>2</td>\n",
       "    </tr>\n",
       "    <tr>\n",
       "      <th>2</th>\n",
       "      <td>3</td>\n",
       "      <td>1</td>\n",
       "      <td>brandtandrea</td>\n",
       "      <td>5</td>\n",
       "    </tr>\n",
       "    <tr>\n",
       "      <th>3</th>\n",
       "      <td>4</td>\n",
       "      <td>2</td>\n",
       "      <td>lorichen</td>\n",
       "      <td>3</td>\n",
       "    </tr>\n",
       "    <tr>\n",
       "      <th>4</th>\n",
       "      <td>5</td>\n",
       "      <td>2</td>\n",
       "      <td>mariokeller</td>\n",
       "      <td>2</td>\n",
       "    </tr>\n",
       "  </tbody>\n",
       "</table>\n",
       "</div>"
      ],
      "text/plain": [
       "   rating_id  book_id       username  rating\n",
       "0          1        1     ryanfranco       4\n",
       "1          2        1  grantpatricia       2\n",
       "2          3        1   brandtandrea       5\n",
       "3          4        2       lorichen       3\n",
       "4          5        2    mariokeller       2"
      ]
     },
     "execution_count": 5,
     "metadata": {},
     "output_type": "execute_result"
    }
   ],
   "source": [
    "# Tabela ratings\n",
    "ratings_query = \"SELECT * FROM ratings LIMIT 5;\"\n",
    "ratings_sample = pd.read_sql(ratings_query, engine)\n",
    "print(\"Primeiras linhas da tabela ratings:\")\n",
    "ratings_sample"
   ]
  },
  {
   "cell_type": "markdown",
   "metadata": {},
   "source": [
    "**Visão geral**\n",
    "\n",
    "Para essa tabela podemos ver os seguintes dados:\n",
    "\n",
    "* \t\trating_id — identificador da classificação - int\n",
    "* \t\tbook_id — identificador do livro - int\n",
    "* \t\tusername — o nome do usuário que avaliou o livro - string\n",
    "* \t\trating — classificação - int\n",
    "\n",
    "O rating vai de 0 - 5."
   ]
  },
  {
   "cell_type": "markdown",
   "metadata": {},
   "source": [
    "### Tabela reviews"
   ]
  },
  {
   "cell_type": "code",
   "execution_count": 6,
   "metadata": {},
   "outputs": [
    {
     "name": "stdout",
     "output_type": "stream",
     "text": [
      "Primeiras linhas da tabela reviews:\n"
     ]
    },
    {
     "data": {
      "text/html": [
       "<div>\n",
       "<style scoped>\n",
       "    .dataframe tbody tr th:only-of-type {\n",
       "        vertical-align: middle;\n",
       "    }\n",
       "\n",
       "    .dataframe tbody tr th {\n",
       "        vertical-align: top;\n",
       "    }\n",
       "\n",
       "    .dataframe thead th {\n",
       "        text-align: right;\n",
       "    }\n",
       "</style>\n",
       "<table border=\"1\" class=\"dataframe\">\n",
       "  <thead>\n",
       "    <tr style=\"text-align: right;\">\n",
       "      <th></th>\n",
       "      <th>review_id</th>\n",
       "      <th>book_id</th>\n",
       "      <th>username</th>\n",
       "      <th>text</th>\n",
       "    </tr>\n",
       "  </thead>\n",
       "  <tbody>\n",
       "    <tr>\n",
       "      <th>0</th>\n",
       "      <td>1</td>\n",
       "      <td>1</td>\n",
       "      <td>brandtandrea</td>\n",
       "      <td>Mention society tell send professor analysis. ...</td>\n",
       "    </tr>\n",
       "    <tr>\n",
       "      <th>1</th>\n",
       "      <td>2</td>\n",
       "      <td>1</td>\n",
       "      <td>ryanfranco</td>\n",
       "      <td>Foot glass pretty audience hit themselves. Amo...</td>\n",
       "    </tr>\n",
       "    <tr>\n",
       "      <th>2</th>\n",
       "      <td>3</td>\n",
       "      <td>2</td>\n",
       "      <td>lorichen</td>\n",
       "      <td>Listen treat keep worry. Miss husband tax but ...</td>\n",
       "    </tr>\n",
       "    <tr>\n",
       "      <th>3</th>\n",
       "      <td>4</td>\n",
       "      <td>3</td>\n",
       "      <td>johnsonamanda</td>\n",
       "      <td>Finally month interesting blue could nature cu...</td>\n",
       "    </tr>\n",
       "    <tr>\n",
       "      <th>4</th>\n",
       "      <td>5</td>\n",
       "      <td>3</td>\n",
       "      <td>scotttamara</td>\n",
       "      <td>Nation purpose heavy give wait song will. List...</td>\n",
       "    </tr>\n",
       "  </tbody>\n",
       "</table>\n",
       "</div>"
      ],
      "text/plain": [
       "   review_id  book_id       username  \\\n",
       "0          1        1   brandtandrea   \n",
       "1          2        1     ryanfranco   \n",
       "2          3        2       lorichen   \n",
       "3          4        3  johnsonamanda   \n",
       "4          5        3    scotttamara   \n",
       "\n",
       "                                                text  \n",
       "0  Mention society tell send professor analysis. ...  \n",
       "1  Foot glass pretty audience hit themselves. Amo...  \n",
       "2  Listen treat keep worry. Miss husband tax but ...  \n",
       "3  Finally month interesting blue could nature cu...  \n",
       "4  Nation purpose heavy give wait song will. List...  "
      ]
     },
     "execution_count": 6,
     "metadata": {},
     "output_type": "execute_result"
    }
   ],
   "source": [
    "# Tabela reviews\n",
    "reviews_query = \"SELECT * FROM reviews LIMIT 5;\"\n",
    "reviews_sample = pd.read_sql(reviews_query, engine)\n",
    "print(\"Primeiras linhas da tabela reviews:\")\n",
    "reviews_sample"
   ]
  },
  {
   "cell_type": "markdown",
   "metadata": {},
   "source": [
    "**Visão geral**\n",
    "\n",
    "Para essa tabela podemos ver os seguintes dados:\n",
    "\n",
    "* \t\treview_id — identificador da revisão - int\n",
    "* \t\tbook_id — identificador do livro - int\n",
    "* \t\tusername — o nome do usuário que revisou o livro - string\n",
    "* \t\ttext — o texto da revisão - string"
   ]
  },
  {
   "attachments": {
    "moved_Untitled_-_2020-07-02T142019.920_1593688954.png": {
     "image/png": "[encoded data removed]"
    }
   },
   "cell_type": "markdown",
   "metadata": {},
   "source": [
    "### Conclusão\n",
    "\n",
    "Como esquema geral podemos ter um resumo com um Diagrama dos dados por:\n",
    "\n",
    "![moved_Untitled_-_2020-07-02T142019.920_1593688954.png](attachment:moved_Untitled_-_2020-07-02T142019.920_1593688954.png)"
   ]
  },
  {
   "cell_type": "markdown",
   "metadata": {},
   "source": [
    "<div class=\"alert alert-success\">\n",
    "<strong>Comentário do revisor v1</strong>\n",
    "\n",
    "Excelente trabalho checando a consistência dos dados.\n",
    "\n",
    "Sempre importante para garantir uma análise robusta!\n",
    "</div>"
   ]
  },
  {
   "cell_type": "markdown",
   "metadata": {},
   "source": [
    "## Consultas SQL de tarefas\n",
    "\n",
    "Agora que já entendemos nossos dados e como estão dispostos, iremos começar a realizar as analises necessárias.\n",
    "\n",
    "As analises serão separadas em seções. O que iremos estudar é:\n",
    "\n",
    "* Encontraremos o número de livros lançados depois de 1 de janeiro de 2000.\n",
    "* Determinaremos o número de avaliações e a classificação média para cada livro.\n",
    "* Identificaremos a editora que lançou o maior número de livros com mais de 50 páginas (isso nos ajudará a excluir brochuras e publicações similares da nossa análise).\n",
    "* Identificaremos o autor com a média de classificação mais alta para livros: consideremos apenas os livros com pelo menos 50 classificações.\n",
    "* Descubramos o número médio de avaliações entre usuários que classificaram mais do que 50 livros."
   ]
  },
  {
   "cell_type": "markdown",
   "metadata": {},
   "source": [
    "### Número de livros lançados depois de 1 de janeiro de 2000.\n",
    "\n",
    "Iremos utilizar a base de dados de Books para gerar os resultados."
   ]
  },
  {
   "cell_type": "code",
   "execution_count": 7,
   "metadata": {},
   "outputs": [
    {
     "name": "stdout",
     "output_type": "stream",
     "text": [
      "   total_books_after_2000\n",
      "0                     819\n"
     ]
    }
   ],
   "source": [
    "# criando a query\n",
    "query = \"\"\"\n",
    "SELECT COUNT(DISTINCT book_id) AS total_books_after_2000 \n",
    "FROM books \n",
    "WHERE publication_date > '2000-01-01';\n",
    "\"\"\"\n",
    "\n",
    "# executando a query\n",
    "result_1 = pd.read_sql(query, engine)\n",
    "print(result_1)"
   ]
  },
  {
   "cell_type": "markdown",
   "metadata": {},
   "source": [
    "**Resultado**\n",
    "\n",
    "O número total de livros lançados após o começo de 2000 é de 819 livros."
   ]
  },
  {
   "cell_type": "markdown",
   "metadata": {},
   "source": [
    "<div class=\"alert alert-danger\">\n",
    "<strong>Comentário do revisor v1</strong>\n",
    "\n",
    "Importante utilizar o count distinct para gerar ma análise robusta de duplicados.\n",
    "</div>"
   ]
  },
  {
   "cell_type": "markdown",
   "metadata": {},
   "source": [
    "<div class=\"alert alert-info\">\n",
    "<strong>Olá Rafael. Tudo bem? Muito bem colocado, vou alterar o código para utilizar o count distinct</strong>"
   ]
  },
  {
   "cell_type": "markdown",
   "metadata": {},
   "source": [
    "\n",
    "\n",
    "<div class=\"alert alert-success\">\n",
    "<strong>Comentário do revisor v2</strong>\n",
    "\n",
    "Perfeito\n",
    "</div>\n"
   ]
  },
  {
   "cell_type": "markdown",
   "metadata": {},
   "source": [
    "### Número de avaliações e a classificação média para cada livro.\n",
    "\n",
    "Iremos utilizar a base de dados ratings."
   ]
  },
  {
   "cell_type": "code",
   "execution_count": 8,
   "metadata": {},
   "outputs": [
    {
     "name": "stdout",
     "output_type": "stream",
     "text": [
      "     book_id  number_of_ratings  average_rating\n",
      "0          1                  3        3.666667\n",
      "1          2                  2        2.500000\n",
      "2          3                  3        4.666667\n",
      "3          4                  2        4.500000\n",
      "4          5                  6        4.000000\n",
      "..       ...                ...             ...\n",
      "995      996                  3        3.666667\n",
      "996      997                  5        3.400000\n",
      "997      998                  5        3.200000\n",
      "998      999                  2        4.500000\n",
      "999     1000                  6        3.833333\n",
      "\n",
      "[1000 rows x 3 columns]\n"
     ]
    }
   ],
   "source": [
    "# criando a query\n",
    "query = \"\"\"\n",
    "SELECT book_id, COUNT(DISTINCT rating_id) AS number_of_ratings, AVG(rating) AS average_rating \n",
    "FROM ratings \n",
    "WHERE book_id IN (SELECT DISTINCT book_id FROM books)\n",
    "GROUP BY book_id;\n",
    "\"\"\"\n",
    "\n",
    "# executando a query\n",
    "result_2 = pd.read_sql(query, engine)\n",
    "print(result_2)"
   ]
  },
  {
   "cell_type": "markdown",
   "metadata": {},
   "source": [
    "**Resultados**\n",
    "\n",
    "Geramos uma tabela em que temos os dados gerais para cada livro e o número de avaliações. Dessa maneira podemos retirar para cada livro os dados médios.\n",
    "\n",
    "Por via de analise, iremos calcular, ainda, a média geral de rating e número médio de avaliação levando em considerações todos os livros."
   ]
  },
  {
   "cell_type": "code",
   "execution_count": 9,
   "metadata": {},
   "outputs": [
    {
     "name": "stdout",
     "output_type": "stream",
     "text": [
      "Média geral de avaliações por livro: 6.46\n",
      "Média geral da nota de avaliação: 3.90\n"
     ]
    }
   ],
   "source": [
    "# média de avaliações geral\n",
    "average_ratings = result_2['number_of_ratings'].mean()\n",
    "print(f\"Média geral de avaliações por livro: {average_ratings:.2f}\")\n",
    "\n",
    "# média de nota geral\n",
    "average_rating_score = result_2['average_rating'].mean()\n",
    "print(f\"Média geral da nota de avaliação: {average_rating_score:.2f}\")"
   ]
  },
  {
   "cell_type": "markdown",
   "metadata": {},
   "source": [
    "**Resultado**\n",
    "\n",
    "Assim podemos ver que a média geral de avaliações é de 6 e de nota é de 3,9, aproximadamente."
   ]
  },
  {
   "cell_type": "markdown",
   "metadata": {},
   "source": [
    "<div class=\"alert alert-danger\">\n",
    "<strong>Comentário do revisor v1</strong>\n",
    "\n",
    "Excelente trabalho checando a média.\n",
    "\n",
    "No caso da contagem é importante mais uma vez considerar apenas os casos distintos.\n",
    "</div>"
   ]
  },
  {
   "cell_type": "markdown",
   "metadata": {},
   "source": [
    "<div class=\"alert alert-info\">\n",
    "<strong>Combinado Rafael. Ajeitei nosso código com as correções.</strong>"
   ]
  },
  {
   "cell_type": "markdown",
   "metadata": {},
   "source": [
    "\n",
    "\n",
    "<div class=\"alert alert-success\">\n",
    "<strong>Comentário do revisor v2</strong>\n",
    "\n",
    "Muito bom!\n",
    "</div>\n"
   ]
  },
  {
   "cell_type": "markdown",
   "metadata": {},
   "source": [
    "### Editoras que lançaram o maior número de livros com mais de 50 páginas.\n",
    "\n",
    "Isso irá evitar que evitemos brochuras e publicações parecidas.\n",
    "\n",
    "Iremos utilizar a base books."
   ]
  },
  {
   "cell_type": "code",
   "execution_count": 10,
   "metadata": {},
   "outputs": [
    {
     "name": "stdout",
     "output_type": "stream",
     "text": [
      "   publisher_id  number_of_books\n",
      "0           212               42\n"
     ]
    }
   ],
   "source": [
    "# Gerando a query\n",
    "query = \"\"\"\n",
    "SELECT publisher_id, COUNT(book_id) AS number_of_books \n",
    "FROM books \n",
    "WHERE num_pages > 50 \n",
    "GROUP BY publisher_id \n",
    "ORDER BY number_of_books DESC \n",
    "LIMIT 1;\n",
    "\"\"\"\n",
    "\n",
    "# Executando a query\n",
    "result_3 = pd.read_sql(query, engine)\n",
    "print(result_3)"
   ]
  },
  {
   "cell_type": "markdown",
   "metadata": {},
   "source": [
    "Iremos encontrar o nome da publisher_id com número 212 para melhor esclarecimento."
   ]
  },
  {
   "cell_type": "code",
   "execution_count": 11,
   "metadata": {},
   "outputs": [
    {
     "name": "stdout",
     "output_type": "stream",
     "text": [
      "   publisher_id      publisher\n",
      "0           212  Penguin Books\n"
     ]
    }
   ],
   "source": [
    "# criando a query\n",
    "query_publisher_212 = \"\"\"\n",
    "SELECT * \n",
    "FROM publishers \n",
    "WHERE publisher_id = 212;\n",
    "\"\"\"\n",
    "\n",
    "# executando a query\n",
    "result_publisher_212 = pd.read_sql(query_publisher_212, engine)\n",
    "print(result_publisher_212)"
   ]
  },
  {
   "cell_type": "markdown",
   "metadata": {},
   "source": [
    "**Resultado**\n",
    "\n",
    "Logo a editora com o maior número de livros com mais de 50 páginas é a Penguin Books."
   ]
  },
  {
   "cell_type": "markdown",
   "metadata": {},
   "source": [
    "<div class=\"alert alert-success\">\n",
    "<strong>Comentário do revisor v1</strong>\n",
    "\n",
    "Excelente trabalho!\n",
    "</div>"
   ]
  },
  {
   "cell_type": "markdown",
   "metadata": {},
   "source": [
    "### Autor com a média mais alta classificação de livros: olhando apenas para livros com pelo menos 50 classificações.\n",
    "\n",
    "Para identificar o autor com a classificação média mais alta para seus livros, utilizamos as bases `books`, `ratings` e `authors`. Com uma combinação de técnicas de junção e subconsulta, filtramos os livros com pelo menos 50 avaliações, calculamos a média de avaliação para cada autor e, finalmente, ordenamos os autores por sua classificação média para identificar o autor de melhor desempenho."
   ]
  },
  {
   "cell_type": "code",
   "execution_count": 12,
   "metadata": {},
   "outputs": [
    {
     "name": "stdout",
     "output_type": "stream",
     "text": [
      "   author_id                      author  avg_rating\n",
      "0        236  J.K. Rowling/Mary GrandPré    4.283844\n"
     ]
    }
   ],
   "source": [
    "# Criando a query\n",
    "query = \"\"\"\n",
    "WITH BooksWithRatings AS (\n",
    "    SELECT \n",
    "        book_id, \n",
    "        AVG(rating) AS average_rating, \n",
    "        COUNT(rating_id) AS total_ratings\n",
    "    FROM ratings\n",
    "    GROUP BY book_id\n",
    "    HAVING COUNT(rating_id) >= 50\n",
    ")\n",
    "\n",
    "SELECT \n",
    "    b.author_id, \n",
    "    a.author, \n",
    "    AVG(br.average_rating) AS avg_rating\n",
    "FROM books b\n",
    "JOIN BooksWithRatings br ON b.book_id = br.book_id\n",
    "JOIN authors a ON b.author_id = a.author_id\n",
    "GROUP BY b.author_id, a.author\n",
    "ORDER BY avg_rating DESC \n",
    "LIMIT 1;\n",
    "\"\"\"\n",
    "\n",
    "# Executando a query\n",
    "result_4 = pd.read_sql(query, engine)\n",
    "print(result_4)"
   ]
  },
  {
   "cell_type": "markdown",
   "metadata": {},
   "source": [
    "**Resultado**\n",
    "\n",
    "Podemos perceber então que a autora J.K. Rowling/Mary GrandPré é quem tem maior rating entre os livros com 50 classificações ou mais, se mostrando mais confiável.\n",
    "\n",
    "Seu rating é de 4,3 aproximadamente."
   ]
  },
  {
   "cell_type": "markdown",
   "metadata": {},
   "source": [
    "<div class=\"alert alert-success\">\n",
    "<strong>Comentário do revisor v1</strong>\n",
    "\n",
    "Perfeito\n",
    "</div>\n"
   ]
  },
  {
   "cell_type": "markdown",
   "metadata": {},
   "source": [
    "### Encontrando o número médio de avaliações entre usuários que classificaram mais do que 50 livros.\n",
    "\n",
    "\n",
    "**Resumindo:** \n",
    "\n",
    "Para encontrar o número médio de avaliações entre os usuários que avaliaram mais de 50 livros, utilizamos a base `ratings`. Utilizando uma técnica de subconsulta, filtramos os usuários que realizaram mais de 50 avaliações. Com os resultados dessa filtragem, calculamos a média de avaliações realizadas por esses usuários selecionados."
   ]
  },
  {
   "cell_type": "code",
   "execution_count": 15,
   "metadata": {},
   "outputs": [
    {
     "name": "stdout",
     "output_type": "stream",
     "text": [
      "         username  average_reviews_per_user\n",
      "0  jennifermiller                      25.0\n",
      "1      martinadam                      27.0\n",
      "2          paul88                      22.0\n",
      "3       richard89                      26.0\n",
      "4     sfitzgerald                      28.0\n",
      "5          xdavis                      18.0\n"
     ]
    }
   ],
   "source": [
    "# criando a query\n",
    "query = \"\"\"\n",
    "WITH UserWithMoreThan50Ratings AS (\n",
    "    SELECT \n",
    "        username\n",
    "    FROM ratings\n",
    "    GROUP BY username\n",
    "    HAVING COUNT(DISTINCT book_id) > 50\n",
    ")\n",
    "\n",
    "SELECT \n",
    "    r.username, \n",
    "    AVG(r.num_reviews) AS average_reviews_per_user\n",
    "FROM (\n",
    "    SELECT \n",
    "        rev.username, \n",
    "        COUNT(DISTINCT rev.review_id) AS num_reviews\n",
    "    FROM reviews rev\n",
    "    WHERE rev.username IN (SELECT username FROM UserWithMoreThan50Ratings)\n",
    "    GROUP BY rev.username\n",
    ") r\n",
    "GROUP BY r.username;\n",
    "\"\"\"\n",
    "\n",
    "# executando a query\n",
    "result_5 = pd.read_sql(query, engine)\n",
    "print(result_5)"
   ]
  },
  {
   "cell_type": "markdown",
   "metadata": {},
   "source": [
    "**Resultado**\n",
    "\n",
    "Podemos ver que há 5 usuários que avaliaram mais de 50 livros. Além disso e com base na análise dos dados, podemos concluir que os usuários jennifermiller, martinadam, sfitzgerald, richard89, paul88 e xdavis são os principais revisores, com médias de avaliações por usuário variando de 18 a 28. Esses usuários demonstram um alto nível de engajamento e contribuição para o sistema de revisão de livros. Essas informações podem ser valiosas para estratégias de engajamento de usuários e aprimoramento da plataforma."
   ]
  },
  {
   "cell_type": "markdown",
   "metadata": {},
   "source": [
    "#### Média de resenhas gerais dos usuários com mais de 50 avaliações"
   ]
  },
  {
   "cell_type": "code",
   "execution_count": 16,
   "metadata": {},
   "outputs": [
    {
     "data": {
      "text/plain": [
       "24.333333333333332"
      ]
     },
     "execution_count": 16,
     "metadata": {},
     "output_type": "execute_result"
    }
   ],
   "source": [
    "# calculando a média de resenhas gerais com Pandas\n",
    "result_5['average_reviews_per_user'].mean()"
   ]
  },
  {
   "cell_type": "code",
   "execution_count": 17,
   "metadata": {},
   "outputs": [
    {
     "name": "stdout",
     "output_type": "stream",
     "text": [
      "   average_reviews_overall\n",
      "0                24.333333\n"
     ]
    }
   ],
   "source": [
    "# calculando a média de resenhas gerais com SQL\n",
    "query = \"\"\"\n",
    "WITH UserWithMoreThan50Ratings AS (\n",
    "    SELECT \n",
    "        username\n",
    "    FROM ratings\n",
    "    GROUP BY username\n",
    "    HAVING COUNT(DISTINCT book_id) > 50\n",
    ")\n",
    "\n",
    "SELECT \n",
    "    AVG(r.num_reviews) AS average_reviews_overall\n",
    "FROM (\n",
    "    SELECT \n",
    "        rev.username, \n",
    "        COUNT(DISTINCT rev.review_id) AS num_reviews\n",
    "    FROM reviews rev\n",
    "    WHERE rev.username IN (SELECT username FROM UserWithMoreThan50Ratings)\n",
    "    GROUP BY rev.username\n",
    ") r;\n",
    "\"\"\"\n",
    "\n",
    "# executando a query\n",
    "result = pd.read_sql(query, engine)\n",
    "print(result)"
   ]
  },
  {
   "cell_type": "markdown",
   "metadata": {},
   "source": [
    "**Resultado**\n",
    "\n",
    "Podemos observar que a média de resenhas escritas por usuários com mais de 50 avaliações é de 24,3. Isso quer dizer que, aproximadamente, metade das avaliações eles escrevem uma resenha."
   ]
  },
  {
   "cell_type": "markdown",
   "metadata": {},
   "source": [
    "#### Nota média dos usuários com mais de 50 avaliações"
   ]
  },
  {
   "cell_type": "code",
   "execution_count": 44,
   "metadata": {},
   "outputs": [
    {
     "name": "stdout",
     "output_type": "stream",
     "text": [
      "         username  avg_rating_per_user\n",
      "0     sfitzgerald             3.836364\n",
      "1  jennifermiller             3.830189\n",
      "2          xdavis             3.901961\n",
      "3          paul88             3.910714\n",
      "4      martinadam             3.785714\n"
     ]
    }
   ],
   "source": [
    "# criando a query\n",
    "query = \"\"\"\n",
    "WITH UserWithMoreThan50Ratings AS (\n",
    "    SELECT \n",
    "        username\n",
    "    FROM ratings\n",
    "    GROUP BY username\n",
    "    HAVING COUNT(rating_id) > 50\n",
    ")\n",
    "\n",
    "SELECT \n",
    "    username,\n",
    "    AVG(rating) AS avg_rating_per_user\n",
    "FROM ratings\n",
    "WHERE username IN (SELECT username FROM UserWithMoreThan50Ratings)\n",
    "GROUP BY username;\n",
    "\"\"\"\n",
    "\n",
    "# executando a query\n",
    "user_avg_ratings = pd.read_sql(query, engine)\n",
    "print(user_avg_ratings.head())  # imprimindo as primeiras linhas para verificar"
   ]
  },
  {
   "cell_type": "code",
   "execution_count": 45,
   "metadata": {},
   "outputs": [
    {
     "name": "stdout",
     "output_type": "stream",
     "text": [
      "Média global de avaliações dos usuários com mais de 50 avaliações: 3.82\n"
     ]
    }
   ],
   "source": [
    "# Média global das notas para usuários com mais de 50 avaliações\n",
    "global_avg_rating = user_avg_ratings['avg_rating_per_user'].mean()\n",
    "print(f\"Média global de avaliações dos usuários com mais de 50 avaliações: {global_avg_rating:.2f}\")"
   ]
  },
  {
   "cell_type": "markdown",
   "metadata": {},
   "source": [
    "**Resultado**\n",
    "\n",
    "Como resultado tiramos que a média das avaliações dos usuários com mais de 50 avaliações feitas é de 3,82. Ou seja, é a nota média dada."
   ]
  },
  {
   "cell_type": "markdown",
   "metadata": {},
   "source": [
    "#### Média de avaliação geral de usuários"
   ]
  },
  {
   "cell_type": "code",
   "execution_count": 47,
   "metadata": {},
   "outputs": [
    {
     "name": "stdout",
     "output_type": "stream",
     "text": [
      "   average_reviews_per_user\n",
      "0                  17.45625\n"
     ]
    }
   ],
   "source": [
    "# criando a query\n",
    "query = \"\"\"\n",
    "WITH UserReviews AS (\n",
    "    SELECT \n",
    "        username, \n",
    "        COUNT(DISTINCT review_id) AS total_reviews\n",
    "    FROM reviews\n",
    "    GROUP BY username\n",
    ")\n",
    "\n",
    "SELECT AVG(total_reviews) AS average_reviews_per_user \n",
    "FROM UserReviews;\n",
    "\"\"\"\n",
    "\n",
    "# executando a query\n",
    "result_6 = pd.read_sql(query, engine)\n",
    "print(result_6)"
   ]
  },
  {
   "cell_type": "markdown",
   "metadata": {},
   "source": [
    "**Resultado**\n",
    "\n",
    "Assim, podemos ver que o valor médio geral de reviews é de 17 aproximadamente.\n",
    "\n",
    "Ou seja, em geral, cada usuários faz 17 reviews."
   ]
  },
  {
   "cell_type": "markdown",
   "metadata": {},
   "source": [
    "<div class=\"alert alert-danger\">\n",
    "<strong>Comentário do revisor v1</strong>\n",
    "\n",
    "Temos um problema aqui!\n",
    "\n",
    "A sua seleção dos usernames está perfeita, mas a média deve ser construída com base nas avaliações (a tabela review), e não nas classificações (tabela rating).\n",
    "\n",
    "A ideia aqui é selecionar apenas **usuários que classificaram pelo menos 50 obras (exatamente como você tinha feito, com base na tabela ratings) e depois calcular a média das resenhas desses usuários apenas(agora sim com base na tabela reviews).**\n",
    "\n",
    "Desse modo precisamos de um pequeno ajuste aqui (e concordo contigo que o enunciado não está 100% claro, desculpa por isso.)\n",
    "\n",
    "</div>"
   ]
  },
  {
   "cell_type": "markdown",
   "metadata": {},
   "source": [
    "<div class=\"alert alert-info\">\n",
    "<strong>Olá, Rafael. Acredito que agora tenha entendido o seu ponto. O que eu fiz foi:\n",
    "    \n",
    "   Selecionei os usuários que classificaram pelo menos 50 livros usando a tabela ratings. Em seguida, calculei a média das avaliações (resenhas) para esses usuários usando a tabela reviews. \n",
    "    \n",
    "    Essas duas consultas irão:\n",
    "\n",
    "1. Selecionar usuários que classificaram mais de 50 livros.\n",
    "2. Calcular a média das resenhas para esses usuários usando a tabela reviews.\n",
    "3. Entender outros pontos acerca da analise\n",
    "    \n",
    "    </strong>"
   ]
  },
  {
   "cell_type": "markdown",
   "metadata": {},
   "source": [
    "<div class=\"alert alert-danger\">\n",
    "<strong>Comentário do revisor</strong>\n",
    "\n",
    "Quase isso!\n",
    "    \n",
    "Aqui precisamos usar duas tabelas: `ratings` e `reviews`.\n",
    "    \n",
    "Primeiro precisamos identificar os usuários que classificaram mais de 50 livros, usando a tabela `ratings`.\n",
    "    \n",
    "Depois, **a partir desses usuários**, precisamos contar o número médio de avaliações, usando a tabela `reviews`. Ou seja, devemos refazer essa última query considerando apenas os usuários filtrados na anterior.\n",
    "    \n",
    "Com essa dica, acredito que seja possível para você escrever uma _query_ que irá atender perfeitamente à solicitação do projeto.\n",
    "\n",
    "</div>"
   ]
  },
  {
   "cell_type": "markdown",
   "metadata": {},
   "source": [
    "<div class=\"alert alert-info\">\n",
    "<strong>Opa Rafael. Acredito que agora entendi o ponto. Era coletar os usuários com mais de 50 avaliações e depois calcular o número médio de revisões que eles fizeram de livros. Nesse caso, nessa útlima versão, calculei o número de revisões incialmente para cada usuário que esteja nesse filtro e depois calculei a média com Pandas e com SQL. Acredito que agora esteja correto.\n",
    "    \n",
    "</strong>"
   ]
  },
  {
   "cell_type": "markdown",
   "metadata": {},
   "source": [
    "## Conclusões\n",
    "\n",
    "\n",
    "Nossa análise de avaliações e dados de livros apresentou insights profundos sobre a dinâmica dos livros, autores e padrões de avaliação em nossa plataforma.\n",
    "\n",
    "**Lançamentos Recentes**: A literatura contemporânea parece ter um forte representante em nossa plataforma. Identificamos 819 livros lançados após o ano de 2000.\n",
    "\n",
    "**Avaliações Por Livro**: Nossa análise revelou que, em média, cada livro recebe cerca de 6 avaliações com uma nota média de aproximadamente 3,9. Esta é uma métrica crucial para entender o envolvimento geral dos usuários com os livros em nossa plataforma.\n",
    "\n",
    "**Editora de Proeminência**: A \"Penguin Books\" se destacou, sendo a editora que mais lançou livros com mais de 50 páginas. Estes números indicam o peso e a relevância de tal editora no mundo literário.\n",
    "\n",
    "**Estrela Literária**: J.K. Rowling/Mary GrandPré brilha em nossa plataforma. Com uma classificação média de 4,3 para livros com pelo menos 50 classificações, seu trabalho ressoa profundamente com nossa base de usuários.\n",
    "\n",
    "**Usuários Ativos**: Observamos que os usuários que fizeram mais de 50 avaliações dão, em média, uma nota de 3,82. Além disso, esses super-usuários escrevem uma resenha para aproximadamente metade de suas avaliações, com uma média de 24,3 reviews.\n",
    "\n",
    "**Avaliação Média Geral**: No panorama geral, cada usuário em nossa plataforma faz, em média, 17 reviews. O engajamento de nossa base de usuários é indicado por esse número robusto.\n",
    "\n",
    "**Comparação de Engajamento**: Quando colocamos nosso usuário médio ao lado de nossos super-usuários, notamos uma diferença significativa. A discrepância de quase 40% entre os usuários que mais avaliam e a média geral sugere uma demografia de usuários super engajados que contribuem desproporcionalmente para o conteúdo da plataforma.\n",
    "\n",
    "Além disso, com base na análise dos dados, podemos concluir que os usuários jennifermiller, martinadam, sfitzgerald, richard89, paul88 e xdavis são os principais revisores, com médias de avaliações por usuário variando de 18 a 28. Esses usuários demonstram um alto nível de engajamento e contribuição para o sistema de revisão de livros. Essas informações podem ser valiosas para estratégias de engajamento de usuários e aprimoramento da plataforma.\n",
    "\n",
    "Nossas descobertas pintam um retrato de uma comunidade vibrante de leitores, uma seleção diversificada de livros, autores de destaque e editoras dominantes. Estas informações são cruciais para direcionar estratégias de marketing, curadoria de conteúdo e iniciativas de engajamento de usuários."
   ]
  },
  {
   "cell_type": "markdown",
   "metadata": {},
   "source": [
    "\n",
    "<div class=\"alert alert-danger\">\n",
    "<strong>Comentário do revisor v1</strong>\n",
    "\n",
    "Estamos no caminho certo com essa versão, mas retocar os pontos indicados acima nos fará chegar em um resultado ainda mais incrível.\n",
    "    \n",
    "Conte comigo para ajudá-lo (a) em qualquer questão que possa vir a ter! Lembre-se de usar as caixas azuis para se comunicar comigo.\n",
    "    \n",
    "Até breve.\n",
    "</div>"
   ]
  },
  {
   "cell_type": "markdown",
   "metadata": {},
   "source": [
    "<div class=\"alert alert-info\">\n",
    "<strong>Olá, Rafael. Fiz as alterações conforme entendi as necessidades. Agradeço os teus pontos levantados e fico no teu aguardo.\n",
    "    \n",
    "Muito obrigado (:\n",
    "    \n",
    "</strong>"
   ]
  },
  {
   "cell_type": "markdown",
   "metadata": {},
   "source": [
    "<div class=\"alert alert-danger\">\n",
    "<strong>Comentário do revisor</strong>\n",
    "\n",
    "Estamos quase lá, apenas mais um último ajuste na questão final e finalizamos por aqui!\n",
    "</div>"
   ]
  },
  {
   "cell_type": "markdown",
   "metadata": {},
   "source": [
    "<div class=\"alert alert-info\">\n",
    "<strong>Show Rafael. Espero que essas alterações atendam as necessidades (;\n",
    "    \n",
    "</strong>"
   ]
  },
  {
   "cell_type": "code",
   "execution_count": null,
   "metadata": {},
   "outputs": [],
   "source": []
  }
 ],
 "metadata": {
  "kernelspec": {
   "display_name": "Python 3",
   "language": "python",
   "name": "python3"
  },
  "language_info": {
   "codemirror_mode": {
    "name": "ipython",
    "version": 3
   },
   "file_extension": ".py",
   "mimetype": "text/x-python",
   "name": "python",
   "nbconvert_exporter": "python",
   "pygments_lexer": "ipython3",
   "version": "3.8.8"
  },
  "toc": {
   "base_numbering": 1,
   "nav_menu": {},
   "number_sections": true,
   "sideBar": true,
   "skip_h1_title": true,
   "title_cell": "Table of Contents",
   "title_sidebar": "Contents",
   "toc_cell": false,
   "toc_position": {},
   "toc_section_display": true,
   "toc_window_display": true
  }
 },
 "nbformat": 4,
 "nbformat_minor": 2
}
